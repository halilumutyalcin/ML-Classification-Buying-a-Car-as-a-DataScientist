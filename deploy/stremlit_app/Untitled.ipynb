{
 "cells": [
  {
   "cell_type": "code",
   "execution_count": 21,
   "metadata": {},
   "outputs": [],
   "source": [
    "import pandas as pd\n",
    "import matplotlib.pyplot as plt\n",
    "from utils import *\n",
    "import altair as alt\n",
    "import numpy as np\n",
    "import streamlit as st"
   ]
  },
  {
   "cell_type": "code",
   "execution_count": 25,
   "metadata": {},
   "outputs": [
    {
     "data": {
      "text/html": [
       "<div>\n",
       "<style scoped>\n",
       "    .dataframe tbody tr th:only-of-type {\n",
       "        vertical-align: middle;\n",
       "    }\n",
       "\n",
       "    .dataframe tbody tr th {\n",
       "        vertical-align: top;\n",
       "    }\n",
       "\n",
       "    .dataframe thead th {\n",
       "        text-align: right;\n",
       "    }\n",
       "</style>\n",
       "<table border=\"1\" class=\"dataframe\">\n",
       "  <thead>\n",
       "    <tr style=\"text-align: right;\">\n",
       "      <th></th>\n",
       "      <th>brand</th>\n",
       "      <th>model</th>\n",
       "      <th>version</th>\n",
       "      <th>gearbox</th>\n",
       "      <th>cartype</th>\n",
       "      <th>regdate</th>\n",
       "      <th>mileage</th>\n",
       "      <th>motorpower</th>\n",
       "      <th>fuel</th>\n",
       "      <th>car_steering</th>\n",
       "      <th>...</th>\n",
       "      <th>doors</th>\n",
       "      <th>financial</th>\n",
       "      <th>vidro elétrico</th>\n",
       "      <th>air bag</th>\n",
       "      <th>trava elétrica</th>\n",
       "      <th>ar condicionado</th>\n",
       "      <th>direção hidráulica</th>\n",
       "      <th>alarme</th>\n",
       "      <th>som</th>\n",
       "      <th>sensor de ré</th>\n",
       "    </tr>\n",
       "  </thead>\n",
       "  <tbody>\n",
       "    <tr>\n",
       "      <th>0</th>\n",
       "      <td>ford</td>\n",
       "      <td>fiesta</td>\n",
       "      <td>fiesta sedan se 1.6 8v flex 4p</td>\n",
       "      <td>manual</td>\n",
       "      <td>passeio</td>\n",
       "      <td>2013</td>\n",
       "      <td>100</td>\n",
       "      <td>1.6</td>\n",
       "      <td>flex</td>\n",
       "      <td>hidráulica</td>\n",
       "      <td>...</td>\n",
       "      <td>4 portas</td>\n",
       "      <td>no_information</td>\n",
       "      <td>1.0</td>\n",
       "      <td>0.0</td>\n",
       "      <td>1.0</td>\n",
       "      <td>1.0</td>\n",
       "      <td>1.0</td>\n",
       "      <td>1.0</td>\n",
       "      <td>0.0</td>\n",
       "      <td>0.0</td>\n",
       "    </tr>\n",
       "    <tr>\n",
       "      <th>1</th>\n",
       "      <td>ford</td>\n",
       "      <td>ka</td>\n",
       "      <td>ka 1.0 se se plus tivct flex 5p</td>\n",
       "      <td>manual</td>\n",
       "      <td>passeio</td>\n",
       "      <td>2015</td>\n",
       "      <td>58000</td>\n",
       "      <td>1.0</td>\n",
       "      <td>flex</td>\n",
       "      <td>elétrica</td>\n",
       "      <td>...</td>\n",
       "      <td>4 portas</td>\n",
       "      <td>ipva pago</td>\n",
       "      <td>1.0</td>\n",
       "      <td>1.0</td>\n",
       "      <td>1.0</td>\n",
       "      <td>1.0</td>\n",
       "      <td>0.0</td>\n",
       "      <td>1.0</td>\n",
       "      <td>1.0</td>\n",
       "      <td>0.0</td>\n",
       "    </tr>\n",
       "    <tr>\n",
       "      <th>2</th>\n",
       "      <td>ford</td>\n",
       "      <td>fiesta</td>\n",
       "      <td>fiesta 1.6 8v flex class 1.6 8v flex 5p</td>\n",
       "      <td>manual</td>\n",
       "      <td>hatch</td>\n",
       "      <td>2013</td>\n",
       "      <td>70000</td>\n",
       "      <td>1.6</td>\n",
       "      <td>flex</td>\n",
       "      <td>hidráulica</td>\n",
       "      <td>...</td>\n",
       "      <td>4 portas</td>\n",
       "      <td>ipva pago</td>\n",
       "      <td>1.0</td>\n",
       "      <td>1.0</td>\n",
       "      <td>1.0</td>\n",
       "      <td>1.0</td>\n",
       "      <td>1.0</td>\n",
       "      <td>1.0</td>\n",
       "      <td>1.0</td>\n",
       "      <td>0.0</td>\n",
       "    </tr>\n",
       "    <tr>\n",
       "      <th>3</th>\n",
       "      <td>ford</td>\n",
       "      <td>fiesta</td>\n",
       "      <td>fiesta sed. 1.6 8v flex 4p</td>\n",
       "      <td>no_information</td>\n",
       "      <td>sedã</td>\n",
       "      <td>2013</td>\n",
       "      <td>60719</td>\n",
       "      <td>1.6</td>\n",
       "      <td>flex</td>\n",
       "      <td>hidráulica</td>\n",
       "      <td>...</td>\n",
       "      <td>4 portas</td>\n",
       "      <td>ipva pago</td>\n",
       "      <td>1.0</td>\n",
       "      <td>0.0</td>\n",
       "      <td>1.0</td>\n",
       "      <td>1.0</td>\n",
       "      <td>1.0</td>\n",
       "      <td>1.0</td>\n",
       "      <td>0.0</td>\n",
       "      <td>0.0</td>\n",
       "    </tr>\n",
       "    <tr>\n",
       "      <th>4</th>\n",
       "      <td>ford</td>\n",
       "      <td>ka</td>\n",
       "      <td>ka 1.0i 3p</td>\n",
       "      <td>manual</td>\n",
       "      <td>no_information</td>\n",
       "      <td>2015</td>\n",
       "      <td>57000</td>\n",
       "      <td>1.0</td>\n",
       "      <td>flex</td>\n",
       "      <td>elétrica</td>\n",
       "      <td>...</td>\n",
       "      <td>4 portas</td>\n",
       "      <td>ipva pago</td>\n",
       "      <td>1.0</td>\n",
       "      <td>1.0</td>\n",
       "      <td>1.0</td>\n",
       "      <td>1.0</td>\n",
       "      <td>1.0</td>\n",
       "      <td>1.0</td>\n",
       "      <td>1.0</td>\n",
       "      <td>0.0</td>\n",
       "    </tr>\n",
       "  </tbody>\n",
       "</table>\n",
       "<p>5 rows × 21 columns</p>\n",
       "</div>"
      ],
      "text/plain": [
       "  brand   model                                  version         gearbox  \\\n",
       "0  ford  fiesta           fiesta sedan se 1.6 8v flex 4p          manual   \n",
       "1  ford      ka          ka 1.0 se se plus tivct flex 5p          manual   \n",
       "2  ford  fiesta  fiesta 1.6 8v flex class 1.6 8v flex 5p          manual   \n",
       "3  ford  fiesta               fiesta sed. 1.6 8v flex 4p  no_information   \n",
       "4  ford      ka                               ka 1.0i 3p          manual   \n",
       "\n",
       "          cartype  regdate  mileage motorpower  fuel car_steering  ...  \\\n",
       "0         passeio     2013      100        1.6  flex   hidráulica  ...   \n",
       "1         passeio     2015    58000        1.0  flex     elétrica  ...   \n",
       "2           hatch     2013    70000        1.6  flex   hidráulica  ...   \n",
       "3            sedã     2013    60719        1.6  flex   hidráulica  ...   \n",
       "4  no_information     2015    57000        1.0  flex     elétrica  ...   \n",
       "\n",
       "      doors       financial vidro elétrico  air bag  trava elétrica  \\\n",
       "0  4 portas  no_information            1.0      0.0             1.0   \n",
       "1  4 portas       ipva pago            1.0      1.0             1.0   \n",
       "2  4 portas       ipva pago            1.0      1.0             1.0   \n",
       "3  4 portas       ipva pago            1.0      0.0             1.0   \n",
       "4  4 portas       ipva pago            1.0      1.0             1.0   \n",
       "\n",
       "   ar condicionado  direção hidráulica  alarme  som  sensor de ré  \n",
       "0              1.0                 1.0     1.0  0.0           0.0  \n",
       "1              1.0                 0.0     1.0  1.0           0.0  \n",
       "2              1.0                 1.0     1.0  1.0           0.0  \n",
       "3              1.0                 1.0     1.0  0.0           0.0  \n",
       "4              1.0                 1.0     1.0  1.0           0.0  \n",
       "\n",
       "[5 rows x 21 columns]"
      ]
     },
     "execution_count": 25,
     "metadata": {},
     "output_type": "execute_result"
    }
   ],
   "source": [
    "df = pd.read_json(\"data/dashboard_cars.json\", lines = True)\n",
    "df = extra_features(df)\n",
    "df = clean_df(df)\n",
    "df.head()"
   ]
  },
  {
   "cell_type": "code",
   "execution_count": 26,
   "metadata": {},
   "outputs": [
    {
     "name": "stdout",
     "output_type": "stream",
     "text": [
      "<class 'pandas.core.frame.DataFrame'>\n",
      "RangeIndex: 75 entries, 0 to 74\n",
      "Data columns (total 21 columns):\n",
      " #   Column              Non-Null Count  Dtype  \n",
      "---  ------              --------------  -----  \n",
      " 0   brand               75 non-null     object \n",
      " 1   model               75 non-null     object \n",
      " 2   version             75 non-null     object \n",
      " 3   gearbox             75 non-null     object \n",
      " 4   cartype             75 non-null     object \n",
      " 5   regdate             75 non-null     int64  \n",
      " 6   mileage             75 non-null     int64  \n",
      " 7   motorpower          75 non-null     object \n",
      " 8   fuel                75 non-null     object \n",
      " 9   car_steering        75 non-null     object \n",
      " 10  carcolor            75 non-null     object \n",
      " 11  doors               75 non-null     object \n",
      " 12  financial           75 non-null     object \n",
      " 13  vidro elétrico      75 non-null     float64\n",
      " 14  air bag             75 non-null     float64\n",
      " 15  trava elétrica      75 non-null     float64\n",
      " 16  ar condicionado     75 non-null     float64\n",
      " 17  direção hidráulica  75 non-null     float64\n",
      " 18  alarme              75 non-null     float64\n",
      " 19  som                 75 non-null     float64\n",
      " 20  sensor de ré        75 non-null     float64\n",
      "dtypes: float64(8), int64(2), object(11)\n",
      "memory usage: 12.4+ KB\n"
     ]
    }
   ],
   "source": [
    "df.info()"
   ]
  },
  {
   "cell_type": "code",
   "execution_count": 33,
   "metadata": {},
   "outputs": [
    {
     "data": {
      "text/plain": [
       "vidro elétrico        69\n",
       "air bag               45\n",
       "trava elétrica        67\n",
       "ar condicionado       70\n",
       "direção hidráulica    49\n",
       "alarme                58\n",
       "som                   43\n",
       "sensor de ré          17\n",
       "dtype: int64"
      ]
     },
     "execution_count": 33,
     "metadata": {},
     "output_type": "execute_result"
    }
   ],
   "source": []
  },
  {
   "cell_type": "code",
   "execution_count": null,
   "metadata": {},
   "outputs": [],
   "source": []
  },
  {
   "cell_type": "code",
   "execution_count": null,
   "metadata": {},
   "outputs": [],
   "source": []
  },
  {
   "cell_type": "code",
   "execution_count": null,
   "metadata": {},
   "outputs": [],
   "source": []
  },
  {
   "cell_type": "code",
   "execution_count": 27,
   "metadata": {},
   "outputs": [],
   "source": [
    "cols = ['vidro elétrico', 'air bag', 'trava elétrica', 'ar condicionado',\n",
    "       'direção hidráulica', 'alarme', 'som', 'sensor de ré']"
   ]
  },
  {
   "cell_type": "code",
   "execution_count": 139,
   "metadata": {},
   "outputs": [
    {
     "data": {
      "text/plain": [
       "<matplotlib.axes._subplots.AxesSubplot at 0x7fb3dfa79dd8>"
      ]
     },
     "execution_count": 139,
     "metadata": {},
     "output_type": "execute_result"
    },
    {
     "data": {
      "image/png": "[encoded data removed]",
      "text/plain": [
       "<Figure size 432x288 with 1 Axes>"
      ]
     },
     "metadata": {
      "needs_background": "light"
     },
     "output_type": "display_data"
    }
   ],
   "source": [
    "df_extra = df.groupby('model').count()[cols]\n",
    "df_extra.plot(kind = 'barh')"
   ]
  },
  {
   "cell_type": "code",
   "execution_count": null,
   "metadata": {},
   "outputs": [],
   "source": [
    "model_regdate_count(df)\n",
    "financial_regdate(df)\n",
    "model_power_count(df)"
   ]
  },
  {
   "cell_type": "code",
   "execution_count": 34,
   "metadata": {},
   "outputs": [],
   "source": [
    "def model_regdate_count(df):\n",
    "    chart = alt.Chart(df).mark_bar().encode(\n",
    "    x = 'count()',\n",
    "    y = alt.Y('model', sort = alt.Sort(encoding = 'x', order= 'descending')),\n",
    "    tooltip = ['regdate','count()'],\n",
    "    color = 'regdate:O'\n",
    "    ).interactive()\n",
    "    return chart\n"
   ]
  },
  {
   "cell_type": "code",
   "execution_count": 37,
   "metadata": {},
   "outputs": [
    {
     "data": {
      "text/html": [
       "\n",
       "<div id=\"altair-viz-8f19845a996d4c4381938d06f7935f73\"></div>\n",
       "<script type=\"text/javascript\">\n",
       "  (function(spec, embedOpt){\n",
       "    let outputDiv = document.currentScript.previousElementSibling;\n",
       "    if (outputDiv.id !== \"altair-viz-8f19845a996d4c4381938d06f7935f73\") {\n",
       "      outputDiv = document.getElementById(\"altair-viz-8f19845a996d4c4381938d06f7935f73\");\n",
       "    }\n",
       "    const paths = {\n",
       "      \"vega\": \"https://cdn.jsdelivr.net/npm//vega@5?noext\",\n",
       "      \"vega-lib\": \"https://cdn.jsdelivr.net/npm//vega-lib?noext\",\n",
       "      \"vega-lite\": \"https://cdn.jsdelivr.net/npm//vega-lite@4.8.1?noext\",\n",
       "      \"vega-embed\": \"https://cdn.jsdelivr.net/npm//vega-embed@6?noext\",\n",
       "    };\n",
       "\n",
       "    function loadScript(lib) {\n",
       "      return new Promise(function(resolve, reject) {\n",
       "        var s = document.createElement('script');\n",
       "        s.src = paths[lib];\n",
       "        s.async = true;\n",
       "        s.onload = () => resolve(paths[lib]);\n",
       "        s.onerror = () => reject(`Error loading script: ${paths[lib]}`);\n",
       "        document.getElementsByTagName(\"head\")[0].appendChild(s);\n",
       "      });\n",
       "    }\n",
       "\n",
       "    function showError(err) {\n",
       "      outputDiv.innerHTML = `<div class=\"error\" style=\"color:red;\">${err}</div>`;\n",
       "      throw err;\n",
       "    }\n",
       "\n",
       "    function displayChart(vegaEmbed) {\n",
       "      vegaEmbed(outputDiv, spec, embedOpt)\n",
       "        .catch(err => showError(`Javascript Error: ${err.message}<br>This usually means there's a typo in your chart specification. See the javascript console for the full traceback.`));\n",
       "    }\n",
       "\n",
       "    if(typeof define === \"function\" && define.amd) {\n",
       "      requirejs.config({paths});\n",
       "      require([\"vega-embed\"], displayChart, err => showError(`Error loading script: ${err.message}`));\n",
       "    } else if (typeof vegaEmbed === \"function\") {\n",
       "      displayChart(vegaEmbed);\n",
       "    } else {\n",
       "      loadScript(\"vega\")\n",
       "        .then(() => loadScript(\"vega-lite\"))\n",
       "        .then(() => loadScript(\"vega-embed\"))\n",
       "        .catch(showError)\n",
       "        .then(() => displayChart(vegaEmbed));\n",
       "    }\n",
       "  })({\"config\": {\"view\": {\"continuousWidth\": 400, \"continuousHeight\": 300}}, \"data\": {\"name\": \"data-31d66b30673757fd7707bbc3981cf8e4\"}, \"mark\": \"bar\", \"encoding\": {\"color\": {\"type\": \"ordinal\", \"field\": \"regdate\"}, \"tooltip\": [{\"type\": \"quantitative\", \"field\": \"regdate\"}, {\"type\": \"quantitative\", \"aggregate\": \"count\"}], \"x\": {\"type\": \"quantitative\", \"aggregate\": \"count\"}, \"y\": {\"type\": \"nominal\", \"field\": \"model\", \"sort\": {\"encoding\": \"x\", \"order\": \"descending\"}}}, \"selection\": {\"selector001\": {\"type\": \"interval\", \"bind\": \"scales\", \"encodings\": [\"x\", \"y\"]}}, \"$schema\": \"https://vega.github.io/schema/vega-lite/v4.8.1.json\", \"datasets\": {\"data-31d66b30673757fd7707bbc3981cf8e4\": [{\"brand\": \"ford\", \"model\": \"fiesta\", \"version\": \"fiesta sedan se 1.6 8v flex 4p\", \"gearbox\": \"manual\", \"cartype\": \"passeio\", \"regdate\": 2013, \"mileage\": 100, \"motorpower\": \"1.6\", \"fuel\": \"flex\", \"car_steering\": \"hidr\\u00e1ulica\", \"carcolor\": \"branco\", \"doors\": \"4 portas\", \"financial\": \"no_information\", \"vidro el\\u00e9trico\": 1.0, \"air bag\": 0.0, \"trava el\\u00e9trica\": 1.0, \"ar condicionado\": 1.0, \"dire\\u00e7\\u00e3o hidr\\u00e1ulica\": 1.0, \"alarme\": 1.0, \"som\": 0.0, \"sensor de r\\u00e9\": 0.0}, {\"brand\": \"ford\", \"model\": \"ka\", \"version\": \"ka 1.0 se se plus tivct flex 5p\", \"gearbox\": \"manual\", \"cartype\": \"passeio\", \"regdate\": 2015, \"mileage\": 58000, \"motorpower\": \"1.0\", \"fuel\": \"flex\", \"car_steering\": \"el\\u00e9trica\", \"carcolor\": \"prata\", \"doors\": \"4 portas\", \"financial\": \"ipva pago\", \"vidro el\\u00e9trico\": 1.0, \"air bag\": 1.0, \"trava el\\u00e9trica\": 1.0, \"ar condicionado\": 1.0, \"dire\\u00e7\\u00e3o hidr\\u00e1ulica\": 0.0, \"alarme\": 1.0, \"som\": 1.0, \"sensor de r\\u00e9\": 0.0}, {\"brand\": \"ford\", \"model\": \"fiesta\", \"version\": \"fiesta 1.6 8v flex class 1.6 8v flex 5p\", \"gearbox\": \"manual\", \"cartype\": \"hatch\", \"regdate\": 2013, \"mileage\": 70000, \"motorpower\": \"1.6\", \"fuel\": \"flex\", \"car_steering\": \"hidr\\u00e1ulica\", \"carcolor\": \"prata\", \"doors\": \"4 portas\", \"financial\": \"ipva pago\", \"vidro el\\u00e9trico\": 1.0, \"air bag\": 1.0, \"trava el\\u00e9trica\": 1.0, \"ar condicionado\": 1.0, \"dire\\u00e7\\u00e3o hidr\\u00e1ulica\": 1.0, \"alarme\": 1.0, \"som\": 1.0, \"sensor de r\\u00e9\": 0.0}, {\"brand\": \"ford\", \"model\": \"fiesta\", \"version\": \"fiesta sed. 1.6 8v flex 4p\", \"gearbox\": \"no_information\", \"cartype\": \"sed\\u00e3\", \"regdate\": 2013, \"mileage\": 60719, \"motorpower\": \"1.6\", \"fuel\": \"flex\", \"car_steering\": \"hidr\\u00e1ulica\", \"carcolor\": \"prata\", \"doors\": \"4 portas\", \"financial\": \"ipva pago\", \"vidro el\\u00e9trico\": 1.0, \"air bag\": 0.0, \"trava el\\u00e9trica\": 1.0, \"ar condicionado\": 1.0, \"dire\\u00e7\\u00e3o hidr\\u00e1ulica\": 1.0, \"alarme\": 1.0, \"som\": 0.0, \"sensor de r\\u00e9\": 0.0}, {\"brand\": \"ford\", \"model\": \"ka\", \"version\": \"ka 1.0i 3p\", \"gearbox\": \"manual\", \"cartype\": \"no_information\", \"regdate\": 2015, \"mileage\": 57000, \"motorpower\": \"1.0\", \"fuel\": \"flex\", \"car_steering\": \"el\\u00e9trica\", \"carcolor\": \"preto\", \"doors\": \"4 portas\", \"financial\": \"ipva pago\", \"vidro el\\u00e9trico\": 1.0, \"air bag\": 1.0, \"trava el\\u00e9trica\": 1.0, \"ar condicionado\": 1.0, \"dire\\u00e7\\u00e3o hidr\\u00e1ulica\": 1.0, \"alarme\": 1.0, \"som\": 1.0, \"sensor de r\\u00e9\": 0.0}, {\"brand\": \"ford\", \"model\": \"ka\", \"version\": \"ka 1.0 tecno 8v flex 3p\", \"gearbox\": \"manual\", \"cartype\": \"hatch\", \"regdate\": 2015, \"mileage\": 85000, \"motorpower\": \"1.0\", \"fuel\": \"flex\", \"car_steering\": \"el\\u00e9trica\", \"carcolor\": \"branco\", \"doors\": \"4 portas\", \"financial\": \"no_information\", \"vidro el\\u00e9trico\": 1.0, \"air bag\": 1.0, \"trava el\\u00e9trica\": 1.0, \"ar condicionado\": 1.0, \"dire\\u00e7\\u00e3o hidr\\u00e1ulica\": 1.0, \"alarme\": 1.0, \"som\": 1.0, \"sensor de r\\u00e9\": 1.0}, {\"brand\": \"ford\", \"model\": \"fiesta\", \"version\": \"fiesta 1.0 8v flex class 1.0 8v flex 5p\", \"gearbox\": \"manual\", \"cartype\": \"hatch\", \"regdate\": 2013, \"mileage\": 70000, \"motorpower\": \"1.0\", \"fuel\": \"flex\", \"car_steering\": \"hidr\\u00e1ulica\", \"carcolor\": \"prata\", \"doors\": \"4 portas\", \"financial\": \"ipva pago\", \"vidro el\\u00e9trico\": 1.0, \"air bag\": 0.0, \"trava el\\u00e9trica\": 1.0, \"ar condicionado\": 1.0, \"dire\\u00e7\\u00e3o hidr\\u00e1ulica\": 1.0, \"alarme\": 1.0, \"som\": 1.0, \"sensor de r\\u00e9\": 0.0}, {\"brand\": \"ford\", \"model\": \"focus\", \"version\": \"focus 1.6 s se se plus flex 8v 16v  5p\", \"gearbox\": \"manual\", \"cartype\": \"no_information\", \"regdate\": 2013, \"mileage\": 62000, \"motorpower\": \"1.6\", \"fuel\": \"flex\", \"car_steering\": \"hidr\\u00e1ulica\", \"carcolor\": \"verde\", \"doors\": \"no_information\", \"financial\": \"no_information\", \"vidro el\\u00e9trico\": 1.0, \"air bag\": 1.0, \"trava el\\u00e9trica\": 1.0, \"ar condicionado\": 1.0, \"dire\\u00e7\\u00e3o hidr\\u00e1ulica\": 1.0, \"alarme\": 1.0, \"som\": 1.0, \"sensor de r\\u00e9\": 0.0}, {\"brand\": \"ford\", \"model\": \"fiesta\", \"version\": \"fiesta sed. 1.6 8v flex 4p\", \"gearbox\": \"manual\", \"cartype\": \"sed\\u00e3\", \"regdate\": 2014, \"mileage\": 78000, \"motorpower\": \"1.6\", \"fuel\": \"flex\", \"car_steering\": \"hidr\\u00e1ulica\", \"carcolor\": \"prata\", \"doors\": \"4 portas\", \"financial\": \"ipva pago\", \"vidro el\\u00e9trico\": 1.0, \"air bag\": 0.0, \"trava el\\u00e9trica\": 1.0, \"ar condicionado\": 1.0, \"dire\\u00e7\\u00e3o hidr\\u00e1ulica\": 1.0, \"alarme\": 1.0, \"som\": 1.0, \"sensor de r\\u00e9\": 1.0}, {\"brand\": \"ford\", \"model\": \"focus\", \"version\": \"focus 2.0 16v  2.0 16v flex 5p\", \"gearbox\": \"autom\\u00e1tico\", \"cartype\": \"hatch\", \"regdate\": 2013, \"mileage\": 85000, \"motorpower\": \"2.0-2.9\", \"fuel\": \"flex\", \"car_steering\": \"hidr\\u00e1ulica\", \"carcolor\": \"branco\", \"doors\": \"4 portas\", \"financial\": \"no_information\", \"vidro el\\u00e9trico\": 1.0, \"air bag\": 1.0, \"trava el\\u00e9trica\": 1.0, \"ar condicionado\": 1.0, \"dire\\u00e7\\u00e3o hidr\\u00e1ulica\": 1.0, \"alarme\": 1.0, \"som\": 1.0, \"sensor de r\\u00e9\": 1.0}, {\"brand\": \"ford\", \"model\": \"fiesta\", \"version\": \"no_information\", \"gearbox\": \"manual\", \"cartype\": \"passeio\", \"regdate\": 2014, \"mileage\": 66090, \"motorpower\": \"1.0\", \"fuel\": \"flex\", \"car_steering\": \"hidr\\u00e1ulica\", \"carcolor\": \"vermelho\", \"doors\": \"4 portas\", \"financial\": \"no_information\", \"vidro el\\u00e9trico\": 1.0, \"air bag\": 1.0, \"trava el\\u00e9trica\": 1.0, \"ar condicionado\": 1.0, \"dire\\u00e7\\u00e3o hidr\\u00e1ulica\": 0.0, \"alarme\": 1.0, \"som\": 0.0, \"sensor de r\\u00e9\": 0.0}, {\"brand\": \"ford\", \"model\": \"ka\", \"version\": \"ka 1.5 16v flex 5p\", \"gearbox\": \"manual\", \"cartype\": \"sed\\u00e3\", \"regdate\": 2016, \"mileage\": 50415, \"motorpower\": \"1.5\", \"fuel\": \"flex\", \"car_steering\": \"el\\u00e9trica\", \"carcolor\": \"branco\", \"doors\": \"4 portas\", \"financial\": \"no_information\", \"vidro el\\u00e9trico\": 1.0, \"air bag\": 1.0, \"trava el\\u00e9trica\": 1.0, \"ar condicionado\": 1.0, \"dire\\u00e7\\u00e3o hidr\\u00e1ulica\": 1.0, \"alarme\": 1.0, \"som\": 1.0, \"sensor de r\\u00e9\": 1.0}, {\"brand\": \"ford\", \"model\": \"fiesta\", \"version\": \"fiesta 1.5 16v flex mec. 5p\", \"gearbox\": \"manual\", \"cartype\": \"hatch\", \"regdate\": 2014, \"mileage\": 70000, \"motorpower\": \"1.5\", \"fuel\": \"flex\", \"car_steering\": \"el\\u00e9trica\", \"carcolor\": \"no_information\", \"doors\": \"4 portas\", \"financial\": \"ipva pago\", \"vidro el\\u00e9trico\": 1.0, \"air bag\": 1.0, \"trava el\\u00e9trica\": 1.0, \"ar condicionado\": 1.0, \"dire\\u00e7\\u00e3o hidr\\u00e1ulica\": 0.0, \"alarme\": 1.0, \"som\": 1.0, \"sensor de r\\u00e9\": 0.0}, {\"brand\": \"ford\", \"model\": \"fiesta\", \"version\": \"fiesta se 1.0 8v flex 5p\", \"gearbox\": \"manual\", \"cartype\": \"hatch\", \"regdate\": 2014, \"mileage\": 45585, \"motorpower\": \"1.0\", \"fuel\": \"flex\", \"car_steering\": \"hidr\\u00e1ulica\", \"carcolor\": \"prata\", \"doors\": \"4 portas\", \"financial\": \"ipva pago\", \"vidro el\\u00e9trico\": 1.0, \"air bag\": 1.0, \"trava el\\u00e9trica\": 1.0, \"ar condicionado\": 1.0, \"dire\\u00e7\\u00e3o hidr\\u00e1ulica\": 1.0, \"alarme\": 1.0, \"som\": 1.0, \"sensor de r\\u00e9\": 0.0}, {\"brand\": \"ford\", \"model\": \"ka\", \"version\": \"ka 1.0 sel tivct flex 5p\", \"gearbox\": \"manual\", \"cartype\": \"no_information\", \"regdate\": 2015, \"mileage\": 70000, \"motorpower\": \"1.0\", \"fuel\": \"flex\", \"car_steering\": \"el\\u00e9trica\", \"carcolor\": \"preto\", \"doors\": \"4 portas\", \"financial\": \"ipva pago\", \"vidro el\\u00e9trico\": 1.0, \"air bag\": 1.0, \"trava el\\u00e9trica\": 1.0, \"ar condicionado\": 1.0, \"dire\\u00e7\\u00e3o hidr\\u00e1ulica\": 1.0, \"alarme\": 1.0, \"som\": 1.0, \"sensor de r\\u00e9\": 0.0}, {\"brand\": \"ford\", \"model\": \"fiesta\", \"version\": \"fiesta class 1.0 4p\", \"gearbox\": \"manual\", \"cartype\": \"no_information\", \"regdate\": 2013, \"mileage\": 70000, \"motorpower\": \"1.0\", \"fuel\": \"flex\", \"car_steering\": \"hidr\\u00e1ulica\", \"carcolor\": \"preto\", \"doors\": \"4 portas\", \"financial\": \"ipva pago\", \"vidro el\\u00e9trico\": 0.0, \"air bag\": 0.0, \"trava el\\u00e9trica\": 0.0, \"ar condicionado\": 0.0, \"dire\\u00e7\\u00e3o hidr\\u00e1ulica\": 0.0, \"alarme\": 0.0, \"som\": 0.0, \"sensor de r\\u00e9\": 0.0}, {\"brand\": \"ford\", \"model\": \"ka\", \"version\": \"no_information\", \"gearbox\": \"manual\", \"cartype\": \"passeio\", \"regdate\": 2015, \"mileage\": 58000, \"motorpower\": \"1.0\", \"fuel\": \"flex\", \"car_steering\": \"hidr\\u00e1ulica\", \"carcolor\": \"preto\", \"doors\": \"4 portas\", \"financial\": \"ipva pago\", \"vidro el\\u00e9trico\": 1.0, \"air bag\": 1.0, \"trava el\\u00e9trica\": 1.0, \"ar condicionado\": 1.0, \"dire\\u00e7\\u00e3o hidr\\u00e1ulica\": 1.0, \"alarme\": 0.0, \"som\": 1.0, \"sensor de r\\u00e9\": 0.0}, {\"brand\": \"ford\", \"model\": \"fiesta\", \"version\": \"fiesta 1.6 8v flex class 1.6 8v flex 5p\", \"gearbox\": \"manual\", \"cartype\": \"hatch\", \"regdate\": 2013, \"mileage\": 79068, \"motorpower\": \"no_information\", \"fuel\": \"flex\", \"car_steering\": \"no_information\", \"carcolor\": \"no_information\", \"doors\": \"2 portas\", \"financial\": \"no_information\", \"vidro el\\u00e9trico\": 0.0, \"air bag\": 0.0, \"trava el\\u00e9trica\": 0.0, \"ar condicionado\": 0.0, \"dire\\u00e7\\u00e3o hidr\\u00e1ulica\": 0.0, \"alarme\": 0.0, \"som\": 0.0, \"sensor de r\\u00e9\": 0.0}, {\"brand\": \"ford\", \"model\": \"fiesta\", \"version\": \"fiesta sedan se 1.6 8v flex 4p\", \"gearbox\": \"manual\", \"cartype\": \"sed\\u00e3\", \"regdate\": 2013, \"mileage\": 60719, \"motorpower\": \"1.6\", \"fuel\": \"flex\", \"car_steering\": \"hidr\\u00e1ulica\", \"carcolor\": \"preto\", \"doors\": \"4 portas\", \"financial\": \"ipva pago\", \"vidro el\\u00e9trico\": 1.0, \"air bag\": 0.0, \"trava el\\u00e9trica\": 1.0, \"ar condicionado\": 1.0, \"dire\\u00e7\\u00e3o hidr\\u00e1ulica\": 1.0, \"alarme\": 1.0, \"som\": 0.0, \"sensor de r\\u00e9\": 0.0}, {\"brand\": \"ford\", \"model\": \"fiesta\", \"version\": \"fiesta 1.6 8v flex class 1.6 8v flex 5p\", \"gearbox\": \"manual\", \"cartype\": \"hatch\", \"regdate\": 2013, \"mileage\": 96000, \"motorpower\": \"1.6\", \"fuel\": \"flex\", \"car_steering\": \"hidr\\u00e1ulica\", \"carcolor\": \"preto\", \"doors\": \"4 portas\", \"financial\": \"ipva pago\", \"vidro el\\u00e9trico\": 1.0, \"air bag\": 0.0, \"trava el\\u00e9trica\": 1.0, \"ar condicionado\": 1.0, \"dire\\u00e7\\u00e3o hidr\\u00e1ulica\": 1.0, \"alarme\": 0.0, \"som\": 1.0, \"sensor de r\\u00e9\": 1.0}, {\"brand\": \"ford\", \"model\": \"fiesta\", \"version\": \"fiesta 1.6 8v flex class 1.6 8v flex 5p\", \"gearbox\": \"manual\", \"cartype\": \"passeio\", \"regdate\": 2013, \"mileage\": 71000, \"motorpower\": \"1.6\", \"fuel\": \"flex\", \"car_steering\": \"hidr\\u00e1ulica\", \"carcolor\": \"prata\", \"doors\": \"4 portas\", \"financial\": \"ipva pago\", \"vidro el\\u00e9trico\": 1.0, \"air bag\": 0.0, \"trava el\\u00e9trica\": 1.0, \"ar condicionado\": 1.0, \"dire\\u00e7\\u00e3o hidr\\u00e1ulica\": 1.0, \"alarme\": 1.0, \"som\": 1.0, \"sensor de r\\u00e9\": 1.0}, {\"brand\": \"ford\", \"model\": \"ka\", \"version\": \"ka 1.0 8v 1.0 8v st flex 3p\", \"gearbox\": \"manual\", \"cartype\": \"hatch\", \"regdate\": 2013, \"mileage\": 70000, \"motorpower\": \"1.0\", \"fuel\": \"flex\", \"car_steering\": \"hidr\\u00e1ulica\", \"carcolor\": \"preto\", \"doors\": \"4 portas\", \"financial\": \"ipva pago\", \"vidro el\\u00e9trico\": 1.0, \"air bag\": 0.0, \"trava el\\u00e9trica\": 1.0, \"ar condicionado\": 1.0, \"dire\\u00e7\\u00e3o hidr\\u00e1ulica\": 1.0, \"alarme\": 1.0, \"som\": 0.0, \"sensor de r\\u00e9\": 0.0}, {\"brand\": \"ford\", \"model\": \"ka\", \"version\": \"no_information\", \"gearbox\": \"manual\", \"cartype\": \"passeio\", \"regdate\": 2017, \"mileage\": 70000, \"motorpower\": \"1.0\", \"fuel\": \"flex\", \"car_steering\": \"el\\u00e9trica\", \"carcolor\": \"preto\", \"doors\": \"4 portas\", \"financial\": \"no_information\", \"vidro el\\u00e9trico\": 1.0, \"air bag\": 1.0, \"trava el\\u00e9trica\": 1.0, \"ar condicionado\": 1.0, \"dire\\u00e7\\u00e3o hidr\\u00e1ulica\": 0.0, \"alarme\": 1.0, \"som\": 0.0, \"sensor de r\\u00e9\": 0.0}, {\"brand\": \"ford\", \"model\": \"ka\", \"version\": \"ka 1.0 se se plus tivct flex 5p\", \"gearbox\": \"manual\", \"cartype\": \"hatch\", \"regdate\": 2015, \"mileage\": 70000, \"motorpower\": \"1.0\", \"fuel\": \"flex\", \"car_steering\": \"hidr\\u00e1ulica\", \"carcolor\": \"branco\", \"doors\": \"4 portas\", \"financial\": \"no_information\", \"vidro el\\u00e9trico\": 1.0, \"air bag\": 0.0, \"trava el\\u00e9trica\": 1.0, \"ar condicionado\": 1.0, \"dire\\u00e7\\u00e3o hidr\\u00e1ulica\": 1.0, \"alarme\": 1.0, \"som\": 1.0, \"sensor de r\\u00e9\": 0.0}, {\"brand\": \"ford\", \"model\": \"ka\", \"version\": \"ka 1.0 sel tivct flex 5p\", \"gearbox\": \"manual\", \"cartype\": \"hatch\", \"regdate\": 2015, \"mileage\": 75000, \"motorpower\": \"1.0\", \"fuel\": \"flex\", \"car_steering\": \"el\\u00e9trica\", \"carcolor\": \"prata\", \"doors\": \"4 portas\", \"financial\": \"ipva pago\", \"vidro el\\u00e9trico\": 1.0, \"air bag\": 1.0, \"trava el\\u00e9trica\": 1.0, \"ar condicionado\": 1.0, \"dire\\u00e7\\u00e3o hidr\\u00e1ulica\": 1.0, \"alarme\": 1.0, \"som\": 1.0, \"sensor de r\\u00e9\": 0.0}, {\"brand\": \"ford\", \"model\": \"fiesta\", \"version\": \"fiesta 1.0 8v flex class 1.0 8v flex 5p\", \"gearbox\": \"manual\", \"cartype\": \"hatch\", \"regdate\": 2014, \"mileage\": 82380, \"motorpower\": \"1.0\", \"fuel\": \"flex\", \"car_steering\": \"hidr\\u00e1ulica\", \"carcolor\": \"branco\", \"doors\": \"4 portas\", \"financial\": \"no_information\", \"vidro el\\u00e9trico\": 1.0, \"air bag\": 1.0, \"trava el\\u00e9trica\": 1.0, \"ar condicionado\": 1.0, \"dire\\u00e7\\u00e3o hidr\\u00e1ulica\": 1.0, \"alarme\": 1.0, \"som\": 1.0, \"sensor de r\\u00e9\": 1.0}, {\"brand\": \"ford\", \"model\": \"fiesta\", \"version\": \"no_information\", \"gearbox\": \"no_information\", \"cartype\": \"no_information\", \"regdate\": 2013, \"mileage\": 87000, \"motorpower\": \"no_information\", \"fuel\": \"flex\", \"car_steering\": \"hidr\\u00e1ulica\", \"carcolor\": \"no_information\", \"doors\": \"4 portas\", \"financial\": \"ipva pago\", \"vidro el\\u00e9trico\": 1.0, \"air bag\": 0.0, \"trava el\\u00e9trica\": 1.0, \"ar condicionado\": 1.0, \"dire\\u00e7\\u00e3o hidr\\u00e1ulica\": 1.0, \"alarme\": 1.0, \"som\": 1.0, \"sensor de r\\u00e9\": 0.0}, {\"brand\": \"ford\", \"model\": \"ka\", \"version\": \"no_information\", \"gearbox\": \"manual\", \"cartype\": \"passeio\", \"regdate\": 2017, \"mileage\": 7800, \"motorpower\": \"1.0\", \"fuel\": \"flex\", \"car_steering\": \"hidr\\u00e1ulica\", \"carcolor\": \"vermelho\", \"doors\": \"4 portas\", \"financial\": \"no_information\", \"vidro el\\u00e9trico\": 1.0, \"air bag\": 1.0, \"trava el\\u00e9trica\": 1.0, \"ar condicionado\": 1.0, \"dire\\u00e7\\u00e3o hidr\\u00e1ulica\": 0.0, \"alarme\": 1.0, \"som\": 0.0, \"sensor de r\\u00e9\": 0.0}, {\"brand\": \"ford\", \"model\": \"ka\", \"version\": \"ka 1.0 8v 1.0 8v st flex 3p\", \"gearbox\": \"manual\", \"cartype\": \"no_information\", \"regdate\": 2013, \"mileage\": 85000, \"motorpower\": \"no_information\", \"fuel\": \"flex\", \"car_steering\": \"no_information\", \"carcolor\": \"no_information\", \"doors\": \"no_information\", \"financial\": \"ipva pago\", \"vidro el\\u00e9trico\": 0.0, \"air bag\": 0.0, \"trava el\\u00e9trica\": 0.0, \"ar condicionado\": 0.0, \"dire\\u00e7\\u00e3o hidr\\u00e1ulica\": 0.0, \"alarme\": 0.0, \"som\": 0.0, \"sensor de r\\u00e9\": 0.0}, {\"brand\": \"ford\", \"model\": \"focus\", \"version\": \"focus 1.6 s se se plus flex 8v 16v  5p\", \"gearbox\": \"manual\", \"cartype\": \"hatch\", \"regdate\": 2013, \"mileage\": 78000, \"motorpower\": \"1.6\", \"fuel\": \"flex\", \"car_steering\": \"hidr\\u00e1ulica\", \"carcolor\": \"prata\", \"doors\": \"4 portas\", \"financial\": \"ipva pago\", \"vidro el\\u00e9trico\": 1.0, \"air bag\": 1.0, \"trava el\\u00e9trica\": 1.0, \"ar condicionado\": 1.0, \"dire\\u00e7\\u00e3o hidr\\u00e1ulica\": 1.0, \"alarme\": 1.0, \"som\": 1.0, \"sensor de r\\u00e9\": 1.0}, {\"brand\": \"ford\", \"model\": \"fiesta\", \"version\": \"fiesta 1.6 16v flex mec. 5p\", \"gearbox\": \"manual\", \"cartype\": \"hatch\", \"regdate\": 2013, \"mileage\": 34000, \"motorpower\": \"1.6\", \"fuel\": \"flex\", \"car_steering\": \"hidr\\u00e1ulica\", \"carcolor\": \"branco\", \"doors\": \"4 portas\", \"financial\": \"ipva pago\", \"vidro el\\u00e9trico\": 1.0, \"air bag\": 0.0, \"trava el\\u00e9trica\": 1.0, \"ar condicionado\": 1.0, \"dire\\u00e7\\u00e3o hidr\\u00e1ulica\": 0.0, \"alarme\": 1.0, \"som\": 0.0, \"sensor de r\\u00e9\": 0.0}, {\"brand\": \"ford\", \"model\": \"fiesta\", \"version\": \"fiesta se 1.6 8v flex 5p\", \"gearbox\": \"manual\", \"cartype\": \"passeio\", \"regdate\": 2014, \"mileage\": 60000, \"motorpower\": \"no_information\", \"fuel\": \"flex\", \"car_steering\": \"no_information\", \"carcolor\": \"no_information\", \"doors\": \"4 portas\", \"financial\": \"no_information\", \"vidro el\\u00e9trico\": 1.0, \"air bag\": 1.0, \"trava el\\u00e9trica\": 1.0, \"ar condicionado\": 1.0, \"dire\\u00e7\\u00e3o hidr\\u00e1ulica\": 1.0, \"alarme\": 1.0, \"som\": 0.0, \"sensor de r\\u00e9\": 0.0}, {\"brand\": \"ford\", \"model\": \"fiesta\", \"version\": \"fiesta sedan se 1.6 8v flex 4p\", \"gearbox\": \"manual\", \"cartype\": \"sed\\u00e3\", \"regdate\": 2014, \"mileage\": 81000, \"motorpower\": \"1.6\", \"fuel\": \"flex\", \"car_steering\": \"hidr\\u00e1ulica\", \"carcolor\": \"preto\", \"doors\": \"4 portas\", \"financial\": \"ipva pago\", \"vidro el\\u00e9trico\": 1.0, \"air bag\": 1.0, \"trava el\\u00e9trica\": 1.0, \"ar condicionado\": 1.0, \"dire\\u00e7\\u00e3o hidr\\u00e1ulica\": 1.0, \"alarme\": 1.0, \"som\": 1.0, \"sensor de r\\u00e9\": 0.0}, {\"brand\": \"ford\", \"model\": \"fiesta\", \"version\": \"no_information\", \"gearbox\": \"manual\", \"cartype\": \"passeio\", \"regdate\": 2013, \"mileage\": 79990, \"motorpower\": \"1.0\", \"fuel\": \"flex\", \"car_steering\": \"hidr\\u00e1ulica\", \"carcolor\": \"prata\", \"doors\": \"4 portas\", \"financial\": \"no_information\", \"vidro el\\u00e9trico\": 1.0, \"air bag\": 1.0, \"trava el\\u00e9trica\": 1.0, \"ar condicionado\": 1.0, \"dire\\u00e7\\u00e3o hidr\\u00e1ulica\": 0.0, \"alarme\": 1.0, \"som\": 0.0, \"sensor de r\\u00e9\": 0.0}, {\"brand\": \"ford\", \"model\": \"fiesta\", \"version\": \"1.0 rocam se plus hatch 8v flex 4p manual\", \"gearbox\": \"manual\", \"cartype\": \"hatch\", \"regdate\": 2013, \"mileage\": 92500, \"motorpower\": \"1.0\", \"fuel\": \"flex\", \"car_steering\": \"hidr\\u00e1ulica\", \"carcolor\": \"branco\", \"doors\": \"no_information\", \"financial\": \"no_information\", \"vidro el\\u00e9trico\": 1.0, \"air bag\": 0.0, \"trava el\\u00e9trica\": 0.0, \"ar condicionado\": 1.0, \"dire\\u00e7\\u00e3o hidr\\u00e1ulica\": 0.0, \"alarme\": 0.0, \"som\": 1.0, \"sensor de r\\u00e9\": 0.0}, {\"brand\": \"volkswagen\", \"model\": \"spacefox\", \"version\": \"no_information\", \"gearbox\": \"manual\", \"cartype\": \"passeio\", \"regdate\": 2013, \"mileage\": 60719, \"motorpower\": \"1.6\", \"fuel\": \"flex\", \"car_steering\": \"hidr\\u00e1ulica\", \"carcolor\": \"preto\", \"doors\": \"4 portas\", \"financial\": \"no_information\", \"vidro el\\u00e9trico\": 1.0, \"air bag\": 1.0, \"trava el\\u00e9trica\": 1.0, \"ar condicionado\": 1.0, \"dire\\u00e7\\u00e3o hidr\\u00e1ulica\": 0.0, \"alarme\": 1.0, \"som\": 0.0, \"sensor de r\\u00e9\": 0.0}, {\"brand\": \"volkswagen\", \"model\": \"gol\", \"version\": \"gol comfortline 1.6 t. flex 8v 5p\", \"gearbox\": \"manual\", \"cartype\": \"passeio\", \"regdate\": 2015, \"mileage\": 60719, \"motorpower\": \"1.6\", \"fuel\": \"flex\", \"car_steering\": \"hidr\\u00e1ulica\", \"carcolor\": \"preto\", \"doors\": \"4 portas\", \"financial\": \"no_information\", \"vidro el\\u00e9trico\": 1.0, \"air bag\": 1.0, \"trava el\\u00e9trica\": 1.0, \"ar condicionado\": 1.0, \"dire\\u00e7\\u00e3o hidr\\u00e1ulica\": 0.0, \"alarme\": 1.0, \"som\": 0.0, \"sensor de r\\u00e9\": 0.0}, {\"brand\": \"volkswagen\", \"model\": \"gol\", \"version\": \"no_information\", \"gearbox\": \"manual\", \"cartype\": \"passeio\", \"regdate\": 2013, \"mileage\": 77000, \"motorpower\": \"1.0\", \"fuel\": \"flex\", \"car_steering\": \"hidr\\u00e1ulica\", \"carcolor\": \"cinza\", \"doors\": \"4 portas\", \"financial\": \"no_information\", \"vidro el\\u00e9trico\": 1.0, \"air bag\": 1.0, \"trava el\\u00e9trica\": 1.0, \"ar condicionado\": 1.0, \"dire\\u00e7\\u00e3o hidr\\u00e1ulica\": 0.0, \"alarme\": 0.0, \"som\": 0.0, \"sensor de r\\u00e9\": 0.0}, {\"brand\": \"volkswagen\", \"model\": \"gol\", \"version\": \"gol 1.0 trend  power 8v 4p\", \"gearbox\": \"manual\", \"cartype\": \"hatch\", \"regdate\": 2014, \"mileage\": 88000, \"motorpower\": \"1.0\", \"fuel\": \"flex\", \"car_steering\": \"hidr\\u00e1ulica\", \"carcolor\": \"prata\", \"doors\": \"4 portas\", \"financial\": \"ipva pago\", \"vidro el\\u00e9trico\": 1.0, \"air bag\": 0.0, \"trava el\\u00e9trica\": 1.0, \"ar condicionado\": 1.0, \"dire\\u00e7\\u00e3o hidr\\u00e1ulica\": 1.0, \"alarme\": 1.0, \"som\": 1.0, \"sensor de r\\u00e9\": 0.0}, {\"brand\": \"volkswagen\", \"model\": \"fox\", \"version\": \"fox comfortline 1.0 flex 8v 5p\", \"gearbox\": \"manual\", \"cartype\": \"passeio\", \"regdate\": 2015, \"mileage\": 47, \"motorpower\": \"1.0\", \"fuel\": \"flex\", \"car_steering\": \"hidr\\u00e1ulica\", \"carcolor\": \"vermelho\", \"doors\": \"4 portas\", \"financial\": \"ipva pago\", \"vidro el\\u00e9trico\": 1.0, \"air bag\": 1.0, \"trava el\\u00e9trica\": 1.0, \"ar condicionado\": 1.0, \"dire\\u00e7\\u00e3o hidr\\u00e1ulica\": 1.0, \"alarme\": 1.0, \"som\": 1.0, \"sensor de r\\u00e9\": 1.0}, {\"brand\": \"volkswagen\", \"model\": \"gol\", \"version\": \"gol trendline 1.0 t.flex 12v 5p\", \"gearbox\": \"manual\", \"cartype\": \"hatch\", \"regdate\": 2017, \"mileage\": 101, \"motorpower\": \"1.0\", \"fuel\": \"flex\", \"car_steering\": \"hidr\\u00e1ulica\", \"carcolor\": \"branco\", \"doors\": \"4 portas\", \"financial\": \"no_information\", \"vidro el\\u00e9trico\": 1.0, \"air bag\": 1.0, \"trava el\\u00e9trica\": 1.0, \"ar condicionado\": 1.0, \"dire\\u00e7\\u00e3o hidr\\u00e1ulica\": 1.0, \"alarme\": 1.0, \"som\": 0.0, \"sensor de r\\u00e9\": 0.0}, {\"brand\": \"volkswagen\", \"model\": \"fox\", \"version\": \"fox trendline 1.0 flex 8v 5p\", \"gearbox\": \"manual\", \"cartype\": \"passeio\", \"regdate\": 2014, \"mileage\": 68, \"motorpower\": \"1.0\", \"fuel\": \"flex\", \"car_steering\": \"hidr\\u00e1ulica\", \"carcolor\": \"no_information\", \"doors\": \"4 portas\", \"financial\": \"no_information\", \"vidro el\\u00e9trico\": 1.0, \"air bag\": 1.0, \"trava el\\u00e9trica\": 1.0, \"ar condicionado\": 1.0, \"dire\\u00e7\\u00e3o hidr\\u00e1ulica\": 1.0, \"alarme\": 1.0, \"som\": 1.0, \"sensor de r\\u00e9\": 1.0}, {\"brand\": \"volkswagen\", \"model\": \"gol\", \"version\": \"gol city  trend  titan 1.0 t. flex 8v 4p\", \"gearbox\": \"manual\", \"cartype\": \"hatch\", \"regdate\": 2015, \"mileage\": 55000, \"motorpower\": \"1.0\", \"fuel\": \"flex\", \"car_steering\": \"hidr\\u00e1ulica\", \"carcolor\": \"prata\", \"doors\": \"4 portas\", \"financial\": \"ipva pago\", \"vidro el\\u00e9trico\": 1.0, \"air bag\": 1.0, \"trava el\\u00e9trica\": 1.0, \"ar condicionado\": 1.0, \"dire\\u00e7\\u00e3o hidr\\u00e1ulica\": 1.0, \"alarme\": 1.0, \"som\": 1.0, \"sensor de r\\u00e9\": 0.0}, {\"brand\": \"volkswagen\", \"model\": \"no_information\", \"version\": \"no_information\", \"gearbox\": \"no_information\", \"cartype\": \"hatch\", \"regdate\": 2014, \"mileage\": 52000, \"motorpower\": \"1.0\", \"fuel\": \"flex\", \"car_steering\": \"no_information\", \"carcolor\": \"prata\", \"doors\": \"4 portas\", \"financial\": \"ipva pago\", \"vidro el\\u00e9trico\": 1.0, \"air bag\": 0.0, \"trava el\\u00e9trica\": 1.0, \"ar condicionado\": 1.0, \"dire\\u00e7\\u00e3o hidr\\u00e1ulica\": 1.0, \"alarme\": 0.0, \"som\": 0.0, \"sensor de r\\u00e9\": 0.0}, {\"brand\": \"volkswagen\", \"model\": \"gol\", \"version\": \"gol 1.0 trend  power 8v 4p\", \"gearbox\": \"manual\", \"cartype\": \"hatch\", \"regdate\": 2013, \"mileage\": 83000, \"motorpower\": \"1.0\", \"fuel\": \"flex\", \"car_steering\": \"hidr\\u00e1ulica\", \"carcolor\": \"cinza\", \"doors\": \"4 portas\", \"financial\": \"ipva pago\", \"vidro el\\u00e9trico\": 1.0, \"air bag\": 0.0, \"trava el\\u00e9trica\": 1.0, \"ar condicionado\": 1.0, \"dire\\u00e7\\u00e3o hidr\\u00e1ulica\": 1.0, \"alarme\": 0.0, \"som\": 1.0, \"sensor de r\\u00e9\": 0.0}, {\"brand\": \"volkswagen\", \"model\": \"voyage\", \"version\": \"voyage 1.6 1.6 city  mi total flex 8v 4p\", \"gearbox\": \"manual\", \"cartype\": \"sed\\u00e3\", \"regdate\": 2015, \"mileage\": 68000, \"motorpower\": \"1.6\", \"fuel\": \"flex\", \"car_steering\": \"hidr\\u00e1ulica\", \"carcolor\": \"cinza\", \"doors\": \"4 portas\", \"financial\": \"ipva pago\", \"vidro el\\u00e9trico\": 1.0, \"air bag\": 1.0, \"trava el\\u00e9trica\": 1.0, \"ar condicionado\": 1.0, \"dire\\u00e7\\u00e3o hidr\\u00e1ulica\": 1.0, \"alarme\": 0.0, \"som\": 0.0, \"sensor de r\\u00e9\": 0.0}, {\"brand\": \"volkswagen\", \"model\": \"fox\", \"version\": \"no_information\", \"gearbox\": \"manual\", \"cartype\": \"passeio\", \"regdate\": 2014, \"mileage\": 29234, \"motorpower\": \"1.6\", \"fuel\": \"flex\", \"car_steering\": \"hidr\\u00e1ulica\", \"carcolor\": \"vermelho\", \"doors\": \"4 portas\", \"financial\": \"no_information\", \"vidro el\\u00e9trico\": 1.0, \"air bag\": 1.0, \"trava el\\u00e9trica\": 1.0, \"ar condicionado\": 1.0, \"dire\\u00e7\\u00e3o hidr\\u00e1ulica\": 0.0, \"alarme\": 1.0, \"som\": 0.0, \"sensor de r\\u00e9\": 0.0}, {\"brand\": \"volkswagen\", \"model\": \"gol\", \"version\": \"gol i motion comfort. 1.6 t. flex 8v 5p\", \"gearbox\": \"semiautom\\u00e1tico\", \"cartype\": \"hatch\", \"regdate\": 2015, \"mileage\": 1111, \"motorpower\": \"1.6\", \"fuel\": \"flex\", \"car_steering\": \"hidr\\u00e1ulica\", \"carcolor\": \"preto\", \"doors\": \"4 portas\", \"financial\": \"ipva pago\", \"vidro el\\u00e9trico\": 1.0, \"air bag\": 1.0, \"trava el\\u00e9trica\": 1.0, \"ar condicionado\": 1.0, \"dire\\u00e7\\u00e3o hidr\\u00e1ulica\": 1.0, \"alarme\": 1.0, \"som\": 1.0, \"sensor de r\\u00e9\": 0.0}, {\"brand\": \"volkswagen\", \"model\": \"fox\", \"version\": \"fox 1.6 mi total flex 8v 5p\", \"gearbox\": \"manual\", \"cartype\": \"no_information\", \"regdate\": 2013, \"mileage\": 81000, \"motorpower\": \"1.6\", \"fuel\": \"flex\", \"car_steering\": \"hidr\\u00e1ulica\", \"carcolor\": \"preto\", \"doors\": \"4 portas\", \"financial\": \"no_information\", \"vidro el\\u00e9trico\": 1.0, \"air bag\": 1.0, \"trava el\\u00e9trica\": 1.0, \"ar condicionado\": 1.0, \"dire\\u00e7\\u00e3o hidr\\u00e1ulica\": 0.0, \"alarme\": 0.0, \"som\": 0.0, \"sensor de r\\u00e9\": 0.0}, {\"brand\": \"volkswagen\", \"model\": \"gol\", \"version\": \"gol  novo  1.0 mi total flex 8v 4p\", \"gearbox\": \"manual\", \"cartype\": \"hatch\", \"regdate\": 2015, \"mileage\": 48660, \"motorpower\": \"1.0\", \"fuel\": \"flex\", \"car_steering\": \"hidr\\u00e1ulica\", \"carcolor\": \"branco\", \"doors\": \"4 portas\", \"financial\": \"no_information\", \"vidro el\\u00e9trico\": 1.0, \"air bag\": 0.0, \"trava el\\u00e9trica\": 1.0, \"ar condicionado\": 1.0, \"dire\\u00e7\\u00e3o hidr\\u00e1ulica\": 1.0, \"alarme\": 1.0, \"som\": 0.0, \"sensor de r\\u00e9\": 0.0}, {\"brand\": \"volkswagen\", \"model\": \"gol\", \"version\": \"no_information\", \"gearbox\": \"manual\", \"cartype\": \"passeio\", \"regdate\": 2013, \"mileage\": 88000, \"motorpower\": \"1.0\", \"fuel\": \"flex\", \"car_steering\": \"hidr\\u00e1ulica\", \"carcolor\": \"branco\", \"doors\": \"4 portas\", \"financial\": \"no_information\", \"vidro el\\u00e9trico\": 1.0, \"air bag\": 0.0, \"trava el\\u00e9trica\": 0.0, \"ar condicionado\": 1.0, \"dire\\u00e7\\u00e3o hidr\\u00e1ulica\": 0.0, \"alarme\": 1.0, \"som\": 0.0, \"sensor de r\\u00e9\": 0.0}, {\"brand\": \"volkswagen\", \"model\": \"gol\", \"version\": \"gol trendline 1.0 t.flex 8v 5p\", \"gearbox\": \"manual\", \"cartype\": \"hatch\", \"regdate\": 2016, \"mileage\": 45882, \"motorpower\": \"1.0\", \"fuel\": \"flex\", \"car_steering\": \"hidr\\u00e1ulica\", \"carcolor\": \"prata\", \"doors\": \"4 portas\", \"financial\": \"ipva pago\", \"vidro el\\u00e9trico\": 1.0, \"air bag\": 1.0, \"trava el\\u00e9trica\": 1.0, \"ar condicionado\": 1.0, \"dire\\u00e7\\u00e3o hidr\\u00e1ulica\": 0.0, \"alarme\": 1.0, \"som\": 1.0, \"sensor de r\\u00e9\": 0.0}, {\"brand\": \"volkswagen\", \"model\": \"voyage\", \"version\": \"voyage  trendline 1.0 t.flex 8v 4p\", \"gearbox\": \"manual\", \"cartype\": \"sed\\u00e3\", \"regdate\": 2013, \"mileage\": 103000, \"motorpower\": \"1.0\", \"fuel\": \"flex\", \"car_steering\": \"hidr\\u00e1ulica\", \"carcolor\": \"preto\", \"doors\": \"4 portas\", \"financial\": \"no_information\", \"vidro el\\u00e9trico\": 1.0, \"air bag\": 0.0, \"trava el\\u00e9trica\": 1.0, \"ar condicionado\": 1.0, \"dire\\u00e7\\u00e3o hidr\\u00e1ulica\": 1.0, \"alarme\": 1.0, \"som\": 0.0, \"sensor de r\\u00e9\": 0.0}, {\"brand\": \"volkswagen\", \"model\": \"voyage\", \"version\": \"voyage i motion trend 1.6 mi t. flex 8v\", \"gearbox\": \"manual\", \"cartype\": \"sed\\u00e3\", \"regdate\": 2013, \"mileage\": 192, \"motorpower\": \"1.6\", \"fuel\": \"flex\", \"car_steering\": \"hidr\\u00e1ulica\", \"carcolor\": \"branco\", \"doors\": \"4 portas\", \"financial\": \"com multas\", \"vidro el\\u00e9trico\": 1.0, \"air bag\": 1.0, \"trava el\\u00e9trica\": 1.0, \"ar condicionado\": 1.0, \"dire\\u00e7\\u00e3o hidr\\u00e1ulica\": 1.0, \"alarme\": 1.0, \"som\": 1.0, \"sensor de r\\u00e9\": 0.0}, {\"brand\": \"volkswagen\", \"model\": \"voyage\", \"version\": \"voyage 1.0 1.0 city mi total flex 8v 4p\", \"gearbox\": \"manual\", \"cartype\": \"sed\\u00e3\", \"regdate\": 2013, \"mileage\": 90000, \"motorpower\": \"1.0\", \"fuel\": \"flex\", \"car_steering\": \"hidr\\u00e1ulica\", \"carcolor\": \"prata\", \"doors\": \"4 portas\", \"financial\": \"ipva pago\", \"vidro el\\u00e9trico\": 1.0, \"air bag\": 0.0, \"trava el\\u00e9trica\": 1.0, \"ar condicionado\": 1.0, \"dire\\u00e7\\u00e3o hidr\\u00e1ulica\": 1.0, \"alarme\": 1.0, \"som\": 1.0, \"sensor de r\\u00e9\": 1.0}, {\"brand\": \"volkswagen\", \"model\": \"voyage\", \"version\": \"voyage 1.0 1.0 city mi total flex 8v 4p\", \"gearbox\": \"manual\", \"cartype\": \"sed\\u00e3\", \"regdate\": 2013, \"mileage\": 98000, \"motorpower\": \"1.0\", \"fuel\": \"flex\", \"car_steering\": \"hidr\\u00e1ulica\", \"carcolor\": \"prata\", \"doors\": \"4 portas\", \"financial\": \"no_information\", \"vidro el\\u00e9trico\": 0.0, \"air bag\": 0.0, \"trava el\\u00e9trica\": 0.0, \"ar condicionado\": 0.0, \"dire\\u00e7\\u00e3o hidr\\u00e1ulica\": 0.0, \"alarme\": 0.0, \"som\": 0.0, \"sensor de r\\u00e9\": 0.0}, {\"brand\": \"volkswagen\", \"model\": \"voyage\", \"version\": \"voyage trendline 1.0 t.flex 12v 4p\", \"gearbox\": \"manual\", \"cartype\": \"hatch\", \"regdate\": 2013, \"mileage\": 74154, \"motorpower\": \"no_information\", \"fuel\": \"flex\", \"car_steering\": \"no_information\", \"carcolor\": \"no_information\", \"doors\": \"2 portas\", \"financial\": \"no_information\", \"vidro el\\u00e9trico\": 0.0, \"air bag\": 0.0, \"trava el\\u00e9trica\": 0.0, \"ar condicionado\": 0.0, \"dire\\u00e7\\u00e3o hidr\\u00e1ulica\": 0.0, \"alarme\": 0.0, \"som\": 0.0, \"sensor de r\\u00e9\": 0.0}, {\"brand\": \"volkswagen\", \"model\": \"gol\", \"version\": \"no_information\", \"gearbox\": \"manual\", \"cartype\": \"passeio\", \"regdate\": 2014, \"mileage\": 68000, \"motorpower\": \"1.0\", \"fuel\": \"flex\", \"car_steering\": \"mecnica\", \"carcolor\": \"prata\", \"doors\": \"4 portas\", \"financial\": \"no_information\", \"vidro el\\u00e9trico\": 1.0, \"air bag\": 0.0, \"trava el\\u00e9trica\": 1.0, \"ar condicionado\": 1.0, \"dire\\u00e7\\u00e3o hidr\\u00e1ulica\": 0.0, \"alarme\": 0.0, \"som\": 0.0, \"sensor de r\\u00e9\": 0.0}, {\"brand\": \"volkswagen\", \"model\": \"gol\", \"version\": \"gol  novo  1.0 mi total flex 8v 2p\", \"gearbox\": \"manual\", \"cartype\": \"hatch\", \"regdate\": 2014, \"mileage\": 96000, \"motorpower\": \"1.0\", \"fuel\": \"flex\", \"car_steering\": \"mecnica\", \"carcolor\": \"branco\", \"doors\": \"2 portas\", \"financial\": \"no_information\", \"vidro el\\u00e9trico\": 1.0, \"air bag\": 1.0, \"trava el\\u00e9trica\": 1.0, \"ar condicionado\": 1.0, \"dire\\u00e7\\u00e3o hidr\\u00e1ulica\": 0.0, \"alarme\": 1.0, \"som\": 1.0, \"sensor de r\\u00e9\": 0.0}, {\"brand\": \"volkswagen\", \"model\": \"fox\", \"version\": \"fox rock in rio 1.6 mi total flex 8v 5p\", \"gearbox\": \"manual\", \"cartype\": \"hatch\", \"regdate\": 2014, \"mileage\": 20000, \"motorpower\": \"1.6\", \"fuel\": \"flex\", \"car_steering\": \"hidr\\u00e1ulica\", \"carcolor\": \"azul\", \"doors\": \"4 portas\", \"financial\": \"ipva pago\", \"vidro el\\u00e9trico\": 1.0, \"air bag\": 1.0, \"trava el\\u00e9trica\": 1.0, \"ar condicionado\": 1.0, \"dire\\u00e7\\u00e3o hidr\\u00e1ulica\": 1.0, \"alarme\": 1.0, \"som\": 0.0, \"sensor de r\\u00e9\": 1.0}, {\"brand\": \"volkswagen\", \"model\": \"gol\", \"version\": \"no_information\", \"gearbox\": \"manual\", \"cartype\": \"passeio\", \"regdate\": 2014, \"mileage\": 88000, \"motorpower\": \"1.0\", \"fuel\": \"flex\", \"car_steering\": \"hidr\\u00e1ulica\", \"carcolor\": \"prata\", \"doors\": \"4 portas\", \"financial\": \"no_information\", \"vidro el\\u00e9trico\": 1.0, \"air bag\": 1.0, \"trava el\\u00e9trica\": 1.0, \"ar condicionado\": 1.0, \"dire\\u00e7\\u00e3o hidr\\u00e1ulica\": 0.0, \"alarme\": 0.0, \"som\": 0.0, \"sensor de r\\u00e9\": 0.0}, {\"brand\": \"volkswagen\", \"model\": \"gol\", \"version\": \"no_information\", \"gearbox\": \"manual\", \"cartype\": \"passeio\", \"regdate\": 2013, \"mileage\": 60719, \"motorpower\": \"1.6\", \"fuel\": \"flex\", \"car_steering\": \"hidr\\u00e1ulica\", \"carcolor\": \"branco\", \"doors\": \"4 portas\", \"financial\": \"no_information\", \"vidro el\\u00e9trico\": 1.0, \"air bag\": 1.0, \"trava el\\u00e9trica\": 1.0, \"ar condicionado\": 1.0, \"dire\\u00e7\\u00e3o hidr\\u00e1ulica\": 0.0, \"alarme\": 1.0, \"som\": 0.0, \"sensor de r\\u00e9\": 0.0}, {\"brand\": \"volkswagen\", \"model\": \"fox\", \"version\": \"fox trendline 1.0 flex 12v 5p\", \"gearbox\": \"manual\", \"cartype\": \"passeio\", \"regdate\": 2016, \"mileage\": 60000, \"motorpower\": \"1.0\", \"fuel\": \"flex\", \"car_steering\": \"hidr\\u00e1ulica\", \"carcolor\": \"branco\", \"doors\": \"4 portas\", \"financial\": \"ipva pago\", \"vidro el\\u00e9trico\": 1.0, \"air bag\": 1.0, \"trava el\\u00e9trica\": 1.0, \"ar condicionado\": 1.0, \"dire\\u00e7\\u00e3o hidr\\u00e1ulica\": 1.0, \"alarme\": 1.0, \"som\": 1.0, \"sensor de r\\u00e9\": 1.0}, {\"brand\": \"volkswagen\", \"model\": \"up\", \"version\": \"no_information\", \"gearbox\": \"manual\", \"cartype\": \"passeio\", \"regdate\": 2015, \"mileage\": 84612, \"motorpower\": \"1.0\", \"fuel\": \"flex\", \"car_steering\": \"hidr\\u00e1ulica\", \"carcolor\": \"branco\", \"doors\": \"4 portas\", \"financial\": \"no_information\", \"vidro el\\u00e9trico\": 1.0, \"air bag\": 1.0, \"trava el\\u00e9trica\": 1.0, \"ar condicionado\": 1.0, \"dire\\u00e7\\u00e3o hidr\\u00e1ulica\": 0.0, \"alarme\": 1.0, \"som\": 0.0, \"sensor de r\\u00e9\": 0.0}, {\"brand\": \"volkswagen\", \"model\": \"up\", \"version\": \"up  move 1.0 total flex 12v 5p\", \"gearbox\": \"manual\", \"cartype\": \"hatch\", \"regdate\": 2014, \"mileage\": 90000, \"motorpower\": \"1.0\", \"fuel\": \"flex\", \"car_steering\": \"el\\u00e9trica\", \"carcolor\": \"preto\", \"doors\": \"4 portas\", \"financial\": \"ipva pago\", \"vidro el\\u00e9trico\": 1.0, \"air bag\": 1.0, \"trava el\\u00e9trica\": 1.0, \"ar condicionado\": 1.0, \"dire\\u00e7\\u00e3o hidr\\u00e1ulica\": 1.0, \"alarme\": 1.0, \"som\": 1.0, \"sensor de r\\u00e9\": 0.0}, {\"brand\": \"volkswagen\", \"model\": \"fox\", \"version\": \"fox 1.0 mi total flex 8v 3p\", \"gearbox\": \"manual\", \"cartype\": \"hatch\", \"regdate\": 2013, \"mileage\": 61390, \"motorpower\": \"1.0\", \"fuel\": \"flex\", \"car_steering\": \"hidr\\u00e1ulica\", \"carcolor\": \"preto\", \"doors\": \"4 portas\", \"financial\": \"ipva pago\", \"vidro el\\u00e9trico\": 1.0, \"air bag\": 0.0, \"trava el\\u00e9trica\": 1.0, \"ar condicionado\": 1.0, \"dire\\u00e7\\u00e3o hidr\\u00e1ulica\": 1.0, \"alarme\": 1.0, \"som\": 1.0, \"sensor de r\\u00e9\": 1.0}, {\"brand\": \"volkswagen\", \"model\": \"voyage\", \"version\": \"voyage 1.0 1.0 city mi total flex 8v 4p\", \"gearbox\": \"manual\", \"cartype\": \"sed\\u00e3\", \"regdate\": 2013, \"mileage\": 68000, \"motorpower\": \"1.0\", \"fuel\": \"flex\", \"car_steering\": \"hidr\\u00e1ulica\", \"carcolor\": \"preto\", \"doors\": \"4 portas\", \"financial\": \"ipva pago\", \"vidro el\\u00e9trico\": 1.0, \"air bag\": 0.0, \"trava el\\u00e9trica\": 1.0, \"ar condicionado\": 1.0, \"dire\\u00e7\\u00e3o hidr\\u00e1ulica\": 1.0, \"alarme\": 1.0, \"som\": 1.0, \"sensor de r\\u00e9\": 1.0}, {\"brand\": \"volkswagen\", \"model\": \"fox\", \"version\": \"fox 1.0 mi total flex 8v 5p\", \"gearbox\": \"manual\", \"cartype\": \"hatch\", \"regdate\": 2013, \"mileage\": 76000, \"motorpower\": \"1.0\", \"fuel\": \"flex\", \"car_steering\": \"hidr\\u00e1ulica\", \"carcolor\": \"verde\", \"doors\": \"4 portas\", \"financial\": \"ipva pago\", \"vidro el\\u00e9trico\": 1.0, \"air bag\": 0.0, \"trava el\\u00e9trica\": 1.0, \"ar condicionado\": 1.0, \"dire\\u00e7\\u00e3o hidr\\u00e1ulica\": 1.0, \"alarme\": 1.0, \"som\": 1.0, \"sensor de r\\u00e9\": 0.0}, {\"brand\": \"volkswagen\", \"model\": \"gol\", \"version\": \"gol special  special xtreme 1.0 mi 2p\", \"gearbox\": \"manual\", \"cartype\": \"hatch\", \"regdate\": 2015, \"mileage\": 83000, \"motorpower\": \"1.0\", \"fuel\": \"flex\", \"car_steering\": \"hidr\\u00e1ulica\", \"carcolor\": \"prata\", \"doors\": \"2 portas\", \"financial\": \"ipva pago\", \"vidro el\\u00e9trico\": 0.0, \"air bag\": 1.0, \"trava el\\u00e9trica\": 0.0, \"ar condicionado\": 1.0, \"dire\\u00e7\\u00e3o hidr\\u00e1ulica\": 1.0, \"alarme\": 0.0, \"som\": 1.0, \"sensor de r\\u00e9\": 0.0}, {\"brand\": \"volkswagen\", \"model\": \"fox\", \"version\": \"no_information\", \"gearbox\": \"manual\", \"cartype\": \"passeio\", \"regdate\": 2014, \"mileage\": 82000, \"motorpower\": \"no_information\", \"fuel\": \"flex\", \"car_steering\": \"hidr\\u00e1ulica\", \"carcolor\": \"preto\", \"doors\": \"no_information\", \"financial\": \"ipva pago\", \"vidro el\\u00e9trico\": 1.0, \"air bag\": 0.0, \"trava el\\u00e9trica\": 1.0, \"ar condicionado\": 1.0, \"dire\\u00e7\\u00e3o hidr\\u00e1ulica\": 1.0, \"alarme\": 1.0, \"som\": 1.0, \"sensor de r\\u00e9\": 0.0}, {\"brand\": \"volkswagen\", \"model\": \"crossfox\", \"version\": \"crossfox 1.6 mi total flex 8v 5p\", \"gearbox\": \"manual\", \"cartype\": \"hatch\", \"regdate\": 2013, \"mileage\": 77000, \"motorpower\": \"1.6\", \"fuel\": \"flex\", \"car_steering\": \"hidr\\u00e1ulica\", \"carcolor\": \"amarelo\", \"doors\": \"4 portas\", \"financial\": \"ipva pago\", \"vidro el\\u00e9trico\": 1.0, \"air bag\": 1.0, \"trava el\\u00e9trica\": 1.0, \"ar condicionado\": 1.0, \"dire\\u00e7\\u00e3o hidr\\u00e1ulica\": 1.0, \"alarme\": 1.0, \"som\": 1.0, \"sensor de r\\u00e9\": 1.0}, {\"brand\": \"volkswagen\", \"model\": \"gol\", \"version\": \"no_information\", \"gearbox\": \"manual\", \"cartype\": \"passeio\", \"regdate\": 2016, \"mileage\": 70000, \"motorpower\": \"1.6\", \"fuel\": \"flex\", \"car_steering\": \"hidr\\u00e1ulica\", \"carcolor\": \"branco\", \"doors\": \"4 portas\", \"financial\": \"ipva pago\", \"vidro el\\u00e9trico\": 1.0, \"air bag\": 1.0, \"trava el\\u00e9trica\": 1.0, \"ar condicionado\": 1.0, \"dire\\u00e7\\u00e3o hidr\\u00e1ulica\": 1.0, \"alarme\": 1.0, \"som\": 1.0, \"sensor de r\\u00e9\": 0.0}, {\"brand\": \"volkswagen\", \"model\": \"voyage\", \"version\": \"voyage 1.6 msi flex 8v 4p\", \"gearbox\": \"manual\", \"cartype\": \"sed\\u00e3\", \"regdate\": 2015, \"mileage\": 68000, \"motorpower\": \"1.6\", \"fuel\": \"flex\", \"car_steering\": \"hidr\\u00e1ulica\", \"carcolor\": \"cinza\", \"doors\": \"4 portas\", \"financial\": \"ipva pago\", \"vidro el\\u00e9trico\": 1.0, \"air bag\": 0.0, \"trava el\\u00e9trica\": 1.0, \"ar condicionado\": 1.0, \"dire\\u00e7\\u00e3o hidr\\u00e1ulica\": 1.0, \"alarme\": 1.0, \"som\": 1.0, \"sensor de r\\u00e9\": 0.0}, {\"brand\": \"volkswagen\", \"model\": \"gol\", \"version\": \"gol trendline 1.0 t.flex 8v 5p\", \"gearbox\": \"manual\", \"cartype\": \"hatch\", \"regdate\": 2015, \"mileage\": 86000, \"motorpower\": \"1.0\", \"fuel\": \"flex\", \"car_steering\": \"hidr\\u00e1ulica\", \"carcolor\": \"preto\", \"doors\": \"4 portas\", \"financial\": \"ipva pago\", \"vidro el\\u00e9trico\": 1.0, \"air bag\": 1.0, \"trava el\\u00e9trica\": 1.0, \"ar condicionado\": 1.0, \"dire\\u00e7\\u00e3o hidr\\u00e1ulica\": 1.0, \"alarme\": 1.0, \"som\": 1.0, \"sensor de r\\u00e9\": 1.0}, {\"brand\": \"volkswagen\", \"model\": \"fox\", \"version\": \"no_information\", \"gearbox\": \"manual\", \"cartype\": \"passeio\", \"regdate\": 2015, \"mileage\": 79575, \"motorpower\": \"1.0\", \"fuel\": \"flex\", \"car_steering\": \"hidr\\u00e1ulica\", \"carcolor\": \"prata\", \"doors\": \"4 portas\", \"financial\": \"no_information\", \"vidro el\\u00e9trico\": 1.0, \"air bag\": 1.0, \"trava el\\u00e9trica\": 1.0, \"ar condicionado\": 1.0, \"dire\\u00e7\\u00e3o hidr\\u00e1ulica\": 0.0, \"alarme\": 0.0, \"som\": 0.0, \"sensor de r\\u00e9\": 0.0}]}}, {\"mode\": \"vega-lite\"});\n",
       "</script>"
      ],
      "text/plain": [
       "alt.Chart(...)"
      ]
     },
     "execution_count": 37,
     "metadata": {},
     "output_type": "execute_result"
    }
   ],
   "source": [
    "model_regdate_count(df)"
   ]
  },
  {
   "cell_type": "code",
   "execution_count": 35,
   "metadata": {},
   "outputs": [],
   "source": [
    "def financial_regdate(df):   \n",
    "    chart = alt.Chart(df).mark_bar().encode(\n",
    "    x = 'count()',\n",
    "    y = alt.Y('financial', sort = alt.Sort(encoding = 'x', order= 'descending')),\n",
    "    tooltip = ['regdate','count()'],\n",
    "    color = 'regdate:O'\n",
    "    ).interactive()\n",
    "    return chart\n",
    "    "
   ]
  },
  {
   "cell_type": "code",
   "execution_count": 38,
   "metadata": {},
   "outputs": [
    {
     "data": {
      "text/html": [
       "\n",
       "<div id=\"altair-viz-1bff5b10577c49c99fe111e797e7a0f4\"></div>\n",
       "<script type=\"text/javascript\">\n",
       "  (function(spec, embedOpt){\n",
       "    let outputDiv = document.currentScript.previousElementSibling;\n",
       "    if (outputDiv.id !== \"altair-viz-1bff5b10577c49c99fe111e797e7a0f4\") {\n",
       "      outputDiv = document.getElementById(\"altair-viz-1bff5b10577c49c99fe111e797e7a0f4\");\n",
       "    }\n",
       "    const paths = {\n",
       "      \"vega\": \"https://cdn.jsdelivr.net/npm//vega@5?noext\",\n",
       "      \"vega-lib\": \"https://cdn.jsdelivr.net/npm//vega-lib?noext\",\n",
       "      \"vega-lite\": \"https://cdn.jsdelivr.net/npm//vega-lite@4.8.1?noext\",\n",
       "      \"vega-embed\": \"https://cdn.jsdelivr.net/npm//vega-embed@6?noext\",\n",
       "    };\n",
       "\n",
       "    function loadScript(lib) {\n",
       "      return new Promise(function(resolve, reject) {\n",
       "        var s = document.createElement('script');\n",
       "        s.src = paths[lib];\n",
       "        s.async = true;\n",
       "        s.onload = () => resolve(paths[lib]);\n",
       "        s.onerror = () => reject(`Error loading script: ${paths[lib]}`);\n",
       "        document.getElementsByTagName(\"head\")[0].appendChild(s);\n",
       "      });\n",
       "    }\n",
       "\n",
       "    function showError(err) {\n",
       "      outputDiv.innerHTML = `<div class=\"error\" style=\"color:red;\">${err}</div>`;\n",
       "      throw err;\n",
       "    }\n",
       "\n",
       "    function displayChart(vegaEmbed) {\n",
       "      vegaEmbed(outputDiv, spec, embedOpt)\n",
       "        .catch(err => showError(`Javascript Error: ${err.message}<br>This usually means there's a typo in your chart specification. See the javascript console for the full traceback.`));\n",
       "    }\n",
       "\n",
       "    if(typeof define === \"function\" && define.amd) {\n",
       "      requirejs.config({paths});\n",
       "      require([\"vega-embed\"], displayChart, err => showError(`Error loading script: ${err.message}`));\n",
       "    } else if (typeof vegaEmbed === \"function\") {\n",
       "      displayChart(vegaEmbed);\n",
       "    } else {\n",
       "      loadScript(\"vega\")\n",
       "        .then(() => loadScript(\"vega-lite\"))\n",
       "        .then(() => loadScript(\"vega-embed\"))\n",
       "        .catch(showError)\n",
       "        .then(() => displayChart(vegaEmbed));\n",
       "    }\n",
       "  })({\"config\": {\"view\": {\"continuousWidth\": 400, \"continuousHeight\": 300}}, \"data\": {\"name\": \"data-31d66b30673757fd7707bbc3981cf8e4\"}, \"mark\": \"bar\", \"encoding\": {\"color\": {\"type\": \"ordinal\", \"field\": \"regdate\"}, \"tooltip\": [{\"type\": \"quantitative\", \"field\": \"regdate\"}, {\"type\": \"quantitative\", \"aggregate\": \"count\"}], \"x\": {\"type\": \"quantitative\", \"aggregate\": \"count\"}, \"y\": {\"type\": \"nominal\", \"field\": \"financial\", \"sort\": {\"encoding\": \"x\", \"order\": \"descending\"}}}, \"selection\": {\"selector002\": {\"type\": \"interval\", \"bind\": \"scales\", \"encodings\": [\"x\", \"y\"]}}, \"$schema\": \"https://vega.github.io/schema/vega-lite/v4.8.1.json\", \"datasets\": {\"data-31d66b30673757fd7707bbc3981cf8e4\": [{\"brand\": \"ford\", \"model\": \"fiesta\", \"version\": \"fiesta sedan se 1.6 8v flex 4p\", \"gearbox\": \"manual\", \"cartype\": \"passeio\", \"regdate\": 2013, \"mileage\": 100, \"motorpower\": \"1.6\", \"fuel\": \"flex\", \"car_steering\": \"hidr\\u00e1ulica\", \"carcolor\": \"branco\", \"doors\": \"4 portas\", \"financial\": \"no_information\", \"vidro el\\u00e9trico\": 1.0, \"air bag\": 0.0, \"trava el\\u00e9trica\": 1.0, \"ar condicionado\": 1.0, \"dire\\u00e7\\u00e3o hidr\\u00e1ulica\": 1.0, \"alarme\": 1.0, \"som\": 0.0, \"sensor de r\\u00e9\": 0.0}, {\"brand\": \"ford\", \"model\": \"ka\", \"version\": \"ka 1.0 se se plus tivct flex 5p\", \"gearbox\": \"manual\", \"cartype\": \"passeio\", \"regdate\": 2015, \"mileage\": 58000, \"motorpower\": \"1.0\", \"fuel\": \"flex\", \"car_steering\": \"el\\u00e9trica\", \"carcolor\": \"prata\", \"doors\": \"4 portas\", \"financial\": \"ipva pago\", \"vidro el\\u00e9trico\": 1.0, \"air bag\": 1.0, \"trava el\\u00e9trica\": 1.0, \"ar condicionado\": 1.0, \"dire\\u00e7\\u00e3o hidr\\u00e1ulica\": 0.0, \"alarme\": 1.0, \"som\": 1.0, \"sensor de r\\u00e9\": 0.0}, {\"brand\": \"ford\", \"model\": \"fiesta\", \"version\": \"fiesta 1.6 8v flex class 1.6 8v flex 5p\", \"gearbox\": \"manual\", \"cartype\": \"hatch\", \"regdate\": 2013, \"mileage\": 70000, \"motorpower\": \"1.6\", \"fuel\": \"flex\", \"car_steering\": \"hidr\\u00e1ulica\", \"carcolor\": \"prata\", \"doors\": \"4 portas\", \"financial\": \"ipva pago\", \"vidro el\\u00e9trico\": 1.0, \"air bag\": 1.0, \"trava el\\u00e9trica\": 1.0, \"ar condicionado\": 1.0, \"dire\\u00e7\\u00e3o hidr\\u00e1ulica\": 1.0, \"alarme\": 1.0, \"som\": 1.0, \"sensor de r\\u00e9\": 0.0}, {\"brand\": \"ford\", \"model\": \"fiesta\", \"version\": \"fiesta sed. 1.6 8v flex 4p\", \"gearbox\": \"no_information\", \"cartype\": \"sed\\u00e3\", \"regdate\": 2013, \"mileage\": 60719, \"motorpower\": \"1.6\", \"fuel\": \"flex\", \"car_steering\": \"hidr\\u00e1ulica\", \"carcolor\": \"prata\", \"doors\": \"4 portas\", \"financial\": \"ipva pago\", \"vidro el\\u00e9trico\": 1.0, \"air bag\": 0.0, \"trava el\\u00e9trica\": 1.0, \"ar condicionado\": 1.0, \"dire\\u00e7\\u00e3o hidr\\u00e1ulica\": 1.0, \"alarme\": 1.0, \"som\": 0.0, \"sensor de r\\u00e9\": 0.0}, {\"brand\": \"ford\", \"model\": \"ka\", \"version\": \"ka 1.0i 3p\", \"gearbox\": \"manual\", \"cartype\": \"no_information\", \"regdate\": 2015, \"mileage\": 57000, \"motorpower\": \"1.0\", \"fuel\": \"flex\", \"car_steering\": \"el\\u00e9trica\", \"carcolor\": \"preto\", \"doors\": \"4 portas\", \"financial\": \"ipva pago\", \"vidro el\\u00e9trico\": 1.0, \"air bag\": 1.0, \"trava el\\u00e9trica\": 1.0, \"ar condicionado\": 1.0, \"dire\\u00e7\\u00e3o hidr\\u00e1ulica\": 1.0, \"alarme\": 1.0, \"som\": 1.0, \"sensor de r\\u00e9\": 0.0}, {\"brand\": \"ford\", \"model\": \"ka\", \"version\": \"ka 1.0 tecno 8v flex 3p\", \"gearbox\": \"manual\", \"cartype\": \"hatch\", \"regdate\": 2015, \"mileage\": 85000, \"motorpower\": \"1.0\", \"fuel\": \"flex\", \"car_steering\": \"el\\u00e9trica\", \"carcolor\": \"branco\", \"doors\": \"4 portas\", \"financial\": \"no_information\", \"vidro el\\u00e9trico\": 1.0, \"air bag\": 1.0, \"trava el\\u00e9trica\": 1.0, \"ar condicionado\": 1.0, \"dire\\u00e7\\u00e3o hidr\\u00e1ulica\": 1.0, \"alarme\": 1.0, \"som\": 1.0, \"sensor de r\\u00e9\": 1.0}, {\"brand\": \"ford\", \"model\": \"fiesta\", \"version\": \"fiesta 1.0 8v flex class 1.0 8v flex 5p\", \"gearbox\": \"manual\", \"cartype\": \"hatch\", \"regdate\": 2013, \"mileage\": 70000, \"motorpower\": \"1.0\", \"fuel\": \"flex\", \"car_steering\": \"hidr\\u00e1ulica\", \"carcolor\": \"prata\", \"doors\": \"4 portas\", \"financial\": \"ipva pago\", \"vidro el\\u00e9trico\": 1.0, \"air bag\": 0.0, \"trava el\\u00e9trica\": 1.0, \"ar condicionado\": 1.0, \"dire\\u00e7\\u00e3o hidr\\u00e1ulica\": 1.0, \"alarme\": 1.0, \"som\": 1.0, \"sensor de r\\u00e9\": 0.0}, {\"brand\": \"ford\", \"model\": \"focus\", \"version\": \"focus 1.6 s se se plus flex 8v 16v  5p\", \"gearbox\": \"manual\", \"cartype\": \"no_information\", \"regdate\": 2013, \"mileage\": 62000, \"motorpower\": \"1.6\", \"fuel\": \"flex\", \"car_steering\": \"hidr\\u00e1ulica\", \"carcolor\": \"verde\", \"doors\": \"no_information\", \"financial\": \"no_information\", \"vidro el\\u00e9trico\": 1.0, \"air bag\": 1.0, \"trava el\\u00e9trica\": 1.0, \"ar condicionado\": 1.0, \"dire\\u00e7\\u00e3o hidr\\u00e1ulica\": 1.0, \"alarme\": 1.0, \"som\": 1.0, \"sensor de r\\u00e9\": 0.0}, {\"brand\": \"ford\", \"model\": \"fiesta\", \"version\": \"fiesta sed. 1.6 8v flex 4p\", \"gearbox\": \"manual\", \"cartype\": \"sed\\u00e3\", \"regdate\": 2014, \"mileage\": 78000, \"motorpower\": \"1.6\", \"fuel\": \"flex\", \"car_steering\": \"hidr\\u00e1ulica\", \"carcolor\": \"prata\", \"doors\": \"4 portas\", \"financial\": \"ipva pago\", \"vidro el\\u00e9trico\": 1.0, \"air bag\": 0.0, \"trava el\\u00e9trica\": 1.0, \"ar condicionado\": 1.0, \"dire\\u00e7\\u00e3o hidr\\u00e1ulica\": 1.0, \"alarme\": 1.0, \"som\": 1.0, \"sensor de r\\u00e9\": 1.0}, {\"brand\": \"ford\", \"model\": \"focus\", \"version\": \"focus 2.0 16v  2.0 16v flex 5p\", \"gearbox\": \"autom\\u00e1tico\", \"cartype\": \"hatch\", \"regdate\": 2013, \"mileage\": 85000, \"motorpower\": \"2.0-2.9\", \"fuel\": \"flex\", \"car_steering\": \"hidr\\u00e1ulica\", \"carcolor\": \"branco\", \"doors\": \"4 portas\", \"financial\": \"no_information\", \"vidro el\\u00e9trico\": 1.0, \"air bag\": 1.0, \"trava el\\u00e9trica\": 1.0, \"ar condicionado\": 1.0, \"dire\\u00e7\\u00e3o hidr\\u00e1ulica\": 1.0, \"alarme\": 1.0, \"som\": 1.0, \"sensor de r\\u00e9\": 1.0}, {\"brand\": \"ford\", \"model\": \"fiesta\", \"version\": \"no_information\", \"gearbox\": \"manual\", \"cartype\": \"passeio\", \"regdate\": 2014, \"mileage\": 66090, \"motorpower\": \"1.0\", \"fuel\": \"flex\", \"car_steering\": \"hidr\\u00e1ulica\", \"carcolor\": \"vermelho\", \"doors\": \"4 portas\", \"financial\": \"no_information\", \"vidro el\\u00e9trico\": 1.0, \"air bag\": 1.0, \"trava el\\u00e9trica\": 1.0, \"ar condicionado\": 1.0, \"dire\\u00e7\\u00e3o hidr\\u00e1ulica\": 0.0, \"alarme\": 1.0, \"som\": 0.0, \"sensor de r\\u00e9\": 0.0}, {\"brand\": \"ford\", \"model\": \"ka\", \"version\": \"ka 1.5 16v flex 5p\", \"gearbox\": \"manual\", \"cartype\": \"sed\\u00e3\", \"regdate\": 2016, \"mileage\": 50415, \"motorpower\": \"1.5\", \"fuel\": \"flex\", \"car_steering\": \"el\\u00e9trica\", \"carcolor\": \"branco\", \"doors\": \"4 portas\", \"financial\": \"no_information\", \"vidro el\\u00e9trico\": 1.0, \"air bag\": 1.0, \"trava el\\u00e9trica\": 1.0, \"ar condicionado\": 1.0, \"dire\\u00e7\\u00e3o hidr\\u00e1ulica\": 1.0, \"alarme\": 1.0, \"som\": 1.0, \"sensor de r\\u00e9\": 1.0}, {\"brand\": \"ford\", \"model\": \"fiesta\", \"version\": \"fiesta 1.5 16v flex mec. 5p\", \"gearbox\": \"manual\", \"cartype\": \"hatch\", \"regdate\": 2014, \"mileage\": 70000, \"motorpower\": \"1.5\", \"fuel\": \"flex\", \"car_steering\": \"el\\u00e9trica\", \"carcolor\": \"no_information\", \"doors\": \"4 portas\", \"financial\": \"ipva pago\", \"vidro el\\u00e9trico\": 1.0, \"air bag\": 1.0, \"trava el\\u00e9trica\": 1.0, \"ar condicionado\": 1.0, \"dire\\u00e7\\u00e3o hidr\\u00e1ulica\": 0.0, \"alarme\": 1.0, \"som\": 1.0, \"sensor de r\\u00e9\": 0.0}, {\"brand\": \"ford\", \"model\": \"fiesta\", \"version\": \"fiesta se 1.0 8v flex 5p\", \"gearbox\": \"manual\", \"cartype\": \"hatch\", \"regdate\": 2014, \"mileage\": 45585, \"motorpower\": \"1.0\", \"fuel\": \"flex\", \"car_steering\": \"hidr\\u00e1ulica\", \"carcolor\": \"prata\", \"doors\": \"4 portas\", \"financial\": \"ipva pago\", \"vidro el\\u00e9trico\": 1.0, \"air bag\": 1.0, \"trava el\\u00e9trica\": 1.0, \"ar condicionado\": 1.0, \"dire\\u00e7\\u00e3o hidr\\u00e1ulica\": 1.0, \"alarme\": 1.0, \"som\": 1.0, \"sensor de r\\u00e9\": 0.0}, {\"brand\": \"ford\", \"model\": \"ka\", \"version\": \"ka 1.0 sel tivct flex 5p\", \"gearbox\": \"manual\", \"cartype\": \"no_information\", \"regdate\": 2015, \"mileage\": 70000, \"motorpower\": \"1.0\", \"fuel\": \"flex\", \"car_steering\": \"el\\u00e9trica\", \"carcolor\": \"preto\", \"doors\": \"4 portas\", \"financial\": \"ipva pago\", \"vidro el\\u00e9trico\": 1.0, \"air bag\": 1.0, \"trava el\\u00e9trica\": 1.0, \"ar condicionado\": 1.0, \"dire\\u00e7\\u00e3o hidr\\u00e1ulica\": 1.0, \"alarme\": 1.0, \"som\": 1.0, \"sensor de r\\u00e9\": 0.0}, {\"brand\": \"ford\", \"model\": \"fiesta\", \"version\": \"fiesta class 1.0 4p\", \"gearbox\": \"manual\", \"cartype\": \"no_information\", \"regdate\": 2013, \"mileage\": 70000, \"motorpower\": \"1.0\", \"fuel\": \"flex\", \"car_steering\": \"hidr\\u00e1ulica\", \"carcolor\": \"preto\", \"doors\": \"4 portas\", \"financial\": \"ipva pago\", \"vidro el\\u00e9trico\": 0.0, \"air bag\": 0.0, \"trava el\\u00e9trica\": 0.0, \"ar condicionado\": 0.0, \"dire\\u00e7\\u00e3o hidr\\u00e1ulica\": 0.0, \"alarme\": 0.0, \"som\": 0.0, \"sensor de r\\u00e9\": 0.0}, {\"brand\": \"ford\", \"model\": \"ka\", \"version\": \"no_information\", \"gearbox\": \"manual\", \"cartype\": \"passeio\", \"regdate\": 2015, \"mileage\": 58000, \"motorpower\": \"1.0\", \"fuel\": \"flex\", \"car_steering\": \"hidr\\u00e1ulica\", \"carcolor\": \"preto\", \"doors\": \"4 portas\", \"financial\": \"ipva pago\", \"vidro el\\u00e9trico\": 1.0, \"air bag\": 1.0, \"trava el\\u00e9trica\": 1.0, \"ar condicionado\": 1.0, \"dire\\u00e7\\u00e3o hidr\\u00e1ulica\": 1.0, \"alarme\": 0.0, \"som\": 1.0, \"sensor de r\\u00e9\": 0.0}, {\"brand\": \"ford\", \"model\": \"fiesta\", \"version\": \"fiesta 1.6 8v flex class 1.6 8v flex 5p\", \"gearbox\": \"manual\", \"cartype\": \"hatch\", \"regdate\": 2013, \"mileage\": 79068, \"motorpower\": \"no_information\", \"fuel\": \"flex\", \"car_steering\": \"no_information\", \"carcolor\": \"no_information\", \"doors\": \"2 portas\", \"financial\": \"no_information\", \"vidro el\\u00e9trico\": 0.0, \"air bag\": 0.0, \"trava el\\u00e9trica\": 0.0, \"ar condicionado\": 0.0, \"dire\\u00e7\\u00e3o hidr\\u00e1ulica\": 0.0, \"alarme\": 0.0, \"som\": 0.0, \"sensor de r\\u00e9\": 0.0}, {\"brand\": \"ford\", \"model\": \"fiesta\", \"version\": \"fiesta sedan se 1.6 8v flex 4p\", \"gearbox\": \"manual\", \"cartype\": \"sed\\u00e3\", \"regdate\": 2013, \"mileage\": 60719, \"motorpower\": \"1.6\", \"fuel\": \"flex\", \"car_steering\": \"hidr\\u00e1ulica\", \"carcolor\": \"preto\", \"doors\": \"4 portas\", \"financial\": \"ipva pago\", \"vidro el\\u00e9trico\": 1.0, \"air bag\": 0.0, \"trava el\\u00e9trica\": 1.0, \"ar condicionado\": 1.0, \"dire\\u00e7\\u00e3o hidr\\u00e1ulica\": 1.0, \"alarme\": 1.0, \"som\": 0.0, \"sensor de r\\u00e9\": 0.0}, {\"brand\": \"ford\", \"model\": \"fiesta\", \"version\": \"fiesta 1.6 8v flex class 1.6 8v flex 5p\", \"gearbox\": \"manual\", \"cartype\": \"hatch\", \"regdate\": 2013, \"mileage\": 96000, \"motorpower\": \"1.6\", \"fuel\": \"flex\", \"car_steering\": \"hidr\\u00e1ulica\", \"carcolor\": \"preto\", \"doors\": \"4 portas\", \"financial\": \"ipva pago\", \"vidro el\\u00e9trico\": 1.0, \"air bag\": 0.0, \"trava el\\u00e9trica\": 1.0, \"ar condicionado\": 1.0, \"dire\\u00e7\\u00e3o hidr\\u00e1ulica\": 1.0, \"alarme\": 0.0, \"som\": 1.0, \"sensor de r\\u00e9\": 1.0}, {\"brand\": \"ford\", \"model\": \"fiesta\", \"version\": \"fiesta 1.6 8v flex class 1.6 8v flex 5p\", \"gearbox\": \"manual\", \"cartype\": \"passeio\", \"regdate\": 2013, \"mileage\": 71000, \"motorpower\": \"1.6\", \"fuel\": \"flex\", \"car_steering\": \"hidr\\u00e1ulica\", \"carcolor\": \"prata\", \"doors\": \"4 portas\", \"financial\": \"ipva pago\", \"vidro el\\u00e9trico\": 1.0, \"air bag\": 0.0, \"trava el\\u00e9trica\": 1.0, \"ar condicionado\": 1.0, \"dire\\u00e7\\u00e3o hidr\\u00e1ulica\": 1.0, \"alarme\": 1.0, \"som\": 1.0, \"sensor de r\\u00e9\": 1.0}, {\"brand\": \"ford\", \"model\": \"ka\", \"version\": \"ka 1.0 8v 1.0 8v st flex 3p\", \"gearbox\": \"manual\", \"cartype\": \"hatch\", \"regdate\": 2013, \"mileage\": 70000, \"motorpower\": \"1.0\", \"fuel\": \"flex\", \"car_steering\": \"hidr\\u00e1ulica\", \"carcolor\": \"preto\", \"doors\": \"4 portas\", \"financial\": \"ipva pago\", \"vidro el\\u00e9trico\": 1.0, \"air bag\": 0.0, \"trava el\\u00e9trica\": 1.0, \"ar condicionado\": 1.0, \"dire\\u00e7\\u00e3o hidr\\u00e1ulica\": 1.0, \"alarme\": 1.0, \"som\": 0.0, \"sensor de r\\u00e9\": 0.0}, {\"brand\": \"ford\", \"model\": \"ka\", \"version\": \"no_information\", \"gearbox\": \"manual\", \"cartype\": \"passeio\", \"regdate\": 2017, \"mileage\": 70000, \"motorpower\": \"1.0\", \"fuel\": \"flex\", \"car_steering\": \"el\\u00e9trica\", \"carcolor\": \"preto\", \"doors\": \"4 portas\", \"financial\": \"no_information\", \"vidro el\\u00e9trico\": 1.0, \"air bag\": 1.0, \"trava el\\u00e9trica\": 1.0, \"ar condicionado\": 1.0, \"dire\\u00e7\\u00e3o hidr\\u00e1ulica\": 0.0, \"alarme\": 1.0, \"som\": 0.0, \"sensor de r\\u00e9\": 0.0}, {\"brand\": \"ford\", \"model\": \"ka\", \"version\": \"ka 1.0 se se plus tivct flex 5p\", \"gearbox\": \"manual\", \"cartype\": \"hatch\", \"regdate\": 2015, \"mileage\": 70000, \"motorpower\": \"1.0\", \"fuel\": \"flex\", \"car_steering\": \"hidr\\u00e1ulica\", \"carcolor\": \"branco\", \"doors\": \"4 portas\", \"financial\": \"no_information\", \"vidro el\\u00e9trico\": 1.0, \"air bag\": 0.0, \"trava el\\u00e9trica\": 1.0, \"ar condicionado\": 1.0, \"dire\\u00e7\\u00e3o hidr\\u00e1ulica\": 1.0, \"alarme\": 1.0, \"som\": 1.0, \"sensor de r\\u00e9\": 0.0}, {\"brand\": \"ford\", \"model\": \"ka\", \"version\": \"ka 1.0 sel tivct flex 5p\", \"gearbox\": \"manual\", \"cartype\": \"hatch\", \"regdate\": 2015, \"mileage\": 75000, \"motorpower\": \"1.0\", \"fuel\": \"flex\", \"car_steering\": \"el\\u00e9trica\", \"carcolor\": \"prata\", \"doors\": \"4 portas\", \"financial\": \"ipva pago\", \"vidro el\\u00e9trico\": 1.0, \"air bag\": 1.0, \"trava el\\u00e9trica\": 1.0, \"ar condicionado\": 1.0, \"dire\\u00e7\\u00e3o hidr\\u00e1ulica\": 1.0, \"alarme\": 1.0, \"som\": 1.0, \"sensor de r\\u00e9\": 0.0}, {\"brand\": \"ford\", \"model\": \"fiesta\", \"version\": \"fiesta 1.0 8v flex class 1.0 8v flex 5p\", \"gearbox\": \"manual\", \"cartype\": \"hatch\", \"regdate\": 2014, \"mileage\": 82380, \"motorpower\": \"1.0\", \"fuel\": \"flex\", \"car_steering\": \"hidr\\u00e1ulica\", \"carcolor\": \"branco\", \"doors\": \"4 portas\", \"financial\": \"no_information\", \"vidro el\\u00e9trico\": 1.0, \"air bag\": 1.0, \"trava el\\u00e9trica\": 1.0, \"ar condicionado\": 1.0, \"dire\\u00e7\\u00e3o hidr\\u00e1ulica\": 1.0, \"alarme\": 1.0, \"som\": 1.0, \"sensor de r\\u00e9\": 1.0}, {\"brand\": \"ford\", \"model\": \"fiesta\", \"version\": \"no_information\", \"gearbox\": \"no_information\", \"cartype\": \"no_information\", \"regdate\": 2013, \"mileage\": 87000, \"motorpower\": \"no_information\", \"fuel\": \"flex\", \"car_steering\": \"hidr\\u00e1ulica\", \"carcolor\": \"no_information\", \"doors\": \"4 portas\", \"financial\": \"ipva pago\", \"vidro el\\u00e9trico\": 1.0, \"air bag\": 0.0, \"trava el\\u00e9trica\": 1.0, \"ar condicionado\": 1.0, \"dire\\u00e7\\u00e3o hidr\\u00e1ulica\": 1.0, \"alarme\": 1.0, \"som\": 1.0, \"sensor de r\\u00e9\": 0.0}, {\"brand\": \"ford\", \"model\": \"ka\", \"version\": \"no_information\", \"gearbox\": \"manual\", \"cartype\": \"passeio\", \"regdate\": 2017, \"mileage\": 7800, \"motorpower\": \"1.0\", \"fuel\": \"flex\", \"car_steering\": \"hidr\\u00e1ulica\", \"carcolor\": \"vermelho\", \"doors\": \"4 portas\", \"financial\": \"no_information\", \"vidro el\\u00e9trico\": 1.0, \"air bag\": 1.0, \"trava el\\u00e9trica\": 1.0, \"ar condicionado\": 1.0, \"dire\\u00e7\\u00e3o hidr\\u00e1ulica\": 0.0, \"alarme\": 1.0, \"som\": 0.0, \"sensor de r\\u00e9\": 0.0}, {\"brand\": \"ford\", \"model\": \"ka\", \"version\": \"ka 1.0 8v 1.0 8v st flex 3p\", \"gearbox\": \"manual\", \"cartype\": \"no_information\", \"regdate\": 2013, \"mileage\": 85000, \"motorpower\": \"no_information\", \"fuel\": \"flex\", \"car_steering\": \"no_information\", \"carcolor\": \"no_information\", \"doors\": \"no_information\", \"financial\": \"ipva pago\", \"vidro el\\u00e9trico\": 0.0, \"air bag\": 0.0, \"trava el\\u00e9trica\": 0.0, \"ar condicionado\": 0.0, \"dire\\u00e7\\u00e3o hidr\\u00e1ulica\": 0.0, \"alarme\": 0.0, \"som\": 0.0, \"sensor de r\\u00e9\": 0.0}, {\"brand\": \"ford\", \"model\": \"focus\", \"version\": \"focus 1.6 s se se plus flex 8v 16v  5p\", \"gearbox\": \"manual\", \"cartype\": \"hatch\", \"regdate\": 2013, \"mileage\": 78000, \"motorpower\": \"1.6\", \"fuel\": \"flex\", \"car_steering\": \"hidr\\u00e1ulica\", \"carcolor\": \"prata\", \"doors\": \"4 portas\", \"financial\": \"ipva pago\", \"vidro el\\u00e9trico\": 1.0, \"air bag\": 1.0, \"trava el\\u00e9trica\": 1.0, \"ar condicionado\": 1.0, \"dire\\u00e7\\u00e3o hidr\\u00e1ulica\": 1.0, \"alarme\": 1.0, \"som\": 1.0, \"sensor de r\\u00e9\": 1.0}, {\"brand\": \"ford\", \"model\": \"fiesta\", \"version\": \"fiesta 1.6 16v flex mec. 5p\", \"gearbox\": \"manual\", \"cartype\": \"hatch\", \"regdate\": 2013, \"mileage\": 34000, \"motorpower\": \"1.6\", \"fuel\": \"flex\", \"car_steering\": \"hidr\\u00e1ulica\", \"carcolor\": \"branco\", \"doors\": \"4 portas\", \"financial\": \"ipva pago\", \"vidro el\\u00e9trico\": 1.0, \"air bag\": 0.0, \"trava el\\u00e9trica\": 1.0, \"ar condicionado\": 1.0, \"dire\\u00e7\\u00e3o hidr\\u00e1ulica\": 0.0, \"alarme\": 1.0, \"som\": 0.0, \"sensor de r\\u00e9\": 0.0}, {\"brand\": \"ford\", \"model\": \"fiesta\", \"version\": \"fiesta se 1.6 8v flex 5p\", \"gearbox\": \"manual\", \"cartype\": \"passeio\", \"regdate\": 2014, \"mileage\": 60000, \"motorpower\": \"no_information\", \"fuel\": \"flex\", \"car_steering\": \"no_information\", \"carcolor\": \"no_information\", \"doors\": \"4 portas\", \"financial\": \"no_information\", \"vidro el\\u00e9trico\": 1.0, \"air bag\": 1.0, \"trava el\\u00e9trica\": 1.0, \"ar condicionado\": 1.0, \"dire\\u00e7\\u00e3o hidr\\u00e1ulica\": 1.0, \"alarme\": 1.0, \"som\": 0.0, \"sensor de r\\u00e9\": 0.0}, {\"brand\": \"ford\", \"model\": \"fiesta\", \"version\": \"fiesta sedan se 1.6 8v flex 4p\", \"gearbox\": \"manual\", \"cartype\": \"sed\\u00e3\", \"regdate\": 2014, \"mileage\": 81000, \"motorpower\": \"1.6\", \"fuel\": \"flex\", \"car_steering\": \"hidr\\u00e1ulica\", \"carcolor\": \"preto\", \"doors\": \"4 portas\", \"financial\": \"ipva pago\", \"vidro el\\u00e9trico\": 1.0, \"air bag\": 1.0, \"trava el\\u00e9trica\": 1.0, \"ar condicionado\": 1.0, \"dire\\u00e7\\u00e3o hidr\\u00e1ulica\": 1.0, \"alarme\": 1.0, \"som\": 1.0, \"sensor de r\\u00e9\": 0.0}, {\"brand\": \"ford\", \"model\": \"fiesta\", \"version\": \"no_information\", \"gearbox\": \"manual\", \"cartype\": \"passeio\", \"regdate\": 2013, \"mileage\": 79990, \"motorpower\": \"1.0\", \"fuel\": \"flex\", \"car_steering\": \"hidr\\u00e1ulica\", \"carcolor\": \"prata\", \"doors\": \"4 portas\", \"financial\": \"no_information\", \"vidro el\\u00e9trico\": 1.0, \"air bag\": 1.0, \"trava el\\u00e9trica\": 1.0, \"ar condicionado\": 1.0, \"dire\\u00e7\\u00e3o hidr\\u00e1ulica\": 0.0, \"alarme\": 1.0, \"som\": 0.0, \"sensor de r\\u00e9\": 0.0}, {\"brand\": \"ford\", \"model\": \"fiesta\", \"version\": \"1.0 rocam se plus hatch 8v flex 4p manual\", \"gearbox\": \"manual\", \"cartype\": \"hatch\", \"regdate\": 2013, \"mileage\": 92500, \"motorpower\": \"1.0\", \"fuel\": \"flex\", \"car_steering\": \"hidr\\u00e1ulica\", \"carcolor\": \"branco\", \"doors\": \"no_information\", \"financial\": \"no_information\", \"vidro el\\u00e9trico\": 1.0, \"air bag\": 0.0, \"trava el\\u00e9trica\": 0.0, \"ar condicionado\": 1.0, \"dire\\u00e7\\u00e3o hidr\\u00e1ulica\": 0.0, \"alarme\": 0.0, \"som\": 1.0, \"sensor de r\\u00e9\": 0.0}, {\"brand\": \"volkswagen\", \"model\": \"spacefox\", \"version\": \"no_information\", \"gearbox\": \"manual\", \"cartype\": \"passeio\", \"regdate\": 2013, \"mileage\": 60719, \"motorpower\": \"1.6\", \"fuel\": \"flex\", \"car_steering\": \"hidr\\u00e1ulica\", \"carcolor\": \"preto\", \"doors\": \"4 portas\", \"financial\": \"no_information\", \"vidro el\\u00e9trico\": 1.0, \"air bag\": 1.0, \"trava el\\u00e9trica\": 1.0, \"ar condicionado\": 1.0, \"dire\\u00e7\\u00e3o hidr\\u00e1ulica\": 0.0, \"alarme\": 1.0, \"som\": 0.0, \"sensor de r\\u00e9\": 0.0}, {\"brand\": \"volkswagen\", \"model\": \"gol\", \"version\": \"gol comfortline 1.6 t. flex 8v 5p\", \"gearbox\": \"manual\", \"cartype\": \"passeio\", \"regdate\": 2015, \"mileage\": 60719, \"motorpower\": \"1.6\", \"fuel\": \"flex\", \"car_steering\": \"hidr\\u00e1ulica\", \"carcolor\": \"preto\", \"doors\": \"4 portas\", \"financial\": \"no_information\", \"vidro el\\u00e9trico\": 1.0, \"air bag\": 1.0, \"trava el\\u00e9trica\": 1.0, \"ar condicionado\": 1.0, \"dire\\u00e7\\u00e3o hidr\\u00e1ulica\": 0.0, \"alarme\": 1.0, \"som\": 0.0, \"sensor de r\\u00e9\": 0.0}, {\"brand\": \"volkswagen\", \"model\": \"gol\", \"version\": \"no_information\", \"gearbox\": \"manual\", \"cartype\": \"passeio\", \"regdate\": 2013, \"mileage\": 77000, \"motorpower\": \"1.0\", \"fuel\": \"flex\", \"car_steering\": \"hidr\\u00e1ulica\", \"carcolor\": \"cinza\", \"doors\": \"4 portas\", \"financial\": \"no_information\", \"vidro el\\u00e9trico\": 1.0, \"air bag\": 1.0, \"trava el\\u00e9trica\": 1.0, \"ar condicionado\": 1.0, \"dire\\u00e7\\u00e3o hidr\\u00e1ulica\": 0.0, \"alarme\": 0.0, \"som\": 0.0, \"sensor de r\\u00e9\": 0.0}, {\"brand\": \"volkswagen\", \"model\": \"gol\", \"version\": \"gol 1.0 trend  power 8v 4p\", \"gearbox\": \"manual\", \"cartype\": \"hatch\", \"regdate\": 2014, \"mileage\": 88000, \"motorpower\": \"1.0\", \"fuel\": \"flex\", \"car_steering\": \"hidr\\u00e1ulica\", \"carcolor\": \"prata\", \"doors\": \"4 portas\", \"financial\": \"ipva pago\", \"vidro el\\u00e9trico\": 1.0, \"air bag\": 0.0, \"trava el\\u00e9trica\": 1.0, \"ar condicionado\": 1.0, \"dire\\u00e7\\u00e3o hidr\\u00e1ulica\": 1.0, \"alarme\": 1.0, \"som\": 1.0, \"sensor de r\\u00e9\": 0.0}, {\"brand\": \"volkswagen\", \"model\": \"fox\", \"version\": \"fox comfortline 1.0 flex 8v 5p\", \"gearbox\": \"manual\", \"cartype\": \"passeio\", \"regdate\": 2015, \"mileage\": 47, \"motorpower\": \"1.0\", \"fuel\": \"flex\", \"car_steering\": \"hidr\\u00e1ulica\", \"carcolor\": \"vermelho\", \"doors\": \"4 portas\", \"financial\": \"ipva pago\", \"vidro el\\u00e9trico\": 1.0, \"air bag\": 1.0, \"trava el\\u00e9trica\": 1.0, \"ar condicionado\": 1.0, \"dire\\u00e7\\u00e3o hidr\\u00e1ulica\": 1.0, \"alarme\": 1.0, \"som\": 1.0, \"sensor de r\\u00e9\": 1.0}, {\"brand\": \"volkswagen\", \"model\": \"gol\", \"version\": \"gol trendline 1.0 t.flex 12v 5p\", \"gearbox\": \"manual\", \"cartype\": \"hatch\", \"regdate\": 2017, \"mileage\": 101, \"motorpower\": \"1.0\", \"fuel\": \"flex\", \"car_steering\": \"hidr\\u00e1ulica\", \"carcolor\": \"branco\", \"doors\": \"4 portas\", \"financial\": \"no_information\", \"vidro el\\u00e9trico\": 1.0, \"air bag\": 1.0, \"trava el\\u00e9trica\": 1.0, \"ar condicionado\": 1.0, \"dire\\u00e7\\u00e3o hidr\\u00e1ulica\": 1.0, \"alarme\": 1.0, \"som\": 0.0, \"sensor de r\\u00e9\": 0.0}, {\"brand\": \"volkswagen\", \"model\": \"fox\", \"version\": \"fox trendline 1.0 flex 8v 5p\", \"gearbox\": \"manual\", \"cartype\": \"passeio\", \"regdate\": 2014, \"mileage\": 68, \"motorpower\": \"1.0\", \"fuel\": \"flex\", \"car_steering\": \"hidr\\u00e1ulica\", \"carcolor\": \"no_information\", \"doors\": \"4 portas\", \"financial\": \"no_information\", \"vidro el\\u00e9trico\": 1.0, \"air bag\": 1.0, \"trava el\\u00e9trica\": 1.0, \"ar condicionado\": 1.0, \"dire\\u00e7\\u00e3o hidr\\u00e1ulica\": 1.0, \"alarme\": 1.0, \"som\": 1.0, \"sensor de r\\u00e9\": 1.0}, {\"brand\": \"volkswagen\", \"model\": \"gol\", \"version\": \"gol city  trend  titan 1.0 t. flex 8v 4p\", \"gearbox\": \"manual\", \"cartype\": \"hatch\", \"regdate\": 2015, \"mileage\": 55000, \"motorpower\": \"1.0\", \"fuel\": \"flex\", \"car_steering\": \"hidr\\u00e1ulica\", \"carcolor\": \"prata\", \"doors\": \"4 portas\", \"financial\": \"ipva pago\", \"vidro el\\u00e9trico\": 1.0, \"air bag\": 1.0, \"trava el\\u00e9trica\": 1.0, \"ar condicionado\": 1.0, \"dire\\u00e7\\u00e3o hidr\\u00e1ulica\": 1.0, \"alarme\": 1.0, \"som\": 1.0, \"sensor de r\\u00e9\": 0.0}, {\"brand\": \"volkswagen\", \"model\": \"no_information\", \"version\": \"no_information\", \"gearbox\": \"no_information\", \"cartype\": \"hatch\", \"regdate\": 2014, \"mileage\": 52000, \"motorpower\": \"1.0\", \"fuel\": \"flex\", \"car_steering\": \"no_information\", \"carcolor\": \"prata\", \"doors\": \"4 portas\", \"financial\": \"ipva pago\", \"vidro el\\u00e9trico\": 1.0, \"air bag\": 0.0, \"trava el\\u00e9trica\": 1.0, \"ar condicionado\": 1.0, \"dire\\u00e7\\u00e3o hidr\\u00e1ulica\": 1.0, \"alarme\": 0.0, \"som\": 0.0, \"sensor de r\\u00e9\": 0.0}, {\"brand\": \"volkswagen\", \"model\": \"gol\", \"version\": \"gol 1.0 trend  power 8v 4p\", \"gearbox\": \"manual\", \"cartype\": \"hatch\", \"regdate\": 2013, \"mileage\": 83000, \"motorpower\": \"1.0\", \"fuel\": \"flex\", \"car_steering\": \"hidr\\u00e1ulica\", \"carcolor\": \"cinza\", \"doors\": \"4 portas\", \"financial\": \"ipva pago\", \"vidro el\\u00e9trico\": 1.0, \"air bag\": 0.0, \"trava el\\u00e9trica\": 1.0, \"ar condicionado\": 1.0, \"dire\\u00e7\\u00e3o hidr\\u00e1ulica\": 1.0, \"alarme\": 0.0, \"som\": 1.0, \"sensor de r\\u00e9\": 0.0}, {\"brand\": \"volkswagen\", \"model\": \"voyage\", \"version\": \"voyage 1.6 1.6 city  mi total flex 8v 4p\", \"gearbox\": \"manual\", \"cartype\": \"sed\\u00e3\", \"regdate\": 2015, \"mileage\": 68000, \"motorpower\": \"1.6\", \"fuel\": \"flex\", \"car_steering\": \"hidr\\u00e1ulica\", \"carcolor\": \"cinza\", \"doors\": \"4 portas\", \"financial\": \"ipva pago\", \"vidro el\\u00e9trico\": 1.0, \"air bag\": 1.0, \"trava el\\u00e9trica\": 1.0, \"ar condicionado\": 1.0, \"dire\\u00e7\\u00e3o hidr\\u00e1ulica\": 1.0, \"alarme\": 0.0, \"som\": 0.0, \"sensor de r\\u00e9\": 0.0}, {\"brand\": \"volkswagen\", \"model\": \"fox\", \"version\": \"no_information\", \"gearbox\": \"manual\", \"cartype\": \"passeio\", \"regdate\": 2014, \"mileage\": 29234, \"motorpower\": \"1.6\", \"fuel\": \"flex\", \"car_steering\": \"hidr\\u00e1ulica\", \"carcolor\": \"vermelho\", \"doors\": \"4 portas\", \"financial\": \"no_information\", \"vidro el\\u00e9trico\": 1.0, \"air bag\": 1.0, \"trava el\\u00e9trica\": 1.0, \"ar condicionado\": 1.0, \"dire\\u00e7\\u00e3o hidr\\u00e1ulica\": 0.0, \"alarme\": 1.0, \"som\": 0.0, \"sensor de r\\u00e9\": 0.0}, {\"brand\": \"volkswagen\", \"model\": \"gol\", \"version\": \"gol i motion comfort. 1.6 t. flex 8v 5p\", \"gearbox\": \"semiautom\\u00e1tico\", \"cartype\": \"hatch\", \"regdate\": 2015, \"mileage\": 1111, \"motorpower\": \"1.6\", \"fuel\": \"flex\", \"car_steering\": \"hidr\\u00e1ulica\", \"carcolor\": \"preto\", \"doors\": \"4 portas\", \"financial\": \"ipva pago\", \"vidro el\\u00e9trico\": 1.0, \"air bag\": 1.0, \"trava el\\u00e9trica\": 1.0, \"ar condicionado\": 1.0, \"dire\\u00e7\\u00e3o hidr\\u00e1ulica\": 1.0, \"alarme\": 1.0, \"som\": 1.0, \"sensor de r\\u00e9\": 0.0}, {\"brand\": \"volkswagen\", \"model\": \"fox\", \"version\": \"fox 1.6 mi total flex 8v 5p\", \"gearbox\": \"manual\", \"cartype\": \"no_information\", \"regdate\": 2013, \"mileage\": 81000, \"motorpower\": \"1.6\", \"fuel\": \"flex\", \"car_steering\": \"hidr\\u00e1ulica\", \"carcolor\": \"preto\", \"doors\": \"4 portas\", \"financial\": \"no_information\", \"vidro el\\u00e9trico\": 1.0, \"air bag\": 1.0, \"trava el\\u00e9trica\": 1.0, \"ar condicionado\": 1.0, \"dire\\u00e7\\u00e3o hidr\\u00e1ulica\": 0.0, \"alarme\": 0.0, \"som\": 0.0, \"sensor de r\\u00e9\": 0.0}, {\"brand\": \"volkswagen\", \"model\": \"gol\", \"version\": \"gol  novo  1.0 mi total flex 8v 4p\", \"gearbox\": \"manual\", \"cartype\": \"hatch\", \"regdate\": 2015, \"mileage\": 48660, \"motorpower\": \"1.0\", \"fuel\": \"flex\", \"car_steering\": \"hidr\\u00e1ulica\", \"carcolor\": \"branco\", \"doors\": \"4 portas\", \"financial\": \"no_information\", \"vidro el\\u00e9trico\": 1.0, \"air bag\": 0.0, \"trava el\\u00e9trica\": 1.0, \"ar condicionado\": 1.0, \"dire\\u00e7\\u00e3o hidr\\u00e1ulica\": 1.0, \"alarme\": 1.0, \"som\": 0.0, \"sensor de r\\u00e9\": 0.0}, {\"brand\": \"volkswagen\", \"model\": \"gol\", \"version\": \"no_information\", \"gearbox\": \"manual\", \"cartype\": \"passeio\", \"regdate\": 2013, \"mileage\": 88000, \"motorpower\": \"1.0\", \"fuel\": \"flex\", \"car_steering\": \"hidr\\u00e1ulica\", \"carcolor\": \"branco\", \"doors\": \"4 portas\", \"financial\": \"no_information\", \"vidro el\\u00e9trico\": 1.0, \"air bag\": 0.0, \"trava el\\u00e9trica\": 0.0, \"ar condicionado\": 1.0, \"dire\\u00e7\\u00e3o hidr\\u00e1ulica\": 0.0, \"alarme\": 1.0, \"som\": 0.0, \"sensor de r\\u00e9\": 0.0}, {\"brand\": \"volkswagen\", \"model\": \"gol\", \"version\": \"gol trendline 1.0 t.flex 8v 5p\", \"gearbox\": \"manual\", \"cartype\": \"hatch\", \"regdate\": 2016, \"mileage\": 45882, \"motorpower\": \"1.0\", \"fuel\": \"flex\", \"car_steering\": \"hidr\\u00e1ulica\", \"carcolor\": \"prata\", \"doors\": \"4 portas\", \"financial\": \"ipva pago\", \"vidro el\\u00e9trico\": 1.0, \"air bag\": 1.0, \"trava el\\u00e9trica\": 1.0, \"ar condicionado\": 1.0, \"dire\\u00e7\\u00e3o hidr\\u00e1ulica\": 0.0, \"alarme\": 1.0, \"som\": 1.0, \"sensor de r\\u00e9\": 0.0}, {\"brand\": \"volkswagen\", \"model\": \"voyage\", \"version\": \"voyage  trendline 1.0 t.flex 8v 4p\", \"gearbox\": \"manual\", \"cartype\": \"sed\\u00e3\", \"regdate\": 2013, \"mileage\": 103000, \"motorpower\": \"1.0\", \"fuel\": \"flex\", \"car_steering\": \"hidr\\u00e1ulica\", \"carcolor\": \"preto\", \"doors\": \"4 portas\", \"financial\": \"no_information\", \"vidro el\\u00e9trico\": 1.0, \"air bag\": 0.0, \"trava el\\u00e9trica\": 1.0, \"ar condicionado\": 1.0, \"dire\\u00e7\\u00e3o hidr\\u00e1ulica\": 1.0, \"alarme\": 1.0, \"som\": 0.0, \"sensor de r\\u00e9\": 0.0}, {\"brand\": \"volkswagen\", \"model\": \"voyage\", \"version\": \"voyage i motion trend 1.6 mi t. flex 8v\", \"gearbox\": \"manual\", \"cartype\": \"sed\\u00e3\", \"regdate\": 2013, \"mileage\": 192, \"motorpower\": \"1.6\", \"fuel\": \"flex\", \"car_steering\": \"hidr\\u00e1ulica\", \"carcolor\": \"branco\", \"doors\": \"4 portas\", \"financial\": \"com multas\", \"vidro el\\u00e9trico\": 1.0, \"air bag\": 1.0, \"trava el\\u00e9trica\": 1.0, \"ar condicionado\": 1.0, \"dire\\u00e7\\u00e3o hidr\\u00e1ulica\": 1.0, \"alarme\": 1.0, \"som\": 1.0, \"sensor de r\\u00e9\": 0.0}, {\"brand\": \"volkswagen\", \"model\": \"voyage\", \"version\": \"voyage 1.0 1.0 city mi total flex 8v 4p\", \"gearbox\": \"manual\", \"cartype\": \"sed\\u00e3\", \"regdate\": 2013, \"mileage\": 90000, \"motorpower\": \"1.0\", \"fuel\": \"flex\", \"car_steering\": \"hidr\\u00e1ulica\", \"carcolor\": \"prata\", \"doors\": \"4 portas\", \"financial\": \"ipva pago\", \"vidro el\\u00e9trico\": 1.0, \"air bag\": 0.0, \"trava el\\u00e9trica\": 1.0, \"ar condicionado\": 1.0, \"dire\\u00e7\\u00e3o hidr\\u00e1ulica\": 1.0, \"alarme\": 1.0, \"som\": 1.0, \"sensor de r\\u00e9\": 1.0}, {\"brand\": \"volkswagen\", \"model\": \"voyage\", \"version\": \"voyage 1.0 1.0 city mi total flex 8v 4p\", \"gearbox\": \"manual\", \"cartype\": \"sed\\u00e3\", \"regdate\": 2013, \"mileage\": 98000, \"motorpower\": \"1.0\", \"fuel\": \"flex\", \"car_steering\": \"hidr\\u00e1ulica\", \"carcolor\": \"prata\", \"doors\": \"4 portas\", \"financial\": \"no_information\", \"vidro el\\u00e9trico\": 0.0, \"air bag\": 0.0, \"trava el\\u00e9trica\": 0.0, \"ar condicionado\": 0.0, \"dire\\u00e7\\u00e3o hidr\\u00e1ulica\": 0.0, \"alarme\": 0.0, \"som\": 0.0, \"sensor de r\\u00e9\": 0.0}, {\"brand\": \"volkswagen\", \"model\": \"voyage\", \"version\": \"voyage trendline 1.0 t.flex 12v 4p\", \"gearbox\": \"manual\", \"cartype\": \"hatch\", \"regdate\": 2013, \"mileage\": 74154, \"motorpower\": \"no_information\", \"fuel\": \"flex\", \"car_steering\": \"no_information\", \"carcolor\": \"no_information\", \"doors\": \"2 portas\", \"financial\": \"no_information\", \"vidro el\\u00e9trico\": 0.0, \"air bag\": 0.0, \"trava el\\u00e9trica\": 0.0, \"ar condicionado\": 0.0, \"dire\\u00e7\\u00e3o hidr\\u00e1ulica\": 0.0, \"alarme\": 0.0, \"som\": 0.0, \"sensor de r\\u00e9\": 0.0}, {\"brand\": \"volkswagen\", \"model\": \"gol\", \"version\": \"no_information\", \"gearbox\": \"manual\", \"cartype\": \"passeio\", \"regdate\": 2014, \"mileage\": 68000, \"motorpower\": \"1.0\", \"fuel\": \"flex\", \"car_steering\": \"mecnica\", \"carcolor\": \"prata\", \"doors\": \"4 portas\", \"financial\": \"no_information\", \"vidro el\\u00e9trico\": 1.0, \"air bag\": 0.0, \"trava el\\u00e9trica\": 1.0, \"ar condicionado\": 1.0, \"dire\\u00e7\\u00e3o hidr\\u00e1ulica\": 0.0, \"alarme\": 0.0, \"som\": 0.0, \"sensor de r\\u00e9\": 0.0}, {\"brand\": \"volkswagen\", \"model\": \"gol\", \"version\": \"gol  novo  1.0 mi total flex 8v 2p\", \"gearbox\": \"manual\", \"cartype\": \"hatch\", \"regdate\": 2014, \"mileage\": 96000, \"motorpower\": \"1.0\", \"fuel\": \"flex\", \"car_steering\": \"mecnica\", \"carcolor\": \"branco\", \"doors\": \"2 portas\", \"financial\": \"no_information\", \"vidro el\\u00e9trico\": 1.0, \"air bag\": 1.0, \"trava el\\u00e9trica\": 1.0, \"ar condicionado\": 1.0, \"dire\\u00e7\\u00e3o hidr\\u00e1ulica\": 0.0, \"alarme\": 1.0, \"som\": 1.0, \"sensor de r\\u00e9\": 0.0}, {\"brand\": \"volkswagen\", \"model\": \"fox\", \"version\": \"fox rock in rio 1.6 mi total flex 8v 5p\", \"gearbox\": \"manual\", \"cartype\": \"hatch\", \"regdate\": 2014, \"mileage\": 20000, \"motorpower\": \"1.6\", \"fuel\": \"flex\", \"car_steering\": \"hidr\\u00e1ulica\", \"carcolor\": \"azul\", \"doors\": \"4 portas\", \"financial\": \"ipva pago\", \"vidro el\\u00e9trico\": 1.0, \"air bag\": 1.0, \"trava el\\u00e9trica\": 1.0, \"ar condicionado\": 1.0, \"dire\\u00e7\\u00e3o hidr\\u00e1ulica\": 1.0, \"alarme\": 1.0, \"som\": 0.0, \"sensor de r\\u00e9\": 1.0}, {\"brand\": \"volkswagen\", \"model\": \"gol\", \"version\": \"no_information\", \"gearbox\": \"manual\", \"cartype\": \"passeio\", \"regdate\": 2014, \"mileage\": 88000, \"motorpower\": \"1.0\", \"fuel\": \"flex\", \"car_steering\": \"hidr\\u00e1ulica\", \"carcolor\": \"prata\", \"doors\": \"4 portas\", \"financial\": \"no_information\", \"vidro el\\u00e9trico\": 1.0, \"air bag\": 1.0, \"trava el\\u00e9trica\": 1.0, \"ar condicionado\": 1.0, \"dire\\u00e7\\u00e3o hidr\\u00e1ulica\": 0.0, \"alarme\": 0.0, \"som\": 0.0, \"sensor de r\\u00e9\": 0.0}, {\"brand\": \"volkswagen\", \"model\": \"gol\", \"version\": \"no_information\", \"gearbox\": \"manual\", \"cartype\": \"passeio\", \"regdate\": 2013, \"mileage\": 60719, \"motorpower\": \"1.6\", \"fuel\": \"flex\", \"car_steering\": \"hidr\\u00e1ulica\", \"carcolor\": \"branco\", \"doors\": \"4 portas\", \"financial\": \"no_information\", \"vidro el\\u00e9trico\": 1.0, \"air bag\": 1.0, \"trava el\\u00e9trica\": 1.0, \"ar condicionado\": 1.0, \"dire\\u00e7\\u00e3o hidr\\u00e1ulica\": 0.0, \"alarme\": 1.0, \"som\": 0.0, \"sensor de r\\u00e9\": 0.0}, {\"brand\": \"volkswagen\", \"model\": \"fox\", \"version\": \"fox trendline 1.0 flex 12v 5p\", \"gearbox\": \"manual\", \"cartype\": \"passeio\", \"regdate\": 2016, \"mileage\": 60000, \"motorpower\": \"1.0\", \"fuel\": \"flex\", \"car_steering\": \"hidr\\u00e1ulica\", \"carcolor\": \"branco\", \"doors\": \"4 portas\", \"financial\": \"ipva pago\", \"vidro el\\u00e9trico\": 1.0, \"air bag\": 1.0, \"trava el\\u00e9trica\": 1.0, \"ar condicionado\": 1.0, \"dire\\u00e7\\u00e3o hidr\\u00e1ulica\": 1.0, \"alarme\": 1.0, \"som\": 1.0, \"sensor de r\\u00e9\": 1.0}, {\"brand\": \"volkswagen\", \"model\": \"up\", \"version\": \"no_information\", \"gearbox\": \"manual\", \"cartype\": \"passeio\", \"regdate\": 2015, \"mileage\": 84612, \"motorpower\": \"1.0\", \"fuel\": \"flex\", \"car_steering\": \"hidr\\u00e1ulica\", \"carcolor\": \"branco\", \"doors\": \"4 portas\", \"financial\": \"no_information\", \"vidro el\\u00e9trico\": 1.0, \"air bag\": 1.0, \"trava el\\u00e9trica\": 1.0, \"ar condicionado\": 1.0, \"dire\\u00e7\\u00e3o hidr\\u00e1ulica\": 0.0, \"alarme\": 1.0, \"som\": 0.0, \"sensor de r\\u00e9\": 0.0}, {\"brand\": \"volkswagen\", \"model\": \"up\", \"version\": \"up  move 1.0 total flex 12v 5p\", \"gearbox\": \"manual\", \"cartype\": \"hatch\", \"regdate\": 2014, \"mileage\": 90000, \"motorpower\": \"1.0\", \"fuel\": \"flex\", \"car_steering\": \"el\\u00e9trica\", \"carcolor\": \"preto\", \"doors\": \"4 portas\", \"financial\": \"ipva pago\", \"vidro el\\u00e9trico\": 1.0, \"air bag\": 1.0, \"trava el\\u00e9trica\": 1.0, \"ar condicionado\": 1.0, \"dire\\u00e7\\u00e3o hidr\\u00e1ulica\": 1.0, \"alarme\": 1.0, \"som\": 1.0, \"sensor de r\\u00e9\": 0.0}, {\"brand\": \"volkswagen\", \"model\": \"fox\", \"version\": \"fox 1.0 mi total flex 8v 3p\", \"gearbox\": \"manual\", \"cartype\": \"hatch\", \"regdate\": 2013, \"mileage\": 61390, \"motorpower\": \"1.0\", \"fuel\": \"flex\", \"car_steering\": \"hidr\\u00e1ulica\", \"carcolor\": \"preto\", \"doors\": \"4 portas\", \"financial\": \"ipva pago\", \"vidro el\\u00e9trico\": 1.0, \"air bag\": 0.0, \"trava el\\u00e9trica\": 1.0, \"ar condicionado\": 1.0, \"dire\\u00e7\\u00e3o hidr\\u00e1ulica\": 1.0, \"alarme\": 1.0, \"som\": 1.0, \"sensor de r\\u00e9\": 1.0}, {\"brand\": \"volkswagen\", \"model\": \"voyage\", \"version\": \"voyage 1.0 1.0 city mi total flex 8v 4p\", \"gearbox\": \"manual\", \"cartype\": \"sed\\u00e3\", \"regdate\": 2013, \"mileage\": 68000, \"motorpower\": \"1.0\", \"fuel\": \"flex\", \"car_steering\": \"hidr\\u00e1ulica\", \"carcolor\": \"preto\", \"doors\": \"4 portas\", \"financial\": \"ipva pago\", \"vidro el\\u00e9trico\": 1.0, \"air bag\": 0.0, \"trava el\\u00e9trica\": 1.0, \"ar condicionado\": 1.0, \"dire\\u00e7\\u00e3o hidr\\u00e1ulica\": 1.0, \"alarme\": 1.0, \"som\": 1.0, \"sensor de r\\u00e9\": 1.0}, {\"brand\": \"volkswagen\", \"model\": \"fox\", \"version\": \"fox 1.0 mi total flex 8v 5p\", \"gearbox\": \"manual\", \"cartype\": \"hatch\", \"regdate\": 2013, \"mileage\": 76000, \"motorpower\": \"1.0\", \"fuel\": \"flex\", \"car_steering\": \"hidr\\u00e1ulica\", \"carcolor\": \"verde\", \"doors\": \"4 portas\", \"financial\": \"ipva pago\", \"vidro el\\u00e9trico\": 1.0, \"air bag\": 0.0, \"trava el\\u00e9trica\": 1.0, \"ar condicionado\": 1.0, \"dire\\u00e7\\u00e3o hidr\\u00e1ulica\": 1.0, \"alarme\": 1.0, \"som\": 1.0, \"sensor de r\\u00e9\": 0.0}, {\"brand\": \"volkswagen\", \"model\": \"gol\", \"version\": \"gol special  special xtreme 1.0 mi 2p\", \"gearbox\": \"manual\", \"cartype\": \"hatch\", \"regdate\": 2015, \"mileage\": 83000, \"motorpower\": \"1.0\", \"fuel\": \"flex\", \"car_steering\": \"hidr\\u00e1ulica\", \"carcolor\": \"prata\", \"doors\": \"2 portas\", \"financial\": \"ipva pago\", \"vidro el\\u00e9trico\": 0.0, \"air bag\": 1.0, \"trava el\\u00e9trica\": 0.0, \"ar condicionado\": 1.0, \"dire\\u00e7\\u00e3o hidr\\u00e1ulica\": 1.0, \"alarme\": 0.0, \"som\": 1.0, \"sensor de r\\u00e9\": 0.0}, {\"brand\": \"volkswagen\", \"model\": \"fox\", \"version\": \"no_information\", \"gearbox\": \"manual\", \"cartype\": \"passeio\", \"regdate\": 2014, \"mileage\": 82000, \"motorpower\": \"no_information\", \"fuel\": \"flex\", \"car_steering\": \"hidr\\u00e1ulica\", \"carcolor\": \"preto\", \"doors\": \"no_information\", \"financial\": \"ipva pago\", \"vidro el\\u00e9trico\": 1.0, \"air bag\": 0.0, \"trava el\\u00e9trica\": 1.0, \"ar condicionado\": 1.0, \"dire\\u00e7\\u00e3o hidr\\u00e1ulica\": 1.0, \"alarme\": 1.0, \"som\": 1.0, \"sensor de r\\u00e9\": 0.0}, {\"brand\": \"volkswagen\", \"model\": \"crossfox\", \"version\": \"crossfox 1.6 mi total flex 8v 5p\", \"gearbox\": \"manual\", \"cartype\": \"hatch\", \"regdate\": 2013, \"mileage\": 77000, \"motorpower\": \"1.6\", \"fuel\": \"flex\", \"car_steering\": \"hidr\\u00e1ulica\", \"carcolor\": \"amarelo\", \"doors\": \"4 portas\", \"financial\": \"ipva pago\", \"vidro el\\u00e9trico\": 1.0, \"air bag\": 1.0, \"trava el\\u00e9trica\": 1.0, \"ar condicionado\": 1.0, \"dire\\u00e7\\u00e3o hidr\\u00e1ulica\": 1.0, \"alarme\": 1.0, \"som\": 1.0, \"sensor de r\\u00e9\": 1.0}, {\"brand\": \"volkswagen\", \"model\": \"gol\", \"version\": \"no_information\", \"gearbox\": \"manual\", \"cartype\": \"passeio\", \"regdate\": 2016, \"mileage\": 70000, \"motorpower\": \"1.6\", \"fuel\": \"flex\", \"car_steering\": \"hidr\\u00e1ulica\", \"carcolor\": \"branco\", \"doors\": \"4 portas\", \"financial\": \"ipva pago\", \"vidro el\\u00e9trico\": 1.0, \"air bag\": 1.0, \"trava el\\u00e9trica\": 1.0, \"ar condicionado\": 1.0, \"dire\\u00e7\\u00e3o hidr\\u00e1ulica\": 1.0, \"alarme\": 1.0, \"som\": 1.0, \"sensor de r\\u00e9\": 0.0}, {\"brand\": \"volkswagen\", \"model\": \"voyage\", \"version\": \"voyage 1.6 msi flex 8v 4p\", \"gearbox\": \"manual\", \"cartype\": \"sed\\u00e3\", \"regdate\": 2015, \"mileage\": 68000, \"motorpower\": \"1.6\", \"fuel\": \"flex\", \"car_steering\": \"hidr\\u00e1ulica\", \"carcolor\": \"cinza\", \"doors\": \"4 portas\", \"financial\": \"ipva pago\", \"vidro el\\u00e9trico\": 1.0, \"air bag\": 0.0, \"trava el\\u00e9trica\": 1.0, \"ar condicionado\": 1.0, \"dire\\u00e7\\u00e3o hidr\\u00e1ulica\": 1.0, \"alarme\": 1.0, \"som\": 1.0, \"sensor de r\\u00e9\": 0.0}, {\"brand\": \"volkswagen\", \"model\": \"gol\", \"version\": \"gol trendline 1.0 t.flex 8v 5p\", \"gearbox\": \"manual\", \"cartype\": \"hatch\", \"regdate\": 2015, \"mileage\": 86000, \"motorpower\": \"1.0\", \"fuel\": \"flex\", \"car_steering\": \"hidr\\u00e1ulica\", \"carcolor\": \"preto\", \"doors\": \"4 portas\", \"financial\": \"ipva pago\", \"vidro el\\u00e9trico\": 1.0, \"air bag\": 1.0, \"trava el\\u00e9trica\": 1.0, \"ar condicionado\": 1.0, \"dire\\u00e7\\u00e3o hidr\\u00e1ulica\": 1.0, \"alarme\": 1.0, \"som\": 1.0, \"sensor de r\\u00e9\": 1.0}, {\"brand\": \"volkswagen\", \"model\": \"fox\", \"version\": \"no_information\", \"gearbox\": \"manual\", \"cartype\": \"passeio\", \"regdate\": 2015, \"mileage\": 79575, \"motorpower\": \"1.0\", \"fuel\": \"flex\", \"car_steering\": \"hidr\\u00e1ulica\", \"carcolor\": \"prata\", \"doors\": \"4 portas\", \"financial\": \"no_information\", \"vidro el\\u00e9trico\": 1.0, \"air bag\": 1.0, \"trava el\\u00e9trica\": 1.0, \"ar condicionado\": 1.0, \"dire\\u00e7\\u00e3o hidr\\u00e1ulica\": 0.0, \"alarme\": 0.0, \"som\": 0.0, \"sensor de r\\u00e9\": 0.0}]}}, {\"mode\": \"vega-lite\"});\n",
       "</script>"
      ],
      "text/plain": [
       "alt.Chart(...)"
      ]
     },
     "execution_count": 38,
     "metadata": {},
     "output_type": "execute_result"
    }
   ],
   "source": [
    "financial_regdate(df)"
   ]
  },
  {
   "cell_type": "code",
   "execution_count": 36,
   "metadata": {},
   "outputs": [],
   "source": [
    "def model_power_count(df):\n",
    "    chart = alt.Chart(df).mark_bar().encode(\n",
    "    x = 'count()',\n",
    "    y = alt.Y('model', sort = alt.Sort(encoding = 'x', order= 'descending')),\n",
    "    tooltip = ['motorpower','count()'],\n",
    "    color = 'motorpower:O'\n",
    "    ).interactive()\n",
    "    return chart"
   ]
  },
  {
   "cell_type": "code",
   "execution_count": 39,
   "metadata": {},
   "outputs": [
    {
     "data": {
      "text/html": [
       "\n",
       "<div id=\"altair-viz-e9cde840d65d48e2a2cedde9ebaa2fe3\"></div>\n",
       "<script type=\"text/javascript\">\n",
       "  (function(spec, embedOpt){\n",
       "    let outputDiv = document.currentScript.previousElementSibling;\n",
       "    if (outputDiv.id !== \"altair-viz-e9cde840d65d48e2a2cedde9ebaa2fe3\") {\n",
       "      outputDiv = document.getElementById(\"altair-viz-e9cde840d65d48e2a2cedde9ebaa2fe3\");\n",
       "    }\n",
       "    const paths = {\n",
       "      \"vega\": \"https://cdn.jsdelivr.net/npm//vega@5?noext\",\n",
       "      \"vega-lib\": \"https://cdn.jsdelivr.net/npm//vega-lib?noext\",\n",
       "      \"vega-lite\": \"https://cdn.jsdelivr.net/npm//vega-lite@4.8.1?noext\",\n",
       "      \"vega-embed\": \"https://cdn.jsdelivr.net/npm//vega-embed@6?noext\",\n",
       "    };\n",
       "\n",
       "    function loadScript(lib) {\n",
       "      return new Promise(function(resolve, reject) {\n",
       "        var s = document.createElement('script');\n",
       "        s.src = paths[lib];\n",
       "        s.async = true;\n",
       "        s.onload = () => resolve(paths[lib]);\n",
       "        s.onerror = () => reject(`Error loading script: ${paths[lib]}`);\n",
       "        document.getElementsByTagName(\"head\")[0].appendChild(s);\n",
       "      });\n",
       "    }\n",
       "\n",
       "    function showError(err) {\n",
       "      outputDiv.innerHTML = `<div class=\"error\" style=\"color:red;\">${err}</div>`;\n",
       "      throw err;\n",
       "    }\n",
       "\n",
       "    function displayChart(vegaEmbed) {\n",
       "      vegaEmbed(outputDiv, spec, embedOpt)\n",
       "        .catch(err => showError(`Javascript Error: ${err.message}<br>This usually means there's a typo in your chart specification. See the javascript console for the full traceback.`));\n",
       "    }\n",
       "\n",
       "    if(typeof define === \"function\" && define.amd) {\n",
       "      requirejs.config({paths});\n",
       "      require([\"vega-embed\"], displayChart, err => showError(`Error loading script: ${err.message}`));\n",
       "    } else if (typeof vegaEmbed === \"function\") {\n",
       "      displayChart(vegaEmbed);\n",
       "    } else {\n",
       "      loadScript(\"vega\")\n",
       "        .then(() => loadScript(\"vega-lite\"))\n",
       "        .then(() => loadScript(\"vega-embed\"))\n",
       "        .catch(showError)\n",
       "        .then(() => displayChart(vegaEmbed));\n",
       "    }\n",
       "  })({\"config\": {\"view\": {\"continuousWidth\": 400, \"continuousHeight\": 300}}, \"data\": {\"name\": \"data-31d66b30673757fd7707bbc3981cf8e4\"}, \"mark\": \"bar\", \"encoding\": {\"color\": {\"type\": \"ordinal\", \"field\": \"motorpower\"}, \"tooltip\": [{\"type\": \"nominal\", \"field\": \"motorpower\"}, {\"type\": \"quantitative\", \"aggregate\": \"count\"}], \"x\": {\"type\": \"quantitative\", \"aggregate\": \"count\"}, \"y\": {\"type\": \"nominal\", \"field\": \"model\", \"sort\": {\"encoding\": \"x\", \"order\": \"descending\"}}}, \"selection\": {\"selector003\": {\"type\": \"interval\", \"bind\": \"scales\", \"encodings\": [\"x\", \"y\"]}}, \"$schema\": \"https://vega.github.io/schema/vega-lite/v4.8.1.json\", \"datasets\": {\"data-31d66b30673757fd7707bbc3981cf8e4\": [{\"brand\": \"ford\", \"model\": \"fiesta\", \"version\": \"fiesta sedan se 1.6 8v flex 4p\", \"gearbox\": \"manual\", \"cartype\": \"passeio\", \"regdate\": 2013, \"mileage\": 100, \"motorpower\": \"1.6\", \"fuel\": \"flex\", \"car_steering\": \"hidr\\u00e1ulica\", \"carcolor\": \"branco\", \"doors\": \"4 portas\", \"financial\": \"no_information\", \"vidro el\\u00e9trico\": 1.0, \"air bag\": 0.0, \"trava el\\u00e9trica\": 1.0, \"ar condicionado\": 1.0, \"dire\\u00e7\\u00e3o hidr\\u00e1ulica\": 1.0, \"alarme\": 1.0, \"som\": 0.0, \"sensor de r\\u00e9\": 0.0}, {\"brand\": \"ford\", \"model\": \"ka\", \"version\": \"ka 1.0 se se plus tivct flex 5p\", \"gearbox\": \"manual\", \"cartype\": \"passeio\", \"regdate\": 2015, \"mileage\": 58000, \"motorpower\": \"1.0\", \"fuel\": \"flex\", \"car_steering\": \"el\\u00e9trica\", \"carcolor\": \"prata\", \"doors\": \"4 portas\", \"financial\": \"ipva pago\", \"vidro el\\u00e9trico\": 1.0, \"air bag\": 1.0, \"trava el\\u00e9trica\": 1.0, \"ar condicionado\": 1.0, \"dire\\u00e7\\u00e3o hidr\\u00e1ulica\": 0.0, \"alarme\": 1.0, \"som\": 1.0, \"sensor de r\\u00e9\": 0.0}, {\"brand\": \"ford\", \"model\": \"fiesta\", \"version\": \"fiesta 1.6 8v flex class 1.6 8v flex 5p\", \"gearbox\": \"manual\", \"cartype\": \"hatch\", \"regdate\": 2013, \"mileage\": 70000, \"motorpower\": \"1.6\", \"fuel\": \"flex\", \"car_steering\": \"hidr\\u00e1ulica\", \"carcolor\": \"prata\", \"doors\": \"4 portas\", \"financial\": \"ipva pago\", \"vidro el\\u00e9trico\": 1.0, \"air bag\": 1.0, \"trava el\\u00e9trica\": 1.0, \"ar condicionado\": 1.0, \"dire\\u00e7\\u00e3o hidr\\u00e1ulica\": 1.0, \"alarme\": 1.0, \"som\": 1.0, \"sensor de r\\u00e9\": 0.0}, {\"brand\": \"ford\", \"model\": \"fiesta\", \"version\": \"fiesta sed. 1.6 8v flex 4p\", \"gearbox\": \"no_information\", \"cartype\": \"sed\\u00e3\", \"regdate\": 2013, \"mileage\": 60719, \"motorpower\": \"1.6\", \"fuel\": \"flex\", \"car_steering\": \"hidr\\u00e1ulica\", \"carcolor\": \"prata\", \"doors\": \"4 portas\", \"financial\": \"ipva pago\", \"vidro el\\u00e9trico\": 1.0, \"air bag\": 0.0, \"trava el\\u00e9trica\": 1.0, \"ar condicionado\": 1.0, \"dire\\u00e7\\u00e3o hidr\\u00e1ulica\": 1.0, \"alarme\": 1.0, \"som\": 0.0, \"sensor de r\\u00e9\": 0.0}, {\"brand\": \"ford\", \"model\": \"ka\", \"version\": \"ka 1.0i 3p\", \"gearbox\": \"manual\", \"cartype\": \"no_information\", \"regdate\": 2015, \"mileage\": 57000, \"motorpower\": \"1.0\", \"fuel\": \"flex\", \"car_steering\": \"el\\u00e9trica\", \"carcolor\": \"preto\", \"doors\": \"4 portas\", \"financial\": \"ipva pago\", \"vidro el\\u00e9trico\": 1.0, \"air bag\": 1.0, \"trava el\\u00e9trica\": 1.0, \"ar condicionado\": 1.0, \"dire\\u00e7\\u00e3o hidr\\u00e1ulica\": 1.0, \"alarme\": 1.0, \"som\": 1.0, \"sensor de r\\u00e9\": 0.0}, {\"brand\": \"ford\", \"model\": \"ka\", \"version\": \"ka 1.0 tecno 8v flex 3p\", \"gearbox\": \"manual\", \"cartype\": \"hatch\", \"regdate\": 2015, \"mileage\": 85000, \"motorpower\": \"1.0\", \"fuel\": \"flex\", \"car_steering\": \"el\\u00e9trica\", \"carcolor\": \"branco\", \"doors\": \"4 portas\", \"financial\": \"no_information\", \"vidro el\\u00e9trico\": 1.0, \"air bag\": 1.0, \"trava el\\u00e9trica\": 1.0, \"ar condicionado\": 1.0, \"dire\\u00e7\\u00e3o hidr\\u00e1ulica\": 1.0, \"alarme\": 1.0, \"som\": 1.0, \"sensor de r\\u00e9\": 1.0}, {\"brand\": \"ford\", \"model\": \"fiesta\", \"version\": \"fiesta 1.0 8v flex class 1.0 8v flex 5p\", \"gearbox\": \"manual\", \"cartype\": \"hatch\", \"regdate\": 2013, \"mileage\": 70000, \"motorpower\": \"1.0\", \"fuel\": \"flex\", \"car_steering\": \"hidr\\u00e1ulica\", \"carcolor\": \"prata\", \"doors\": \"4 portas\", \"financial\": \"ipva pago\", \"vidro el\\u00e9trico\": 1.0, \"air bag\": 0.0, \"trava el\\u00e9trica\": 1.0, \"ar condicionado\": 1.0, \"dire\\u00e7\\u00e3o hidr\\u00e1ulica\": 1.0, \"alarme\": 1.0, \"som\": 1.0, \"sensor de r\\u00e9\": 0.0}, {\"brand\": \"ford\", \"model\": \"focus\", \"version\": \"focus 1.6 s se se plus flex 8v 16v  5p\", \"gearbox\": \"manual\", \"cartype\": \"no_information\", \"regdate\": 2013, \"mileage\": 62000, \"motorpower\": \"1.6\", \"fuel\": \"flex\", \"car_steering\": \"hidr\\u00e1ulica\", \"carcolor\": \"verde\", \"doors\": \"no_information\", \"financial\": \"no_information\", \"vidro el\\u00e9trico\": 1.0, \"air bag\": 1.0, \"trava el\\u00e9trica\": 1.0, \"ar condicionado\": 1.0, \"dire\\u00e7\\u00e3o hidr\\u00e1ulica\": 1.0, \"alarme\": 1.0, \"som\": 1.0, \"sensor de r\\u00e9\": 0.0}, {\"brand\": \"ford\", \"model\": \"fiesta\", \"version\": \"fiesta sed. 1.6 8v flex 4p\", \"gearbox\": \"manual\", \"cartype\": \"sed\\u00e3\", \"regdate\": 2014, \"mileage\": 78000, \"motorpower\": \"1.6\", \"fuel\": \"flex\", \"car_steering\": \"hidr\\u00e1ulica\", \"carcolor\": \"prata\", \"doors\": \"4 portas\", \"financial\": \"ipva pago\", \"vidro el\\u00e9trico\": 1.0, \"air bag\": 0.0, \"trava el\\u00e9trica\": 1.0, \"ar condicionado\": 1.0, \"dire\\u00e7\\u00e3o hidr\\u00e1ulica\": 1.0, \"alarme\": 1.0, \"som\": 1.0, \"sensor de r\\u00e9\": 1.0}, {\"brand\": \"ford\", \"model\": \"focus\", \"version\": \"focus 2.0 16v  2.0 16v flex 5p\", \"gearbox\": \"autom\\u00e1tico\", \"cartype\": \"hatch\", \"regdate\": 2013, \"mileage\": 85000, \"motorpower\": \"2.0-2.9\", \"fuel\": \"flex\", \"car_steering\": \"hidr\\u00e1ulica\", \"carcolor\": \"branco\", \"doors\": \"4 portas\", \"financial\": \"no_information\", \"vidro el\\u00e9trico\": 1.0, \"air bag\": 1.0, \"trava el\\u00e9trica\": 1.0, \"ar condicionado\": 1.0, \"dire\\u00e7\\u00e3o hidr\\u00e1ulica\": 1.0, \"alarme\": 1.0, \"som\": 1.0, \"sensor de r\\u00e9\": 1.0}, {\"brand\": \"ford\", \"model\": \"fiesta\", \"version\": \"no_information\", \"gearbox\": \"manual\", \"cartype\": \"passeio\", \"regdate\": 2014, \"mileage\": 66090, \"motorpower\": \"1.0\", \"fuel\": \"flex\", \"car_steering\": \"hidr\\u00e1ulica\", \"carcolor\": \"vermelho\", \"doors\": \"4 portas\", \"financial\": \"no_information\", \"vidro el\\u00e9trico\": 1.0, \"air bag\": 1.0, \"trava el\\u00e9trica\": 1.0, \"ar condicionado\": 1.0, \"dire\\u00e7\\u00e3o hidr\\u00e1ulica\": 0.0, \"alarme\": 1.0, \"som\": 0.0, \"sensor de r\\u00e9\": 0.0}, {\"brand\": \"ford\", \"model\": \"ka\", \"version\": \"ka 1.5 16v flex 5p\", \"gearbox\": \"manual\", \"cartype\": \"sed\\u00e3\", \"regdate\": 2016, \"mileage\": 50415, \"motorpower\": \"1.5\", \"fuel\": \"flex\", \"car_steering\": \"el\\u00e9trica\", \"carcolor\": \"branco\", \"doors\": \"4 portas\", \"financial\": \"no_information\", \"vidro el\\u00e9trico\": 1.0, \"air bag\": 1.0, \"trava el\\u00e9trica\": 1.0, \"ar condicionado\": 1.0, \"dire\\u00e7\\u00e3o hidr\\u00e1ulica\": 1.0, \"alarme\": 1.0, \"som\": 1.0, \"sensor de r\\u00e9\": 1.0}, {\"brand\": \"ford\", \"model\": \"fiesta\", \"version\": \"fiesta 1.5 16v flex mec. 5p\", \"gearbox\": \"manual\", \"cartype\": \"hatch\", \"regdate\": 2014, \"mileage\": 70000, \"motorpower\": \"1.5\", \"fuel\": \"flex\", \"car_steering\": \"el\\u00e9trica\", \"carcolor\": \"no_information\", \"doors\": \"4 portas\", \"financial\": \"ipva pago\", \"vidro el\\u00e9trico\": 1.0, \"air bag\": 1.0, \"trava el\\u00e9trica\": 1.0, \"ar condicionado\": 1.0, \"dire\\u00e7\\u00e3o hidr\\u00e1ulica\": 0.0, \"alarme\": 1.0, \"som\": 1.0, \"sensor de r\\u00e9\": 0.0}, {\"brand\": \"ford\", \"model\": \"fiesta\", \"version\": \"fiesta se 1.0 8v flex 5p\", \"gearbox\": \"manual\", \"cartype\": \"hatch\", \"regdate\": 2014, \"mileage\": 45585, \"motorpower\": \"1.0\", \"fuel\": \"flex\", \"car_steering\": \"hidr\\u00e1ulica\", \"carcolor\": \"prata\", \"doors\": \"4 portas\", \"financial\": \"ipva pago\", \"vidro el\\u00e9trico\": 1.0, \"air bag\": 1.0, \"trava el\\u00e9trica\": 1.0, \"ar condicionado\": 1.0, \"dire\\u00e7\\u00e3o hidr\\u00e1ulica\": 1.0, \"alarme\": 1.0, \"som\": 1.0, \"sensor de r\\u00e9\": 0.0}, {\"brand\": \"ford\", \"model\": \"ka\", \"version\": \"ka 1.0 sel tivct flex 5p\", \"gearbox\": \"manual\", \"cartype\": \"no_information\", \"regdate\": 2015, \"mileage\": 70000, \"motorpower\": \"1.0\", \"fuel\": \"flex\", \"car_steering\": \"el\\u00e9trica\", \"carcolor\": \"preto\", \"doors\": \"4 portas\", \"financial\": \"ipva pago\", \"vidro el\\u00e9trico\": 1.0, \"air bag\": 1.0, \"trava el\\u00e9trica\": 1.0, \"ar condicionado\": 1.0, \"dire\\u00e7\\u00e3o hidr\\u00e1ulica\": 1.0, \"alarme\": 1.0, \"som\": 1.0, \"sensor de r\\u00e9\": 0.0}, {\"brand\": \"ford\", \"model\": \"fiesta\", \"version\": \"fiesta class 1.0 4p\", \"gearbox\": \"manual\", \"cartype\": \"no_information\", \"regdate\": 2013, \"mileage\": 70000, \"motorpower\": \"1.0\", \"fuel\": \"flex\", \"car_steering\": \"hidr\\u00e1ulica\", \"carcolor\": \"preto\", \"doors\": \"4 portas\", \"financial\": \"ipva pago\", \"vidro el\\u00e9trico\": 0.0, \"air bag\": 0.0, \"trava el\\u00e9trica\": 0.0, \"ar condicionado\": 0.0, \"dire\\u00e7\\u00e3o hidr\\u00e1ulica\": 0.0, \"alarme\": 0.0, \"som\": 0.0, \"sensor de r\\u00e9\": 0.0}, {\"brand\": \"ford\", \"model\": \"ka\", \"version\": \"no_information\", \"gearbox\": \"manual\", \"cartype\": \"passeio\", \"regdate\": 2015, \"mileage\": 58000, \"motorpower\": \"1.0\", \"fuel\": \"flex\", \"car_steering\": \"hidr\\u00e1ulica\", \"carcolor\": \"preto\", \"doors\": \"4 portas\", \"financial\": \"ipva pago\", \"vidro el\\u00e9trico\": 1.0, \"air bag\": 1.0, \"trava el\\u00e9trica\": 1.0, \"ar condicionado\": 1.0, \"dire\\u00e7\\u00e3o hidr\\u00e1ulica\": 1.0, \"alarme\": 0.0, \"som\": 1.0, \"sensor de r\\u00e9\": 0.0}, {\"brand\": \"ford\", \"model\": \"fiesta\", \"version\": \"fiesta 1.6 8v flex class 1.6 8v flex 5p\", \"gearbox\": \"manual\", \"cartype\": \"hatch\", \"regdate\": 2013, \"mileage\": 79068, \"motorpower\": \"no_information\", \"fuel\": \"flex\", \"car_steering\": \"no_information\", \"carcolor\": \"no_information\", \"doors\": \"2 portas\", \"financial\": \"no_information\", \"vidro el\\u00e9trico\": 0.0, \"air bag\": 0.0, \"trava el\\u00e9trica\": 0.0, \"ar condicionado\": 0.0, \"dire\\u00e7\\u00e3o hidr\\u00e1ulica\": 0.0, \"alarme\": 0.0, \"som\": 0.0, \"sensor de r\\u00e9\": 0.0}, {\"brand\": \"ford\", \"model\": \"fiesta\", \"version\": \"fiesta sedan se 1.6 8v flex 4p\", \"gearbox\": \"manual\", \"cartype\": \"sed\\u00e3\", \"regdate\": 2013, \"mileage\": 60719, \"motorpower\": \"1.6\", \"fuel\": \"flex\", \"car_steering\": \"hidr\\u00e1ulica\", \"carcolor\": \"preto\", \"doors\": \"4 portas\", \"financial\": \"ipva pago\", \"vidro el\\u00e9trico\": 1.0, \"air bag\": 0.0, \"trava el\\u00e9trica\": 1.0, \"ar condicionado\": 1.0, \"dire\\u00e7\\u00e3o hidr\\u00e1ulica\": 1.0, \"alarme\": 1.0, \"som\": 0.0, \"sensor de r\\u00e9\": 0.0}, {\"brand\": \"ford\", \"model\": \"fiesta\", \"version\": \"fiesta 1.6 8v flex class 1.6 8v flex 5p\", \"gearbox\": \"manual\", \"cartype\": \"hatch\", \"regdate\": 2013, \"mileage\": 96000, \"motorpower\": \"1.6\", \"fuel\": \"flex\", \"car_steering\": \"hidr\\u00e1ulica\", \"carcolor\": \"preto\", \"doors\": \"4 portas\", \"financial\": \"ipva pago\", \"vidro el\\u00e9trico\": 1.0, \"air bag\": 0.0, \"trava el\\u00e9trica\": 1.0, \"ar condicionado\": 1.0, \"dire\\u00e7\\u00e3o hidr\\u00e1ulica\": 1.0, \"alarme\": 0.0, \"som\": 1.0, \"sensor de r\\u00e9\": 1.0}, {\"brand\": \"ford\", \"model\": \"fiesta\", \"version\": \"fiesta 1.6 8v flex class 1.6 8v flex 5p\", \"gearbox\": \"manual\", \"cartype\": \"passeio\", \"regdate\": 2013, \"mileage\": 71000, \"motorpower\": \"1.6\", \"fuel\": \"flex\", \"car_steering\": \"hidr\\u00e1ulica\", \"carcolor\": \"prata\", \"doors\": \"4 portas\", \"financial\": \"ipva pago\", \"vidro el\\u00e9trico\": 1.0, \"air bag\": 0.0, \"trava el\\u00e9trica\": 1.0, \"ar condicionado\": 1.0, \"dire\\u00e7\\u00e3o hidr\\u00e1ulica\": 1.0, \"alarme\": 1.0, \"som\": 1.0, \"sensor de r\\u00e9\": 1.0}, {\"brand\": \"ford\", \"model\": \"ka\", \"version\": \"ka 1.0 8v 1.0 8v st flex 3p\", \"gearbox\": \"manual\", \"cartype\": \"hatch\", \"regdate\": 2013, \"mileage\": 70000, \"motorpower\": \"1.0\", \"fuel\": \"flex\", \"car_steering\": \"hidr\\u00e1ulica\", \"carcolor\": \"preto\", \"doors\": \"4 portas\", \"financial\": \"ipva pago\", \"vidro el\\u00e9trico\": 1.0, \"air bag\": 0.0, \"trava el\\u00e9trica\": 1.0, \"ar condicionado\": 1.0, \"dire\\u00e7\\u00e3o hidr\\u00e1ulica\": 1.0, \"alarme\": 1.0, \"som\": 0.0, \"sensor de r\\u00e9\": 0.0}, {\"brand\": \"ford\", \"model\": \"ka\", \"version\": \"no_information\", \"gearbox\": \"manual\", \"cartype\": \"passeio\", \"regdate\": 2017, \"mileage\": 70000, \"motorpower\": \"1.0\", \"fuel\": \"flex\", \"car_steering\": \"el\\u00e9trica\", \"carcolor\": \"preto\", \"doors\": \"4 portas\", \"financial\": \"no_information\", \"vidro el\\u00e9trico\": 1.0, \"air bag\": 1.0, \"trava el\\u00e9trica\": 1.0, \"ar condicionado\": 1.0, \"dire\\u00e7\\u00e3o hidr\\u00e1ulica\": 0.0, \"alarme\": 1.0, \"som\": 0.0, \"sensor de r\\u00e9\": 0.0}, {\"brand\": \"ford\", \"model\": \"ka\", \"version\": \"ka 1.0 se se plus tivct flex 5p\", \"gearbox\": \"manual\", \"cartype\": \"hatch\", \"regdate\": 2015, \"mileage\": 70000, \"motorpower\": \"1.0\", \"fuel\": \"flex\", \"car_steering\": \"hidr\\u00e1ulica\", \"carcolor\": \"branco\", \"doors\": \"4 portas\", \"financial\": \"no_information\", \"vidro el\\u00e9trico\": 1.0, \"air bag\": 0.0, \"trava el\\u00e9trica\": 1.0, \"ar condicionado\": 1.0, \"dire\\u00e7\\u00e3o hidr\\u00e1ulica\": 1.0, \"alarme\": 1.0, \"som\": 1.0, \"sensor de r\\u00e9\": 0.0}, {\"brand\": \"ford\", \"model\": \"ka\", \"version\": \"ka 1.0 sel tivct flex 5p\", \"gearbox\": \"manual\", \"cartype\": \"hatch\", \"regdate\": 2015, \"mileage\": 75000, \"motorpower\": \"1.0\", \"fuel\": \"flex\", \"car_steering\": \"el\\u00e9trica\", \"carcolor\": \"prata\", \"doors\": \"4 portas\", \"financial\": \"ipva pago\", \"vidro el\\u00e9trico\": 1.0, \"air bag\": 1.0, \"trava el\\u00e9trica\": 1.0, \"ar condicionado\": 1.0, \"dire\\u00e7\\u00e3o hidr\\u00e1ulica\": 1.0, \"alarme\": 1.0, \"som\": 1.0, \"sensor de r\\u00e9\": 0.0}, {\"brand\": \"ford\", \"model\": \"fiesta\", \"version\": \"fiesta 1.0 8v flex class 1.0 8v flex 5p\", \"gearbox\": \"manual\", \"cartype\": \"hatch\", \"regdate\": 2014, \"mileage\": 82380, \"motorpower\": \"1.0\", \"fuel\": \"flex\", \"car_steering\": \"hidr\\u00e1ulica\", \"carcolor\": \"branco\", \"doors\": \"4 portas\", \"financial\": \"no_information\", \"vidro el\\u00e9trico\": 1.0, \"air bag\": 1.0, \"trava el\\u00e9trica\": 1.0, \"ar condicionado\": 1.0, \"dire\\u00e7\\u00e3o hidr\\u00e1ulica\": 1.0, \"alarme\": 1.0, \"som\": 1.0, \"sensor de r\\u00e9\": 1.0}, {\"brand\": \"ford\", \"model\": \"fiesta\", \"version\": \"no_information\", \"gearbox\": \"no_information\", \"cartype\": \"no_information\", \"regdate\": 2013, \"mileage\": 87000, \"motorpower\": \"no_information\", \"fuel\": \"flex\", \"car_steering\": \"hidr\\u00e1ulica\", \"carcolor\": \"no_information\", \"doors\": \"4 portas\", \"financial\": \"ipva pago\", \"vidro el\\u00e9trico\": 1.0, \"air bag\": 0.0, \"trava el\\u00e9trica\": 1.0, \"ar condicionado\": 1.0, \"dire\\u00e7\\u00e3o hidr\\u00e1ulica\": 1.0, \"alarme\": 1.0, \"som\": 1.0, \"sensor de r\\u00e9\": 0.0}, {\"brand\": \"ford\", \"model\": \"ka\", \"version\": \"no_information\", \"gearbox\": \"manual\", \"cartype\": \"passeio\", \"regdate\": 2017, \"mileage\": 7800, \"motorpower\": \"1.0\", \"fuel\": \"flex\", \"car_steering\": \"hidr\\u00e1ulica\", \"carcolor\": \"vermelho\", \"doors\": \"4 portas\", \"financial\": \"no_information\", \"vidro el\\u00e9trico\": 1.0, \"air bag\": 1.0, \"trava el\\u00e9trica\": 1.0, \"ar condicionado\": 1.0, \"dire\\u00e7\\u00e3o hidr\\u00e1ulica\": 0.0, \"alarme\": 1.0, \"som\": 0.0, \"sensor de r\\u00e9\": 0.0}, {\"brand\": \"ford\", \"model\": \"ka\", \"version\": \"ka 1.0 8v 1.0 8v st flex 3p\", \"gearbox\": \"manual\", \"cartype\": \"no_information\", \"regdate\": 2013, \"mileage\": 85000, \"motorpower\": \"no_information\", \"fuel\": \"flex\", \"car_steering\": \"no_information\", \"carcolor\": \"no_information\", \"doors\": \"no_information\", \"financial\": \"ipva pago\", \"vidro el\\u00e9trico\": 0.0, \"air bag\": 0.0, \"trava el\\u00e9trica\": 0.0, \"ar condicionado\": 0.0, \"dire\\u00e7\\u00e3o hidr\\u00e1ulica\": 0.0, \"alarme\": 0.0, \"som\": 0.0, \"sensor de r\\u00e9\": 0.0}, {\"brand\": \"ford\", \"model\": \"focus\", \"version\": \"focus 1.6 s se se plus flex 8v 16v  5p\", \"gearbox\": \"manual\", \"cartype\": \"hatch\", \"regdate\": 2013, \"mileage\": 78000, \"motorpower\": \"1.6\", \"fuel\": \"flex\", \"car_steering\": \"hidr\\u00e1ulica\", \"carcolor\": \"prata\", \"doors\": \"4 portas\", \"financial\": \"ipva pago\", \"vidro el\\u00e9trico\": 1.0, \"air bag\": 1.0, \"trava el\\u00e9trica\": 1.0, \"ar condicionado\": 1.0, \"dire\\u00e7\\u00e3o hidr\\u00e1ulica\": 1.0, \"alarme\": 1.0, \"som\": 1.0, \"sensor de r\\u00e9\": 1.0}, {\"brand\": \"ford\", \"model\": \"fiesta\", \"version\": \"fiesta 1.6 16v flex mec. 5p\", \"gearbox\": \"manual\", \"cartype\": \"hatch\", \"regdate\": 2013, \"mileage\": 34000, \"motorpower\": \"1.6\", \"fuel\": \"flex\", \"car_steering\": \"hidr\\u00e1ulica\", \"carcolor\": \"branco\", \"doors\": \"4 portas\", \"financial\": \"ipva pago\", \"vidro el\\u00e9trico\": 1.0, \"air bag\": 0.0, \"trava el\\u00e9trica\": 1.0, \"ar condicionado\": 1.0, \"dire\\u00e7\\u00e3o hidr\\u00e1ulica\": 0.0, \"alarme\": 1.0, \"som\": 0.0, \"sensor de r\\u00e9\": 0.0}, {\"brand\": \"ford\", \"model\": \"fiesta\", \"version\": \"fiesta se 1.6 8v flex 5p\", \"gearbox\": \"manual\", \"cartype\": \"passeio\", \"regdate\": 2014, \"mileage\": 60000, \"motorpower\": \"no_information\", \"fuel\": \"flex\", \"car_steering\": \"no_information\", \"carcolor\": \"no_information\", \"doors\": \"4 portas\", \"financial\": \"no_information\", \"vidro el\\u00e9trico\": 1.0, \"air bag\": 1.0, \"trava el\\u00e9trica\": 1.0, \"ar condicionado\": 1.0, \"dire\\u00e7\\u00e3o hidr\\u00e1ulica\": 1.0, \"alarme\": 1.0, \"som\": 0.0, \"sensor de r\\u00e9\": 0.0}, {\"brand\": \"ford\", \"model\": \"fiesta\", \"version\": \"fiesta sedan se 1.6 8v flex 4p\", \"gearbox\": \"manual\", \"cartype\": \"sed\\u00e3\", \"regdate\": 2014, \"mileage\": 81000, \"motorpower\": \"1.6\", \"fuel\": \"flex\", \"car_steering\": \"hidr\\u00e1ulica\", \"carcolor\": \"preto\", \"doors\": \"4 portas\", \"financial\": \"ipva pago\", \"vidro el\\u00e9trico\": 1.0, \"air bag\": 1.0, \"trava el\\u00e9trica\": 1.0, \"ar condicionado\": 1.0, \"dire\\u00e7\\u00e3o hidr\\u00e1ulica\": 1.0, \"alarme\": 1.0, \"som\": 1.0, \"sensor de r\\u00e9\": 0.0}, {\"brand\": \"ford\", \"model\": \"fiesta\", \"version\": \"no_information\", \"gearbox\": \"manual\", \"cartype\": \"passeio\", \"regdate\": 2013, \"mileage\": 79990, \"motorpower\": \"1.0\", \"fuel\": \"flex\", \"car_steering\": \"hidr\\u00e1ulica\", \"carcolor\": \"prata\", \"doors\": \"4 portas\", \"financial\": \"no_information\", \"vidro el\\u00e9trico\": 1.0, \"air bag\": 1.0, \"trava el\\u00e9trica\": 1.0, \"ar condicionado\": 1.0, \"dire\\u00e7\\u00e3o hidr\\u00e1ulica\": 0.0, \"alarme\": 1.0, \"som\": 0.0, \"sensor de r\\u00e9\": 0.0}, {\"brand\": \"ford\", \"model\": \"fiesta\", \"version\": \"1.0 rocam se plus hatch 8v flex 4p manual\", \"gearbox\": \"manual\", \"cartype\": \"hatch\", \"regdate\": 2013, \"mileage\": 92500, \"motorpower\": \"1.0\", \"fuel\": \"flex\", \"car_steering\": \"hidr\\u00e1ulica\", \"carcolor\": \"branco\", \"doors\": \"no_information\", \"financial\": \"no_information\", \"vidro el\\u00e9trico\": 1.0, \"air bag\": 0.0, \"trava el\\u00e9trica\": 0.0, \"ar condicionado\": 1.0, \"dire\\u00e7\\u00e3o hidr\\u00e1ulica\": 0.0, \"alarme\": 0.0, \"som\": 1.0, \"sensor de r\\u00e9\": 0.0}, {\"brand\": \"volkswagen\", \"model\": \"spacefox\", \"version\": \"no_information\", \"gearbox\": \"manual\", \"cartype\": \"passeio\", \"regdate\": 2013, \"mileage\": 60719, \"motorpower\": \"1.6\", \"fuel\": \"flex\", \"car_steering\": \"hidr\\u00e1ulica\", \"carcolor\": \"preto\", \"doors\": \"4 portas\", \"financial\": \"no_information\", \"vidro el\\u00e9trico\": 1.0, \"air bag\": 1.0, \"trava el\\u00e9trica\": 1.0, \"ar condicionado\": 1.0, \"dire\\u00e7\\u00e3o hidr\\u00e1ulica\": 0.0, \"alarme\": 1.0, \"som\": 0.0, \"sensor de r\\u00e9\": 0.0}, {\"brand\": \"volkswagen\", \"model\": \"gol\", \"version\": \"gol comfortline 1.6 t. flex 8v 5p\", \"gearbox\": \"manual\", \"cartype\": \"passeio\", \"regdate\": 2015, \"mileage\": 60719, \"motorpower\": \"1.6\", \"fuel\": \"flex\", \"car_steering\": \"hidr\\u00e1ulica\", \"carcolor\": \"preto\", \"doors\": \"4 portas\", \"financial\": \"no_information\", \"vidro el\\u00e9trico\": 1.0, \"air bag\": 1.0, \"trava el\\u00e9trica\": 1.0, \"ar condicionado\": 1.0, \"dire\\u00e7\\u00e3o hidr\\u00e1ulica\": 0.0, \"alarme\": 1.0, \"som\": 0.0, \"sensor de r\\u00e9\": 0.0}, {\"brand\": \"volkswagen\", \"model\": \"gol\", \"version\": \"no_information\", \"gearbox\": \"manual\", \"cartype\": \"passeio\", \"regdate\": 2013, \"mileage\": 77000, \"motorpower\": \"1.0\", \"fuel\": \"flex\", \"car_steering\": \"hidr\\u00e1ulica\", \"carcolor\": \"cinza\", \"doors\": \"4 portas\", \"financial\": \"no_information\", \"vidro el\\u00e9trico\": 1.0, \"air bag\": 1.0, \"trava el\\u00e9trica\": 1.0, \"ar condicionado\": 1.0, \"dire\\u00e7\\u00e3o hidr\\u00e1ulica\": 0.0, \"alarme\": 0.0, \"som\": 0.0, \"sensor de r\\u00e9\": 0.0}, {\"brand\": \"volkswagen\", \"model\": \"gol\", \"version\": \"gol 1.0 trend  power 8v 4p\", \"gearbox\": \"manual\", \"cartype\": \"hatch\", \"regdate\": 2014, \"mileage\": 88000, \"motorpower\": \"1.0\", \"fuel\": \"flex\", \"car_steering\": \"hidr\\u00e1ulica\", \"carcolor\": \"prata\", \"doors\": \"4 portas\", \"financial\": \"ipva pago\", \"vidro el\\u00e9trico\": 1.0, \"air bag\": 0.0, \"trava el\\u00e9trica\": 1.0, \"ar condicionado\": 1.0, \"dire\\u00e7\\u00e3o hidr\\u00e1ulica\": 1.0, \"alarme\": 1.0, \"som\": 1.0, \"sensor de r\\u00e9\": 0.0}, {\"brand\": \"volkswagen\", \"model\": \"fox\", \"version\": \"fox comfortline 1.0 flex 8v 5p\", \"gearbox\": \"manual\", \"cartype\": \"passeio\", \"regdate\": 2015, \"mileage\": 47, \"motorpower\": \"1.0\", \"fuel\": \"flex\", \"car_steering\": \"hidr\\u00e1ulica\", \"carcolor\": \"vermelho\", \"doors\": \"4 portas\", \"financial\": \"ipva pago\", \"vidro el\\u00e9trico\": 1.0, \"air bag\": 1.0, \"trava el\\u00e9trica\": 1.0, \"ar condicionado\": 1.0, \"dire\\u00e7\\u00e3o hidr\\u00e1ulica\": 1.0, \"alarme\": 1.0, \"som\": 1.0, \"sensor de r\\u00e9\": 1.0}, {\"brand\": \"volkswagen\", \"model\": \"gol\", \"version\": \"gol trendline 1.0 t.flex 12v 5p\", \"gearbox\": \"manual\", \"cartype\": \"hatch\", \"regdate\": 2017, \"mileage\": 101, \"motorpower\": \"1.0\", \"fuel\": \"flex\", \"car_steering\": \"hidr\\u00e1ulica\", \"carcolor\": \"branco\", \"doors\": \"4 portas\", \"financial\": \"no_information\", \"vidro el\\u00e9trico\": 1.0, \"air bag\": 1.0, \"trava el\\u00e9trica\": 1.0, \"ar condicionado\": 1.0, \"dire\\u00e7\\u00e3o hidr\\u00e1ulica\": 1.0, \"alarme\": 1.0, \"som\": 0.0, \"sensor de r\\u00e9\": 0.0}, {\"brand\": \"volkswagen\", \"model\": \"fox\", \"version\": \"fox trendline 1.0 flex 8v 5p\", \"gearbox\": \"manual\", \"cartype\": \"passeio\", \"regdate\": 2014, \"mileage\": 68, \"motorpower\": \"1.0\", \"fuel\": \"flex\", \"car_steering\": \"hidr\\u00e1ulica\", \"carcolor\": \"no_information\", \"doors\": \"4 portas\", \"financial\": \"no_information\", \"vidro el\\u00e9trico\": 1.0, \"air bag\": 1.0, \"trava el\\u00e9trica\": 1.0, \"ar condicionado\": 1.0, \"dire\\u00e7\\u00e3o hidr\\u00e1ulica\": 1.0, \"alarme\": 1.0, \"som\": 1.0, \"sensor de r\\u00e9\": 1.0}, {\"brand\": \"volkswagen\", \"model\": \"gol\", \"version\": \"gol city  trend  titan 1.0 t. flex 8v 4p\", \"gearbox\": \"manual\", \"cartype\": \"hatch\", \"regdate\": 2015, \"mileage\": 55000, \"motorpower\": \"1.0\", \"fuel\": \"flex\", \"car_steering\": \"hidr\\u00e1ulica\", \"carcolor\": \"prata\", \"doors\": \"4 portas\", \"financial\": \"ipva pago\", \"vidro el\\u00e9trico\": 1.0, \"air bag\": 1.0, \"trava el\\u00e9trica\": 1.0, \"ar condicionado\": 1.0, \"dire\\u00e7\\u00e3o hidr\\u00e1ulica\": 1.0, \"alarme\": 1.0, \"som\": 1.0, \"sensor de r\\u00e9\": 0.0}, {\"brand\": \"volkswagen\", \"model\": \"no_information\", \"version\": \"no_information\", \"gearbox\": \"no_information\", \"cartype\": \"hatch\", \"regdate\": 2014, \"mileage\": 52000, \"motorpower\": \"1.0\", \"fuel\": \"flex\", \"car_steering\": \"no_information\", \"carcolor\": \"prata\", \"doors\": \"4 portas\", \"financial\": \"ipva pago\", \"vidro el\\u00e9trico\": 1.0, \"air bag\": 0.0, \"trava el\\u00e9trica\": 1.0, \"ar condicionado\": 1.0, \"dire\\u00e7\\u00e3o hidr\\u00e1ulica\": 1.0, \"alarme\": 0.0, \"som\": 0.0, \"sensor de r\\u00e9\": 0.0}, {\"brand\": \"volkswagen\", \"model\": \"gol\", \"version\": \"gol 1.0 trend  power 8v 4p\", \"gearbox\": \"manual\", \"cartype\": \"hatch\", \"regdate\": 2013, \"mileage\": 83000, \"motorpower\": \"1.0\", \"fuel\": \"flex\", \"car_steering\": \"hidr\\u00e1ulica\", \"carcolor\": \"cinza\", \"doors\": \"4 portas\", \"financial\": \"ipva pago\", \"vidro el\\u00e9trico\": 1.0, \"air bag\": 0.0, \"trava el\\u00e9trica\": 1.0, \"ar condicionado\": 1.0, \"dire\\u00e7\\u00e3o hidr\\u00e1ulica\": 1.0, \"alarme\": 0.0, \"som\": 1.0, \"sensor de r\\u00e9\": 0.0}, {\"brand\": \"volkswagen\", \"model\": \"voyage\", \"version\": \"voyage 1.6 1.6 city  mi total flex 8v 4p\", \"gearbox\": \"manual\", \"cartype\": \"sed\\u00e3\", \"regdate\": 2015, \"mileage\": 68000, \"motorpower\": \"1.6\", \"fuel\": \"flex\", \"car_steering\": \"hidr\\u00e1ulica\", \"carcolor\": \"cinza\", \"doors\": \"4 portas\", \"financial\": \"ipva pago\", \"vidro el\\u00e9trico\": 1.0, \"air bag\": 1.0, \"trava el\\u00e9trica\": 1.0, \"ar condicionado\": 1.0, \"dire\\u00e7\\u00e3o hidr\\u00e1ulica\": 1.0, \"alarme\": 0.0, \"som\": 0.0, \"sensor de r\\u00e9\": 0.0}, {\"brand\": \"volkswagen\", \"model\": \"fox\", \"version\": \"no_information\", \"gearbox\": \"manual\", \"cartype\": \"passeio\", \"regdate\": 2014, \"mileage\": 29234, \"motorpower\": \"1.6\", \"fuel\": \"flex\", \"car_steering\": \"hidr\\u00e1ulica\", \"carcolor\": \"vermelho\", \"doors\": \"4 portas\", \"financial\": \"no_information\", \"vidro el\\u00e9trico\": 1.0, \"air bag\": 1.0, \"trava el\\u00e9trica\": 1.0, \"ar condicionado\": 1.0, \"dire\\u00e7\\u00e3o hidr\\u00e1ulica\": 0.0, \"alarme\": 1.0, \"som\": 0.0, \"sensor de r\\u00e9\": 0.0}, {\"brand\": \"volkswagen\", \"model\": \"gol\", \"version\": \"gol i motion comfort. 1.6 t. flex 8v 5p\", \"gearbox\": \"semiautom\\u00e1tico\", \"cartype\": \"hatch\", \"regdate\": 2015, \"mileage\": 1111, \"motorpower\": \"1.6\", \"fuel\": \"flex\", \"car_steering\": \"hidr\\u00e1ulica\", \"carcolor\": \"preto\", \"doors\": \"4 portas\", \"financial\": \"ipva pago\", \"vidro el\\u00e9trico\": 1.0, \"air bag\": 1.0, \"trava el\\u00e9trica\": 1.0, \"ar condicionado\": 1.0, \"dire\\u00e7\\u00e3o hidr\\u00e1ulica\": 1.0, \"alarme\": 1.0, \"som\": 1.0, \"sensor de r\\u00e9\": 0.0}, {\"brand\": \"volkswagen\", \"model\": \"fox\", \"version\": \"fox 1.6 mi total flex 8v 5p\", \"gearbox\": \"manual\", \"cartype\": \"no_information\", \"regdate\": 2013, \"mileage\": 81000, \"motorpower\": \"1.6\", \"fuel\": \"flex\", \"car_steering\": \"hidr\\u00e1ulica\", \"carcolor\": \"preto\", \"doors\": \"4 portas\", \"financial\": \"no_information\", \"vidro el\\u00e9trico\": 1.0, \"air bag\": 1.0, \"trava el\\u00e9trica\": 1.0, \"ar condicionado\": 1.0, \"dire\\u00e7\\u00e3o hidr\\u00e1ulica\": 0.0, \"alarme\": 0.0, \"som\": 0.0, \"sensor de r\\u00e9\": 0.0}, {\"brand\": \"volkswagen\", \"model\": \"gol\", \"version\": \"gol  novo  1.0 mi total flex 8v 4p\", \"gearbox\": \"manual\", \"cartype\": \"hatch\", \"regdate\": 2015, \"mileage\": 48660, \"motorpower\": \"1.0\", \"fuel\": \"flex\", \"car_steering\": \"hidr\\u00e1ulica\", \"carcolor\": \"branco\", \"doors\": \"4 portas\", \"financial\": \"no_information\", \"vidro el\\u00e9trico\": 1.0, \"air bag\": 0.0, \"trava el\\u00e9trica\": 1.0, \"ar condicionado\": 1.0, \"dire\\u00e7\\u00e3o hidr\\u00e1ulica\": 1.0, \"alarme\": 1.0, \"som\": 0.0, \"sensor de r\\u00e9\": 0.0}, {\"brand\": \"volkswagen\", \"model\": \"gol\", \"version\": \"no_information\", \"gearbox\": \"manual\", \"cartype\": \"passeio\", \"regdate\": 2013, \"mileage\": 88000, \"motorpower\": \"1.0\", \"fuel\": \"flex\", \"car_steering\": \"hidr\\u00e1ulica\", \"carcolor\": \"branco\", \"doors\": \"4 portas\", \"financial\": \"no_information\", \"vidro el\\u00e9trico\": 1.0, \"air bag\": 0.0, \"trava el\\u00e9trica\": 0.0, \"ar condicionado\": 1.0, \"dire\\u00e7\\u00e3o hidr\\u00e1ulica\": 0.0, \"alarme\": 1.0, \"som\": 0.0, \"sensor de r\\u00e9\": 0.0}, {\"brand\": \"volkswagen\", \"model\": \"gol\", \"version\": \"gol trendline 1.0 t.flex 8v 5p\", \"gearbox\": \"manual\", \"cartype\": \"hatch\", \"regdate\": 2016, \"mileage\": 45882, \"motorpower\": \"1.0\", \"fuel\": \"flex\", \"car_steering\": \"hidr\\u00e1ulica\", \"carcolor\": \"prata\", \"doors\": \"4 portas\", \"financial\": \"ipva pago\", \"vidro el\\u00e9trico\": 1.0, \"air bag\": 1.0, \"trava el\\u00e9trica\": 1.0, \"ar condicionado\": 1.0, \"dire\\u00e7\\u00e3o hidr\\u00e1ulica\": 0.0, \"alarme\": 1.0, \"som\": 1.0, \"sensor de r\\u00e9\": 0.0}, {\"brand\": \"volkswagen\", \"model\": \"voyage\", \"version\": \"voyage  trendline 1.0 t.flex 8v 4p\", \"gearbox\": \"manual\", \"cartype\": \"sed\\u00e3\", \"regdate\": 2013, \"mileage\": 103000, \"motorpower\": \"1.0\", \"fuel\": \"flex\", \"car_steering\": \"hidr\\u00e1ulica\", \"carcolor\": \"preto\", \"doors\": \"4 portas\", \"financial\": \"no_information\", \"vidro el\\u00e9trico\": 1.0, \"air bag\": 0.0, \"trava el\\u00e9trica\": 1.0, \"ar condicionado\": 1.0, \"dire\\u00e7\\u00e3o hidr\\u00e1ulica\": 1.0, \"alarme\": 1.0, \"som\": 0.0, \"sensor de r\\u00e9\": 0.0}, {\"brand\": \"volkswagen\", \"model\": \"voyage\", \"version\": \"voyage i motion trend 1.6 mi t. flex 8v\", \"gearbox\": \"manual\", \"cartype\": \"sed\\u00e3\", \"regdate\": 2013, \"mileage\": 192, \"motorpower\": \"1.6\", \"fuel\": \"flex\", \"car_steering\": \"hidr\\u00e1ulica\", \"carcolor\": \"branco\", \"doors\": \"4 portas\", \"financial\": \"com multas\", \"vidro el\\u00e9trico\": 1.0, \"air bag\": 1.0, \"trava el\\u00e9trica\": 1.0, \"ar condicionado\": 1.0, \"dire\\u00e7\\u00e3o hidr\\u00e1ulica\": 1.0, \"alarme\": 1.0, \"som\": 1.0, \"sensor de r\\u00e9\": 0.0}, {\"brand\": \"volkswagen\", \"model\": \"voyage\", \"version\": \"voyage 1.0 1.0 city mi total flex 8v 4p\", \"gearbox\": \"manual\", \"cartype\": \"sed\\u00e3\", \"regdate\": 2013, \"mileage\": 90000, \"motorpower\": \"1.0\", \"fuel\": \"flex\", \"car_steering\": \"hidr\\u00e1ulica\", \"carcolor\": \"prata\", \"doors\": \"4 portas\", \"financial\": \"ipva pago\", \"vidro el\\u00e9trico\": 1.0, \"air bag\": 0.0, \"trava el\\u00e9trica\": 1.0, \"ar condicionado\": 1.0, \"dire\\u00e7\\u00e3o hidr\\u00e1ulica\": 1.0, \"alarme\": 1.0, \"som\": 1.0, \"sensor de r\\u00e9\": 1.0}, {\"brand\": \"volkswagen\", \"model\": \"voyage\", \"version\": \"voyage 1.0 1.0 city mi total flex 8v 4p\", \"gearbox\": \"manual\", \"cartype\": \"sed\\u00e3\", \"regdate\": 2013, \"mileage\": 98000, \"motorpower\": \"1.0\", \"fuel\": \"flex\", \"car_steering\": \"hidr\\u00e1ulica\", \"carcolor\": \"prata\", \"doors\": \"4 portas\", \"financial\": \"no_information\", \"vidro el\\u00e9trico\": 0.0, \"air bag\": 0.0, \"trava el\\u00e9trica\": 0.0, \"ar condicionado\": 0.0, \"dire\\u00e7\\u00e3o hidr\\u00e1ulica\": 0.0, \"alarme\": 0.0, \"som\": 0.0, \"sensor de r\\u00e9\": 0.0}, {\"brand\": \"volkswagen\", \"model\": \"voyage\", \"version\": \"voyage trendline 1.0 t.flex 12v 4p\", \"gearbox\": \"manual\", \"cartype\": \"hatch\", \"regdate\": 2013, \"mileage\": 74154, \"motorpower\": \"no_information\", \"fuel\": \"flex\", \"car_steering\": \"no_information\", \"carcolor\": \"no_information\", \"doors\": \"2 portas\", \"financial\": \"no_information\", \"vidro el\\u00e9trico\": 0.0, \"air bag\": 0.0, \"trava el\\u00e9trica\": 0.0, \"ar condicionado\": 0.0, \"dire\\u00e7\\u00e3o hidr\\u00e1ulica\": 0.0, \"alarme\": 0.0, \"som\": 0.0, \"sensor de r\\u00e9\": 0.0}, {\"brand\": \"volkswagen\", \"model\": \"gol\", \"version\": \"no_information\", \"gearbox\": \"manual\", \"cartype\": \"passeio\", \"regdate\": 2014, \"mileage\": 68000, \"motorpower\": \"1.0\", \"fuel\": \"flex\", \"car_steering\": \"mecnica\", \"carcolor\": \"prata\", \"doors\": \"4 portas\", \"financial\": \"no_information\", \"vidro el\\u00e9trico\": 1.0, \"air bag\": 0.0, \"trava el\\u00e9trica\": 1.0, \"ar condicionado\": 1.0, \"dire\\u00e7\\u00e3o hidr\\u00e1ulica\": 0.0, \"alarme\": 0.0, \"som\": 0.0, \"sensor de r\\u00e9\": 0.0}, {\"brand\": \"volkswagen\", \"model\": \"gol\", \"version\": \"gol  novo  1.0 mi total flex 8v 2p\", \"gearbox\": \"manual\", \"cartype\": \"hatch\", \"regdate\": 2014, \"mileage\": 96000, \"motorpower\": \"1.0\", \"fuel\": \"flex\", \"car_steering\": \"mecnica\", \"carcolor\": \"branco\", \"doors\": \"2 portas\", \"financial\": \"no_information\", \"vidro el\\u00e9trico\": 1.0, \"air bag\": 1.0, \"trava el\\u00e9trica\": 1.0, \"ar condicionado\": 1.0, \"dire\\u00e7\\u00e3o hidr\\u00e1ulica\": 0.0, \"alarme\": 1.0, \"som\": 1.0, \"sensor de r\\u00e9\": 0.0}, {\"brand\": \"volkswagen\", \"model\": \"fox\", \"version\": \"fox rock in rio 1.6 mi total flex 8v 5p\", \"gearbox\": \"manual\", \"cartype\": \"hatch\", \"regdate\": 2014, \"mileage\": 20000, \"motorpower\": \"1.6\", \"fuel\": \"flex\", \"car_steering\": \"hidr\\u00e1ulica\", \"carcolor\": \"azul\", \"doors\": \"4 portas\", \"financial\": \"ipva pago\", \"vidro el\\u00e9trico\": 1.0, \"air bag\": 1.0, \"trava el\\u00e9trica\": 1.0, \"ar condicionado\": 1.0, \"dire\\u00e7\\u00e3o hidr\\u00e1ulica\": 1.0, \"alarme\": 1.0, \"som\": 0.0, \"sensor de r\\u00e9\": 1.0}, {\"brand\": \"volkswagen\", \"model\": \"gol\", \"version\": \"no_information\", \"gearbox\": \"manual\", \"cartype\": \"passeio\", \"regdate\": 2014, \"mileage\": 88000, \"motorpower\": \"1.0\", \"fuel\": \"flex\", \"car_steering\": \"hidr\\u00e1ulica\", \"carcolor\": \"prata\", \"doors\": \"4 portas\", \"financial\": \"no_information\", \"vidro el\\u00e9trico\": 1.0, \"air bag\": 1.0, \"trava el\\u00e9trica\": 1.0, \"ar condicionado\": 1.0, \"dire\\u00e7\\u00e3o hidr\\u00e1ulica\": 0.0, \"alarme\": 0.0, \"som\": 0.0, \"sensor de r\\u00e9\": 0.0}, {\"brand\": \"volkswagen\", \"model\": \"gol\", \"version\": \"no_information\", \"gearbox\": \"manual\", \"cartype\": \"passeio\", \"regdate\": 2013, \"mileage\": 60719, \"motorpower\": \"1.6\", \"fuel\": \"flex\", \"car_steering\": \"hidr\\u00e1ulica\", \"carcolor\": \"branco\", \"doors\": \"4 portas\", \"financial\": \"no_information\", \"vidro el\\u00e9trico\": 1.0, \"air bag\": 1.0, \"trava el\\u00e9trica\": 1.0, \"ar condicionado\": 1.0, \"dire\\u00e7\\u00e3o hidr\\u00e1ulica\": 0.0, \"alarme\": 1.0, \"som\": 0.0, \"sensor de r\\u00e9\": 0.0}, {\"brand\": \"volkswagen\", \"model\": \"fox\", \"version\": \"fox trendline 1.0 flex 12v 5p\", \"gearbox\": \"manual\", \"cartype\": \"passeio\", \"regdate\": 2016, \"mileage\": 60000, \"motorpower\": \"1.0\", \"fuel\": \"flex\", \"car_steering\": \"hidr\\u00e1ulica\", \"carcolor\": \"branco\", \"doors\": \"4 portas\", \"financial\": \"ipva pago\", \"vidro el\\u00e9trico\": 1.0, \"air bag\": 1.0, \"trava el\\u00e9trica\": 1.0, \"ar condicionado\": 1.0, \"dire\\u00e7\\u00e3o hidr\\u00e1ulica\": 1.0, \"alarme\": 1.0, \"som\": 1.0, \"sensor de r\\u00e9\": 1.0}, {\"brand\": \"volkswagen\", \"model\": \"up\", \"version\": \"no_information\", \"gearbox\": \"manual\", \"cartype\": \"passeio\", \"regdate\": 2015, \"mileage\": 84612, \"motorpower\": \"1.0\", \"fuel\": \"flex\", \"car_steering\": \"hidr\\u00e1ulica\", \"carcolor\": \"branco\", \"doors\": \"4 portas\", \"financial\": \"no_information\", \"vidro el\\u00e9trico\": 1.0, \"air bag\": 1.0, \"trava el\\u00e9trica\": 1.0, \"ar condicionado\": 1.0, \"dire\\u00e7\\u00e3o hidr\\u00e1ulica\": 0.0, \"alarme\": 1.0, \"som\": 0.0, \"sensor de r\\u00e9\": 0.0}, {\"brand\": \"volkswagen\", \"model\": \"up\", \"version\": \"up  move 1.0 total flex 12v 5p\", \"gearbox\": \"manual\", \"cartype\": \"hatch\", \"regdate\": 2014, \"mileage\": 90000, \"motorpower\": \"1.0\", \"fuel\": \"flex\", \"car_steering\": \"el\\u00e9trica\", \"carcolor\": \"preto\", \"doors\": \"4 portas\", \"financial\": \"ipva pago\", \"vidro el\\u00e9trico\": 1.0, \"air bag\": 1.0, \"trava el\\u00e9trica\": 1.0, \"ar condicionado\": 1.0, \"dire\\u00e7\\u00e3o hidr\\u00e1ulica\": 1.0, \"alarme\": 1.0, \"som\": 1.0, \"sensor de r\\u00e9\": 0.0}, {\"brand\": \"volkswagen\", \"model\": \"fox\", \"version\": \"fox 1.0 mi total flex 8v 3p\", \"gearbox\": \"manual\", \"cartype\": \"hatch\", \"regdate\": 2013, \"mileage\": 61390, \"motorpower\": \"1.0\", \"fuel\": \"flex\", \"car_steering\": \"hidr\\u00e1ulica\", \"carcolor\": \"preto\", \"doors\": \"4 portas\", \"financial\": \"ipva pago\", \"vidro el\\u00e9trico\": 1.0, \"air bag\": 0.0, \"trava el\\u00e9trica\": 1.0, \"ar condicionado\": 1.0, \"dire\\u00e7\\u00e3o hidr\\u00e1ulica\": 1.0, \"alarme\": 1.0, \"som\": 1.0, \"sensor de r\\u00e9\": 1.0}, {\"brand\": \"volkswagen\", \"model\": \"voyage\", \"version\": \"voyage 1.0 1.0 city mi total flex 8v 4p\", \"gearbox\": \"manual\", \"cartype\": \"sed\\u00e3\", \"regdate\": 2013, \"mileage\": 68000, \"motorpower\": \"1.0\", \"fuel\": \"flex\", \"car_steering\": \"hidr\\u00e1ulica\", \"carcolor\": \"preto\", \"doors\": \"4 portas\", \"financial\": \"ipva pago\", \"vidro el\\u00e9trico\": 1.0, \"air bag\": 0.0, \"trava el\\u00e9trica\": 1.0, \"ar condicionado\": 1.0, \"dire\\u00e7\\u00e3o hidr\\u00e1ulica\": 1.0, \"alarme\": 1.0, \"som\": 1.0, \"sensor de r\\u00e9\": 1.0}, {\"brand\": \"volkswagen\", \"model\": \"fox\", \"version\": \"fox 1.0 mi total flex 8v 5p\", \"gearbox\": \"manual\", \"cartype\": \"hatch\", \"regdate\": 2013, \"mileage\": 76000, \"motorpower\": \"1.0\", \"fuel\": \"flex\", \"car_steering\": \"hidr\\u00e1ulica\", \"carcolor\": \"verde\", \"doors\": \"4 portas\", \"financial\": \"ipva pago\", \"vidro el\\u00e9trico\": 1.0, \"air bag\": 0.0, \"trava el\\u00e9trica\": 1.0, \"ar condicionado\": 1.0, \"dire\\u00e7\\u00e3o hidr\\u00e1ulica\": 1.0, \"alarme\": 1.0, \"som\": 1.0, \"sensor de r\\u00e9\": 0.0}, {\"brand\": \"volkswagen\", \"model\": \"gol\", \"version\": \"gol special  special xtreme 1.0 mi 2p\", \"gearbox\": \"manual\", \"cartype\": \"hatch\", \"regdate\": 2015, \"mileage\": 83000, \"motorpower\": \"1.0\", \"fuel\": \"flex\", \"car_steering\": \"hidr\\u00e1ulica\", \"carcolor\": \"prata\", \"doors\": \"2 portas\", \"financial\": \"ipva pago\", \"vidro el\\u00e9trico\": 0.0, \"air bag\": 1.0, \"trava el\\u00e9trica\": 0.0, \"ar condicionado\": 1.0, \"dire\\u00e7\\u00e3o hidr\\u00e1ulica\": 1.0, \"alarme\": 0.0, \"som\": 1.0, \"sensor de r\\u00e9\": 0.0}, {\"brand\": \"volkswagen\", \"model\": \"fox\", \"version\": \"no_information\", \"gearbox\": \"manual\", \"cartype\": \"passeio\", \"regdate\": 2014, \"mileage\": 82000, \"motorpower\": \"no_information\", \"fuel\": \"flex\", \"car_steering\": \"hidr\\u00e1ulica\", \"carcolor\": \"preto\", \"doors\": \"no_information\", \"financial\": \"ipva pago\", \"vidro el\\u00e9trico\": 1.0, \"air bag\": 0.0, \"trava el\\u00e9trica\": 1.0, \"ar condicionado\": 1.0, \"dire\\u00e7\\u00e3o hidr\\u00e1ulica\": 1.0, \"alarme\": 1.0, \"som\": 1.0, \"sensor de r\\u00e9\": 0.0}, {\"brand\": \"volkswagen\", \"model\": \"crossfox\", \"version\": \"crossfox 1.6 mi total flex 8v 5p\", \"gearbox\": \"manual\", \"cartype\": \"hatch\", \"regdate\": 2013, \"mileage\": 77000, \"motorpower\": \"1.6\", \"fuel\": \"flex\", \"car_steering\": \"hidr\\u00e1ulica\", \"carcolor\": \"amarelo\", \"doors\": \"4 portas\", \"financial\": \"ipva pago\", \"vidro el\\u00e9trico\": 1.0, \"air bag\": 1.0, \"trava el\\u00e9trica\": 1.0, \"ar condicionado\": 1.0, \"dire\\u00e7\\u00e3o hidr\\u00e1ulica\": 1.0, \"alarme\": 1.0, \"som\": 1.0, \"sensor de r\\u00e9\": 1.0}, {\"brand\": \"volkswagen\", \"model\": \"gol\", \"version\": \"no_information\", \"gearbox\": \"manual\", \"cartype\": \"passeio\", \"regdate\": 2016, \"mileage\": 70000, \"motorpower\": \"1.6\", \"fuel\": \"flex\", \"car_steering\": \"hidr\\u00e1ulica\", \"carcolor\": \"branco\", \"doors\": \"4 portas\", \"financial\": \"ipva pago\", \"vidro el\\u00e9trico\": 1.0, \"air bag\": 1.0, \"trava el\\u00e9trica\": 1.0, \"ar condicionado\": 1.0, \"dire\\u00e7\\u00e3o hidr\\u00e1ulica\": 1.0, \"alarme\": 1.0, \"som\": 1.0, \"sensor de r\\u00e9\": 0.0}, {\"brand\": \"volkswagen\", \"model\": \"voyage\", \"version\": \"voyage 1.6 msi flex 8v 4p\", \"gearbox\": \"manual\", \"cartype\": \"sed\\u00e3\", \"regdate\": 2015, \"mileage\": 68000, \"motorpower\": \"1.6\", \"fuel\": \"flex\", \"car_steering\": \"hidr\\u00e1ulica\", \"carcolor\": \"cinza\", \"doors\": \"4 portas\", \"financial\": \"ipva pago\", \"vidro el\\u00e9trico\": 1.0, \"air bag\": 0.0, \"trava el\\u00e9trica\": 1.0, \"ar condicionado\": 1.0, \"dire\\u00e7\\u00e3o hidr\\u00e1ulica\": 1.0, \"alarme\": 1.0, \"som\": 1.0, \"sensor de r\\u00e9\": 0.0}, {\"brand\": \"volkswagen\", \"model\": \"gol\", \"version\": \"gol trendline 1.0 t.flex 8v 5p\", \"gearbox\": \"manual\", \"cartype\": \"hatch\", \"regdate\": 2015, \"mileage\": 86000, \"motorpower\": \"1.0\", \"fuel\": \"flex\", \"car_steering\": \"hidr\\u00e1ulica\", \"carcolor\": \"preto\", \"doors\": \"4 portas\", \"financial\": \"ipva pago\", \"vidro el\\u00e9trico\": 1.0, \"air bag\": 1.0, \"trava el\\u00e9trica\": 1.0, \"ar condicionado\": 1.0, \"dire\\u00e7\\u00e3o hidr\\u00e1ulica\": 1.0, \"alarme\": 1.0, \"som\": 1.0, \"sensor de r\\u00e9\": 1.0}, {\"brand\": \"volkswagen\", \"model\": \"fox\", \"version\": \"no_information\", \"gearbox\": \"manual\", \"cartype\": \"passeio\", \"regdate\": 2015, \"mileage\": 79575, \"motorpower\": \"1.0\", \"fuel\": \"flex\", \"car_steering\": \"hidr\\u00e1ulica\", \"carcolor\": \"prata\", \"doors\": \"4 portas\", \"financial\": \"no_information\", \"vidro el\\u00e9trico\": 1.0, \"air bag\": 1.0, \"trava el\\u00e9trica\": 1.0, \"ar condicionado\": 1.0, \"dire\\u00e7\\u00e3o hidr\\u00e1ulica\": 0.0, \"alarme\": 0.0, \"som\": 0.0, \"sensor de r\\u00e9\": 0.0}]}}, {\"mode\": \"vega-lite\"});\n",
       "</script>"
      ],
      "text/plain": [
       "alt.Chart(...)"
      ]
     },
     "execution_count": 39,
     "metadata": {},
     "output_type": "execute_result"
    }
   ],
   "source": [
    "model_power_count(df)"
   ]
  },
  {
   "cell_type": "code",
   "execution_count": 60,
   "metadata": {},
   "outputs": [
    {
     "data": {
      "text/plain": [
       "['vidro elétrico',\n",
       " 'air bag',\n",
       " 'trava elétrica',\n",
       " 'ar condicionado',\n",
       " 'direção hidráulica',\n",
       " 'alarme',\n",
       " 'som',\n",
       " 'sensor de ré']"
      ]
     },
     "execution_count": 60,
     "metadata": {},
     "output_type": "execute_result"
    }
   ],
   "source": [
    "cols"
   ]
  },
  {
   "cell_type": "code",
   "execution_count": 69,
   "metadata": {},
   "outputs": [],
   "source": [
    "def extra_features(df):\n",
    "    cols = ['vidro elétrico',\n",
    "             'air bag',\n",
    "             'trava elétrica',\n",
    "             'ar condicionado',\n",
    "             'direção hidráulica',\n",
    "             'alarme',\n",
    "             'som',\n",
    "             'sensor de ré']\n",
    "    df = df[cols]\n",
    "    \n",
    "    df.sum().astype(int).plot(kind ='barh')\n",
    "    plt.title('Car Features')\n",
    "    plt.xlabel('count')\n",
    "\n"
   ]
  },
  {
   "cell_type": "code",
   "execution_count": 71,
   "metadata": {},
   "outputs": [
    {
     "data": {
      "image/png": "[encoded data removed]",
      "text/plain": [
       "<Figure size 432x288 with 1 Axes>"
      ]
     },
     "metadata": {
      "needs_background": "light"
     },
     "output_type": "display_data"
    }
   ],
   "source": [
    "feat = extra_features(df)"
   ]
  },
  {
   "cell_type": "code",
   "execution_count": 74,
   "metadata": {},
   "outputs": [
    {
     "data": {
      "text/html": [
       "<div>\n",
       "<style scoped>\n",
       "    .dataframe tbody tr th:only-of-type {\n",
       "        vertical-align: middle;\n",
       "    }\n",
       "\n",
       "    .dataframe tbody tr th {\n",
       "        vertical-align: top;\n",
       "    }\n",
       "\n",
       "    .dataframe thead th {\n",
       "        text-align: right;\n",
       "    }\n",
       "</style>\n",
       "<table border=\"1\" class=\"dataframe\">\n",
       "  <thead>\n",
       "    <tr style=\"text-align: right;\">\n",
       "      <th></th>\n",
       "      <th>brand</th>\n",
       "      <th>model</th>\n",
       "      <th>version</th>\n",
       "      <th>gearbox</th>\n",
       "      <th>cartype</th>\n",
       "      <th>regdate</th>\n",
       "      <th>mileage</th>\n",
       "      <th>motorpower</th>\n",
       "      <th>fuel</th>\n",
       "      <th>car_steering</th>\n",
       "      <th>...</th>\n",
       "      <th>doors</th>\n",
       "      <th>financial</th>\n",
       "      <th>vidro elétrico</th>\n",
       "      <th>air bag</th>\n",
       "      <th>trava elétrica</th>\n",
       "      <th>ar condicionado</th>\n",
       "      <th>direção hidráulica</th>\n",
       "      <th>alarme</th>\n",
       "      <th>som</th>\n",
       "      <th>sensor de ré</th>\n",
       "    </tr>\n",
       "  </thead>\n",
       "  <tbody>\n",
       "    <tr>\n",
       "      <th>0</th>\n",
       "      <td>ford</td>\n",
       "      <td>fiesta</td>\n",
       "      <td>fiesta sedan se 1.6 8v flex 4p</td>\n",
       "      <td>manual</td>\n",
       "      <td>passeio</td>\n",
       "      <td>2013</td>\n",
       "      <td>100</td>\n",
       "      <td>1.6</td>\n",
       "      <td>flex</td>\n",
       "      <td>hidráulica</td>\n",
       "      <td>...</td>\n",
       "      <td>4 portas</td>\n",
       "      <td>no_information</td>\n",
       "      <td>1.0</td>\n",
       "      <td>0.0</td>\n",
       "      <td>1.0</td>\n",
       "      <td>1.0</td>\n",
       "      <td>1.0</td>\n",
       "      <td>1.0</td>\n",
       "      <td>0.0</td>\n",
       "      <td>0.0</td>\n",
       "    </tr>\n",
       "    <tr>\n",
       "      <th>1</th>\n",
       "      <td>ford</td>\n",
       "      <td>ka</td>\n",
       "      <td>ka 1.0 se se plus tivct flex 5p</td>\n",
       "      <td>manual</td>\n",
       "      <td>passeio</td>\n",
       "      <td>2015</td>\n",
       "      <td>58000</td>\n",
       "      <td>1.0</td>\n",
       "      <td>flex</td>\n",
       "      <td>elétrica</td>\n",
       "      <td>...</td>\n",
       "      <td>4 portas</td>\n",
       "      <td>ipva pago</td>\n",
       "      <td>1.0</td>\n",
       "      <td>1.0</td>\n",
       "      <td>1.0</td>\n",
       "      <td>1.0</td>\n",
       "      <td>0.0</td>\n",
       "      <td>1.0</td>\n",
       "      <td>1.0</td>\n",
       "      <td>0.0</td>\n",
       "    </tr>\n",
       "    <tr>\n",
       "      <th>2</th>\n",
       "      <td>ford</td>\n",
       "      <td>fiesta</td>\n",
       "      <td>fiesta 1.6 8v flex class 1.6 8v flex 5p</td>\n",
       "      <td>manual</td>\n",
       "      <td>hatch</td>\n",
       "      <td>2013</td>\n",
       "      <td>70000</td>\n",
       "      <td>1.6</td>\n",
       "      <td>flex</td>\n",
       "      <td>hidráulica</td>\n",
       "      <td>...</td>\n",
       "      <td>4 portas</td>\n",
       "      <td>ipva pago</td>\n",
       "      <td>1.0</td>\n",
       "      <td>1.0</td>\n",
       "      <td>1.0</td>\n",
       "      <td>1.0</td>\n",
       "      <td>1.0</td>\n",
       "      <td>1.0</td>\n",
       "      <td>1.0</td>\n",
       "      <td>0.0</td>\n",
       "    </tr>\n",
       "    <tr>\n",
       "      <th>3</th>\n",
       "      <td>ford</td>\n",
       "      <td>fiesta</td>\n",
       "      <td>fiesta sed. 1.6 8v flex 4p</td>\n",
       "      <td>no_information</td>\n",
       "      <td>sedã</td>\n",
       "      <td>2013</td>\n",
       "      <td>60719</td>\n",
       "      <td>1.6</td>\n",
       "      <td>flex</td>\n",
       "      <td>hidráulica</td>\n",
       "      <td>...</td>\n",
       "      <td>4 portas</td>\n",
       "      <td>ipva pago</td>\n",
       "      <td>1.0</td>\n",
       "      <td>0.0</td>\n",
       "      <td>1.0</td>\n",
       "      <td>1.0</td>\n",
       "      <td>1.0</td>\n",
       "      <td>1.0</td>\n",
       "      <td>0.0</td>\n",
       "      <td>0.0</td>\n",
       "    </tr>\n",
       "    <tr>\n",
       "      <th>4</th>\n",
       "      <td>ford</td>\n",
       "      <td>ka</td>\n",
       "      <td>ka 1.0i 3p</td>\n",
       "      <td>manual</td>\n",
       "      <td>no_information</td>\n",
       "      <td>2015</td>\n",
       "      <td>57000</td>\n",
       "      <td>1.0</td>\n",
       "      <td>flex</td>\n",
       "      <td>elétrica</td>\n",
       "      <td>...</td>\n",
       "      <td>4 portas</td>\n",
       "      <td>ipva pago</td>\n",
       "      <td>1.0</td>\n",
       "      <td>1.0</td>\n",
       "      <td>1.0</td>\n",
       "      <td>1.0</td>\n",
       "      <td>1.0</td>\n",
       "      <td>1.0</td>\n",
       "      <td>1.0</td>\n",
       "      <td>0.0</td>\n",
       "    </tr>\n",
       "  </tbody>\n",
       "</table>\n",
       "<p>5 rows × 21 columns</p>\n",
       "</div>"
      ],
      "text/plain": [
       "  brand   model                                  version         gearbox  \\\n",
       "0  ford  fiesta           fiesta sedan se 1.6 8v flex 4p          manual   \n",
       "1  ford      ka          ka 1.0 se se plus tivct flex 5p          manual   \n",
       "2  ford  fiesta  fiesta 1.6 8v flex class 1.6 8v flex 5p          manual   \n",
       "3  ford  fiesta               fiesta sed. 1.6 8v flex 4p  no_information   \n",
       "4  ford      ka                               ka 1.0i 3p          manual   \n",
       "\n",
       "          cartype  regdate  mileage motorpower  fuel car_steering  ...  \\\n",
       "0         passeio     2013      100        1.6  flex   hidráulica  ...   \n",
       "1         passeio     2015    58000        1.0  flex     elétrica  ...   \n",
       "2           hatch     2013    70000        1.6  flex   hidráulica  ...   \n",
       "3            sedã     2013    60719        1.6  flex   hidráulica  ...   \n",
       "4  no_information     2015    57000        1.0  flex     elétrica  ...   \n",
       "\n",
       "      doors       financial vidro elétrico  air bag  trava elétrica  \\\n",
       "0  4 portas  no_information            1.0      0.0             1.0   \n",
       "1  4 portas       ipva pago            1.0      1.0             1.0   \n",
       "2  4 portas       ipva pago            1.0      1.0             1.0   \n",
       "3  4 portas       ipva pago            1.0      0.0             1.0   \n",
       "4  4 portas       ipva pago            1.0      1.0             1.0   \n",
       "\n",
       "   ar condicionado  direção hidráulica  alarme  som  sensor de ré  \n",
       "0              1.0                 1.0     1.0  0.0           0.0  \n",
       "1              1.0                 0.0     1.0  1.0           0.0  \n",
       "2              1.0                 1.0     1.0  1.0           0.0  \n",
       "3              1.0                 1.0     1.0  0.0           0.0  \n",
       "4              1.0                 1.0     1.0  1.0           0.0  \n",
       "\n",
       "[5 rows x 21 columns]"
      ]
     },
     "execution_count": 74,
     "metadata": {},
     "output_type": "execute_result"
    }
   ],
   "source": [
    "df.head()"
   ]
  },
  {
   "cell_type": "code",
   "execution_count": 81,
   "metadata": {},
   "outputs": [
    {
     "data": {
      "text/plain": [
       "count        75.000000\n",
       "mean      64767.320000\n",
       "std       25644.030828\n",
       "min          47.000000\n",
       "25%       59000.000000\n",
       "50%       70000.000000\n",
       "75%       82190.000000\n",
       "max      103000.000000\n",
       "Name: mileage, dtype: float64"
      ]
     },
     "execution_count": 81,
     "metadata": {},
     "output_type": "execute_result"
    }
   ],
   "source": [
    "df['mileage'].describe().T"
   ]
  },
  {
   "cell_type": "code",
   "execution_count": 76,
   "metadata": {},
   "outputs": [
    {
     "data": {
      "text/plain": [
       "vidro elétrico        69.0\n",
       "air bag               45.0\n",
       "trava elétrica        67.0\n",
       "ar condicionado       70.0\n",
       "direção hidráulica    49.0\n",
       "alarme                58.0\n",
       "som                   43.0\n",
       "sensor de ré          17.0\n",
       "dtype: float64"
      ]
     },
     "execution_count": 76,
     "metadata": {},
     "output_type": "execute_result"
    }
   ],
   "source": [
    "df[cols].sum()"
   ]
  },
  {
   "cell_type": "code",
   "execution_count": 80,
   "metadata": {},
   "outputs": [
    {
     "data": {
      "text/plain": [
       "fiesta            20\n",
       "gol               17\n",
       "ka                12\n",
       "fox               10\n",
       "voyage             8\n",
       "focus              3\n",
       "up                 2\n",
       "crossfox           1\n",
       "spacefox           1\n",
       "no_information     1\n",
       "Name: model, dtype: int64"
      ]
     },
     "execution_count": 80,
     "metadata": {},
     "output_type": "execute_result"
    }
   ],
   "source": [
    "df['model'].value_counts()"
   ]
  },
  {
   "cell_type": "code",
   "execution_count": 84,
   "metadata": {},
   "outputs": [
    {
     "data": {
      "text/plain": [
       "['vidro elétrico',\n",
       " 'air bag',\n",
       " 'trava elétrica',\n",
       " 'ar condicionado',\n",
       " 'direção hidráulica',\n",
       " 'alarme',\n",
       " 'som',\n",
       " 'sensor de ré']"
      ]
     },
     "execution_count": 84,
     "metadata": {},
     "output_type": "execute_result"
    }
   ],
   "source": [
    "cols"
   ]
  },
  {
   "cell_type": "code",
   "execution_count": null,
   "metadata": {},
   "outputs": [],
   "source": []
  }
 ],
 "metadata": {
  "kernelspec": {
   "display_name": "Python 3",
   "language": "python",
   "name": "python3"
  },
  "language_info": {
   "codemirror_mode": {
    "name": "ipython",
    "version": 3
   },
   "file_extension": ".py",
   "mimetype": "text/x-python",
   "name": "python",
   "nbconvert_exporter": "python",
   "pygments_lexer": "ipython3",
   "version": "3.7.3"
  }
 },
 "nbformat": 4,
 "nbformat_minor": 4
}
