{
 "cells": [
  {
   "cell_type": "markdown",
   "metadata": {},
   "source": [
    "# Data Cleaning and Feature engineering"
   ]
  },
  {
   "cell_type": "code",
   "execution_count": 1,
   "metadata": {},
   "outputs": [],
   "source": [
    "import pandas as pd\n",
    "import numpy as np\n",
    "import re\n",
    "import time\n",
    "import requests as rq\n",
    "import bs4 as bs4\n",
    "\n",
    "pd.set_option('max_colwidth', None)\n",
    "pd.set_option('display.max_rows', None)\n",
    "\n",
    "pd.set_option('max_columns', 28)\n"
   ]
  },
  {
   "cell_type": "code",
   "execution_count": 2,
   "metadata": {},
   "outputs": [
    {
     "data": {
      "text/html": [
       "<div>\n",
       "<style scoped>\n",
       "    .dataframe tbody tr th:only-of-type {\n",
       "        vertical-align: middle;\n",
       "    }\n",
       "\n",
       "    .dataframe tbody tr th {\n",
       "        vertical-align: top;\n",
       "    }\n",
       "\n",
       "    .dataframe thead th {\n",
       "        text-align: right;\n",
       "    }\n",
       "</style>\n",
       "<table border=\"1\" class=\"dataframe\">\n",
       "  <thead>\n",
       "    <tr style=\"text-align: right;\">\n",
       "      <th></th>\n",
       "      <th>link</th>\n",
       "      <th>brand</th>\n",
       "      <th>price</th>\n",
       "      <th>cartype</th>\n",
       "      <th>model</th>\n",
       "      <th>gearbox</th>\n",
       "      <th>regdate</th>\n",
       "      <th>mileage</th>\n",
       "      <th>motorpower</th>\n",
       "      <th>fuel</th>\n",
       "      <th>car_steering</th>\n",
       "      <th>carcolor</th>\n",
       "      <th>exchange</th>\n",
       "      <th>version</th>\n",
       "      <th>doors</th>\n",
       "      <th>financial</th>\n",
       "      <th>extra</th>\n",
       "    </tr>\n",
       "  </thead>\n",
       "  <tbody>\n",
       "    <tr>\n",
       "      <th>6860</th>\n",
       "      <td>https://rj.olx.com.br/rio-de-janeiro-e-regiao/autos-e-pecas/carros-vans-e-utilitarios/link_wv-voyage-2016-confortiline-parcelas-fixas-de-r-615-00-714041737</td>\n",
       "      <td>vwvolkswagen</td>\n",
       "      <td>27900</td>\n",
       "      <td>0</td>\n",
       "      <td>voyage</td>\n",
       "      <td>0</td>\n",
       "      <td>2016</td>\n",
       "      <td>78321</td>\n",
       "      <td>0</td>\n",
       "      <td>flex</td>\n",
       "      <td>0</td>\n",
       "      <td>0</td>\n",
       "      <td>0</td>\n",
       "      <td>0</td>\n",
       "      <td>0</td>\n",
       "      <td>0</td>\n",
       "      <td>vidro elétrico, air bag, trava elétrica, ar condicionado, direção hidráulica, alarme, som, sensor de ré</td>\n",
       "    </tr>\n",
       "    <tr>\n",
       "      <th>6861</th>\n",
       "      <td>https://rj.olx.com.br/rio-de-janeiro-e-regiao/autos-e-pecas/carros-vans-e-utilitarios/link_wv-voyage-completo-trend-1-6-2018-715280723</td>\n",
       "      <td>vwvolkswagen</td>\n",
       "      <td>38900</td>\n",
       "      <td>sedã</td>\n",
       "      <td>voyage</td>\n",
       "      <td>manual</td>\n",
       "      <td>2018</td>\n",
       "      <td>36000</td>\n",
       "      <td>1.6</td>\n",
       "      <td>flex</td>\n",
       "      <td>hidráulica</td>\n",
       "      <td>preto</td>\n",
       "      <td>não</td>\n",
       "      <td>voyage trend 1.6 mi total flex 8v 4p</td>\n",
       "      <td>4 portas</td>\n",
       "      <td>ipva pago</td>\n",
       "      <td>vidro elétrico, air bag, trava elétrica, ar condicionado, direção hidráulica, alarme, som, sensor de ré</td>\n",
       "    </tr>\n",
       "  </tbody>\n",
       "</table>\n",
       "</div>"
      ],
      "text/plain": [
       "                                                                                                                                                             link  \\\n",
       "6860  https://rj.olx.com.br/rio-de-janeiro-e-regiao/autos-e-pecas/carros-vans-e-utilitarios/link_wv-voyage-2016-confortiline-parcelas-fixas-de-r-615-00-714041737   \n",
       "6861                       https://rj.olx.com.br/rio-de-janeiro-e-regiao/autos-e-pecas/carros-vans-e-utilitarios/link_wv-voyage-completo-trend-1-6-2018-715280723   \n",
       "\n",
       "             brand  price cartype   model gearbox  regdate  mileage  \\\n",
       "6860  vwvolkswagen  27900       0  voyage       0     2016    78321   \n",
       "6861  vwvolkswagen  38900    sedã  voyage  manual     2018    36000   \n",
       "\n",
       "     motorpower  fuel car_steering carcolor exchange  \\\n",
       "6860          0  flex            0        0        0   \n",
       "6861        1.6  flex   hidráulica    preto      não   \n",
       "\n",
       "                                   version     doors  financial  \\\n",
       "6860                                     0         0          0   \n",
       "6861  voyage trend 1.6 mi total flex 8v 4p  4 portas  ipva pago   \n",
       "\n",
       "                                                                                                        extra  \n",
       "6860  vidro elétrico, air bag, trava elétrica, ar condicionado, direção hidráulica, alarme, som, sensor de ré  \n",
       "6861  vidro elétrico, air bag, trava elétrica, ar condicionado, direção hidráulica, alarme, som, sensor de ré  "
      ]
     },
     "execution_count": 2,
     "metadata": {},
     "output_type": "execute_result"
    }
   ],
   "source": [
    "df = pd.read_json('parsed_link_info.json',lines = True)\n",
    "df.tail(2)"
   ]
  },
  {
   "cell_type": "code",
   "execution_count": 3,
   "metadata": {},
   "outputs": [
    {
     "data": {
      "text/html": [
       "<div>\n",
       "<style scoped>\n",
       "    .dataframe tbody tr th:only-of-type {\n",
       "        vertical-align: middle;\n",
       "    }\n",
       "\n",
       "    .dataframe tbody tr th {\n",
       "        vertical-align: top;\n",
       "    }\n",
       "\n",
       "    .dataframe thead th {\n",
       "        text-align: right;\n",
       "    }\n",
       "</style>\n",
       "<table border=\"1\" class=\"dataframe\">\n",
       "  <thead>\n",
       "    <tr style=\"text-align: right;\">\n",
       "      <th></th>\n",
       "      <th>link</th>\n",
       "      <th>brand</th>\n",
       "      <th>price</th>\n",
       "      <th>cartype</th>\n",
       "      <th>model</th>\n",
       "      <th>gearbox</th>\n",
       "      <th>regdate</th>\n",
       "      <th>mileage</th>\n",
       "      <th>motorpower</th>\n",
       "      <th>fuel</th>\n",
       "      <th>car_steering</th>\n",
       "      <th>carcolor</th>\n",
       "      <th>exchange</th>\n",
       "      <th>version</th>\n",
       "      <th>doors</th>\n",
       "      <th>financial</th>\n",
       "      <th>extra</th>\n",
       "    </tr>\n",
       "  </thead>\n",
       "  <tbody>\n",
       "    <tr>\n",
       "      <th>6792</th>\n",
       "      <td>https://rj.olx.com.br/rio-de-janeiro-e-regiao/autos-e-pecas/carros-vans-e-utilitarios/link_vw-volkswagen-saveiro-1-6-completa-muito-nova-sem-detalhes-737580066</td>\n",
       "      <td>vwvolkswagen</td>\n",
       "      <td></td>\n",
       "      <td>passeio</td>\n",
       "      <td>saveiro</td>\n",
       "      <td>manual</td>\n",
       "      <td>2014</td>\n",
       "      <td>55000</td>\n",
       "      <td>0</td>\n",
       "      <td>flex</td>\n",
       "      <td>0</td>\n",
       "      <td>prata</td>\n",
       "      <td>0</td>\n",
       "      <td>saveiro trendline 1.6 t.flex 8v</td>\n",
       "      <td>0</td>\n",
       "      <td>0</td>\n",
       "      <td>vidro elétrico, air bag, trava elétrica, ar condicionado, direção hidráulica, alarme, som, sensor de ré, c mera de ré</td>\n",
       "    </tr>\n",
       "    <tr>\n",
       "      <th>6803</th>\n",
       "      <td>https://rj.olx.com.br/rio-de-janeiro-e-regiao/autos-e-pecas/carros-vans-e-utilitarios/link_vw-volkswagen-up-higth-ma-1-0-2015-580751777</td>\n",
       "      <td>vwvolkswagen</td>\n",
       "      <td></td>\n",
       "      <td>hatch</td>\n",
       "      <td>up</td>\n",
       "      <td>manual</td>\n",
       "      <td>2015</td>\n",
       "      <td>1</td>\n",
       "      <td>1.0</td>\n",
       "      <td>flex</td>\n",
       "      <td>hidráulica</td>\n",
       "      <td>preto</td>\n",
       "      <td>sim</td>\n",
       "      <td>up  high 1.0 total flex 12v 5p</td>\n",
       "      <td>4 portas</td>\n",
       "      <td>0</td>\n",
       "      <td>vidro elétrico, air bag, trava elétrica, ar condicionado, alarme, som</td>\n",
       "    </tr>\n",
       "  </tbody>\n",
       "</table>\n",
       "</div>"
      ],
      "text/plain": [
       "                                                                                                                                                                 link  \\\n",
       "6792  https://rj.olx.com.br/rio-de-janeiro-e-regiao/autos-e-pecas/carros-vans-e-utilitarios/link_vw-volkswagen-saveiro-1-6-completa-muito-nova-sem-detalhes-737580066   \n",
       "6803                          https://rj.olx.com.br/rio-de-janeiro-e-regiao/autos-e-pecas/carros-vans-e-utilitarios/link_vw-volkswagen-up-higth-ma-1-0-2015-580751777   \n",
       "\n",
       "             brand price  cartype    model gearbox  regdate  mileage  \\\n",
       "6792  vwvolkswagen        passeio  saveiro  manual     2014    55000   \n",
       "6803  vwvolkswagen          hatch       up  manual     2015        1   \n",
       "\n",
       "     motorpower  fuel car_steering carcolor exchange  \\\n",
       "6792          0  flex            0    prata        0   \n",
       "6803        1.0  flex   hidráulica    preto      sim   \n",
       "\n",
       "                              version     doors financial  \\\n",
       "6792  saveiro trendline 1.6 t.flex 8v         0         0   \n",
       "6803   up  high 1.0 total flex 12v 5p  4 portas         0   \n",
       "\n",
       "                                                                                                                      extra  \n",
       "6792  vidro elétrico, air bag, trava elétrica, ar condicionado, direção hidráulica, alarme, som, sensor de ré, c mera de ré  \n",
       "6803                                                  vidro elétrico, air bag, trava elétrica, ar condicionado, alarme, som  "
      ]
     },
     "execution_count": 3,
     "metadata": {},
     "output_type": "execute_result"
    }
   ],
   "source": [
    "df.loc[df.price == '',:].tail(2)"
   ]
  },
  {
   "cell_type": "markdown",
   "metadata": {},
   "source": [
    "# Basic  Data exploration"
   ]
  },
  {
   "cell_type": "markdown",
   "metadata": {},
   "source": [
    "I noticed that some cells are empty.After analyzing it I came up with the conclusion that most of the cars with no price are on the website for exchange.  Also, I was wondering how could someone forget to add the price of the car when selling it on a website? This might be intentional, this person might not really want to sell the car and unloaded it in order to check if someone would offer a value. Anyway, I will delete those cars. "
   ]
  },
  {
   "cell_type": "code",
   "execution_count": 4,
   "metadata": {},
   "outputs": [
    {
     "data": {
      "text/plain": [
       "array([  18,   19,   25,   26,   27,   28,   31,   34,   49,   52,   85,\n",
       "        114,  159,  160,  171,  180,  245,  259,  412,  588, 1020, 1052,\n",
       "       1099, 1954, 2194, 2197, 2238, 2488, 2491, 2569, 2570, 2571, 2572,\n",
       "       2637, 2647, 2737, 2781, 2784, 2954, 2960, 3044, 3222, 3254, 3270,\n",
       "       3367, 3537, 3652, 3771, 3891, 3892, 4176, 4217, 4220, 4228, 4232,\n",
       "       4313, 4318, 4404, 4405, 4416, 4558, 4571, 4579, 4595, 4661, 4667,\n",
       "       4669, 4670, 4740, 4811, 4817, 4882, 4885, 4908, 4940, 4977, 5032,\n",
       "       5069, 5123, 5136, 5137, 5265, 5294, 5327, 5760, 6145, 6233, 6398,\n",
       "       6442, 6457, 6508, 6560, 6596, 6645, 6662, 6663, 6679, 6685, 6686,\n",
       "       6688, 6698, 6730, 6767, 6788, 6791, 6792, 6803])"
      ]
     },
     "execution_count": 4,
     "metadata": {},
     "output_type": "execute_result"
    }
   ],
   "source": [
    "# All rows with empty space (index)\n",
    "empty_price = np.where(df.applymap(lambda x: x == ''))[0]\n",
    "empty_price"
   ]
  },
  {
   "cell_type": "code",
   "execution_count": 5,
   "metadata": {},
   "outputs": [
    {
     "data": {
      "text/html": [
       "<div>\n",
       "<style scoped>\n",
       "    .dataframe tbody tr th:only-of-type {\n",
       "        vertical-align: middle;\n",
       "    }\n",
       "\n",
       "    .dataframe tbody tr th {\n",
       "        vertical-align: top;\n",
       "    }\n",
       "\n",
       "    .dataframe thead th {\n",
       "        text-align: right;\n",
       "    }\n",
       "</style>\n",
       "<table border=\"1\" class=\"dataframe\">\n",
       "  <thead>\n",
       "    <tr style=\"text-align: right;\">\n",
       "      <th></th>\n",
       "      <th>link</th>\n",
       "      <th>brand</th>\n",
       "      <th>price</th>\n",
       "      <th>cartype</th>\n",
       "      <th>model</th>\n",
       "      <th>gearbox</th>\n",
       "      <th>regdate</th>\n",
       "      <th>mileage</th>\n",
       "      <th>motorpower</th>\n",
       "      <th>fuel</th>\n",
       "      <th>car_steering</th>\n",
       "      <th>carcolor</th>\n",
       "      <th>exchange</th>\n",
       "      <th>version</th>\n",
       "      <th>doors</th>\n",
       "      <th>financial</th>\n",
       "      <th>extra</th>\n",
       "    </tr>\n",
       "  </thead>\n",
       "  <tbody>\n",
       "    <tr>\n",
       "      <th>0</th>\n",
       "      <td>https://rj.olx.com.br/rio-de-janeiro-e-regiao/autos-e-pecas/carros-vans-e-utilitarios/link_-unica-dona-729128175</td>\n",
       "      <td>ford</td>\n",
       "      <td>35900</td>\n",
       "      <td>hatch</td>\n",
       "      <td>ka</td>\n",
       "      <td>manual</td>\n",
       "      <td>2017</td>\n",
       "      <td>33000</td>\n",
       "      <td>1.0</td>\n",
       "      <td>flex</td>\n",
       "      <td>hidráulica</td>\n",
       "      <td>preto</td>\n",
       "      <td>sim</td>\n",
       "      <td>ka 1.0 se se plus tivct flex 5p</td>\n",
       "      <td>4 portas</td>\n",
       "      <td>ipva pago</td>\n",
       "      <td>vidro elétrico, air bag, ar condicionado, direção hidráulica, alarme, som, sensor de ré</td>\n",
       "    </tr>\n",
       "    <tr>\n",
       "      <th>1</th>\n",
       "      <td>https://rj.olx.com.br/rio-de-janeiro-e-regiao/autos-e-pecas/carros-vans-e-utilitarios/link_0vendo-gol-1-0-com-ar-condicionado-baixo-km-734865745</td>\n",
       "      <td>vwvolkswagen</td>\n",
       "      <td>16400</td>\n",
       "      <td>0</td>\n",
       "      <td>gol</td>\n",
       "      <td>manual</td>\n",
       "      <td>2013</td>\n",
       "      <td>52000</td>\n",
       "      <td>0</td>\n",
       "      <td>flex</td>\n",
       "      <td>0</td>\n",
       "      <td>0</td>\n",
       "      <td>sim</td>\n",
       "      <td>gol 1.0 plus 8v 2p</td>\n",
       "      <td>0</td>\n",
       "      <td>ipva pago</td>\n",
       "      <td>0</td>\n",
       "    </tr>\n",
       "  </tbody>\n",
       "</table>\n",
       "</div>"
      ],
      "text/plain": [
       "                                                                                                                                               link  \\\n",
       "0                                  https://rj.olx.com.br/rio-de-janeiro-e-regiao/autos-e-pecas/carros-vans-e-utilitarios/link_-unica-dona-729128175   \n",
       "1  https://rj.olx.com.br/rio-de-janeiro-e-regiao/autos-e-pecas/carros-vans-e-utilitarios/link_0vendo-gol-1-0-com-ar-condicionado-baixo-km-734865745   \n",
       "\n",
       "          brand  price cartype model gearbox  regdate  mileage motorpower  \\\n",
       "0          ford  35900   hatch    ka  manual     2017    33000        1.0   \n",
       "1  vwvolkswagen  16400       0   gol  manual     2013    52000          0   \n",
       "\n",
       "   fuel car_steering carcolor exchange                          version  \\\n",
       "0  flex   hidráulica    preto      sim  ka 1.0 se se plus tivct flex 5p   \n",
       "1  flex            0        0      sim               gol 1.0 plus 8v 2p   \n",
       "\n",
       "      doors  financial  \\\n",
       "0  4 portas  ipva pago   \n",
       "1         0  ipva pago   \n",
       "\n",
       "                                                                                     extra  \n",
       "0  vidro elétrico, air bag, ar condicionado, direção hidráulica, alarme, som, sensor de ré  \n",
       "1                                                                                        0  "
      ]
     },
     "execution_count": 5,
     "metadata": {},
     "output_type": "execute_result"
    }
   ],
   "source": [
    "# drop rows with empty price\n",
    "df.drop(index = empty_price , inplace = True)\n",
    "# reset index\n",
    "df = df.reset_index(drop=True)\n",
    "df.head(2)"
   ]
  },
  {
   "cell_type": "code",
   "execution_count": 6,
   "metadata": {},
   "outputs": [
    {
     "data": {
      "text/html": [
       "<div>\n",
       "<style scoped>\n",
       "    .dataframe tbody tr th:only-of-type {\n",
       "        vertical-align: middle;\n",
       "    }\n",
       "\n",
       "    .dataframe tbody tr th {\n",
       "        vertical-align: top;\n",
       "    }\n",
       "\n",
       "    .dataframe thead th {\n",
       "        text-align: right;\n",
       "    }\n",
       "</style>\n",
       "<table border=\"1\" class=\"dataframe\">\n",
       "  <thead>\n",
       "    <tr style=\"text-align: right;\">\n",
       "      <th></th>\n",
       "      <th>link</th>\n",
       "      <th>brand</th>\n",
       "      <th>price</th>\n",
       "      <th>cartype</th>\n",
       "      <th>model</th>\n",
       "      <th>gearbox</th>\n",
       "      <th>regdate</th>\n",
       "      <th>mileage</th>\n",
       "      <th>motorpower</th>\n",
       "      <th>fuel</th>\n",
       "      <th>car_steering</th>\n",
       "      <th>carcolor</th>\n",
       "      <th>exchange</th>\n",
       "      <th>version</th>\n",
       "      <th>doors</th>\n",
       "      <th>financial</th>\n",
       "      <th>extra</th>\n",
       "    </tr>\n",
       "  </thead>\n",
       "  <tbody>\n",
       "    <tr>\n",
       "      <th>18</th>\n",
       "      <td>https://rj.olx.com.br/rio-de-janeiro-e-regiao/autos-e-pecas/carros-vans-e-utilitarios/link_alo-uber-ka-1-5-sedan-2015-novissimo-729280853</td>\n",
       "      <td>ford</td>\n",
       "      <td>33990</td>\n",
       "      <td>sedã</td>\n",
       "      <td>ka</td>\n",
       "      <td>manual</td>\n",
       "      <td>2015</td>\n",
       "      <td>80000</td>\n",
       "      <td>1.5</td>\n",
       "      <td>flex</td>\n",
       "      <td>elétrica</td>\n",
       "      <td>branco</td>\n",
       "      <td>sim</td>\n",
       "      <td>ka  sedan 1.5 16v flex 4p</td>\n",
       "      <td>4 portas</td>\n",
       "      <td>0</td>\n",
       "      <td>vidro elétrico, air bag, trava elétrica, ar condicionado, direção hidráulica, alarme</td>\n",
       "    </tr>\n",
       "  </tbody>\n",
       "</table>\n",
       "</div>"
      ],
      "text/plain": [
       "                                                                                                                                         link  \\\n",
       "18  https://rj.olx.com.br/rio-de-janeiro-e-regiao/autos-e-pecas/carros-vans-e-utilitarios/link_alo-uber-ka-1-5-sedan-2015-novissimo-729280853   \n",
       "\n",
       "   brand  price cartype model gearbox  regdate  mileage motorpower  fuel  \\\n",
       "18  ford  33990    sedã    ka  manual     2015    80000        1.5  flex   \n",
       "\n",
       "   car_steering carcolor exchange                    version     doors  \\\n",
       "18     elétrica   branco      sim  ka  sedan 1.5 16v flex 4p  4 portas   \n",
       "\n",
       "   financial  \\\n",
       "18         0   \n",
       "\n",
       "                                                                                   extra  \n",
       "18  vidro elétrico, air bag, trava elétrica, ar condicionado, direção hidráulica, alarme  "
      ]
     },
     "execution_count": 6,
     "metadata": {},
     "output_type": "execute_result"
    }
   ],
   "source": [
    "# Sanity check\n",
    "df.iloc[[18]]"
   ]
  },
  {
   "cell_type": "code",
   "execution_count": 7,
   "metadata": {},
   "outputs": [],
   "source": [
    "# shuffle dataframe\n",
    "#from sklearn.utils import shuffle\n",
    "#df = shuffle(df).reset_index(drop=True)"
   ]
  },
  {
   "cell_type": "code",
   "execution_count": 8,
   "metadata": {},
   "outputs": [],
   "source": [
    "# save to csv\n",
    "#df.to_csv('car_information.csv')"
   ]
  },
  {
   "cell_type": "markdown",
   "metadata": {},
   "source": [
    "Impot to notice that there is no nan variable but it does not mean that we don't have missing value. In fact, the zeros represent the missing values."
   ]
  },
  {
   "cell_type": "code",
   "execution_count": 9,
   "metadata": {},
   "outputs": [
    {
     "data": {
      "text/plain": [
       "link            0\n",
       "brand           0\n",
       "price           0\n",
       "cartype         0\n",
       "model           0\n",
       "gearbox         0\n",
       "regdate         0\n",
       "mileage         0\n",
       "motorpower      0\n",
       "fuel            0\n",
       "car_steering    0\n",
       "carcolor        0\n",
       "exchange        0\n",
       "version         0\n",
       "doors           0\n",
       "financial       0\n",
       "extra           0\n",
       "dtype: int64"
      ]
     },
     "execution_count": 9,
     "metadata": {},
     "output_type": "execute_result"
    }
   ],
   "source": [
    "df.isna().sum()"
   ]
  },
  {
   "cell_type": "code",
   "execution_count": 10,
   "metadata": {},
   "outputs": [
    {
     "data": {
      "text/html": [
       "<div>\n",
       "<style scoped>\n",
       "    .dataframe tbody tr th:only-of-type {\n",
       "        vertical-align: middle;\n",
       "    }\n",
       "\n",
       "    .dataframe tbody tr th {\n",
       "        vertical-align: top;\n",
       "    }\n",
       "\n",
       "    .dataframe thead th {\n",
       "        text-align: right;\n",
       "    }\n",
       "</style>\n",
       "<table border=\"1\" class=\"dataframe\">\n",
       "  <thead>\n",
       "    <tr style=\"text-align: right;\">\n",
       "      <th></th>\n",
       "      <th>link</th>\n",
       "      <th>brand</th>\n",
       "      <th>price</th>\n",
       "      <th>cartype</th>\n",
       "      <th>model</th>\n",
       "      <th>gearbox</th>\n",
       "      <th>regdate</th>\n",
       "      <th>mileage</th>\n",
       "      <th>motorpower</th>\n",
       "      <th>fuel</th>\n",
       "      <th>car_steering</th>\n",
       "      <th>carcolor</th>\n",
       "      <th>exchange</th>\n",
       "      <th>version</th>\n",
       "      <th>doors</th>\n",
       "      <th>financial</th>\n",
       "      <th>extra</th>\n",
       "    </tr>\n",
       "  </thead>\n",
       "  <tbody>\n",
       "    <tr>\n",
       "      <th>18</th>\n",
       "      <td>https://rj.olx.com.br/rio-de-janeiro-e-regiao/autos-e-pecas/carros-vans-e-utilitarios/link_alo-uber-ka-1-5-sedan-2015-novissimo-729280853</td>\n",
       "      <td>ford</td>\n",
       "      <td>33990</td>\n",
       "      <td>sedã</td>\n",
       "      <td>ka</td>\n",
       "      <td>manual</td>\n",
       "      <td>2015</td>\n",
       "      <td>80000</td>\n",
       "      <td>1.5</td>\n",
       "      <td>flex</td>\n",
       "      <td>elétrica</td>\n",
       "      <td>branco</td>\n",
       "      <td>sim</td>\n",
       "      <td>ka  sedan 1.5 16v flex 4p</td>\n",
       "      <td>4 portas</td>\n",
       "      <td>0</td>\n",
       "      <td>vidro elétrico, air bag, trava elétrica, ar condicionado, direção hidráulica, alarme</td>\n",
       "    </tr>\n",
       "  </tbody>\n",
       "</table>\n",
       "</div>"
      ],
      "text/plain": [
       "                                                                                                                                         link  \\\n",
       "18  https://rj.olx.com.br/rio-de-janeiro-e-regiao/autos-e-pecas/carros-vans-e-utilitarios/link_alo-uber-ka-1-5-sedan-2015-novissimo-729280853   \n",
       "\n",
       "   brand  price cartype model gearbox  regdate  mileage motorpower  fuel  \\\n",
       "18  ford  33990    sedã    ka  manual     2015    80000        1.5  flex   \n",
       "\n",
       "   car_steering carcolor exchange                    version     doors  \\\n",
       "18     elétrica   branco      sim  ka  sedan 1.5 16v flex 4p  4 portas   \n",
       "\n",
       "   financial  \\\n",
       "18         0   \n",
       "\n",
       "                                                                                   extra  \n",
       "18  vidro elétrico, air bag, trava elétrica, ar condicionado, direção hidráulica, alarme  "
      ]
     },
     "execution_count": 10,
     "metadata": {},
     "output_type": "execute_result"
    }
   ],
   "source": [
    "# Sanity check\n",
    "df.iloc[[18]]"
   ]
  },
  {
   "cell_type": "code",
   "execution_count": 11,
   "metadata": {},
   "outputs": [
    {
     "data": {
      "text/plain": [
       "link            object\n",
       "brand           object\n",
       "price            int64\n",
       "cartype         object\n",
       "model           object\n",
       "gearbox         object\n",
       "regdate          int64\n",
       "mileage          int64\n",
       "motorpower      object\n",
       "fuel            object\n",
       "car_steering    object\n",
       "carcolor        object\n",
       "exchange        object\n",
       "version         object\n",
       "doors           object\n",
       "financial       object\n",
       "extra           object\n",
       "dtype: object"
      ]
     },
     "execution_count": 11,
     "metadata": {},
     "output_type": "execute_result"
    }
   ],
   "source": [
    "df.astype({'price': 'int64',\n",
    "           'regdate':'int',\n",
    "          'mileage':'int64'}).dtypes"
   ]
  },
  {
   "cell_type": "markdown",
   "metadata": {},
   "source": [
    "Delete Rows where price, model and mileage equals zero."
   ]
  },
  {
   "cell_type": "code",
   "execution_count": 12,
   "metadata": {},
   "outputs": [
    {
     "data": {
      "text/plain": [
       "Int64Index([ 194,  465, 1072, 1239, 1418, 1443, 1673, 1909, 1911, 2037, 2038,\n",
       "            2039, 2040, 2229, 2340, 2345, 2511, 2612, 2647, 2650, 2743, 2816,\n",
       "            2833, 3053, 3281, 3400, 3402, 3423, 3476, 3719, 3727, 3887, 4426,\n",
       "            4717, 4740, 5299, 5565, 5573, 5592, 5604, 5729, 5829, 5855, 5856,\n",
       "            5874, 6365, 6403, 6509, 6529, 6540, 6697, 6742],\n",
       "           dtype='int64')"
      ]
     },
     "execution_count": 12,
     "metadata": {},
     "output_type": "execute_result"
    }
   ],
   "source": [
    "# Rows where price equals zero - index\n",
    "zero_price = df.loc[df.price == 0 , : ].index\n",
    "zero_price"
   ]
  },
  {
   "cell_type": "code",
   "execution_count": 13,
   "metadata": {},
   "outputs": [],
   "source": [
    "def del_rows(df, features):\n",
    "    '''Deletes rows where specified feature is zero\n",
    "    \n",
    "    ARG: \n",
    "    df(dataframe): The dataframe that will be processed\n",
    "    features(list): List of strings containing the features that zero  needs to be deleted\n",
    "    \n",
    "    RETURNS:\n",
    "    df_drop(dataframe): The dataframe with specific rows deleted'''\n",
    "    \n",
    "    df_drop = df.copy()\n",
    "    \n",
    "    for feature in features:\n",
    "        # Rows where price equals zero - index\n",
    "        zeros_index = df_drop.loc[df_drop[feature] == 0 , : ].index\n",
    "        # drow rows\n",
    "        df_drop = df_drop.drop(zeros_index, axis = 0)\n",
    "        \n",
    "    df_drop = df_drop.reset_index(drop=True)\n",
    "        \n",
    "    return df_drop\n",
    "        \n",
    "        "
   ]
  },
  {
   "cell_type": "code",
   "execution_count": 14,
   "metadata": {},
   "outputs": [],
   "source": [
    "colnames= ['price','model', 'mileage']\n",
    "\n",
    "df = del_rows(df,colnames )"
   ]
  },
  {
   "cell_type": "markdown",
   "metadata": {},
   "source": [
    "# data cleaning and data Engineering"
   ]
  },
  {
   "cell_type": "markdown",
   "metadata": {},
   "source": [
    "## part 1 - Create column for each extra feature:\n",
    "\n",
    "In order to identify all extra information I have, I will check the length of the extra column, identify the greates string lenght and see each extra feature it contains. That way, I can create specific columns for each of those feature. "
   ]
  },
  {
   "cell_type": "code",
   "execution_count": 15,
   "metadata": {},
   "outputs": [
    {
     "data": {
      "text/html": [
       "<div>\n",
       "<style scoped>\n",
       "    .dataframe tbody tr th:only-of-type {\n",
       "        vertical-align: middle;\n",
       "    }\n",
       "\n",
       "    .dataframe tbody tr th {\n",
       "        vertical-align: top;\n",
       "    }\n",
       "\n",
       "    .dataframe thead th {\n",
       "        text-align: right;\n",
       "    }\n",
       "</style>\n",
       "<table border=\"1\" class=\"dataframe\">\n",
       "  <thead>\n",
       "    <tr style=\"text-align: right;\">\n",
       "      <th></th>\n",
       "      <th>link</th>\n",
       "      <th>brand</th>\n",
       "      <th>price</th>\n",
       "      <th>cartype</th>\n",
       "      <th>model</th>\n",
       "      <th>gearbox</th>\n",
       "      <th>regdate</th>\n",
       "      <th>mileage</th>\n",
       "      <th>motorpower</th>\n",
       "      <th>fuel</th>\n",
       "      <th>car_steering</th>\n",
       "      <th>carcolor</th>\n",
       "      <th>exchange</th>\n",
       "      <th>version</th>\n",
       "      <th>doors</th>\n",
       "      <th>financial</th>\n",
       "      <th>extra</th>\n",
       "      <th>extra_len</th>\n",
       "    </tr>\n",
       "  </thead>\n",
       "  <tbody>\n",
       "    <tr>\n",
       "      <th>0</th>\n",
       "      <td>https://rj.olx.com.br/rio-de-janeiro-e-regiao/autos-e-pecas/carros-vans-e-utilitarios/link_-unica-dona-729128175</td>\n",
       "      <td>ford</td>\n",
       "      <td>35900</td>\n",
       "      <td>hatch</td>\n",
       "      <td>ka</td>\n",
       "      <td>manual</td>\n",
       "      <td>2017</td>\n",
       "      <td>33000</td>\n",
       "      <td>1.0</td>\n",
       "      <td>flex</td>\n",
       "      <td>hidráulica</td>\n",
       "      <td>preto</td>\n",
       "      <td>sim</td>\n",
       "      <td>ka 1.0 se se plus tivct flex 5p</td>\n",
       "      <td>4 portas</td>\n",
       "      <td>ipva pago</td>\n",
       "      <td>vidro elétrico, air bag, ar condicionado, direção hidráulica, alarme, som, sensor de ré</td>\n",
       "      <td>87.0</td>\n",
       "    </tr>\n",
       "    <tr>\n",
       "      <th>1</th>\n",
       "      <td>https://rj.olx.com.br/rio-de-janeiro-e-regiao/autos-e-pecas/carros-vans-e-utilitarios/link_0vendo-gol-1-0-com-ar-condicionado-baixo-km-734865745</td>\n",
       "      <td>vwvolkswagen</td>\n",
       "      <td>16400</td>\n",
       "      <td>0</td>\n",
       "      <td>gol</td>\n",
       "      <td>manual</td>\n",
       "      <td>2013</td>\n",
       "      <td>52000</td>\n",
       "      <td>0</td>\n",
       "      <td>flex</td>\n",
       "      <td>0</td>\n",
       "      <td>0</td>\n",
       "      <td>sim</td>\n",
       "      <td>gol 1.0 plus 8v 2p</td>\n",
       "      <td>0</td>\n",
       "      <td>ipva pago</td>\n",
       "      <td>0</td>\n",
       "      <td>0.0</td>\n",
       "    </tr>\n",
       "  </tbody>\n",
       "</table>\n",
       "</div>"
      ],
      "text/plain": [
       "                                                                                                                                               link  \\\n",
       "0                                  https://rj.olx.com.br/rio-de-janeiro-e-regiao/autos-e-pecas/carros-vans-e-utilitarios/link_-unica-dona-729128175   \n",
       "1  https://rj.olx.com.br/rio-de-janeiro-e-regiao/autos-e-pecas/carros-vans-e-utilitarios/link_0vendo-gol-1-0-com-ar-condicionado-baixo-km-734865745   \n",
       "\n",
       "          brand  price cartype model gearbox  regdate  mileage motorpower  \\\n",
       "0          ford  35900   hatch    ka  manual     2017    33000        1.0   \n",
       "1  vwvolkswagen  16400       0   gol  manual     2013    52000          0   \n",
       "\n",
       "   fuel car_steering carcolor exchange                          version  \\\n",
       "0  flex   hidráulica    preto      sim  ka 1.0 se se plus tivct flex 5p   \n",
       "1  flex            0        0      sim               gol 1.0 plus 8v 2p   \n",
       "\n",
       "      doors  financial  \\\n",
       "0  4 portas  ipva pago   \n",
       "1         0  ipva pago   \n",
       "\n",
       "                                                                                     extra  \\\n",
       "0  vidro elétrico, air bag, ar condicionado, direção hidráulica, alarme, som, sensor de ré   \n",
       "1                                                                                        0   \n",
       "\n",
       "   extra_len  \n",
       "0       87.0  \n",
       "1        0.0  "
      ]
     },
     "execution_count": 15,
     "metadata": {},
     "output_type": "execute_result"
    }
   ],
   "source": [
    "df['extra_len']= [len(x) if type(x) == str else x for x in df.extra]\n",
    "df.head(2)"
   ]
  },
  {
   "cell_type": "code",
   "execution_count": 16,
   "metadata": {},
   "outputs": [
    {
     "data": {
      "text/plain": [
       "127.0"
      ]
     },
     "execution_count": 16,
     "metadata": {},
     "output_type": "execute_result"
    }
   ],
   "source": [
    "df['extra_len'].max()"
   ]
  },
  {
   "cell_type": "code",
   "execution_count": 17,
   "metadata": {},
   "outputs": [
    {
     "data": {
      "text/plain": [
       "101     vidro elétrico, air bag, trava elétrica, ar condicionado, direção hidráulica, alarme, som, sensor de ré, blindado, c mera de ré\n",
       "883     vidro elétrico, air bag, trava elétrica, ar condicionado, direção hidráulica, alarme, som, sensor de ré, blindado, c mera de ré\n",
       "1502    vidro elétrico, air bag, trava elétrica, ar condicionado, direção hidráulica, alarme, som, sensor de ré, blindado, c mera de ré\n",
       "1689    vidro elétrico, air bag, trava elétrica, ar condicionado, direção hidráulica, alarme, som, sensor de ré, blindado, c mera de ré\n",
       "1710    vidro elétrico, air bag, trava elétrica, ar condicionado, direção hidráulica, alarme, som, sensor de ré, blindado, c mera de ré\n",
       "Name: extra, dtype: object"
      ]
     },
     "execution_count": 17,
     "metadata": {},
     "output_type": "execute_result"
    }
   ],
   "source": [
    "pd.set_option('max_colwidth', 128)\n",
    "greater_length = df['extra_len'].max()\n",
    "df.loc[df.extra_len == greater_length, :].extra.head()"
   ]
  },
  {
   "cell_type": "markdown",
   "metadata": {},
   "source": [
    "- Looking at the series above we can see all the extra features we can convert into columns.Let's do it.\n"
   ]
  },
  {
   "cell_type": "code",
   "execution_count": 18,
   "metadata": {},
   "outputs": [
    {
     "data": {
      "text/plain": [
       "'vidro elétrico, air bag, trava elétrica, ar condicionado, direção hidráulica, alarme, som, sensor de ré, blindado, c mera de ré'"
      ]
     },
     "execution_count": 18,
     "metadata": {},
     "output_type": "execute_result"
    }
   ],
   "source": [
    "# Select features as string\n",
    "features = df.loc[df.extra_len == greater_length, :].extra.head(1).values\n",
    "features[0]"
   ]
  },
  {
   "cell_type": "code",
   "execution_count": 19,
   "metadata": {},
   "outputs": [
    {
     "data": {
      "text/plain": [
       "10"
      ]
     },
     "execution_count": 19,
     "metadata": {},
     "output_type": "execute_result"
    }
   ],
   "source": [
    "len(features[0].rsplit(','))"
   ]
  },
  {
   "cell_type": "code",
   "execution_count": 20,
   "metadata": {},
   "outputs": [
    {
     "data": {
      "text/plain": [
       "'vidro elétrico'"
      ]
     },
     "execution_count": 20,
     "metadata": {},
     "output_type": "execute_result"
    }
   ],
   "source": [
    "# Unique feature\n",
    "features[0].rsplit(',')[0].strip()"
   ]
  },
  {
   "cell_type": "code",
   "execution_count": 21,
   "metadata": {},
   "outputs": [],
   "source": [
    "# Create column for each feature in extra column\n",
    "for feature in range(10):\n",
    "    \n",
    "    colname= features[0].rsplit(',')[feature].strip()\n",
    "    df[colname] = 0.0\n",
    "    \n"
   ]
  },
  {
   "cell_type": "code",
   "execution_count": 22,
   "metadata": {},
   "outputs": [
    {
     "data": {
      "text/plain": [
       "Index(['link', 'brand', 'price', 'cartype', 'model', 'gearbox', 'regdate',\n",
       "       'mileage', 'motorpower', 'fuel', 'car_steering', 'carcolor', 'exchange',\n",
       "       'version', 'doors', 'financial', 'extra', 'vidro elétrico', 'air bag',\n",
       "       'trava elétrica', 'ar condicionado', 'direção hidráulica', 'alarme',\n",
       "       'som', 'sensor de ré', 'blindado', 'c mera de ré'],\n",
       "      dtype='object')"
      ]
     },
     "execution_count": 22,
     "metadata": {},
     "output_type": "execute_result"
    }
   ],
   "source": [
    "# drop extra_len column\n",
    "df.drop('extra_len', axis = 1, inplace = True)\n",
    "df.columns"
   ]
  },
  {
   "cell_type": "code",
   "execution_count": 23,
   "metadata": {},
   "outputs": [
    {
     "data": {
      "text/plain": [
       "16"
      ]
     },
     "execution_count": 23,
     "metadata": {},
     "output_type": "execute_result"
    }
   ],
   "source": [
    "# find the index of the column extra\n",
    "columns = list(df.columns)\n",
    "index = columns.index('extra')\n",
    "index"
   ]
  },
  {
   "cell_type": "markdown",
   "metadata": {},
   "source": [
    "## seting values into new feature columns"
   ]
  },
  {
   "cell_type": "code",
   "execution_count": 24,
   "metadata": {},
   "outputs": [
    {
     "data": {
      "text/plain": [
       "Index(['vidro elétrico', 'air bag', 'trava elétrica', 'ar condicionado',\n",
       "       'direção hidráulica', 'alarme', 'som', 'sensor de ré', 'blindado',\n",
       "       'c mera de ré'],\n",
       "      dtype='object')"
      ]
     },
     "execution_count": 24,
     "metadata": {},
     "output_type": "execute_result"
    }
   ],
   "source": [
    "df.columns[(index+1):]"
   ]
  },
  {
   "cell_type": "code",
   "execution_count": 25,
   "metadata": {},
   "outputs": [],
   "source": [
    "def fill_in_the_features(df):\n",
    "    '''Fills in the feature cells stating whether the car contains the respective feature\n",
    "    \n",
    "    ARG:\n",
    "    df(dataframe): The dataframe to be filled in\n",
    "    \n",
    "    RETURNS:\n",
    "    df(dataframe): the dataframe with filled columns - 1 car has the feature and 0 car does not\n",
    "    '''\n",
    "\n",
    "    for feature in df.columns[17:]:\n",
    "\n",
    "        total_rows = df.shape[0]\n",
    "\n",
    "        for row in range(total_rows):\n",
    "\n",
    "            is_zero = (df.extra[row] == 0)\n",
    "\n",
    "            if is_zero == True:\n",
    "\n",
    "                df[feature].values[row] = 0.0\n",
    "\n",
    "            else:\n",
    "\n",
    "                contains_feature = feature in df.extra[row]\n",
    "\n",
    "                if contains_feature == True:\n",
    "                    df[feature].values[row] = 1\n",
    "                else:\n",
    "                    continue\n",
    "\n",
    "    \n",
    "    return df\n",
    "    \n",
    "    "
   ]
  },
  {
   "cell_type": "code",
   "execution_count": 26,
   "metadata": {},
   "outputs": [
    {
     "data": {
      "text/html": [
       "<div>\n",
       "<style scoped>\n",
       "    .dataframe tbody tr th:only-of-type {\n",
       "        vertical-align: middle;\n",
       "    }\n",
       "\n",
       "    .dataframe tbody tr th {\n",
       "        vertical-align: top;\n",
       "    }\n",
       "\n",
       "    .dataframe thead th {\n",
       "        text-align: right;\n",
       "    }\n",
       "</style>\n",
       "<table border=\"1\" class=\"dataframe\">\n",
       "  <thead>\n",
       "    <tr style=\"text-align: right;\">\n",
       "      <th></th>\n",
       "      <th>link</th>\n",
       "      <th>brand</th>\n",
       "      <th>price</th>\n",
       "      <th>cartype</th>\n",
       "      <th>model</th>\n",
       "      <th>gearbox</th>\n",
       "      <th>regdate</th>\n",
       "      <th>mileage</th>\n",
       "      <th>motorpower</th>\n",
       "      <th>fuel</th>\n",
       "      <th>car_steering</th>\n",
       "      <th>carcolor</th>\n",
       "      <th>exchange</th>\n",
       "      <th>version</th>\n",
       "      <th>doors</th>\n",
       "      <th>financial</th>\n",
       "      <th>extra</th>\n",
       "      <th>vidro elétrico</th>\n",
       "      <th>air bag</th>\n",
       "      <th>trava elétrica</th>\n",
       "      <th>ar condicionado</th>\n",
       "      <th>direção hidráulica</th>\n",
       "      <th>alarme</th>\n",
       "      <th>som</th>\n",
       "      <th>sensor de ré</th>\n",
       "      <th>blindado</th>\n",
       "      <th>c mera de ré</th>\n",
       "    </tr>\n",
       "  </thead>\n",
       "  <tbody>\n",
       "    <tr>\n",
       "      <th>0</th>\n",
       "      <td>https://rj.olx.com.br/rio-de-janeiro-e-regiao/autos-e-pecas/carros-vans-e-utilitarios/link_-unica-dona-729128175</td>\n",
       "      <td>ford</td>\n",
       "      <td>35900</td>\n",
       "      <td>hatch</td>\n",
       "      <td>ka</td>\n",
       "      <td>manual</td>\n",
       "      <td>2017</td>\n",
       "      <td>33000</td>\n",
       "      <td>1.0</td>\n",
       "      <td>flex</td>\n",
       "      <td>hidráulica</td>\n",
       "      <td>preto</td>\n",
       "      <td>sim</td>\n",
       "      <td>ka 1.0 se se plus tivct flex 5p</td>\n",
       "      <td>4 portas</td>\n",
       "      <td>ipva pago</td>\n",
       "      <td>vidro elétrico, air bag, ar condicionado, direção hidráulica, alarme, som, sensor de ré</td>\n",
       "      <td>1.0</td>\n",
       "      <td>1.0</td>\n",
       "      <td>0.0</td>\n",
       "      <td>1.0</td>\n",
       "      <td>1.0</td>\n",
       "      <td>1.0</td>\n",
       "      <td>1.0</td>\n",
       "      <td>1.0</td>\n",
       "      <td>0.0</td>\n",
       "      <td>0.0</td>\n",
       "    </tr>\n",
       "    <tr>\n",
       "      <th>1</th>\n",
       "      <td>https://rj.olx.com.br/rio-de-janeiro-e-regiao/autos-e-pecas/carros-vans-e-utilitarios/link_0vendo-gol-1-0-com-ar-condicionad...</td>\n",
       "      <td>vwvolkswagen</td>\n",
       "      <td>16400</td>\n",
       "      <td>0</td>\n",
       "      <td>gol</td>\n",
       "      <td>manual</td>\n",
       "      <td>2013</td>\n",
       "      <td>52000</td>\n",
       "      <td>0</td>\n",
       "      <td>flex</td>\n",
       "      <td>0</td>\n",
       "      <td>0</td>\n",
       "      <td>sim</td>\n",
       "      <td>gol 1.0 plus 8v 2p</td>\n",
       "      <td>0</td>\n",
       "      <td>ipva pago</td>\n",
       "      <td>0</td>\n",
       "      <td>0.0</td>\n",
       "      <td>0.0</td>\n",
       "      <td>0.0</td>\n",
       "      <td>0.0</td>\n",
       "      <td>0.0</td>\n",
       "      <td>0.0</td>\n",
       "      <td>0.0</td>\n",
       "      <td>0.0</td>\n",
       "      <td>0.0</td>\n",
       "      <td>0.0</td>\n",
       "    </tr>\n",
       "    <tr>\n",
       "      <th>2</th>\n",
       "      <td>https://rj.olx.com.br/rio-de-janeiro-e-regiao/autos-e-pecas/carros-vans-e-utilitarios/link_1-6-fiesta-2012-2013-730821135</td>\n",
       "      <td>ford</td>\n",
       "      <td>23999</td>\n",
       "      <td>hatch</td>\n",
       "      <td>fiesta</td>\n",
       "      <td>manual</td>\n",
       "      <td>2013</td>\n",
       "      <td>76000</td>\n",
       "      <td>1.6</td>\n",
       "      <td>flex</td>\n",
       "      <td>hidráulica</td>\n",
       "      <td>branco</td>\n",
       "      <td>não</td>\n",
       "      <td>fiesta 1.6 8v flex class 1.6 8v flex 5p</td>\n",
       "      <td>4 portas</td>\n",
       "      <td>ipva pago</td>\n",
       "      <td>vidro elétrico, air bag, trava elétrica, ar condicionado, direção hidráulica, alarme, som</td>\n",
       "      <td>1.0</td>\n",
       "      <td>1.0</td>\n",
       "      <td>1.0</td>\n",
       "      <td>1.0</td>\n",
       "      <td>1.0</td>\n",
       "      <td>1.0</td>\n",
       "      <td>1.0</td>\n",
       "      <td>0.0</td>\n",
       "      <td>0.0</td>\n",
       "      <td>0.0</td>\n",
       "    </tr>\n",
       "    <tr>\n",
       "      <th>3</th>\n",
       "      <td>https://rj.olx.com.br/rio-de-janeiro-e-regiao/autos-e-pecas/carros-vans-e-utilitarios/link_13-13-completo-km-35-000-2020-vis...</td>\n",
       "      <td>vwvolkswagen</td>\n",
       "      <td>24899</td>\n",
       "      <td>sedã</td>\n",
       "      <td>voyage</td>\n",
       "      <td>manual</td>\n",
       "      <td>2013</td>\n",
       "      <td>35000</td>\n",
       "      <td>1.0</td>\n",
       "      <td>flex</td>\n",
       "      <td>hidráulica</td>\n",
       "      <td>preto</td>\n",
       "      <td>0</td>\n",
       "      <td>voyage  trendline 1.0 t.flex 8v 4p</td>\n",
       "      <td>4 portas</td>\n",
       "      <td>de leilão</td>\n",
       "      <td>vidro elétrico, trava elétrica, ar condicionado, direção hidráulica</td>\n",
       "      <td>1.0</td>\n",
       "      <td>0.0</td>\n",
       "      <td>1.0</td>\n",
       "      <td>1.0</td>\n",
       "      <td>1.0</td>\n",
       "      <td>0.0</td>\n",
       "      <td>0.0</td>\n",
       "      <td>0.0</td>\n",
       "      <td>0.0</td>\n",
       "      <td>0.0</td>\n",
       "    </tr>\n",
       "  </tbody>\n",
       "</table>\n",
       "</div>"
      ],
      "text/plain": [
       "                                                                                                                              link  \\\n",
       "0                 https://rj.olx.com.br/rio-de-janeiro-e-regiao/autos-e-pecas/carros-vans-e-utilitarios/link_-unica-dona-729128175   \n",
       "1  https://rj.olx.com.br/rio-de-janeiro-e-regiao/autos-e-pecas/carros-vans-e-utilitarios/link_0vendo-gol-1-0-com-ar-condicionad...   \n",
       "2        https://rj.olx.com.br/rio-de-janeiro-e-regiao/autos-e-pecas/carros-vans-e-utilitarios/link_1-6-fiesta-2012-2013-730821135   \n",
       "3  https://rj.olx.com.br/rio-de-janeiro-e-regiao/autos-e-pecas/carros-vans-e-utilitarios/link_13-13-completo-km-35-000-2020-vis...   \n",
       "\n",
       "          brand  price cartype   model gearbox  regdate  mileage motorpower  \\\n",
       "0          ford  35900   hatch      ka  manual     2017    33000        1.0   \n",
       "1  vwvolkswagen  16400       0     gol  manual     2013    52000          0   \n",
       "2          ford  23999   hatch  fiesta  manual     2013    76000        1.6   \n",
       "3  vwvolkswagen  24899    sedã  voyage  manual     2013    35000        1.0   \n",
       "\n",
       "   fuel car_steering carcolor exchange  \\\n",
       "0  flex   hidráulica    preto      sim   \n",
       "1  flex            0        0      sim   \n",
       "2  flex   hidráulica   branco      não   \n",
       "3  flex   hidráulica    preto        0   \n",
       "\n",
       "                                   version     doors  financial  \\\n",
       "0          ka 1.0 se se plus tivct flex 5p  4 portas  ipva pago   \n",
       "1                       gol 1.0 plus 8v 2p         0  ipva pago   \n",
       "2  fiesta 1.6 8v flex class 1.6 8v flex 5p  4 portas  ipva pago   \n",
       "3       voyage  trendline 1.0 t.flex 8v 4p  4 portas  de leilão   \n",
       "\n",
       "                                                                                       extra  \\\n",
       "0    vidro elétrico, air bag, ar condicionado, direção hidráulica, alarme, som, sensor de ré   \n",
       "1                                                                                          0   \n",
       "2  vidro elétrico, air bag, trava elétrica, ar condicionado, direção hidráulica, alarme, som   \n",
       "3                        vidro elétrico, trava elétrica, ar condicionado, direção hidráulica   \n",
       "\n",
       "   vidro elétrico  air bag  trava elétrica  ar condicionado  \\\n",
       "0             1.0      1.0             0.0              1.0   \n",
       "1             0.0      0.0             0.0              0.0   \n",
       "2             1.0      1.0             1.0              1.0   \n",
       "3             1.0      0.0             1.0              1.0   \n",
       "\n",
       "   direção hidráulica  alarme  som  sensor de ré  blindado  c mera de ré  \n",
       "0                 1.0     1.0  1.0           1.0       0.0           0.0  \n",
       "1                 0.0     0.0  0.0           0.0       0.0           0.0  \n",
       "2                 1.0     1.0  1.0           0.0       0.0           0.0  \n",
       "3                 1.0     0.0  0.0           0.0       0.0           0.0  "
      ]
     },
     "execution_count": 26,
     "metadata": {},
     "output_type": "execute_result"
    }
   ],
   "source": [
    "df = fill_in_the_features(df)\n",
    "df.head(4)"
   ]
  },
  {
   "cell_type": "code",
   "execution_count": 27,
   "metadata": {},
   "outputs": [],
   "source": [
    "# delete extra column\n",
    "df.drop('extra', axis = 1, inplace = True)"
   ]
  },
  {
   "cell_type": "code",
   "execution_count": 28,
   "metadata": {},
   "outputs": [
    {
     "data": {
      "text/html": [
       "<div>\n",
       "<style scoped>\n",
       "    .dataframe tbody tr th:only-of-type {\n",
       "        vertical-align: middle;\n",
       "    }\n",
       "\n",
       "    .dataframe tbody tr th {\n",
       "        vertical-align: top;\n",
       "    }\n",
       "\n",
       "    .dataframe thead th {\n",
       "        text-align: right;\n",
       "    }\n",
       "</style>\n",
       "<table border=\"1\" class=\"dataframe\">\n",
       "  <thead>\n",
       "    <tr style=\"text-align: right;\">\n",
       "      <th></th>\n",
       "      <th>link</th>\n",
       "      <th>brand</th>\n",
       "      <th>price</th>\n",
       "      <th>cartype</th>\n",
       "      <th>model</th>\n",
       "      <th>gearbox</th>\n",
       "      <th>regdate</th>\n",
       "      <th>mileage</th>\n",
       "      <th>motorpower</th>\n",
       "      <th>fuel</th>\n",
       "      <th>car_steering</th>\n",
       "      <th>carcolor</th>\n",
       "      <th>exchange</th>\n",
       "      <th>version</th>\n",
       "      <th>doors</th>\n",
       "      <th>financial</th>\n",
       "      <th>vidro elétrico</th>\n",
       "      <th>air_bag</th>\n",
       "      <th>trava_elétrica</th>\n",
       "      <th>ar_condicionado</th>\n",
       "      <th>direção_hidráulica</th>\n",
       "      <th>alarme</th>\n",
       "      <th>som</th>\n",
       "      <th>sensor_de_ré</th>\n",
       "      <th>blindado</th>\n",
       "      <th>camera_de_ré</th>\n",
       "    </tr>\n",
       "  </thead>\n",
       "  <tbody>\n",
       "    <tr>\n",
       "      <th>0</th>\n",
       "      <td>https://rj.olx.com.br/rio-de-janeiro-e-regiao/autos-e-pecas/carros-vans-e-utilitarios/link_-unica-dona-729128175</td>\n",
       "      <td>ford</td>\n",
       "      <td>35900</td>\n",
       "      <td>hatch</td>\n",
       "      <td>ka</td>\n",
       "      <td>manual</td>\n",
       "      <td>2017</td>\n",
       "      <td>33000</td>\n",
       "      <td>1.0</td>\n",
       "      <td>flex</td>\n",
       "      <td>hidráulica</td>\n",
       "      <td>preto</td>\n",
       "      <td>sim</td>\n",
       "      <td>ka 1.0 se se plus tivct flex 5p</td>\n",
       "      <td>4 portas</td>\n",
       "      <td>ipva pago</td>\n",
       "      <td>1.0</td>\n",
       "      <td>1.0</td>\n",
       "      <td>0.0</td>\n",
       "      <td>1.0</td>\n",
       "      <td>1.0</td>\n",
       "      <td>1.0</td>\n",
       "      <td>1.0</td>\n",
       "      <td>1.0</td>\n",
       "      <td>0.0</td>\n",
       "      <td>0.0</td>\n",
       "    </tr>\n",
       "    <tr>\n",
       "      <th>1</th>\n",
       "      <td>https://rj.olx.com.br/rio-de-janeiro-e-regiao/autos-e-pecas/carros-vans-e-utilitarios/link_0vendo-gol-1-0-com-ar-condicionad...</td>\n",
       "      <td>vwvolkswagen</td>\n",
       "      <td>16400</td>\n",
       "      <td>0</td>\n",
       "      <td>gol</td>\n",
       "      <td>manual</td>\n",
       "      <td>2013</td>\n",
       "      <td>52000</td>\n",
       "      <td>0</td>\n",
       "      <td>flex</td>\n",
       "      <td>0</td>\n",
       "      <td>0</td>\n",
       "      <td>sim</td>\n",
       "      <td>gol 1.0 plus 8v 2p</td>\n",
       "      <td>0</td>\n",
       "      <td>ipva pago</td>\n",
       "      <td>0.0</td>\n",
       "      <td>0.0</td>\n",
       "      <td>0.0</td>\n",
       "      <td>0.0</td>\n",
       "      <td>0.0</td>\n",
       "      <td>0.0</td>\n",
       "      <td>0.0</td>\n",
       "      <td>0.0</td>\n",
       "      <td>0.0</td>\n",
       "      <td>0.0</td>\n",
       "    </tr>\n",
       "  </tbody>\n",
       "</table>\n",
       "</div>"
      ],
      "text/plain": [
       "                                                                                                                              link  \\\n",
       "0                 https://rj.olx.com.br/rio-de-janeiro-e-regiao/autos-e-pecas/carros-vans-e-utilitarios/link_-unica-dona-729128175   \n",
       "1  https://rj.olx.com.br/rio-de-janeiro-e-regiao/autos-e-pecas/carros-vans-e-utilitarios/link_0vendo-gol-1-0-com-ar-condicionad...   \n",
       "\n",
       "          brand  price cartype model gearbox  regdate  mileage motorpower  \\\n",
       "0          ford  35900   hatch    ka  manual     2017    33000        1.0   \n",
       "1  vwvolkswagen  16400       0   gol  manual     2013    52000          0   \n",
       "\n",
       "   fuel car_steering carcolor exchange                          version  \\\n",
       "0  flex   hidráulica    preto      sim  ka 1.0 se se plus tivct flex 5p   \n",
       "1  flex            0        0      sim               gol 1.0 plus 8v 2p   \n",
       "\n",
       "      doors  financial  vidro elétrico  air_bag  trava_elétrica  \\\n",
       "0  4 portas  ipva pago             1.0      1.0             0.0   \n",
       "1         0  ipva pago             0.0      0.0             0.0   \n",
       "\n",
       "   ar_condicionado  direção_hidráulica  alarme  som  sensor_de_ré  blindado  \\\n",
       "0              1.0                 1.0     1.0  1.0           1.0       0.0   \n",
       "1              0.0                 0.0     0.0  0.0           0.0       0.0   \n",
       "\n",
       "   camera_de_ré  \n",
       "0           0.0  \n",
       "1           0.0  "
      ]
     },
     "execution_count": 28,
     "metadata": {},
     "output_type": "execute_result"
    }
   ],
   "source": [
    "# Set column names\n",
    "df.rename(columns = {'air bag': 'air_bag',\n",
    "          'trava elétrica':'trava_elétrica',\n",
    "          'ar condicionado':'ar_condicionado',\n",
    "          'direção hidráulica':'direção_hidráulica',\n",
    "          'sensor de ré':'sensor_de_ré',\n",
    "          'c mera de ré':'camera_de_ré'}, inplace = True)\n",
    "df.head(2)\n",
    "          \n",
    "          \n",
    "          "
   ]
  },
  {
   "cell_type": "markdown",
   "metadata": {},
   "source": [
    "## Part 2 - Dummy Variables"
   ]
  },
  {
   "cell_type": "markdown",
   "metadata": {},
   "source": [
    "### Financial"
   ]
  },
  {
   "cell_type": "markdown",
   "metadata": {},
   "source": [
    "- ipva pago : yearly fees paid\n",
    "- financiado: Still paying the car\n",
    "- de leilão: auto auction\n",
    "- com multas: Penalty Charge Notice (PCN)"
   ]
  },
  {
   "cell_type": "markdown",
   "metadata": {},
   "source": [
    "### brand \n",
    "\n",
    "- vwvolkswagen\n",
    "- ford\n",
    "- renaut (?) ;)"
   ]
  },
  {
   "cell_type": "code",
   "execution_count": 29,
   "metadata": {},
   "outputs": [
    {
     "data": {
      "text/plain": [
       "vwvolkswagen    3397\n",
       "ford            2970\n",
       "renault            1\n",
       "Name: brand, dtype: int64"
      ]
     },
     "execution_count": 29,
     "metadata": {},
     "output_type": "execute_result"
    }
   ],
   "source": [
    "df.brand.value_counts()"
   ]
  },
  {
   "cell_type": "markdown",
   "metadata": {},
   "source": [
    "### cartype\n",
    "- hatch\n",
    "- passeio \n",
    "- sedã \n",
    "- suv\n",
    "- pickup \n",
    "- vanutilitário \n",
    "- antigo \n",
    "- conversvel"
   ]
  },
  {
   "cell_type": "code",
   "execution_count": 30,
   "metadata": {},
   "outputs": [
    {
     "data": {
      "text/plain": [
       "hatch            2351\n",
       "passeio          1551\n",
       "sedã             1081\n",
       "0.0               664\n",
       "suv               382\n",
       "pickup            251\n",
       "vanutilitário      86\n",
       "conversvel          1\n",
       "antigo              1\n",
       "Name: cartype, dtype: int64"
      ]
     },
     "execution_count": 30,
     "metadata": {},
     "output_type": "execute_result"
    }
   ],
   "source": [
    "df.cartype.value_counts()"
   ]
  },
  {
   "cell_type": "markdown",
   "metadata": {},
   "source": [
    "### Model\n",
    "\n",
    "- ka              \n",
    "- fiesta          \n",
    "- fox             \n",
    "- gol             \n",
    "- voyage          \n",
    "- ecosport        \n",
    "- focus           \n",
    "- up              \n",
    "- saveiro         \n",
    "- polo            \n",
    "- crossfox        \n",
    "- jetta           \n",
    "- golf             \n",
    "- fusion           \n",
    "- spacefox         \n",
    "- ranger           \n",
    "- virtus           \n",
    "- kombi            \n",
    "- spacecross       \n",
    "- tiguan           \n",
    "- escort            \n",
    "- passat            \n",
    "- edge              \n",
    "- amarok            \n",
    "- variant           \n",
    "- fusca             \n",
    "- parati            \n",
    "- f100              \n",
    "- fluence           \n",
    "- grandsaveiro      \n",
    "- courier           \n"
   ]
  },
  {
   "cell_type": "markdown",
   "metadata": {},
   "source": [
    "### gearbox\n",
    "- manual\n",
    "- automático\n",
    "- semiautomático"
   ]
  },
  {
   "cell_type": "code",
   "execution_count": 31,
   "metadata": {},
   "outputs": [
    {
     "data": {
      "text/plain": [
       "manual            4899\n",
       "automático        1343\n",
       "semiautomático      82\n",
       "0.0                 44\n",
       "Name: gearbox, dtype: int64"
      ]
     },
     "execution_count": 31,
     "metadata": {},
     "output_type": "execute_result"
    }
   ],
   "source": [
    "df.gearbox.value_counts()"
   ]
  },
  {
   "cell_type": "markdown",
   "metadata": {},
   "source": [
    "### motorpower\n",
    "- 1.6          \n",
    "- 1.0          \n",
    "- 0.0       ---------> missing    \n",
    "- 2.02.9    -----> 2.0 - 2.9     \n",
    "- 1.5           \n",
    "- 1.4           \n",
    "- 1.8             \n",
    "- 3.03.9    -------> 3.0 -3.9      \n",
    "- 1.3              \n",
    "- 4.0oumais --> 4.0+      \n",
    "- 1.7             "
   ]
  },
  {
   "cell_type": "code",
   "execution_count": 32,
   "metadata": {},
   "outputs": [
    {
     "data": {
      "text/plain": [
       "1.6          2376\n",
       "1.0          1944\n",
       "0.0           878\n",
       "2.02.9        619\n",
       "1.5           443\n",
       "1.4            92\n",
       "1.8             7\n",
       "3.03.9          5\n",
       "1.3             2\n",
       "4.0oumais       1\n",
       "1.7             1\n",
       "Name: motorpower, dtype: int64"
      ]
     },
     "execution_count": 32,
     "metadata": {},
     "output_type": "execute_result"
    }
   ],
   "source": [
    "df.motorpower.value_counts()"
   ]
  },
  {
   "cell_type": "markdown",
   "metadata": {},
   "source": [
    "### Fuel\n",
    "\n",
    "- flex - dual-fuel vehicle\n",
    "- 0.0 - missing information\n",
    "- gásnatural - NGVs\n"
   ]
  },
  {
   "cell_type": "code",
   "execution_count": 33,
   "metadata": {},
   "outputs": [
    {
     "data": {
      "text/plain": [
       "flex          6367\n",
       "gásnatural       1\n",
       "Name: fuel, dtype: int64"
      ]
     },
     "execution_count": 33,
     "metadata": {},
     "output_type": "execute_result"
    }
   ],
   "source": [
    "df.fuel.value_counts()"
   ]
  },
  {
   "cell_type": "markdown",
   "metadata": {},
   "source": [
    "### car_steering\n",
    "\n",
    "- hidráulica    ---- hydraulic\n",
    "- elétrica      ------- electric power steering  \n",
    "- 0.0           ------------- missing\n",
    "- mecnica       ------ mechanical Steering \n",
    "- assistida     ------ power-assisted steering system"
   ]
  },
  {
   "cell_type": "code",
   "execution_count": 34,
   "metadata": {},
   "outputs": [
    {
     "data": {
      "text/plain": [
       "hidráulica    3410\n",
       "elétrica      1905\n",
       "0.0            882\n",
       "mecnica        161\n",
       "assistida       10\n",
       "Name: car_steering, dtype: int64"
      ]
     },
     "execution_count": 34,
     "metadata": {},
     "output_type": "execute_result"
    }
   ],
   "source": [
    "df.car_steering.value_counts()"
   ]
  },
  {
   "cell_type": "markdown",
   "metadata": {},
   "source": [
    "### Carcolor\n",
    "\n",
    "- branco    -  white\n",
    "- prata     -  silver\n",
    "- preto     - black\n",
    "- 0.0       -   missing\n",
    "- vermelho  -   red\n",
    "- cinza     -   gray\n",
    "- azul      -   blue\n",
    "- outra     -    others\n",
    "- laranja   -    orange\n",
    "- amarelo   -    yellow\n",
    "- verde     -     green"
   ]
  },
  {
   "cell_type": "code",
   "execution_count": 35,
   "metadata": {},
   "outputs": [
    {
     "data": {
      "text/plain": [
       "branco      1980\n",
       "prata       1425\n",
       "preto       1078\n",
       "0.0          803\n",
       "vermelho     573\n",
       "cinza        298\n",
       "azul         111\n",
       "outra         65\n",
       "laranja       17\n",
       "amarelo       12\n",
       "verde          6\n",
       "Name: carcolor, dtype: int64"
      ]
     },
     "execution_count": 35,
     "metadata": {},
     "output_type": "execute_result"
    }
   ],
   "source": [
    "df.carcolor.value_counts()"
   ]
  },
  {
   "cell_type": "markdown",
   "metadata": {},
   "source": [
    "### exchange\n",
    "- sim - yes\n",
    "- não - no\n",
    "- 0.0 - missing"
   ]
  },
  {
   "cell_type": "code",
   "execution_count": 36,
   "metadata": {},
   "outputs": [
    {
     "data": {
      "text/plain": [
       "sim    3355\n",
       "não    1680\n",
       "0.0    1333\n",
       "Name: exchange, dtype: int64"
      ]
     },
     "execution_count": 36,
     "metadata": {},
     "output_type": "execute_result"
    }
   ],
   "source": [
    "df.exchange.value_counts()"
   ]
  },
  {
   "cell_type": "markdown",
   "metadata": {},
   "source": [
    "### - create dummy variables"
   ]
  },
  {
   "cell_type": "code",
   "execution_count": 37,
   "metadata": {},
   "outputs": [],
   "source": [
    "to_dummies = ['financial', 'brand', 'cartype', 'model','gearbox', 'motorpower', 'fuel', 'car_steering','carcolor',\n",
    "             'exchange']\n",
    "\n",
    "\n",
    "df = pd.get_dummies(df, columns = to_dummies, drop_first = True )"
   ]
  },
  {
   "cell_type": "code",
   "execution_count": 38,
   "metadata": {},
   "outputs": [
    {
     "data": {
      "text/html": [
       "<div>\n",
       "<style scoped>\n",
       "    .dataframe tbody tr th:only-of-type {\n",
       "        vertical-align: middle;\n",
       "    }\n",
       "\n",
       "    .dataframe tbody tr th {\n",
       "        vertical-align: top;\n",
       "    }\n",
       "\n",
       "    .dataframe thead th {\n",
       "        text-align: right;\n",
       "    }\n",
       "</style>\n",
       "<table border=\"1\" class=\"dataframe\">\n",
       "  <thead>\n",
       "    <tr style=\"text-align: right;\">\n",
       "      <th></th>\n",
       "      <th>link</th>\n",
       "      <th>price</th>\n",
       "      <th>regdate</th>\n",
       "      <th>mileage</th>\n",
       "      <th>version</th>\n",
       "      <th>doors</th>\n",
       "      <th>vidro elétrico</th>\n",
       "      <th>air_bag</th>\n",
       "      <th>trava_elétrica</th>\n",
       "      <th>ar_condicionado</th>\n",
       "      <th>direção_hidráulica</th>\n",
       "      <th>alarme</th>\n",
       "      <th>som</th>\n",
       "      <th>sensor_de_ré</th>\n",
       "      <th>...</th>\n",
       "      <th>car_steering_hidráulica</th>\n",
       "      <th>car_steering_mecnica</th>\n",
       "      <th>carcolor_amarelo</th>\n",
       "      <th>carcolor_azul</th>\n",
       "      <th>carcolor_branco</th>\n",
       "      <th>carcolor_cinza</th>\n",
       "      <th>carcolor_laranja</th>\n",
       "      <th>carcolor_outra</th>\n",
       "      <th>carcolor_prata</th>\n",
       "      <th>carcolor_preto</th>\n",
       "      <th>carcolor_verde</th>\n",
       "      <th>carcolor_vermelho</th>\n",
       "      <th>exchange_não</th>\n",
       "      <th>exchange_sim</th>\n",
       "    </tr>\n",
       "  </thead>\n",
       "  <tbody>\n",
       "    <tr>\n",
       "      <th>0</th>\n",
       "      <td>https://rj.olx.com.br/rio-de-janeiro-e-regiao/autos-e-pecas/carros-vans-e-utilitarios/link_-unica-dona-729128175</td>\n",
       "      <td>35900</td>\n",
       "      <td>2017</td>\n",
       "      <td>33000</td>\n",
       "      <td>ka 1.0 se se plus tivct flex 5p</td>\n",
       "      <td>4 portas</td>\n",
       "      <td>1.0</td>\n",
       "      <td>1.0</td>\n",
       "      <td>0.0</td>\n",
       "      <td>1.0</td>\n",
       "      <td>1.0</td>\n",
       "      <td>1.0</td>\n",
       "      <td>1.0</td>\n",
       "      <td>1.0</td>\n",
       "      <td>...</td>\n",
       "      <td>1</td>\n",
       "      <td>0</td>\n",
       "      <td>0</td>\n",
       "      <td>0</td>\n",
       "      <td>0</td>\n",
       "      <td>0</td>\n",
       "      <td>0</td>\n",
       "      <td>0</td>\n",
       "      <td>0</td>\n",
       "      <td>1</td>\n",
       "      <td>0</td>\n",
       "      <td>0</td>\n",
       "      <td>0</td>\n",
       "      <td>1</td>\n",
       "    </tr>\n",
       "    <tr>\n",
       "      <th>1</th>\n",
       "      <td>https://rj.olx.com.br/rio-de-janeiro-e-regiao/autos-e-pecas/carros-vans-e-utilitarios/link_0vendo-gol-1-0-com-ar-condicionad...</td>\n",
       "      <td>16400</td>\n",
       "      <td>2013</td>\n",
       "      <td>52000</td>\n",
       "      <td>gol 1.0 plus 8v 2p</td>\n",
       "      <td>0</td>\n",
       "      <td>0.0</td>\n",
       "      <td>0.0</td>\n",
       "      <td>0.0</td>\n",
       "      <td>0.0</td>\n",
       "      <td>0.0</td>\n",
       "      <td>0.0</td>\n",
       "      <td>0.0</td>\n",
       "      <td>0.0</td>\n",
       "      <td>...</td>\n",
       "      <td>0</td>\n",
       "      <td>0</td>\n",
       "      <td>0</td>\n",
       "      <td>0</td>\n",
       "      <td>0</td>\n",
       "      <td>0</td>\n",
       "      <td>0</td>\n",
       "      <td>0</td>\n",
       "      <td>0</td>\n",
       "      <td>0</td>\n",
       "      <td>0</td>\n",
       "      <td>0</td>\n",
       "      <td>0</td>\n",
       "      <td>1</td>\n",
       "    </tr>\n",
       "  </tbody>\n",
       "</table>\n",
       "<p>2 rows × 90 columns</p>\n",
       "</div>"
      ],
      "text/plain": [
       "                                                                                                                              link  \\\n",
       "0                 https://rj.olx.com.br/rio-de-janeiro-e-regiao/autos-e-pecas/carros-vans-e-utilitarios/link_-unica-dona-729128175   \n",
       "1  https://rj.olx.com.br/rio-de-janeiro-e-regiao/autos-e-pecas/carros-vans-e-utilitarios/link_0vendo-gol-1-0-com-ar-condicionad...   \n",
       "\n",
       "   price  regdate  mileage                          version     doors  \\\n",
       "0  35900     2017    33000  ka 1.0 se se plus tivct flex 5p  4 portas   \n",
       "1  16400     2013    52000               gol 1.0 plus 8v 2p         0   \n",
       "\n",
       "   vidro elétrico  air_bag  trava_elétrica  ar_condicionado  \\\n",
       "0             1.0      1.0             0.0              1.0   \n",
       "1             0.0      0.0             0.0              0.0   \n",
       "\n",
       "   direção_hidráulica  alarme  som  sensor_de_ré  ...  \\\n",
       "0                 1.0     1.0  1.0           1.0  ...   \n",
       "1                 0.0     0.0  0.0           0.0  ...   \n",
       "\n",
       "   car_steering_hidráulica  car_steering_mecnica  carcolor_amarelo  \\\n",
       "0                        1                     0                 0   \n",
       "1                        0                     0                 0   \n",
       "\n",
       "   carcolor_azul  carcolor_branco  carcolor_cinza  carcolor_laranja  \\\n",
       "0              0                0               0                 0   \n",
       "1              0                0               0                 0   \n",
       "\n",
       "   carcolor_outra  carcolor_prata  carcolor_preto  carcolor_verde  \\\n",
       "0               0               0               1               0   \n",
       "1               0               0               0               0   \n",
       "\n",
       "   carcolor_vermelho  exchange_não  exchange_sim  \n",
       "0                  0             0             1  \n",
       "1                  0             0             1  \n",
       "\n",
       "[2 rows x 90 columns]"
      ]
     },
     "execution_count": 38,
     "metadata": {},
     "output_type": "execute_result"
    }
   ],
   "source": [
    "df.head(2)"
   ]
  },
  {
   "cell_type": "markdown",
   "metadata": {},
   "source": [
    "### Doors\n",
    "- 4 portas - 4 doors\n",
    "- 2 portas - 2 doors\n",
    "- 0  - 2 doors"
   ]
  },
  {
   "cell_type": "code",
   "execution_count": 39,
   "metadata": {},
   "outputs": [
    {
     "data": {
      "text/plain": [
       "4 portas    5529\n",
       "2 portas     536\n",
       "0.0          303\n",
       "Name: doors, dtype: int64"
      ]
     },
     "execution_count": 39,
     "metadata": {},
     "output_type": "execute_result"
    }
   ],
   "source": [
    "df.doors.value_counts()"
   ]
  },
  {
   "cell_type": "code",
   "execution_count": 40,
   "metadata": {},
   "outputs": [
    {
     "data": {
      "text/html": [
       "<div>\n",
       "<style scoped>\n",
       "    .dataframe tbody tr th:only-of-type {\n",
       "        vertical-align: middle;\n",
       "    }\n",
       "\n",
       "    .dataframe tbody tr th {\n",
       "        vertical-align: top;\n",
       "    }\n",
       "\n",
       "    .dataframe thead th {\n",
       "        text-align: right;\n",
       "    }\n",
       "</style>\n",
       "<table border=\"1\" class=\"dataframe\">\n",
       "  <thead>\n",
       "    <tr style=\"text-align: right;\">\n",
       "      <th></th>\n",
       "      <th>link</th>\n",
       "      <th>price</th>\n",
       "      <th>regdate</th>\n",
       "      <th>mileage</th>\n",
       "      <th>version</th>\n",
       "      <th>doors</th>\n",
       "      <th>vidro elétrico</th>\n",
       "      <th>air_bag</th>\n",
       "      <th>trava_elétrica</th>\n",
       "      <th>ar_condicionado</th>\n",
       "      <th>direção_hidráulica</th>\n",
       "      <th>alarme</th>\n",
       "      <th>som</th>\n",
       "      <th>sensor_de_ré</th>\n",
       "      <th>...</th>\n",
       "      <th>car_steering_hidráulica</th>\n",
       "      <th>car_steering_mecnica</th>\n",
       "      <th>carcolor_amarelo</th>\n",
       "      <th>carcolor_azul</th>\n",
       "      <th>carcolor_branco</th>\n",
       "      <th>carcolor_cinza</th>\n",
       "      <th>carcolor_laranja</th>\n",
       "      <th>carcolor_outra</th>\n",
       "      <th>carcolor_prata</th>\n",
       "      <th>carcolor_preto</th>\n",
       "      <th>carcolor_verde</th>\n",
       "      <th>carcolor_vermelho</th>\n",
       "      <th>exchange_não</th>\n",
       "      <th>exchange_sim</th>\n",
       "    </tr>\n",
       "  </thead>\n",
       "  <tbody>\n",
       "    <tr>\n",
       "      <th>0</th>\n",
       "      <td>https://rj.olx.com.br/rio-de-janeiro-e-regiao/autos-e-pecas/carros-vans-e-utilitarios/link_-unica-dona-729128175</td>\n",
       "      <td>35900</td>\n",
       "      <td>2017</td>\n",
       "      <td>33000</td>\n",
       "      <td>ka 1.0 se se plus tivct flex 5p</td>\n",
       "      <td>4</td>\n",
       "      <td>1.0</td>\n",
       "      <td>1.0</td>\n",
       "      <td>0.0</td>\n",
       "      <td>1.0</td>\n",
       "      <td>1.0</td>\n",
       "      <td>1.0</td>\n",
       "      <td>1.0</td>\n",
       "      <td>1.0</td>\n",
       "      <td>...</td>\n",
       "      <td>1</td>\n",
       "      <td>0</td>\n",
       "      <td>0</td>\n",
       "      <td>0</td>\n",
       "      <td>0</td>\n",
       "      <td>0</td>\n",
       "      <td>0</td>\n",
       "      <td>0</td>\n",
       "      <td>0</td>\n",
       "      <td>1</td>\n",
       "      <td>0</td>\n",
       "      <td>0</td>\n",
       "      <td>0</td>\n",
       "      <td>1</td>\n",
       "    </tr>\n",
       "    <tr>\n",
       "      <th>1</th>\n",
       "      <td>https://rj.olx.com.br/rio-de-janeiro-e-regiao/autos-e-pecas/carros-vans-e-utilitarios/link_0vendo-gol-1-0-com-ar-condicionad...</td>\n",
       "      <td>16400</td>\n",
       "      <td>2013</td>\n",
       "      <td>52000</td>\n",
       "      <td>gol 1.0 plus 8v 2p</td>\n",
       "      <td>2</td>\n",
       "      <td>0.0</td>\n",
       "      <td>0.0</td>\n",
       "      <td>0.0</td>\n",
       "      <td>0.0</td>\n",
       "      <td>0.0</td>\n",
       "      <td>0.0</td>\n",
       "      <td>0.0</td>\n",
       "      <td>0.0</td>\n",
       "      <td>...</td>\n",
       "      <td>0</td>\n",
       "      <td>0</td>\n",
       "      <td>0</td>\n",
       "      <td>0</td>\n",
       "      <td>0</td>\n",
       "      <td>0</td>\n",
       "      <td>0</td>\n",
       "      <td>0</td>\n",
       "      <td>0</td>\n",
       "      <td>0</td>\n",
       "      <td>0</td>\n",
       "      <td>0</td>\n",
       "      <td>0</td>\n",
       "      <td>1</td>\n",
       "    </tr>\n",
       "  </tbody>\n",
       "</table>\n",
       "<p>2 rows × 90 columns</p>\n",
       "</div>"
      ],
      "text/plain": [
       "                                                                                                                              link  \\\n",
       "0                 https://rj.olx.com.br/rio-de-janeiro-e-regiao/autos-e-pecas/carros-vans-e-utilitarios/link_-unica-dona-729128175   \n",
       "1  https://rj.olx.com.br/rio-de-janeiro-e-regiao/autos-e-pecas/carros-vans-e-utilitarios/link_0vendo-gol-1-0-com-ar-condicionad...   \n",
       "\n",
       "   price  regdate  mileage                          version  doors  \\\n",
       "0  35900     2017    33000  ka 1.0 se se plus tivct flex 5p      4   \n",
       "1  16400     2013    52000               gol 1.0 plus 8v 2p      2   \n",
       "\n",
       "   vidro elétrico  air_bag  trava_elétrica  ar_condicionado  \\\n",
       "0             1.0      1.0             0.0              1.0   \n",
       "1             0.0      0.0             0.0              0.0   \n",
       "\n",
       "   direção_hidráulica  alarme  som  sensor_de_ré  ...  \\\n",
       "0                 1.0     1.0  1.0           1.0  ...   \n",
       "1                 0.0     0.0  0.0           0.0  ...   \n",
       "\n",
       "   car_steering_hidráulica  car_steering_mecnica  carcolor_amarelo  \\\n",
       "0                        1                     0                 0   \n",
       "1                        0                     0                 0   \n",
       "\n",
       "   carcolor_azul  carcolor_branco  carcolor_cinza  carcolor_laranja  \\\n",
       "0              0                0               0                 0   \n",
       "1              0                0               0                 0   \n",
       "\n",
       "   carcolor_outra  carcolor_prata  carcolor_preto  carcolor_verde  \\\n",
       "0               0               0               1               0   \n",
       "1               0               0               0               0   \n",
       "\n",
       "   carcolor_vermelho  exchange_não  exchange_sim  \n",
       "0                  0             0             1  \n",
       "1                  0             0             1  \n",
       "\n",
       "[2 rows x 90 columns]"
      ]
     },
     "execution_count": 40,
     "metadata": {},
     "output_type": "execute_result"
    }
   ],
   "source": [
    "df['doors'] = df['doors'].str.extract(r\"(\\d)\", expand = False)\n",
    "# replace nan (previously zero) with 2\n",
    "df['doors'].fillna(2, inplace = True)\n",
    "# convert to int\n",
    "df['doors'] = df['doors'].astype(int)\n",
    "df.head(2)"
   ]
  },
  {
   "cell_type": "markdown",
   "metadata": {},
   "source": [
    "# Data Labeling"
   ]
  },
  {
   "cell_type": "markdown",
   "metadata": {},
   "source": [
    "For this project, I decided to label the training data manually. I literally opened the file on a spreadsheet and set 1 for a car I would like to buy or at least see the pictures and zero for cars I would not buy. I could have used active learning techniques for data labeling but I decided, for this project in specific, to do it manually."
   ]
  },
  {
   "cell_type": "code",
   "execution_count": 41,
   "metadata": {},
   "outputs": [
    {
     "data": {
      "text/html": [
       "<div>\n",
       "<style scoped>\n",
       "    .dataframe tbody tr th:only-of-type {\n",
       "        vertical-align: middle;\n",
       "    }\n",
       "\n",
       "    .dataframe tbody tr th {\n",
       "        vertical-align: top;\n",
       "    }\n",
       "\n",
       "    .dataframe thead th {\n",
       "        text-align: right;\n",
       "    }\n",
       "</style>\n",
       "<table border=\"1\" class=\"dataframe\">\n",
       "  <thead>\n",
       "    <tr style=\"text-align: right;\">\n",
       "      <th></th>\n",
       "      <th>Unnamed: 0</th>\n",
       "      <th>link</th>\n",
       "      <th>brand</th>\n",
       "      <th>price</th>\n",
       "      <th>cartype</th>\n",
       "      <th>model</th>\n",
       "      <th>gearbox</th>\n",
       "      <th>regdate</th>\n",
       "      <th>mileage</th>\n",
       "      <th>motorpower</th>\n",
       "      <th>fuel</th>\n",
       "      <th>car_steering</th>\n",
       "      <th>carcolor</th>\n",
       "      <th>exchange</th>\n",
       "      <th>version</th>\n",
       "      <th>doors</th>\n",
       "      <th>financial</th>\n",
       "      <th>extra</th>\n",
       "      <th>Y</th>\n",
       "    </tr>\n",
       "  </thead>\n",
       "  <tbody>\n",
       "    <tr>\n",
       "      <th>0</th>\n",
       "      <td>0</td>\n",
       "      <td>https://rj.olx.com.br/rio-de-janeiro-e-regiao/autos-e-pecas/carros-vans-e-utilitarios/link_ford-ka-hatch-2018-unico-dono-com...</td>\n",
       "      <td>ford</td>\n",
       "      <td>31900</td>\n",
       "      <td>hatch</td>\n",
       "      <td>ka</td>\n",
       "      <td>manual</td>\n",
       "      <td>2015</td>\n",
       "      <td>39869</td>\n",
       "      <td>1</td>\n",
       "      <td>flex</td>\n",
       "      <td>elétrica</td>\n",
       "      <td>preto</td>\n",
       "      <td>sim</td>\n",
       "      <td>ka 1.0 se se plus tivct flex 5p</td>\n",
       "      <td>4 portas</td>\n",
       "      <td>ipva pago</td>\n",
       "      <td>vidro elétrico, air bag, trava elétrica, ar condicionado, direção hidráulica, alarme, som, sensor de ré</td>\n",
       "      <td>1.0</td>\n",
       "    </tr>\n",
       "    <tr>\n",
       "      <th>1</th>\n",
       "      <td>1</td>\n",
       "      <td>https://rj.olx.com.br/rio-de-janeiro-e-regiao/autos-e-pecas/carros-vans-e-utilitarios/link_gol-g6-12-13-714466730</td>\n",
       "      <td>vwvolkswagen</td>\n",
       "      <td>26000</td>\n",
       "      <td>passeio</td>\n",
       "      <td>gol</td>\n",
       "      <td>manual</td>\n",
       "      <td>2013</td>\n",
       "      <td>109000</td>\n",
       "      <td>1.6</td>\n",
       "      <td>flex</td>\n",
       "      <td>hidráulica</td>\n",
       "      <td>prata</td>\n",
       "      <td>sim</td>\n",
       "      <td>gol 1.6 mi plus total flex 8v 4p</td>\n",
       "      <td>4 portas</td>\n",
       "      <td>0</td>\n",
       "      <td>vidro elétrico, trava elétrica, ar condicionado, direção hidráulica, som</td>\n",
       "      <td>1.0</td>\n",
       "    </tr>\n",
       "  </tbody>\n",
       "</table>\n",
       "</div>"
      ],
      "text/plain": [
       "   Unnamed: 0  \\\n",
       "0           0   \n",
       "1           1   \n",
       "\n",
       "                                                                                                                              link  \\\n",
       "0  https://rj.olx.com.br/rio-de-janeiro-e-regiao/autos-e-pecas/carros-vans-e-utilitarios/link_ford-ka-hatch-2018-unico-dono-com...   \n",
       "1                https://rj.olx.com.br/rio-de-janeiro-e-regiao/autos-e-pecas/carros-vans-e-utilitarios/link_gol-g6-12-13-714466730   \n",
       "\n",
       "          brand  price  cartype model gearbox  regdate  mileage motorpower  \\\n",
       "0          ford  31900    hatch    ka  manual     2015    39869          1   \n",
       "1  vwvolkswagen  26000  passeio   gol  manual     2013   109000        1.6   \n",
       "\n",
       "   fuel car_steering carcolor exchange                           version  \\\n",
       "0  flex     elétrica    preto      sim   ka 1.0 se se plus tivct flex 5p   \n",
       "1  flex   hidráulica    prata      sim  gol 1.6 mi plus total flex 8v 4p   \n",
       "\n",
       "      doors  financial  \\\n",
       "0  4 portas  ipva pago   \n",
       "1  4 portas          0   \n",
       "\n",
       "                                                                                                     extra  \\\n",
       "0  vidro elétrico, air bag, trava elétrica, ar condicionado, direção hidráulica, alarme, som, sensor de ré   \n",
       "1                                 vidro elétrico, trava elétrica, ar condicionado, direção hidráulica, som   \n",
       "\n",
       "     Y  \n",
       "0  1.0  \n",
       "1  1.0  "
      ]
     },
     "execution_count": 41,
     "metadata": {},
     "output_type": "execute_result"
    }
   ],
   "source": [
    "df = pd.read_csv('car_information.csv')\n",
    "df.head(2)"
   ]
  },
  {
   "cell_type": "markdown",
   "metadata": {},
   "source": [
    "As we can see below, we have a Imbalanced classes and we in have to take this into account when building the model"
   ]
  },
  {
   "cell_type": "code",
   "execution_count": 42,
   "metadata": {},
   "outputs": [],
   "source": [
    "\n",
    "df.Y.value_counts().plot(kind = 'bar');"
   ]
  },
  {
   "cell_type": "markdown",
   "metadata": {},
   "source": [
    "### Version"
   ]
  },
  {
   "cell_type": "markdown",
   "metadata": {},
   "source": [
    "I will use the sklearn TfidfVectorizer transformer that convert raw documents to a matrix of TF-IDF features."
   ]
  },
  {
   "cell_type": "code",
   "execution_count": 50,
   "metadata": {},
   "outputs": [],
   "source": [
    "from sklearn.feature_extraction.text import TfidfVectorizer"
   ]
  },
  {
   "cell_type": "code",
   "execution_count": 51,
   "metadata": {},
   "outputs": [
    {
     "data": {
      "text/plain": [
       "0       ka 1.0 se se plus tivct flex 5p\n",
       "1      gol 1.6 mi plus total flex 8v 4p\n",
       "2            fox pepper 1.6 flex 16v 5p\n",
       "3                   fiesta class 1.0 4p\n",
       "4    ecosport freestyle 1.6 16v flex 5p\n",
       "Name: version, dtype: object"
      ]
     },
     "execution_count": 51,
     "metadata": {},
     "output_type": "execute_result"
    }
   ],
   "source": [
    "df.version.head()"
   ]
  },
  {
   "cell_type": "code",
   "execution_count": 46,
   "metadata": {},
   "outputs": [],
   "source": [
    "version_vec = TfidfVectorizer(min_df = 2)\n",
    "version_bow = version_vec"
   ]
  },
  {
   "cell_type": "code",
   "execution_count": null,
   "metadata": {},
   "outputs": [],
   "source": [
    "\n",
    "        \n",
    "    \n",
    "\n",
    "    \n",
    "        "
   ]
  },
  {
   "cell_type": "code",
   "execution_count": 57,
   "metadata": {},
   "outputs": [],
   "source": [
    "feat = 'any_name'"
   ]
  },
  {
   "cell_type": "code",
   "execution_count": 60,
   "metadata": {},
   "outputs": [
    {
     "data": {
      "text/plain": [
       "'any_name_bow.pickle'"
      ]
     },
     "execution_count": 60,
     "metadata": {},
     "output_type": "execute_result"
    }
   ],
   "source": [
    "\"{name}.pickle\".format(name = feat+'_bow')"
   ]
  },
  {
   "cell_type": "code",
   "execution_count": null,
   "metadata": {},
   "outputs": [],
   "source": []
  },
  {
   "cell_type": "code",
   "execution_count": null,
   "metadata": {},
   "outputs": [],
   "source": []
  },
  {
   "cell_type": "code",
   "execution_count": 48,
   "metadata": {},
   "outputs": [],
   "source": [
    "#display(df.version.str.contains('1.0').sum())\n",
    "#df.version.str.contains('1.6').sum()\n",
    "#df.version.str.contains('2.0').sum()"
   ]
  }
 ],
 "metadata": {
  "kernelspec": {
   "display_name": "Python 3",
   "language": "python",
   "name": "python3"
  },
  "language_info": {
   "codemirror_mode": {
    "name": "ipython",
    "version": 3
   },
   "file_extension": ".py",
   "mimetype": "text/x-python",
   "name": "python",
   "nbconvert_exporter": "python",
   "pygments_lexer": "ipython3",
   "version": "3.7.3"
  }
 },
 "nbformat": 4,
 "nbformat_minor": 4
}
