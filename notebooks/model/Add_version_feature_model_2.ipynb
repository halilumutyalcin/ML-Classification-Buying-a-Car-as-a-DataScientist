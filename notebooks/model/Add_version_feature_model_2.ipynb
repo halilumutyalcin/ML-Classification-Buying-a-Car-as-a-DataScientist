{
 "cells": [
  {
   "cell_type": "code",
   "execution_count": 101,
   "metadata": {},
   "outputs": [],
   "source": [
    "import pandas as pd\n",
    "import numpy as np\n",
    "import re\n",
    "import time\n",
    "import requests as rq\n",
    "import bs4 as bs4\n",
    "from utils import *\n",
    "\n",
    "from sklearn.utils import shuffle\n",
    "from sklearn.model_selection import train_test_split\n",
    "\n",
    "\n",
    "from sklearn.tree import DecisionTreeClassifier\n",
    "from sklearn.ensemble import RandomForestClassifier\n",
    "\n",
    "pd.set_option('max_colwidth', None)\n",
    "pd.set_option('display.max_rows', None)\n",
    "\n",
    "pd.set_option('max_columns', 28)"
   ]
  },
  {
   "cell_type": "code",
   "execution_count": 72,
   "metadata": {},
   "outputs": [
    {
     "data": {
      "text/html": [
       "<div>\n",
       "<style scoped>\n",
       "    .dataframe tbody tr th:only-of-type {\n",
       "        vertical-align: middle;\n",
       "    }\n",
       "\n",
       "    .dataframe tbody tr th {\n",
       "        vertical-align: top;\n",
       "    }\n",
       "\n",
       "    .dataframe thead th {\n",
       "        text-align: right;\n",
       "    }\n",
       "</style>\n",
       "<table border=\"1\" class=\"dataframe\">\n",
       "  <thead>\n",
       "    <tr style=\"text-align: right;\">\n",
       "      <th></th>\n",
       "      <th>link</th>\n",
       "      <th>brand</th>\n",
       "      <th>price</th>\n",
       "      <th>cartype</th>\n",
       "      <th>model</th>\n",
       "      <th>gearbox</th>\n",
       "      <th>regdate</th>\n",
       "      <th>mileage</th>\n",
       "      <th>motorpower</th>\n",
       "      <th>fuel</th>\n",
       "      <th>car_steering</th>\n",
       "      <th>carcolor</th>\n",
       "      <th>exchange</th>\n",
       "      <th>version</th>\n",
       "      <th>doors</th>\n",
       "      <th>financial</th>\n",
       "      <th>extra</th>\n",
       "      <th>Y</th>\n",
       "    </tr>\n",
       "  </thead>\n",
       "  <tbody>\n",
       "    <tr>\n",
       "      <th>0</th>\n",
       "      <td>https://rj.olx.com.br/rio-de-janeiro-e-regiao/autos-e-pecas/carros-vans-e-utilitarios/link_ford-ka-hatch-2018-unico-dono-completao-gnv-gratis-ent-8mil-48x-751-00-fixas-no-cdc-686667352</td>\n",
       "      <td>ford</td>\n",
       "      <td>31900</td>\n",
       "      <td>hatch</td>\n",
       "      <td>ka</td>\n",
       "      <td>manual</td>\n",
       "      <td>2015</td>\n",
       "      <td>39869</td>\n",
       "      <td>1</td>\n",
       "      <td>flex</td>\n",
       "      <td>elétrica</td>\n",
       "      <td>preto</td>\n",
       "      <td>sim</td>\n",
       "      <td>ka 1.0 se se plus tivct flex 5p</td>\n",
       "      <td>4 portas</td>\n",
       "      <td>ipva pago</td>\n",
       "      <td>vidro elétrico, air bag, trava elétrica, ar condicionado, direção hidráulica, alarme, som, sensor de ré</td>\n",
       "      <td>1.0</td>\n",
       "    </tr>\n",
       "  </tbody>\n",
       "</table>\n",
       "</div>"
      ],
      "text/plain": [
       "                                                                                                                                                                                       link  \\\n",
       "0  https://rj.olx.com.br/rio-de-janeiro-e-regiao/autos-e-pecas/carros-vans-e-utilitarios/link_ford-ka-hatch-2018-unico-dono-completao-gnv-gratis-ent-8mil-48x-751-00-fixas-no-cdc-686667352   \n",
       "\n",
       "  brand  price cartype model gearbox  regdate  mileage motorpower  fuel  \\\n",
       "0  ford  31900   hatch    ka  manual     2015    39869          1  flex   \n",
       "\n",
       "  car_steering carcolor exchange                          version     doors  \\\n",
       "0     elétrica    preto      sim  ka 1.0 se se plus tivct flex 5p  4 portas   \n",
       "\n",
       "   financial  \\\n",
       "0  ipva pago   \n",
       "\n",
       "                                                                                                     extra  \\\n",
       "0  vidro elétrico, air bag, trava elétrica, ar condicionado, direção hidráulica, alarme, som, sensor de ré   \n",
       "\n",
       "     Y  \n",
       "0  1.0  "
      ]
     },
     "execution_count": 72,
     "metadata": {},
     "output_type": "execute_result"
    }
   ],
   "source": [
    "df = pd.read_csv('car_information.csv',index_col=0)\n",
    "# Select labeled rows\n",
    "df = df[df['Y'].notnull()]\n",
    "df.head(1)"
   ]
  },
  {
   "cell_type": "code",
   "execution_count": 73,
   "metadata": {},
   "outputs": [
    {
     "data": {
      "text/html": [
       "<div>\n",
       "<style scoped>\n",
       "    .dataframe tbody tr th:only-of-type {\n",
       "        vertical-align: middle;\n",
       "    }\n",
       "\n",
       "    .dataframe tbody tr th {\n",
       "        vertical-align: top;\n",
       "    }\n",
       "\n",
       "    .dataframe thead th {\n",
       "        text-align: right;\n",
       "    }\n",
       "</style>\n",
       "<table border=\"1\" class=\"dataframe\">\n",
       "  <thead>\n",
       "    <tr style=\"text-align: right;\">\n",
       "      <th></th>\n",
       "      <th>link</th>\n",
       "      <th>price</th>\n",
       "      <th>regdate</th>\n",
       "      <th>mileage</th>\n",
       "      <th>version</th>\n",
       "      <th>doors</th>\n",
       "      <th>Y</th>\n",
       "      <th>vidro elétrico</th>\n",
       "      <th>air bag</th>\n",
       "      <th>trava elétrica</th>\n",
       "      <th>ar condicionado</th>\n",
       "      <th>direção hidráulica</th>\n",
       "      <th>alarme</th>\n",
       "      <th>som</th>\n",
       "      <th>...</th>\n",
       "      <th>carcolor_branco</th>\n",
       "      <th>carcolor_prata</th>\n",
       "      <th>carcolor_preto</th>\n",
       "      <th>carcolor_0</th>\n",
       "      <th>carcolor_vermelho</th>\n",
       "      <th>carcolor_cinza</th>\n",
       "      <th>carcolor_azul</th>\n",
       "      <th>carcolor_outra</th>\n",
       "      <th>carcolor_laranja</th>\n",
       "      <th>carcolor_amarelo</th>\n",
       "      <th>carcolor_verde</th>\n",
       "      <th>exchange_sim</th>\n",
       "      <th>exchange_não</th>\n",
       "      <th>exchange_0</th>\n",
       "    </tr>\n",
       "  </thead>\n",
       "  <tbody>\n",
       "    <tr>\n",
       "      <th>0</th>\n",
       "      <td>https://rj.olx.com.br/rio-de-janeiro-e-regiao/autos-e-pecas/carros-vans-e-utilitarios/link_ford-ka-hatch-2018-unico-dono-completao-gnv-gratis-ent-8mil-48x-751-00-fixas-no-cdc-686667352</td>\n",
       "      <td>31900</td>\n",
       "      <td>2015</td>\n",
       "      <td>39869</td>\n",
       "      <td>ka 1.0 se se plus tivct flex 5p</td>\n",
       "      <td>4</td>\n",
       "      <td>1.0</td>\n",
       "      <td>1.0</td>\n",
       "      <td>1.0</td>\n",
       "      <td>1.0</td>\n",
       "      <td>1.0</td>\n",
       "      <td>1.0</td>\n",
       "      <td>1.0</td>\n",
       "      <td>1.0</td>\n",
       "      <td>...</td>\n",
       "      <td>0</td>\n",
       "      <td>0</td>\n",
       "      <td>1</td>\n",
       "      <td>0</td>\n",
       "      <td>0</td>\n",
       "      <td>0</td>\n",
       "      <td>0</td>\n",
       "      <td>0</td>\n",
       "      <td>0</td>\n",
       "      <td>0</td>\n",
       "      <td>0</td>\n",
       "      <td>1</td>\n",
       "      <td>0</td>\n",
       "      <td>0</td>\n",
       "    </tr>\n",
       "  </tbody>\n",
       "</table>\n",
       "<p>1 rows × 75 columns</p>\n",
       "</div>"
      ],
      "text/plain": [
       "                                                                                                                                                                                       link  \\\n",
       "0  https://rj.olx.com.br/rio-de-janeiro-e-regiao/autos-e-pecas/carros-vans-e-utilitarios/link_ford-ka-hatch-2018-unico-dono-completao-gnv-gratis-ent-8mil-48x-751-00-fixas-no-cdc-686667352   \n",
       "\n",
       "   price  regdate  mileage                          version  doors    Y  \\\n",
       "0  31900     2015    39869  ka 1.0 se se plus tivct flex 5p      4  1.0   \n",
       "\n",
       "   vidro elétrico  air bag  trava elétrica  ar condicionado  \\\n",
       "0             1.0      1.0             1.0              1.0   \n",
       "\n",
       "   direção hidráulica  alarme  som  ...  carcolor_branco  carcolor_prata  \\\n",
       "0                 1.0     1.0  1.0  ...                0               0   \n",
       "\n",
       "   carcolor_preto  carcolor_0  carcolor_vermelho  carcolor_cinza  \\\n",
       "0               1           0                  0               0   \n",
       "\n",
       "   carcolor_azul  carcolor_outra  carcolor_laranja  carcolor_amarelo  \\\n",
       "0              0               0                 0                 0   \n",
       "\n",
       "   carcolor_verde  exchange_sim  exchange_não  exchange_0  \n",
       "0               0             1             0           0  \n",
       "\n",
       "[1 rows x 75 columns]"
      ]
     },
     "execution_count": 73,
     "metadata": {},
     "output_type": "execute_result"
    }
   ],
   "source": [
    "df = clean_df(df)\n",
    "df.head(1)"
   ]
  },
  {
   "cell_type": "code",
   "execution_count": 76,
   "metadata": {},
   "outputs": [],
   "source": [
    "cols = ['price','regdate','version', 'Y']"
   ]
  },
  {
   "cell_type": "code",
   "execution_count": 77,
   "metadata": {},
   "outputs": [
    {
     "data": {
      "text/html": [
       "<div>\n",
       "<style scoped>\n",
       "    .dataframe tbody tr th:only-of-type {\n",
       "        vertical-align: middle;\n",
       "    }\n",
       "\n",
       "    .dataframe tbody tr th {\n",
       "        vertical-align: top;\n",
       "    }\n",
       "\n",
       "    .dataframe thead th {\n",
       "        text-align: right;\n",
       "    }\n",
       "</style>\n",
       "<table border=\"1\" class=\"dataframe\">\n",
       "  <thead>\n",
       "    <tr style=\"text-align: right;\">\n",
       "      <th></th>\n",
       "      <th>price</th>\n",
       "      <th>regdate</th>\n",
       "      <th>version</th>\n",
       "      <th>Y</th>\n",
       "    </tr>\n",
       "  </thead>\n",
       "  <tbody>\n",
       "    <tr>\n",
       "      <th>0</th>\n",
       "      <td>31900</td>\n",
       "      <td>2015</td>\n",
       "      <td>ka 1.0 se se plus tivct flex 5p</td>\n",
       "      <td>1.0</td>\n",
       "    </tr>\n",
       "    <tr>\n",
       "      <th>1</th>\n",
       "      <td>26000</td>\n",
       "      <td>2013</td>\n",
       "      <td>gol 1.6 mi plus total flex 8v 4p</td>\n",
       "      <td>1.0</td>\n",
       "    </tr>\n",
       "  </tbody>\n",
       "</table>\n",
       "</div>"
      ],
      "text/plain": [
       "   price  regdate                           version    Y\n",
       "0  31900     2015   ka 1.0 se se plus tivct flex 5p  1.0\n",
       "1  26000     2013  gol 1.6 mi plus total flex 8v 4p  1.0"
      ]
     },
     "execution_count": 77,
     "metadata": {},
     "output_type": "execute_result"
    }
   ],
   "source": [
    "df = df[cols]\n",
    "df.head(2)"
   ]
  },
  {
   "cell_type": "markdown",
   "metadata": {},
   "source": [
    "### Split df"
   ]
  },
  {
   "cell_type": "code",
   "execution_count": 78,
   "metadata": {},
   "outputs": [],
   "source": [
    "# shuffle dataframe\n",
    "df = shuffle(df).reset_index(drop=True)"
   ]
  },
  {
   "cell_type": "code",
   "execution_count": 83,
   "metadata": {},
   "outputs": [],
   "source": [
    "Y = df['Y']\n",
    "X = df.loc[:, 'price':'version']"
   ]
  },
  {
   "cell_type": "code",
   "execution_count": 84,
   "metadata": {},
   "outputs": [
    {
     "data": {
      "text/plain": [
       "((2159, 3), (2160, 3), (2159,), (2160,))"
      ]
     },
     "execution_count": 84,
     "metadata": {},
     "output_type": "execute_result"
    }
   ],
   "source": [
    "# Split train and validation data\n",
    "Xtrain, Xval, Ytrain, Yval = train_test_split(X, Y, test_size=0.5, random_state=42)\n",
    "Xtrain.shape, Xval.shape, Ytrain.shape, Yval.shape"
   ]
  },
  {
   "cell_type": "markdown",
   "metadata": {},
   "source": [
    "### version "
   ]
  },
  {
   "cell_type": "code",
   "execution_count": 85,
   "metadata": {},
   "outputs": [],
   "source": [
    "from sklearn.feature_extraction.text import TfidfVectorizer\n"
   ]
  },
  {
   "cell_type": "code",
   "execution_count": 133,
   "metadata": {},
   "outputs": [],
   "source": [
    "version_train = Xtrain['version']\n",
    "version_val = Xval['version']\n",
    "\n",
    "\n",
    "version_vec = TfidfVectorizer(min_df= 4)\n",
    "\n",
    "version_bow_train = version_vec.fit_transform(version_train)\n",
    "version_bow_val = version_vec.transform(version_val)"
   ]
  },
  {
   "cell_type": "code",
   "execution_count": 134,
   "metadata": {},
   "outputs": [
    {
     "data": {
      "text/plain": [
       "(2159, 113)"
      ]
     },
     "execution_count": 134,
     "metadata": {},
     "output_type": "execute_result"
    }
   ],
   "source": [
    "version_bow_train.shape"
   ]
  },
  {
   "cell_type": "code",
   "execution_count": 135,
   "metadata": {},
   "outputs": [
    {
     "data": {
      "text/plain": [
       "<2159x113 sparse matrix of type '<class 'numpy.float64'>'\n",
       "\twith 10537 stored elements in Compressed Sparse Row format>"
      ]
     },
     "execution_count": 135,
     "metadata": {},
     "output_type": "execute_result"
    }
   ],
   "source": [
    "version_bow_train"
   ]
  },
  {
   "cell_type": "code",
   "execution_count": 136,
   "metadata": {},
   "outputs": [
    {
     "data": {
      "text/plain": [
       "(2159, 3)"
      ]
     },
     "execution_count": 136,
     "metadata": {},
     "output_type": "execute_result"
    }
   ],
   "source": [
    "Xtrain.shape"
   ]
  },
  {
   "cell_type": "code",
   "execution_count": 137,
   "metadata": {},
   "outputs": [],
   "source": [
    "Xtrain_noversion = Xtrain.loc[:,['price','regdate']]\n",
    "xval_noversion = Xval.loc[:,['price','regdate']]"
   ]
  },
  {
   "cell_type": "markdown",
   "metadata": {},
   "source": [
    "The TfidfVectorizer may give us a sparse matrix. That way, we have to account for this issue and add the sparse matrix to our dataframe. "
   ]
  },
  {
   "cell_type": "code",
   "execution_count": 138,
   "metadata": {},
   "outputs": [],
   "source": [
    "from scipy.sparse import hstack, vstack\n",
    "\n",
    "Xtrain_wversion = hstack([Xtrain_noversion, version_bow_train])\n",
    "Xval_wversion = hstack([xval_noversion,version_bow_val])"
   ]
  },
  {
   "cell_type": "code",
   "execution_count": 139,
   "metadata": {},
   "outputs": [
    {
     "data": {
      "text/plain": [
       "((2159, 115), (2160, 115))"
      ]
     },
     "execution_count": 139,
     "metadata": {},
     "output_type": "execute_result"
    }
   ],
   "source": [
    "Xtrain_wversion.shape, Xval_wversion.shape"
   ]
  },
  {
   "cell_type": "code",
   "execution_count": 140,
   "metadata": {},
   "outputs": [
    {
     "data": {
      "text/plain": [
       "RandomForestClassifier(bootstrap=True, class_weight='balanced',\n",
       "                       criterion='gini', max_depth=None, max_features='auto',\n",
       "                       max_leaf_nodes=None, min_impurity_decrease=0.0,\n",
       "                       min_impurity_split=None, min_samples_leaf=1,\n",
       "                       min_samples_split=2, min_weight_fraction_leaf=0.0,\n",
       "                       n_estimators=1000, n_jobs=-1, oob_score=False,\n",
       "                       random_state=42, verbose=0, warm_start=False)"
      ]
     },
     "execution_count": 140,
     "metadata": {},
     "output_type": "execute_result"
    }
   ],
   "source": [
    "model = RandomForestClassifier(n_estimators= 1000 ,\n",
    "                              random_state=42 ,\n",
    "                              class_weight= 'balanced',\n",
    "                              n_jobs = -1)\n",
    "\n",
    "model.fit(Xtrain_wversion,y_train)"
   ]
  },
  {
   "cell_type": "code",
   "execution_count": 141,
   "metadata": {},
   "outputs": [],
   "source": [
    "pred = model.predict_proba(Xval_wversion)[:,1]"
   ]
  },
  {
   "cell_type": "code",
   "execution_count": 142,
   "metadata": {},
   "outputs": [],
   "source": [
    "from sklearn.metrics import roc_auc_score, average_precision_score"
   ]
  },
  {
   "cell_type": "code",
   "execution_count": 143,
   "metadata": {},
   "outputs": [
    {
     "name": "stdout",
     "output_type": "stream",
     "text": [
      "average_precision_score : 0.1377\n",
      "roc_auc_score : 0.5094\n"
     ]
    }
   ],
   "source": [
    "print('average_precision_score :', np.round(average_precision_score(y_val, pred),4))\n",
    "print('roc_auc_score :', np.round(roc_auc_score(y_val, pred),4))"
   ]
  },
  {
   "cell_type": "code",
   "execution_count": null,
   "metadata": {},
   "outputs": [],
   "source": [
    "tests:\n",
    "\n",
    "min_df = 1  - > ap =  0.1386  -  auc = 0.513\n",
    "min_df = 2  - > ap =  0.1384  -  auc = 0.5104\n",
    "min_df = 3  - > ap =  0.1385  -  auc = 0.5117\n",
    "min_df = 4  - > ap =  0.1377  -  auc = 0.5094"
   ]
  },
  {
   "cell_type": "markdown",
   "metadata": {},
   "source": [
    "As we can see, adding the version column does not help us. This model is not better than our base model."
   ]
  },
  {
   "cell_type": "code",
   "execution_count": null,
   "metadata": {},
   "outputs": [],
   "source": []
  },
  {
   "cell_type": "code",
   "execution_count": null,
   "metadata": {},
   "outputs": [],
   "source": []
  },
  {
   "cell_type": "code",
   "execution_count": null,
   "metadata": {},
   "outputs": [],
   "source": []
  },
  {
   "cell_type": "code",
   "execution_count": null,
   "metadata": {},
   "outputs": [],
   "source": []
  },
  {
   "cell_type": "code",
   "execution_count": null,
   "metadata": {},
   "outputs": [],
   "source": []
  },
  {
   "cell_type": "code",
   "execution_count": null,
   "metadata": {},
   "outputs": [],
   "source": []
  },
  {
   "cell_type": "code",
   "execution_count": null,
   "metadata": {},
   "outputs": [],
   "source": []
  }
 ],
 "metadata": {
  "kernelspec": {
   "display_name": "Python 3",
   "language": "python",
   "name": "python3"
  },
  "language_info": {
   "codemirror_mode": {
    "name": "ipython",
    "version": 3
   },
   "file_extension": ".py",
   "mimetype": "text/x-python",
   "name": "python",
   "nbconvert_exporter": "python",
   "pygments_lexer": "ipython3",
   "version": "3.7.3"
  }
 },
 "nbformat": 4,
 "nbformat_minor": 2
}
