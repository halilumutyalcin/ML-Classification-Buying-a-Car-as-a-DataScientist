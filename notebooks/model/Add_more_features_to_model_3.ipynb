{
 "cells": [
  {
   "cell_type": "code",
   "execution_count": 1,
   "metadata": {},
   "outputs": [],
   "source": [
    "import pandas as pd\n",
    "import numpy as np\n",
    "import re\n",
    "import time\n",
    "import requests as rq\n",
    "import bs4 as bs4\n",
    "from utils import *\n",
    "\n",
    "from sklearn.utils import shuffle\n",
    "from sklearn.model_selection import train_test_split\n",
    "\n",
    "from sklearn.metrics import roc_auc_score, average_precision_score\n",
    "\n",
    "\n",
    "from sklearn.tree import DecisionTreeClassifier\n",
    "from sklearn.ensemble import RandomForestClassifier\n",
    "\n",
    "pd.set_option('max_colwidth', None)\n",
    "pd.set_option('display.max_rows', None)\n",
    "\n",
    "pd.set_option('max_columns', 28)"
   ]
  },
  {
   "cell_type": "markdown",
   "metadata": {},
   "source": [
    "# Decision Tree"
   ]
  },
  {
   "cell_type": "code",
   "execution_count": 2,
   "metadata": {},
   "outputs": [
    {
     "data": {
      "text/html": [
       "<div>\n",
       "<style scoped>\n",
       "    .dataframe tbody tr th:only-of-type {\n",
       "        vertical-align: middle;\n",
       "    }\n",
       "\n",
       "    .dataframe tbody tr th {\n",
       "        vertical-align: top;\n",
       "    }\n",
       "\n",
       "    .dataframe thead th {\n",
       "        text-align: right;\n",
       "    }\n",
       "</style>\n",
       "<table border=\"1\" class=\"dataframe\">\n",
       "  <thead>\n",
       "    <tr style=\"text-align: right;\">\n",
       "      <th></th>\n",
       "      <th>link</th>\n",
       "      <th>brand</th>\n",
       "      <th>price</th>\n",
       "      <th>cartype</th>\n",
       "      <th>model</th>\n",
       "      <th>gearbox</th>\n",
       "      <th>regdate</th>\n",
       "      <th>mileage</th>\n",
       "      <th>motorpower</th>\n",
       "      <th>fuel</th>\n",
       "      <th>car_steering</th>\n",
       "      <th>carcolor</th>\n",
       "      <th>exchange</th>\n",
       "      <th>version</th>\n",
       "      <th>doors</th>\n",
       "      <th>financial</th>\n",
       "      <th>extra</th>\n",
       "      <th>Y</th>\n",
       "    </tr>\n",
       "  </thead>\n",
       "  <tbody>\n",
       "    <tr>\n",
       "      <th>0</th>\n",
       "      <td>https://rj.olx.com.br/rio-de-janeiro-e-regiao/autos-e-pecas/carros-vans-e-utilitarios/link_ford-ka-hatch-2018-unico-dono-completao-gnv-gratis-ent-8mil-48x-751-00-fixas-no-cdc-686667352</td>\n",
       "      <td>ford</td>\n",
       "      <td>31900</td>\n",
       "      <td>hatch</td>\n",
       "      <td>ka</td>\n",
       "      <td>manual</td>\n",
       "      <td>2015</td>\n",
       "      <td>39869</td>\n",
       "      <td>1</td>\n",
       "      <td>flex</td>\n",
       "      <td>elétrica</td>\n",
       "      <td>preto</td>\n",
       "      <td>sim</td>\n",
       "      <td>ka 1.0 se se plus tivct flex 5p</td>\n",
       "      <td>4 portas</td>\n",
       "      <td>ipva pago</td>\n",
       "      <td>vidro elétrico, air bag, trava elétrica, ar condicionado, direção hidráulica, alarme, som, sensor de ré</td>\n",
       "      <td>1.0</td>\n",
       "    </tr>\n",
       "  </tbody>\n",
       "</table>\n",
       "</div>"
      ],
      "text/plain": [
       "                                                                                                                                                                                       link  \\\n",
       "0  https://rj.olx.com.br/rio-de-janeiro-e-regiao/autos-e-pecas/carros-vans-e-utilitarios/link_ford-ka-hatch-2018-unico-dono-completao-gnv-gratis-ent-8mil-48x-751-00-fixas-no-cdc-686667352   \n",
       "\n",
       "  brand  price cartype model gearbox  regdate  mileage motorpower  fuel  \\\n",
       "0  ford  31900   hatch    ka  manual     2015    39869          1  flex   \n",
       "\n",
       "  car_steering carcolor exchange                          version     doors  \\\n",
       "0     elétrica    preto      sim  ka 1.0 se se plus tivct flex 5p  4 portas   \n",
       "\n",
       "   financial  \\\n",
       "0  ipva pago   \n",
       "\n",
       "                                                                                                     extra  \\\n",
       "0  vidro elétrico, air bag, trava elétrica, ar condicionado, direção hidráulica, alarme, som, sensor de ré   \n",
       "\n",
       "     Y  \n",
       "0  1.0  "
      ]
     },
     "execution_count": 2,
     "metadata": {},
     "output_type": "execute_result"
    }
   ],
   "source": [
    "df = pd.read_csv('car_information.csv',index_col=0)\n",
    "# Select labeled rows\n",
    "df = df[df['Y'].notnull()]\n",
    "df.head(1)"
   ]
  },
  {
   "cell_type": "code",
   "execution_count": 3,
   "metadata": {},
   "outputs": [
    {
     "data": {
      "text/html": [
       "<div>\n",
       "<style scoped>\n",
       "    .dataframe tbody tr th:only-of-type {\n",
       "        vertical-align: middle;\n",
       "    }\n",
       "\n",
       "    .dataframe tbody tr th {\n",
       "        vertical-align: top;\n",
       "    }\n",
       "\n",
       "    .dataframe thead th {\n",
       "        text-align: right;\n",
       "    }\n",
       "</style>\n",
       "<table border=\"1\" class=\"dataframe\">\n",
       "  <thead>\n",
       "    <tr style=\"text-align: right;\">\n",
       "      <th></th>\n",
       "      <th>link</th>\n",
       "      <th>price</th>\n",
       "      <th>regdate</th>\n",
       "      <th>mileage</th>\n",
       "      <th>version</th>\n",
       "      <th>doors</th>\n",
       "      <th>Y</th>\n",
       "      <th>vidro elétrico</th>\n",
       "      <th>air bag</th>\n",
       "      <th>trava elétrica</th>\n",
       "      <th>ar condicionado</th>\n",
       "      <th>direção hidráulica</th>\n",
       "      <th>alarme</th>\n",
       "      <th>som</th>\n",
       "      <th>...</th>\n",
       "      <th>carcolor_branco</th>\n",
       "      <th>carcolor_prata</th>\n",
       "      <th>carcolor_preto</th>\n",
       "      <th>carcolor_0</th>\n",
       "      <th>carcolor_vermelho</th>\n",
       "      <th>carcolor_cinza</th>\n",
       "      <th>carcolor_azul</th>\n",
       "      <th>carcolor_outra</th>\n",
       "      <th>carcolor_laranja</th>\n",
       "      <th>carcolor_amarelo</th>\n",
       "      <th>carcolor_verde</th>\n",
       "      <th>exchange_sim</th>\n",
       "      <th>exchange_não</th>\n",
       "      <th>exchange_0</th>\n",
       "    </tr>\n",
       "  </thead>\n",
       "  <tbody>\n",
       "    <tr>\n",
       "      <th>0</th>\n",
       "      <td>https://rj.olx.com.br/rio-de-janeiro-e-regiao/autos-e-pecas/carros-vans-e-utilitarios/link_ford-ka-hatch-2018-unico-dono-completao-gnv-gratis-ent-8mil-48x-751-00-fixas-no-cdc-686667352</td>\n",
       "      <td>31900</td>\n",
       "      <td>2015</td>\n",
       "      <td>39869</td>\n",
       "      <td>ka 1.0 se se plus tivct flex 5p</td>\n",
       "      <td>4</td>\n",
       "      <td>1.0</td>\n",
       "      <td>1.0</td>\n",
       "      <td>1.0</td>\n",
       "      <td>1.0</td>\n",
       "      <td>1.0</td>\n",
       "      <td>1.0</td>\n",
       "      <td>1.0</td>\n",
       "      <td>1.0</td>\n",
       "      <td>...</td>\n",
       "      <td>0</td>\n",
       "      <td>0</td>\n",
       "      <td>1</td>\n",
       "      <td>0</td>\n",
       "      <td>0</td>\n",
       "      <td>0</td>\n",
       "      <td>0</td>\n",
       "      <td>0</td>\n",
       "      <td>0</td>\n",
       "      <td>0</td>\n",
       "      <td>0</td>\n",
       "      <td>1</td>\n",
       "      <td>0</td>\n",
       "      <td>0</td>\n",
       "    </tr>\n",
       "  </tbody>\n",
       "</table>\n",
       "<p>1 rows × 75 columns</p>\n",
       "</div>"
      ],
      "text/plain": [
       "                                                                                                                                                                                       link  \\\n",
       "0  https://rj.olx.com.br/rio-de-janeiro-e-regiao/autos-e-pecas/carros-vans-e-utilitarios/link_ford-ka-hatch-2018-unico-dono-completao-gnv-gratis-ent-8mil-48x-751-00-fixas-no-cdc-686667352   \n",
       "\n",
       "   price  regdate  mileage                          version  doors    Y  \\\n",
       "0  31900     2015    39869  ka 1.0 se se plus tivct flex 5p      4  1.0   \n",
       "\n",
       "   vidro elétrico  air bag  trava elétrica  ar condicionado  \\\n",
       "0             1.0      1.0             1.0              1.0   \n",
       "\n",
       "   direção hidráulica  alarme  som  ...  carcolor_branco  carcolor_prata  \\\n",
       "0                 1.0     1.0  1.0  ...                0               0   \n",
       "\n",
       "   carcolor_preto  carcolor_0  carcolor_vermelho  carcolor_cinza  \\\n",
       "0               1           0                  0               0   \n",
       "\n",
       "   carcolor_azul  carcolor_outra  carcolor_laranja  carcolor_amarelo  \\\n",
       "0              0               0                 0                 0   \n",
       "\n",
       "   carcolor_verde  exchange_sim  exchange_não  exchange_0  \n",
       "0               0             1             0           0  \n",
       "\n",
       "[1 rows x 75 columns]"
      ]
     },
     "execution_count": 3,
     "metadata": {},
     "output_type": "execute_result"
    }
   ],
   "source": [
    "df = clean_df(df)\n",
    "df.head(1)"
   ]
  },
  {
   "cell_type": "code",
   "execution_count": 4,
   "metadata": {},
   "outputs": [],
   "source": [
    "df.columns = [ 'link', 'price', 'regdate', 'mileage', 'version', 'doors', 'Y',\n",
    "       'vidro_eletrico', 'air_bag', 'trava_eletrica', 'ar_condicionado',\n",
    "       'direcao_hidraulica', 'alarme', 'som', 'sensor_de_re', 'blindado',\n",
    "       'camera_de_re', 'financial_ipva_pago', 'financial_0',\n",
    "       'financial_financiado', 'financial_de_leilao', 'financial_com_multas',\n",
    "       'brand_ford', 'brand_vwvolkswagen', 'cartype_hatch', 'cartype_passeio',\n",
    "       'cartype_seda', 'cartype_0', 'cartype_suv', 'cartype_pickup',\n",
    "       'model_ka', 'model_ecosport', 'model_fiesta', 'model_fox',\n",
    "       'model_focus', 'model_gol', 'model_voyage', 'model_up', 'model_saveiro',\n",
    "       'model_crossfox', 'model_jetta', 'model_golf', 'model_polo',\n",
    "       'model_fusion', 'model_0', 'model_ranger', 'gearbox_manual',\n",
    "       'gearbox_automatico', 'gearbox_semiautomatico', 'gearbox_0',\n",
    "       'motorpower_1.6', 'motorpower_1', 'motorpower_0', 'motorpower_2.02.9',\n",
    "       'motorpower_1.5', 'motorpower_1.4', 'fuel_flex',\n",
    "       'car_steering_hidraulica', 'car_steering_eletrica', 'car_steering_0',\n",
    "       'car_steering_mecnica', 'carcolor_branco', 'carcolor_prata',\n",
    "       'carcolor_preto', 'carcolor_0', 'carcolor_vermelho', 'carcolor_cinza',\n",
    "       'carcolor_azul', 'carcolor_outra', 'carcolor_laranja', 'carcolor_verde',\n",
    "       'carcolor_amarelo', 'exchange_sim', 'exchange_não', 'exchange_0']"
   ]
  },
  {
   "cell_type": "code",
   "execution_count": 5,
   "metadata": {},
   "outputs": [],
   "source": [
    "cols = ['price', 'regdate', 'mileage','model_ka', 'model_ecosport', 'model_fiesta', 'model_fox',\n",
    "       'model_focus', 'model_gol', 'model_voyage', 'model_up', 'model_saveiro',\n",
    "       'model_crossfox', 'model_jetta', 'model_golf', 'model_polo',\n",
    "       'model_fusion', 'model_0', 'model_ranger', 'gearbox_manual', 'gearbox_manual',\n",
    "       'gearbox_automatico', 'gearbox_semiautomatico', 'gearbox_0', 'financial_ipva_pago', 'financial_0',\n",
    "       'financial_financiado', 'financial_de_leilao', 'financial_com_multas' ,'Y']\n",
    "\n",
    "\n"
   ]
  },
  {
   "cell_type": "code",
   "execution_count": 6,
   "metadata": {},
   "outputs": [],
   "source": [
    "#cols = df.columns"
   ]
  },
  {
   "cell_type": "code",
   "execution_count": 7,
   "metadata": {},
   "outputs": [],
   "source": [
    "# shuffle dataframe\n",
    "df = shuffle(df).reset_index(drop=True)"
   ]
  },
  {
   "cell_type": "code",
   "execution_count": 8,
   "metadata": {},
   "outputs": [
    {
     "data": {
      "text/html": [
       "<div>\n",
       "<style scoped>\n",
       "    .dataframe tbody tr th:only-of-type {\n",
       "        vertical-align: middle;\n",
       "    }\n",
       "\n",
       "    .dataframe tbody tr th {\n",
       "        vertical-align: top;\n",
       "    }\n",
       "\n",
       "    .dataframe thead th {\n",
       "        text-align: right;\n",
       "    }\n",
       "</style>\n",
       "<table border=\"1\" class=\"dataframe\">\n",
       "  <thead>\n",
       "    <tr style=\"text-align: right;\">\n",
       "      <th></th>\n",
       "      <th>price</th>\n",
       "      <th>regdate</th>\n",
       "      <th>mileage</th>\n",
       "      <th>model_ka</th>\n",
       "      <th>model_ecosport</th>\n",
       "      <th>model_fiesta</th>\n",
       "      <th>model_fox</th>\n",
       "      <th>model_focus</th>\n",
       "      <th>model_gol</th>\n",
       "      <th>model_voyage</th>\n",
       "      <th>model_up</th>\n",
       "      <th>model_saveiro</th>\n",
       "      <th>model_crossfox</th>\n",
       "      <th>model_jetta</th>\n",
       "      <th>...</th>\n",
       "      <th>model_fusion</th>\n",
       "      <th>model_0</th>\n",
       "      <th>model_ranger</th>\n",
       "      <th>gearbox_manual</th>\n",
       "      <th>gearbox_manual</th>\n",
       "      <th>gearbox_automatico</th>\n",
       "      <th>gearbox_semiautomatico</th>\n",
       "      <th>gearbox_0</th>\n",
       "      <th>financial_ipva_pago</th>\n",
       "      <th>financial_0</th>\n",
       "      <th>financial_financiado</th>\n",
       "      <th>financial_de_leilao</th>\n",
       "      <th>financial_com_multas</th>\n",
       "      <th>Y</th>\n",
       "    </tr>\n",
       "  </thead>\n",
       "  <tbody>\n",
       "    <tr>\n",
       "      <th>0</th>\n",
       "      <td>20990</td>\n",
       "      <td>2013</td>\n",
       "      <td>97000</td>\n",
       "      <td>0</td>\n",
       "      <td>0</td>\n",
       "      <td>1</td>\n",
       "      <td>0</td>\n",
       "      <td>0</td>\n",
       "      <td>0</td>\n",
       "      <td>0</td>\n",
       "      <td>0</td>\n",
       "      <td>0</td>\n",
       "      <td>0</td>\n",
       "      <td>0</td>\n",
       "      <td>...</td>\n",
       "      <td>0</td>\n",
       "      <td>0</td>\n",
       "      <td>0</td>\n",
       "      <td>1</td>\n",
       "      <td>1</td>\n",
       "      <td>0</td>\n",
       "      <td>0</td>\n",
       "      <td>0</td>\n",
       "      <td>1</td>\n",
       "      <td>0</td>\n",
       "      <td>0</td>\n",
       "      <td>0</td>\n",
       "      <td>0</td>\n",
       "      <td>0.0</td>\n",
       "    </tr>\n",
       "  </tbody>\n",
       "</table>\n",
       "<p>1 rows × 30 columns</p>\n",
       "</div>"
      ],
      "text/plain": [
       "   price  regdate  mileage  model_ka  model_ecosport  model_fiesta  model_fox  \\\n",
       "0  20990     2013    97000         0               0             1          0   \n",
       "\n",
       "   model_focus  model_gol  model_voyage  model_up  model_saveiro  \\\n",
       "0            0          0             0         0              0   \n",
       "\n",
       "   model_crossfox  model_jetta  ...  model_fusion  model_0  model_ranger  \\\n",
       "0               0            0  ...             0        0             0   \n",
       "\n",
       "   gearbox_manual  gearbox_manual  gearbox_automatico  gearbox_semiautomatico  \\\n",
       "0               1               1                   0                       0   \n",
       "\n",
       "   gearbox_0  financial_ipva_pago  financial_0  financial_financiado  \\\n",
       "0          0                    1            0                     0   \n",
       "\n",
       "   financial_de_leilao  financial_com_multas    Y  \n",
       "0                    0                     0  0.0  \n",
       "\n",
       "[1 rows x 30 columns]"
      ]
     },
     "execution_count": 8,
     "metadata": {},
     "output_type": "execute_result"
    }
   ],
   "source": [
    "simple_df = df[cols]\n",
    "simple_df.head(1)"
   ]
  },
  {
   "cell_type": "code",
   "execution_count": 9,
   "metadata": {},
   "outputs": [],
   "source": [
    "Y = simple_df['Y']\n",
    "X = simple_df.loc[:, 'price':'financial_com_multas']"
   ]
  },
  {
   "cell_type": "code",
   "execution_count": 10,
   "metadata": {},
   "outputs": [
    {
     "data": {
      "text/plain": [
       "((2159, 29), (2160, 29), (2159,), (2160,))"
      ]
     },
     "execution_count": 10,
     "metadata": {},
     "output_type": "execute_result"
    }
   ],
   "source": [
    "# Split train and validation data\n",
    "Xtrain, Xval, y_train, y_val = train_test_split(X, Y, test_size=0.5, random_state=42)\n",
    "Xtrain.shape, Xval.shape, y_train.shape, y_val.shape"
   ]
  },
  {
   "cell_type": "markdown",
   "metadata": {},
   "source": [
    "### - Model \n",
    "\n",
    "- we have to account for inbalance data "
   ]
  },
  {
   "cell_type": "code",
   "execution_count": null,
   "metadata": {},
   "outputs": [],
   "source": [
    "model = DecisionTreeClassifier(random_state= 42, max_depth = 2 , class_weight= 'balanced')\n",
    "model.fit(Xtrain,y_train)"
   ]
  },
  {
   "cell_type": "code",
   "execution_count": null,
   "metadata": {},
   "outputs": [],
   "source": [
    "pred = model.predict_log_proba(Xval)[:,1]"
   ]
  },
  {
   "cell_type": "markdown",
   "metadata": {},
   "source": [
    "### Metrics"
   ]
  },
  {
   "cell_type": "code",
   "execution_count": null,
   "metadata": {},
   "outputs": [],
   "source": [
    "from sklearn.metrics import roc_auc_score, average_precision_score\n",
    "\n",
    "print('average_precision_score :', np.round(average_precision_score(y_val, pred),4))\n",
    "print('roc_auc_score :', np.round(roc_auc_score(y_val, pred),4))"
   ]
  },
  {
   "cell_type": "code",
   "execution_count": null,
   "metadata": {},
   "outputs": [],
   "source": [
    "1) cols = ['price', 'regdate', 'mileage', 'Y']\n",
    "-  average_precision_score : 0.4124 roc_auc_score : 0.8816\n",
    "        \n",
    "2) cols = ['price', 'regdate', 'mileage','model_ka', 'model_ecosport', 'model_fiesta', 'model_fox',\n",
    "       'model_focus', 'model_gol', 'model_voyage', 'model_up', 'model_saveiro',\n",
    "       'model_crossfox', 'model_jetta', 'model_golf', 'model_polo',\n",
    "       'model_fusion', 'model_0', 'model_ranger', 'gearbox_manual', 'Y']\n",
    "\n",
    "- average_precision_score : 0.4342  roc_auc_score : 0.8882\n",
    "        \n",
    "        \n",
    "3) cols = ['price', 'regdate', 'mileage','model_ka', 'model_ecosport', 'model_fiesta', 'model_fox',\n",
    "       'model_focus', 'model_gol', 'model_voyage', 'model_up', 'model_saveiro',\n",
    "       'model_crossfox', 'model_jetta', 'model_golf', 'model_polo',\n",
    "       'model_fusion', 'model_0', 'model_ranger', 'gearbox_manual', 'gearbox_manual',\n",
    "       'gearbox_automático', 'gearbox_semiautomático', 'gearbox_0', 'Y']\n",
    "\n",
    "- average_precision_score : 0.4101   roc_auc_score : 0.8789\n",
    " \n",
    "\n",
    "4) cols = ['price', 'regdate', 'mileage','model_ka', 'model_ecosport', 'model_fiesta', 'model_fox',\n",
    "       'model_focus', 'model_gol', 'model_voyage', 'model_up', 'model_saveiro',\n",
    "       'model_crossfox', 'model_jetta', 'model_golf', 'model_polo',\n",
    "       'model_fusion', 'model_0', 'model_ranger', 'gearbox_manual', 'gearbox_manual',\n",
    "       'gearbox_automático', 'gearbox_semiautomático', 'gearbox_0', 'financial_ipva pago', 'financial_0',\n",
    "       'financial_financiado', 'financial_de leilão', 'financial_com multas' ,'Y']\n",
    "\n",
    "- average_precision_score : 0.451    roc_auc_score : 0.8859\n",
    "        \n",
    "5) cols = ['price', 'regdate', 'mileage','model_ka', 'model_ecosport', 'model_fiesta', 'model_fox',\n",
    "       'model_focus', 'model_gol', 'model_voyage', 'model_up', 'model_saveiro',\n",
    "       'model_crossfox', 'model_jetta', 'model_golf', 'model_polo',\n",
    "       'model_fusion', 'model_0', 'model_ranger', 'gearbox_manual', 'gearbox_manual',\n",
    "       'gearbox_automático', 'gearbox_semiautomático', 'gearbox_0', 'financial_ipva pago', 'financial_0',\n",
    "       'financial_financiado', 'financial_de leilão', 'financial_com multas' ,'car_steering_hidráulica', 'car_steering_elétrica', 'car_steering_0',\n",
    "       'car_steering_mecnica', 'Y']\n",
    "\n",
    "- average_precision_score : 0.4347   roc_auc_score : 0.8915\n",
    "\n",
    "6) All columns :\n",
    "    \n",
    "------ average_precision_score : 0.457  roc_auc_score : 0.8929"
   ]
  },
  {
   "cell_type": "markdown",
   "metadata": {},
   "source": [
    "## Selected features - Decision Tree"
   ]
  },
  {
   "cell_type": "code",
   "execution_count": null,
   "metadata": {},
   "outputs": [],
   "source": [
    "4) cols = ['price', 'regdate', 'mileage','model_ka', 'model_ecosport', 'model_fiesta', 'model_fox',\n",
    "       'model_focus', 'model_gol', 'model_voyage', 'model_up', 'model_saveiro',\n",
    "       'model_crossfox', 'model_jetta', 'model_golf', 'model_polo',\n",
    "       'model_fusion', 'model_0', 'model_ranger', 'gearbox_manual', 'gearbox_manual',\n",
    "       'gearbox_automático', 'gearbox_semiautomático', 'gearbox_0', 'financial_ipva pago', 'financial_0',\n",
    "       'financial_financiado', 'financial_de leilão', 'financial_com multas' ,'Y']\n",
    "\n",
    "- average_precision_score : 0.451    roc_auc_score : 0.8859"
   ]
  },
  {
   "cell_type": "markdown",
   "metadata": {},
   "source": [
    "# random Forest"
   ]
  },
  {
   "cell_type": "code",
   "execution_count": null,
   "metadata": {},
   "outputs": [],
   "source": [
    "model = RandomForestClassifier(n_estimators= 1000 ,\n",
    "                              random_state=42 ,\n",
    "                              class_weight= 'balanced',\n",
    "                              n_jobs = -1)\n",
    "\n",
    "model.fit(Xtrain,y_train)"
   ]
  },
  {
   "cell_type": "code",
   "execution_count": null,
   "metadata": {},
   "outputs": [],
   "source": [
    "pred = model.predict_proba(Xval)[:,1]"
   ]
  },
  {
   "cell_type": "code",
   "execution_count": null,
   "metadata": {},
   "outputs": [],
   "source": [
    "from sklearn.metrics import roc_auc_score, average_precision_score\n",
    "\n",
    "print('average_precision_score :', np.round(average_precision_score(y_val, pred),4))\n",
    "print('roc_auc_score :', np.round(roc_auc_score(y_val, pred),4))"
   ]
  },
  {
   "cell_type": "code",
   "execution_count": null,
   "metadata": {},
   "outputs": [],
   "source": [
    "1) cols = ['price', 'regdate', 'mileage', 'Y']\n",
    "\n",
    "------  average_precision_score : 0.5531  roc_auc_score : 0.9044\n",
    "        \n",
    "2)  cols = ['price', 'regdate', 'mileage','model_ka', 'model_ecosport', 'model_fiesta', 'model_fox',\n",
    "       'model_focus', 'model_gol', 'model_voyage', 'model_up', 'model_saveiro',\n",
    "       'model_crossfox', 'model_jetta', 'model_golf', 'model_polo',\n",
    "       'model_fusion', 'model_0', 'model_ranger', 'gearbox_manual', 'Y']   \n",
    "\n",
    "------ average_precision_score : 0.6412   roc_auc_score : 0.9271\n",
    "        \n",
    "        \n",
    "3)  cols = ['price', 'regdate', 'mileage','model_ka', 'model_ecosport', 'model_fiesta', 'model_fox',\n",
    "       'model_focus', 'model_gol', 'model_voyage', 'model_up', 'model_saveiro',\n",
    "       'model_crossfox', 'model_jetta', 'model_golf', 'model_polo',\n",
    "       'model_fusion', 'model_0', 'model_ranger', 'gearbox_manual', 'gearbox_manual',\n",
    "       'gearbox_automático', 'gearbox_semiautomático', 'gearbox_0', 'Y']\n",
    "\n",
    "------  average_precision_score : 0.6326   roc_auc_score : 0.9279\n",
    "        \n",
    "4) cols = ['price', 'regdate', 'mileage','model_ka', 'model_ecosport', 'model_fiesta', 'model_fox',\n",
    "       'model_focus', 'model_gol', 'model_voyage', 'model_up', 'model_saveiro',\n",
    "       'model_crossfox', 'model_jetta', 'model_golf', 'model_polo',\n",
    "       'model_fusion', 'model_0', 'model_ranger', 'gearbox_manual', 'gearbox_manual',\n",
    "       'gearbox_automático', 'gearbox_semiautomático', 'gearbox_0', 'financial_ipva pago', 'financial_0',\n",
    "       'financial_financiado', 'financial_de leilão', 'financial_com multas' ,'Y']\n",
    "\n",
    "\n",
    "------ average_precision_score : 0.6414   roc_auc_score : 0.9312\n",
    "        \n",
    "5)  cols = ['price', 'regdate', 'mileage','model_ka', 'model_ecosport', 'model_fiesta', 'model_fox',\n",
    "       'model_focus', 'model_gol', 'model_voyage', 'model_up', 'model_saveiro',\n",
    "       'model_crossfox', 'model_jetta', 'model_golf', 'model_polo',\n",
    "       'model_fusion', 'model_0', 'model_ranger', 'gearbox_manual', 'gearbox_manual',\n",
    "       'gearbox_automático', 'gearbox_semiautomático', 'gearbox_0', 'financial_ipva pago', 'financial_0',\n",
    "       'financial_financiado', 'financial_de leilão', 'financial_com multas' ,'car_steering_hidráulica', 'car_steering_elétrica', 'car_steering_0',\n",
    "       'car_steering_mecnica', 'Y']\n",
    "\n",
    "------ average_precision_score : 0.64   roc_auc_score : 0.9304\n",
    "        \n",
    "6) All columns :\n",
    "    \n",
    "------ average_precision_score : 0.6319  roc_auc_score : 0.929"
   ]
  },
  {
   "cell_type": "markdown",
   "metadata": {},
   "source": [
    "# Selected features"
   ]
  },
  {
   "cell_type": "code",
   "execution_count": null,
   "metadata": {},
   "outputs": [],
   "source": [
    "4) cols = ['price', 'regdate', 'mileage','model_ka', 'model_ecosport', 'model_fiesta', 'model_fox',\n",
    "       'model_focus', 'model_gol', 'model_voyage', 'model_up', 'model_saveiro',\n",
    "       'model_crossfox', 'model_jetta', 'model_golf', 'model_polo',\n",
    "       'model_fusion', 'model_0', 'model_ranger', 'gearbox_manual', 'gearbox_manual',\n",
    "       'gearbox_automático', 'gearbox_semiautomático', 'gearbox_0', 'financial_ipva pago', 'financial_0',\n",
    "       'financial_financiado', 'financial_de leilão', 'financial_com multas' ,'Y']\n",
    "\n",
    "\n",
    "------ average_precision_score : 0.6414   roc_auc_score : 0.9312"
   ]
  },
  {
   "cell_type": "markdown",
   "metadata": {},
   "source": [
    "### Random Forest Tuning"
   ]
  },
  {
   "cell_type": "code",
   "execution_count": 77,
   "metadata": {},
   "outputs": [
    {
     "data": {
      "text/plain": [
       "RandomForestClassifier(bootstrap=True, class_weight='balanced',\n",
       "                       criterion='gini', max_depth=None, max_features='auto',\n",
       "                       max_leaf_nodes=None, min_impurity_decrease=0.0,\n",
       "                       min_impurity_split=None, min_samples_leaf=2,\n",
       "                       min_samples_split=2, min_weight_fraction_leaf=0.0,\n",
       "                       n_estimators=1000, n_jobs=-1, oob_score=False,\n",
       "                       random_state=42, verbose=0, warm_start=False)"
      ]
     },
     "execution_count": 77,
     "metadata": {},
     "output_type": "execute_result"
    }
   ],
   "source": [
    "model = RandomForestClassifier(n_estimators= 1000 ,\n",
    "                              random_state=42 ,\n",
    "                               min_samples_leaf= 2,\n",
    "                              class_weight= 'balanced',\n",
    "                              n_jobs = -1)\n",
    "\n",
    "model.fit(Xtrain,y_train)"
   ]
  },
  {
   "cell_type": "code",
   "execution_count": 78,
   "metadata": {},
   "outputs": [],
   "source": [
    "pred = model.predict_proba(Xval)[:,1]"
   ]
  },
  {
   "cell_type": "code",
   "execution_count": 79,
   "metadata": {},
   "outputs": [
    {
     "name": "stdout",
     "output_type": "stream",
     "text": [
      "average_precision_score : 0.6875\n",
      "roc_auc_score : 0.9452\n"
     ]
    }
   ],
   "source": [
    "from sklearn.metrics import roc_auc_score, average_precision_score\n",
    "\n",
    "print('average_precision_score :', np.round(average_precision_score(y_val, pred),4))\n",
    "print('roc_auc_score :', np.round(roc_auc_score(y_val, pred),4))"
   ]
  },
  {
   "cell_type": "code",
   "execution_count": 80,
   "metadata": {},
   "outputs": [],
   "source": [
    "min_sample_leaf = 2 , n_estimator = 1000 --- > average_precision_score : 0.7303  roc_auc_score : 0.9479\n",
    "min_sample_leaf = 1 , n_estimator = 100 --- > average_precision_score : 0.7319  roc_auc_score : 0.9472"
   ]
  },
  {
   "cell_type": "code",
   "execution_count": null,
   "metadata": {},
   "outputs": [],
   "source": [
    "from sklearn.metrics import roc_auc_score, average_precision_score\n",
    "\n",
    "print('average_precision_score :', np.round(average_precision_score(y_val, pred),4))\n",
    "print('roc_auc_score :', np.round(roc_auc_score(y_val, pred),4))"
   ]
  },
  {
   "cell_type": "markdown",
   "metadata": {},
   "source": [
    "## Ok ! \n"
   ]
  },
  {
   "cell_type": "markdown",
   "metadata": {},
   "source": [
    "# LightGBM"
   ]
  },
  {
   "cell_type": "code",
   "execution_count": null,
   "metadata": {},
   "outputs": [],
   "source": [
    "Xtrain.head(1)"
   ]
  },
  {
   "cell_type": "code",
   "execution_count": 11,
   "metadata": {},
   "outputs": [],
   "source": [
    "from lightgbm import LGBMClassifier\n",
    "from sklearn.metrics import roc_auc_score, average_precision_score\n",
    "from skopt import forest_minimize"
   ]
  },
  {
   "cell_type": "code",
   "execution_count": 12,
   "metadata": {},
   "outputs": [
    {
     "data": {
      "text/plain": [
       "LGBMClassifier(boosting_type='gbdt', class_weight='balanced',\n",
       "               colsample_bytree=1.0, importance_type='split', learning_rate=0.1,\n",
       "               max_depth=-1, min_child_samples=20, min_child_weight=0.001,\n",
       "               min_split_gain=0.0, n_estimators=100, n_jobs=-1, num_leaves=31,\n",
       "               objective=None, random_state=42, reg_alpha=0.0, reg_lambda=0.0,\n",
       "               silent=True, subsample=1.0, subsample_for_bin=200000,\n",
       "               subsample_freq=0)"
      ]
     },
     "execution_count": 12,
     "metadata": {},
     "output_type": "execute_result"
    }
   ],
   "source": [
    "model = LGBMClassifier(random_state = 42, class_weight='balanced', n_jobs= -1)\n",
    "model.fit(Xtrain,y_train)"
   ]
  },
  {
   "cell_type": "code",
   "execution_count": 13,
   "metadata": {},
   "outputs": [],
   "source": [
    "pred = model.predict_proba(Xval)[:,1]"
   ]
  },
  {
   "cell_type": "code",
   "execution_count": 14,
   "metadata": {},
   "outputs": [
    {
     "name": "stdout",
     "output_type": "stream",
     "text": [
      "average_precision_score : 0.6953\n",
      "roc_auc_score : 0.9448\n"
     ]
    }
   ],
   "source": [
    "print('average_precision_score :', np.round(average_precision_score(y_val, pred),4))\n",
    "print('roc_auc_score :', np.round(roc_auc_score(y_val, pred),4))"
   ]
  },
  {
   "cell_type": "markdown",
   "metadata": {},
   "source": [
    "\n",
    "# Bayesian Optimization"
   ]
  },
  {
   "cell_type": "code",
   "execution_count": 16,
   "metadata": {},
   "outputs": [
    {
     "name": "stdout",
     "output_type": "stream",
     "text": [
      "Iteration No: 1 started. Evaluating function at random point.\n",
      "[0.03918194347141743, 24, 11, 8, 0.6187255599871848, 0.19821770842031472, 566, 3]\n",
      "\n",
      "roc_auc_score : 0.938762\n",
      "average_precision_score : 0.670834\n",
      "\n",
      "Iteration No: 1 ended. Evaluation done at random point.\n",
      "Time taken: 0.6622\n",
      "Function value obtained: -0.6708\n",
      "Current minimum: -0.6708\n",
      "Iteration No: 2 started. Evaluating function at random point.\n",
      "[0.008288916866885144, 33, 3, 2, 0.7358988336534836, 0.9416250735649627, 485, 4]\n",
      "\n",
      "roc_auc_score : 0.946563\n",
      "average_precision_score : 0.688315\n",
      "\n",
      "Iteration No: 2 ended. Evaluation done at random point.\n",
      "Time taken: 0.4257\n",
      "Function value obtained: -0.6883\n",
      "Current minimum: -0.6883\n",
      "Iteration No: 3 started. Evaluating function at random point.\n",
      "[0.00232706770838378, 85, 12, 17, 0.5485359272454697, 0.42986792312949273, 575, 4]\n",
      "\n",
      "roc_auc_score : 0.932891\n",
      "average_precision_score : 0.641514\n",
      "\n",
      "Iteration No: 3 ended. Evaluation done at random point.\n",
      "Time taken: 0.9768\n",
      "Function value obtained: -0.6415\n",
      "Current minimum: -0.6883\n",
      "Iteration No: 4 started. Evaluating function at random point.\n",
      "[0.005404103854647327, 71, 15, 19, 0.4133388917038046, 0.9840693415164489, 604, 3]\n",
      "\n",
      "roc_auc_score : 0.942929\n",
      "average_precision_score : 0.676517\n",
      "\n",
      "Iteration No: 4 ended. Evaluation done at random point.\n",
      "Time taken: 0.9816\n",
      "Function value obtained: -0.6765\n",
      "Current minimum: -0.6883\n",
      "Iteration No: 5 started. Evaluating function at random point.\n",
      "[0.05246634533625288, 16, 9, 7, 0.06260171310187321, 0.9450916679006103, 113, 2]\n",
      "\n",
      "roc_auc_score : 0.937168\n",
      "average_precision_score : 0.656243\n",
      "\n",
      "Iteration No: 5 ended. Evaluation done at random point.\n",
      "Time taken: 0.1131\n",
      "Function value obtained: -0.6562\n",
      "Current minimum: -0.6883\n",
      "Iteration No: 6 started. Evaluating function at random point.\n",
      "[0.005899741796710488, 99, 2, 20, 0.27897419272471113, 0.6991003428841854, 527, 5]\n",
      "\n",
      "roc_auc_score : 0.935488\n",
      "average_precision_score : 0.637314\n",
      "\n",
      "Iteration No: 6 ended. Evaluation done at random point.\n",
      "Time taken: 0.2803\n",
      "Function value obtained: -0.6373\n",
      "Current minimum: -0.6883\n",
      "Iteration No: 7 started. Evaluating function at random point.\n",
      "[0.04638630972397281, 44, 14, 17, 0.2958409825200161, 0.679396170136283, 101, 2]\n",
      "\n",
      "roc_auc_score : 0.941615\n",
      "average_precision_score : 0.679544\n",
      "\n",
      "Iteration No: 7 ended. Evaluation done at random point.\n",
      "Time taken: 0.1369\n",
      "Function value obtained: -0.6795\n",
      "Current minimum: -0.6883\n",
      "Iteration No: 8 started. Evaluating function at random point.\n",
      "[0.013658426050382541, 72, 18, 12, 0.9425239944859798, 0.9000859829062665, 369, 4]\n",
      "\n",
      "roc_auc_score : 0.946862\n",
      "average_precision_score : 0.70598\n",
      "\n",
      "Iteration No: 8 ended. Evaluation done at random point.\n",
      "Time taken: 1.3364\n",
      "Function value obtained: -0.7060\n",
      "Current minimum: -0.7060\n",
      "Iteration No: 9 started. Evaluating function at random point.\n",
      "[0.0012315571723666018, 49, 16, 13, 0.30778158018520113, 0.8373006336943329, 316, 4]\n",
      "\n",
      "roc_auc_score : 0.937933\n",
      "average_precision_score : 0.664582\n",
      "\n",
      "Iteration No: 9 ended. Evaluation done at random point.\n",
      "Time taken: 0.7587\n",
      "Function value obtained: -0.6646\n",
      "Current minimum: -0.7060\n",
      "Iteration No: 10 started. Evaluating function at random point.\n",
      "[0.01637074694637572, 50, 15, 13, 0.12082311149578229, 0.9875425897704916, 443, 1]\n",
      "\n",
      "roc_auc_score : 0.943732\n",
      "average_precision_score : 0.668517\n",
      "\n",
      "Iteration No: 10 ended. Evaluation done at random point.\n",
      "Time taken: 0.6210\n",
      "Function value obtained: -0.6685\n",
      "Current minimum: -0.7060\n",
      "Iteration No: 11 started. Evaluating function at random point.\n",
      "[0.0024970737145052716, 97, 11, 19, 0.7215144766552364, 0.742556809638938, 388, 3]\n",
      "\n",
      "roc_auc_score : 0.940247\n",
      "average_precision_score : 0.673943\n",
      "\n",
      "Iteration No: 11 ended. Evaluation done at random point.\n",
      "Time taken: 1.4309\n",
      "Function value obtained: -0.6739\n",
      "Current minimum: -0.7060\n",
      "Iteration No: 12 started. Evaluating function at random point.\n",
      "[0.0014063366777718178, 50, 7, 9, 0.6421332204861802, 0.36435312361001676, 147, 5]\n",
      "\n",
      "roc_auc_score : 0.930866\n",
      "average_precision_score : 0.633117\n",
      "\n",
      "Iteration No: 12 ended. Evaluation done at random point.\n",
      "Time taken: 0.4536\n",
      "Function value obtained: -0.6331\n",
      "Current minimum: -0.7060\n",
      "Iteration No: 13 started. Evaluating function at random point.\n",
      "[0.028788057183089244, 95, 3, 1, 0.41378053101610035, 0.9731264906196486, 742, 1]\n",
      "\n",
      "roc_auc_score : 0.947464\n",
      "average_precision_score : 0.694743\n",
      "\n",
      "Iteration No: 13 ended. Evaluation done at random point.\n",
      "Time taken: 0.4815\n",
      "Function value obtained: -0.6947\n",
      "Current minimum: -0.7060\n",
      "Iteration No: 14 started. Evaluating function at random point.\n",
      "[0.027762530094438326, 23, 7, 9, 0.7251297452014981, 0.15534627977123977, 991, 5]\n",
      "\n",
      "roc_auc_score : 0.937781\n",
      "average_precision_score : 0.663369\n",
      "\n",
      "Iteration No: 14 ended. Evaluation done at random point.\n",
      "Time taken: 0.8506\n",
      "Function value obtained: -0.6634\n",
      "Current minimum: -0.7060\n",
      "Iteration No: 15 started. Evaluating function at random point.\n",
      "[0.0025318525210031805, 61, 4, 5, 0.2868276176914312, 0.43986377688384826, 270, 5]\n",
      "\n",
      "roc_auc_score : 0.928943\n",
      "average_precision_score : 0.625112\n",
      "\n",
      "Iteration No: 15 ended. Evaluation done at random point.\n",
      "Time taken: 0.1898\n",
      "Function value obtained: -0.6251\n",
      "Current minimum: -0.7060\n",
      "Iteration No: 16 started. Evaluating function at random point.\n",
      "[0.0028681134821030066, 41, 7, 19, 0.2031602228913042, 0.9332127697254445, 656, 1]\n",
      "\n",
      "roc_auc_score : 0.939993\n",
      "average_precision_score : 0.671077\n",
      "\n",
      "Iteration No: 16 ended. Evaluation done at random point.\n",
      "Time taken: 1.3018\n",
      "Function value obtained: -0.6711\n",
      "Current minimum: -0.7060\n",
      "Iteration No: 17 started. Evaluating function at random point.\n",
      "[0.0016255057858173057, 37, 12, 12, 0.4456844504768479, 0.8891162459729249, 739, 2]\n",
      "\n",
      "roc_auc_score : 0.942699\n",
      "average_precision_score : 0.68184\n",
      "\n",
      "Iteration No: 17 ended. Evaluation done at random point.\n",
      "Time taken: 1.5199\n",
      "Function value obtained: -0.6818\n",
      "Current minimum: -0.7060\n",
      "Iteration No: 18 started. Evaluating function at random point.\n",
      "[0.0017545910486566185, 98, 7, 1, 0.3085256369154036, 0.6653056145142943, 732, 4]\n",
      "\n",
      "roc_auc_score : 0.942434\n",
      "average_precision_score : 0.668982\n",
      "\n",
      "Iteration No: 18 ended. Evaluation done at random point.\n",
      "Time taken: 2.6983\n",
      "Function value obtained: -0.6690\n",
      "Current minimum: -0.7060\n",
      "Iteration No: 19 started. Evaluating function at random point.\n",
      "[0.005071514980544015, 12, 7, 6, 0.5352099374486875, 0.44654045299134004, 776, 1]\n",
      "\n",
      "roc_auc_score : 0.941247\n",
      "average_precision_score : 0.666849\n",
      "\n",
      "Iteration No: 19 ended. Evaluation done at random point.\n",
      "Time taken: 0.8496\n",
      "Function value obtained: -0.6668\n",
      "Current minimum: -0.7060\n",
      "Iteration No: 20 started. Evaluating function at random point.\n",
      "[0.0017367237151593167, 53, 15, 9, 0.43364436250513877, 0.11164763475353248, 541, 4]\n",
      "\n",
      "roc_auc_score : 0.911376\n",
      "average_precision_score : 0.573711\n",
      "\n",
      "Iteration No: 20 ended. Evaluation done at random point.\n",
      "Time taken: 1.1974\n",
      "Function value obtained: -0.5737\n",
      "Current minimum: -0.7060\n",
      "Iteration No: 21 started. Searching for the next optimal point.\n",
      "[0.0011742501156819154, 94, 16, 8, 0.8915490479364583, 0.9131566783059587, 452, 4]\n",
      "\n",
      "roc_auc_score : 0.944836\n",
      "average_precision_score : 0.707529\n",
      "\n",
      "Iteration No: 21 ended. Search finished for the next optimal point.\n",
      "Time taken: 2.5285\n",
      "Function value obtained: -0.7075\n",
      "Current minimum: -0.7075\n",
      "Iteration No: 22 started. Searching for the next optimal point.\n",
      "[0.0012257658483325687, 85, 17, 2, 0.877678745053357, 0.8459484552637822, 858, 5]\n",
      "\n",
      "roc_auc_score : 0.946942\n",
      "average_precision_score : 0.703658\n",
      "\n",
      "Iteration No: 22 ended. Search finished for the next optimal point.\n",
      "Time taken: 5.3121\n",
      "Function value obtained: -0.7037\n",
      "Current minimum: -0.7075\n",
      "Iteration No: 23 started. Searching for the next optimal point.\n",
      "[0.0013137689538160488, 35, 18, 4, 0.9074969520664838, 0.6432871209809732, 762, 5]\n",
      "\n",
      "roc_auc_score : 0.942206\n",
      "average_precision_score : 0.671782\n",
      "\n",
      "Iteration No: 23 ended. Search finished for the next optimal point.\n",
      "Time taken: 2.0434\n",
      "Function value obtained: -0.6718\n",
      "Current minimum: -0.7075\n",
      "Iteration No: 24 started. Searching for the next optimal point.\n",
      "[0.0011007482878115026, 93, 19, 10, 0.9657844861687545, 0.6485164025049892, 358, 2]\n",
      "\n",
      "roc_auc_score : 0.938061\n",
      "average_precision_score : 0.664426\n",
      "\n",
      "Iteration No: 24 ended. Search finished for the next optimal point.\n",
      "Time taken: 1.7002\n",
      "Function value obtained: -0.6644\n",
      "Current minimum: -0.7075\n",
      "Iteration No: 25 started. Searching for the next optimal point.\n",
      "[0.0010187422335488222, 69, 4, 9, 0.9395868769517153, 0.8577909260864413, 190, 4]\n",
      "\n",
      "roc_auc_score : 0.926496\n",
      "average_precision_score : 0.574985\n",
      "\n",
      "Iteration No: 25 ended. Search finished for the next optimal point.\n",
      "Time taken: 0.6608\n",
      "Function value obtained: -0.5750\n",
      "Current minimum: -0.7075\n",
      "Iteration No: 26 started. Searching for the next optimal point.\n",
      "[0.0011934619642294275, 72, 14, 5, 0.9537864624094198, 0.8564486584360441, 454, 5]\n",
      "\n",
      "roc_auc_score : 0.943866\n",
      "average_precision_score : 0.702312\n",
      "\n",
      "Iteration No: 26 ended. Search finished for the next optimal point.\n",
      "Time taken: 1.7676\n",
      "Function value obtained: -0.7023\n",
      "Current minimum: -0.7075\n",
      "Iteration No: 27 started. Searching for the next optimal point.\n",
      "[0.022978834944572753, 72, 20, 3, 0.8862630882975682, 0.9004573231831704, 162, 4]\n",
      "\n",
      "roc_auc_score : 0.947742\n",
      "average_precision_score : 0.710406\n",
      "\n",
      "Iteration No: 27 ended. Search finished for the next optimal point.\n",
      "Time taken: 0.9896\n",
      "Function value obtained: -0.7104\n",
      "Current minimum: -0.7104\n",
      "Iteration No: 28 started. Searching for the next optimal point.\n",
      "[0.0011625103099156143, 84, 12, 11, 0.9396293024094947, 0.9855602733271559, 255, 4]\n",
      "\n",
      "roc_auc_score : 0.937957\n",
      "average_precision_score : 0.694034\n",
      "\n",
      "Iteration No: 28 ended. Search finished for the next optimal point.\n",
      "Time taken: 1.1272\n",
      "Function value obtained: -0.6940\n",
      "Current minimum: -0.7104\n",
      "Iteration No: 29 started. Searching for the next optimal point.\n",
      "[0.020948577849741447, 77, 12, 9, 0.9152438058686164, 0.8791863642281424, 204, 5]\n",
      "\n",
      "roc_auc_score : 0.947624\n",
      "average_precision_score : 0.704309\n",
      "\n",
      "Iteration No: 29 ended. Search finished for the next optimal point.\n",
      "Time taken: 2.9481\n",
      "Function value obtained: -0.7043\n",
      "Current minimum: -0.7104\n",
      "Iteration No: 30 started. Searching for the next optimal point.\n",
      "[0.015392517420880682, 95, 8, 10, 0.8798195541789631, 0.9684426598014575, 152, 5]\n",
      "\n",
      "roc_auc_score : 0.94885\n",
      "average_precision_score : 0.712226\n",
      "\n",
      "Iteration No: 30 ended. Search finished for the next optimal point.\n",
      "Time taken: 0.8493\n",
      "Function value obtained: -0.7122\n",
      "Current minimum: -0.7122\n",
      "Iteration No: 31 started. Searching for the next optimal point.\n",
      "[0.08695616011044367, 91, 4, 14, 0.884060339773218, 0.8939654503786386, 127, 3]\n",
      "\n",
      "roc_auc_score : 0.948789\n",
      "average_precision_score : 0.704962\n",
      "\n",
      "Iteration No: 31 ended. Search finished for the next optimal point.\n",
      "Time taken: 0.6061\n",
      "Function value obtained: -0.7050\n",
      "Current minimum: -0.7122\n",
      "Iteration No: 32 started. Searching for the next optimal point.\n",
      "[0.0017070725867977398, 86, 3, 19, 0.8680583196300384, 0.8935153264165513, 104, 4]\n",
      "\n",
      "roc_auc_score : 0.918685\n",
      "average_precision_score : 0.542484\n",
      "\n",
      "Iteration No: 32 ended. Search finished for the next optimal point.\n",
      "Time taken: 0.6583\n",
      "Function value obtained: -0.5425\n",
      "Current minimum: -0.7122\n",
      "Iteration No: 33 started. Searching for the next optimal point.\n",
      "[0.0886967448714258, 77, 2, 14, 0.9648218080541516, 0.8537865569320501, 134, 1]\n",
      "\n",
      "roc_auc_score : 0.946034\n",
      "average_precision_score : 0.688904\n",
      "\n",
      "Iteration No: 33 ended. Search finished for the next optimal point.\n",
      "Time taken: 0.8118\n",
      "Function value obtained: -0.6889\n",
      "Current minimum: -0.7122\n",
      "Iteration No: 34 started. Searching for the next optimal point.\n",
      "[0.008827507997350974, 94, 4, 6, 0.8951226484961867, 0.881062301253885, 251, 4]\n",
      "\n",
      "roc_auc_score : 0.943949\n",
      "average_precision_score : 0.671528\n",
      "\n",
      "Iteration No: 34 ended. Search finished for the next optimal point.\n",
      "Time taken: 1.5029\n",
      "Function value obtained: -0.6715\n",
      "Current minimum: -0.7122\n",
      "Iteration No: 35 started. Searching for the next optimal point.\n",
      "[0.0015412420369542079, 98, 14, 8, 0.9982630524739854, 0.9136216879448114, 114, 5]\n",
      "\n",
      "roc_auc_score : 0.941674\n",
      "average_precision_score : 0.702601\n",
      "\n",
      "Iteration No: 35 ended. Search finished for the next optimal point.\n",
      "Time taken: 0.9676\n",
      "Function value obtained: -0.7026\n",
      "Current minimum: -0.7122\n",
      "Iteration No: 36 started. Searching for the next optimal point.\n",
      "[0.00868331777091971, 88, 14, 18, 0.9504346663507092, 0.8918318526944119, 100, 5]\n",
      "\n",
      "roc_auc_score : 0.942489\n",
      "average_precision_score : 0.6899\n",
      "\n",
      "Iteration No: 36 ended. Search finished for the next optimal point.\n",
      "Time taken: 0.7993\n",
      "Function value obtained: -0.6899\n",
      "Current minimum: -0.7122\n",
      "Iteration No: 37 started. Searching for the next optimal point.\n",
      "[0.001612861122375853, 17, 8, 1, 0.9157831529584523, 0.9672802815742494, 174, 5]\n",
      "\n",
      "roc_auc_score : 0.943228\n",
      "average_precision_score : 0.662358\n",
      "\n",
      "Iteration No: 37 ended. Search finished for the next optimal point.\n",
      "Time taken: 0.7272\n",
      "Function value obtained: -0.6624\n",
      "Current minimum: -0.7122\n",
      "Iteration No: 38 started. Searching for the next optimal point.\n",
      "[0.018686415288767664, 80, 1, 14, 0.9216513727264326, 0.8614206959750813, 196, 4]\n",
      "\n",
      "roc_auc_score : 0.921436\n",
      "average_precision_score : 0.537303\n",
      "\n",
      "Iteration No: 38 ended. Search finished for the next optimal point.\n",
      "Time taken: 0.6773\n",
      "Function value obtained: -0.5373\n",
      "Current minimum: -0.7122\n",
      "Iteration No: 39 started. Searching for the next optimal point.\n",
      "[0.054424105260819755, 95, 1, 19, 0.8953942853039651, 0.99674337448769, 214, 3]\n",
      "\n",
      "roc_auc_score : 0.942349\n",
      "average_precision_score : 0.661636\n",
      "\n",
      "Iteration No: 39 ended. Search finished for the next optimal point.\n",
      "Time taken: 0.5964\n",
      "Function value obtained: -0.6616\n",
      "Current minimum: -0.7122\n",
      "Iteration No: 40 started. Searching for the next optimal point.\n",
      "[0.00816804878904279, 73, 10, 17, 0.8705377424446146, 0.8361983252170183, 168, 4]\n",
      "\n",
      "roc_auc_score : 0.944158\n",
      "average_precision_score : 0.695225\n",
      "\n",
      "Iteration No: 40 ended. Search finished for the next optimal point.\n",
      "Time taken: 0.9589\n",
      "Function value obtained: -0.6952\n",
      "Current minimum: -0.7122\n",
      "Iteration No: 41 started. Searching for the next optimal point.\n",
      "[0.047783208713529715, 99, 7, 14, 0.9642422846476509, 0.8839416377770518, 166, 4]\n",
      "\n",
      "roc_auc_score : 0.948181\n",
      "average_precision_score : 0.701204\n",
      "\n",
      "Iteration No: 41 ended. Search finished for the next optimal point.\n",
      "Time taken: 0.8863\n",
      "Function value obtained: -0.7012\n",
      "Current minimum: -0.7122\n",
      "Iteration No: 42 started. Searching for the next optimal point.\n",
      "[0.0232020578408303, 78, 6, 19, 0.9113914675848445, 0.8547746753904844, 213, 5]\n",
      "\n",
      "roc_auc_score : 0.948692\n",
      "average_precision_score : 0.704541\n",
      "\n",
      "Iteration No: 42 ended. Search finished for the next optimal point.\n",
      "Time taken: 1.9616\n",
      "Function value obtained: -0.7045\n",
      "Current minimum: -0.7122\n",
      "Iteration No: 43 started. Searching for the next optimal point.\n",
      "[0.06682000467323508, 87, 4, 14, 0.8818673582936268, 0.953246761567863, 839, 5]\n",
      "\n",
      "roc_auc_score : 0.944139\n",
      "average_precision_score : 0.68568\n",
      "\n",
      "Iteration No: 43 ended. Search finished for the next optimal point.\n",
      "Time taken: 2.4273\n",
      "Function value obtained: -0.6857\n",
      "Current minimum: -0.7122\n",
      "Iteration No: 44 started. Searching for the next optimal point.\n",
      "[0.012413944770674474, 60, 5, 19, 0.899436393119123, 0.8613451657969992, 156, 4]\n",
      "\n",
      "roc_auc_score : 0.939572\n",
      "average_precision_score : 0.664168\n",
      "\n",
      "Iteration No: 44 ended. Search finished for the next optimal point.\n",
      "Time taken: 1.3658\n",
      "Function value obtained: -0.6642\n",
      "Current minimum: -0.7122\n",
      "Iteration No: 45 started. Searching for the next optimal point.\n",
      "[0.024700109732398706, 76, 3, 6, 0.934641629596339, 0.9064034867967868, 245, 5]\n",
      "\n",
      "roc_auc_score : 0.948771\n",
      "average_precision_score : 0.695193\n",
      "\n",
      "Iteration No: 45 ended. Search finished for the next optimal point.\n",
      "Time taken: 1.2780\n",
      "Function value obtained: -0.6952\n",
      "Current minimum: -0.7122\n",
      "Iteration No: 46 started. Searching for the next optimal point.\n",
      "[0.07576989667174135, 85, 3, 16, 0.9909579127287493, 0.8171970977579047, 232, 4]\n",
      "\n",
      "roc_auc_score : 0.948863\n",
      "average_precision_score : 0.707565\n",
      "\n",
      "Iteration No: 46 ended. Search finished for the next optimal point.\n",
      "Time taken: 0.8216\n",
      "Function value obtained: -0.7076\n",
      "Current minimum: -0.7122\n",
      "Iteration No: 47 started. Searching for the next optimal point.\n",
      "[0.020199870723298097, 47, 1, 16, 0.8338252142193703, 0.8167784308833397, 265, 5]\n",
      "\n",
      "roc_auc_score : 0.929946\n",
      "average_precision_score : 0.580355\n",
      "\n",
      "Iteration No: 47 ended. Search finished for the next optimal point.\n",
      "Time taken: 0.6748\n",
      "Function value obtained: -0.5804\n",
      "Current minimum: -0.7122\n",
      "Iteration No: 48 started. Searching for the next optimal point.\n",
      "[0.029773208450106347, 77, 4, 16, 0.9304787902806995, 0.8842020779281785, 472, 4]\n",
      "\n",
      "roc_auc_score : 0.948344\n",
      "average_precision_score : 0.70821\n",
      "\n",
      "Iteration No: 48 ended. Search finished for the next optimal point.\n",
      "Time taken: 1.2977\n",
      "Function value obtained: -0.7082\n",
      "Current minimum: -0.7122\n",
      "Iteration No: 49 started. Searching for the next optimal point.\n",
      "[0.026971097893203087, 99, 3, 17, 0.20423904028908874, 0.9077949636705943, 130, 4]\n",
      "\n",
      "roc_auc_score : 0.945212\n",
      "average_precision_score : 0.679688\n",
      "\n",
      "Iteration No: 49 ended. Search finished for the next optimal point.\n",
      "Time taken: 0.6582\n",
      "Function value obtained: -0.6797\n",
      "Current minimum: -0.7122\n",
      "Iteration No: 50 started. Searching for the next optimal point.\n",
      "[0.06256562229675015, 89, 2, 16, 0.9642356174024831, 0.8111042615306734, 210, 4]\n",
      "\n",
      "roc_auc_score : 0.947417\n",
      "average_precision_score : 0.68992\n",
      "\n",
      "Iteration No: 50 ended. Search finished for the next optimal point.\n",
      "Time taken: 0.8859\n",
      "Function value obtained: -0.6899\n",
      "Current minimum: -0.7122\n"
     ]
    }
   ],
   "source": [
    "def tune_lgbm(params):\n",
    "    print(params)\n",
    "    lr = params[0]\n",
    "    num_leaves = params[1]\n",
    "    max_depth = params[2]\n",
    "    min_child_samples = params[3]\n",
    "    subsample =params[4]\n",
    "    colsample_bytree = params[5]\n",
    "    n_estimators = params[6]\n",
    "    min_df = params[7]\n",
    "    \n",
    "    \n",
    "    model = LGBMClassifier(learning_rate= lr,\n",
    "                           num_leaves= num_leaves,\n",
    "                           max_depth= max_depth,\n",
    "                           min_child_samples= min_child_samples,\n",
    "                           subsample= subsample,\n",
    "                           colsample_bytree=colsample_bytree,\n",
    "                           bagging_freq = 1,\n",
    "                           n_estimators = n_estimators,\n",
    "                           random_state= 42,\n",
    "                           class_weight= 'balanced',\n",
    "                           n_jobs= -1)\n",
    "    \n",
    "    model.fit(Xtrain,y_train)\n",
    "    \n",
    "    pred = model.predict_proba(Xval)[:,1]\n",
    "    \n",
    "    print()\n",
    "    print('roc_auc_score :', np.round(roc_auc_score(y_val, pred),6))\n",
    "    print('average_precision_score :', np.round(average_precision_score(y_val, pred),6))\n",
    "    print()\n",
    "    \n",
    "    \n",
    "    return - average_precision_score(y_val, pred)\n",
    "\n",
    "space = [(1e-3,1e-1, 'log-uniform'), #lr\n",
    "         (10,100),\n",
    "         (1,20), # max depth\n",
    "         (1,20), # min_child_samples\n",
    "         (0.05,1.), # subsample \n",
    "         (0.05,1.), # colsample_bytree\n",
    "         (100,1000), # n_estimators\n",
    "         (1,5)] # min_df\n",
    "        \n",
    "         \n",
    "\n",
    "res = forest_minimize(tune_lgbm,\n",
    "                     space,\n",
    "                     random_state = 42,\n",
    "                     n_random_starts = 20,\n",
    "                     n_calls = 50,\n",
    "                     verbose = 1)\n",
    "\n",
    "\n",
    "\n",
    "\n",
    "\n",
    "                   \n",
    "         "
   ]
  },
  {
   "cell_type": "code",
   "execution_count": 17,
   "metadata": {},
   "outputs": [
    {
     "data": {
      "text/plain": [
       "[0.015392517420880682,\n",
       " 95,\n",
       " 8,\n",
       " 10,\n",
       " 0.8798195541789631,\n",
       " 0.9684426598014575,\n",
       " 152,\n",
       " 5]"
      ]
     },
     "execution_count": 17,
     "metadata": {},
     "output_type": "execute_result"
    }
   ],
   "source": [
    "res.x"
   ]
  },
  {
   "cell_type": "code",
   "execution_count": null,
   "metadata": {},
   "outputs": [],
   "source": [
    "roc_auc_score : 0.94885  average_precision_score : 0.712226"
   ]
  },
  {
   "cell_type": "code",
   "execution_count": null,
   "metadata": {},
   "outputs": [],
   "source": []
  },
  {
   "cell_type": "markdown",
   "metadata": {},
   "source": [
    "# Logistic Regression"
   ]
  },
  {
   "cell_type": "code",
   "execution_count": 20,
   "metadata": {},
   "outputs": [],
   "source": [
    "from sklearn.preprocessing import MaxAbsScaler, StandardScaler\n",
    "from scipy.sparse import csr_matrix\n",
    "from sklearn.linear_model import LogisticRegression"
   ]
  },
  {
   "cell_type": "code",
   "execution_count": 21,
   "metadata": {},
   "outputs": [
    {
     "data": {
      "text/html": [
       "<div>\n",
       "<style scoped>\n",
       "    .dataframe tbody tr th:only-of-type {\n",
       "        vertical-align: middle;\n",
       "    }\n",
       "\n",
       "    .dataframe tbody tr th {\n",
       "        vertical-align: top;\n",
       "    }\n",
       "\n",
       "    .dataframe thead th {\n",
       "        text-align: right;\n",
       "    }\n",
       "</style>\n",
       "<table border=\"1\" class=\"dataframe\">\n",
       "  <thead>\n",
       "    <tr style=\"text-align: right;\">\n",
       "      <th></th>\n",
       "      <th>price</th>\n",
       "      <th>regdate</th>\n",
       "      <th>mileage</th>\n",
       "    </tr>\n",
       "  </thead>\n",
       "  <tbody>\n",
       "    <tr>\n",
       "      <th>3969</th>\n",
       "      <td>25000</td>\n",
       "      <td>2015</td>\n",
       "      <td>80000</td>\n",
       "    </tr>\n",
       "    <tr>\n",
       "      <th>1681</th>\n",
       "      <td>36800</td>\n",
       "      <td>2016</td>\n",
       "      <td>49000</td>\n",
       "    </tr>\n",
       "    <tr>\n",
       "      <th>1443</th>\n",
       "      <td>24000</td>\n",
       "      <td>2013</td>\n",
       "      <td>70000</td>\n",
       "    </tr>\n",
       "    <tr>\n",
       "      <th>2542</th>\n",
       "      <td>27890</td>\n",
       "      <td>2014</td>\n",
       "      <td>117000</td>\n",
       "    </tr>\n",
       "    <tr>\n",
       "      <th>1671</th>\n",
       "      <td>28900</td>\n",
       "      <td>2015</td>\n",
       "      <td>35000</td>\n",
       "    </tr>\n",
       "  </tbody>\n",
       "</table>\n",
       "</div>"
      ],
      "text/plain": [
       "      price  regdate  mileage\n",
       "3969  25000     2015    80000\n",
       "1681  36800     2016    49000\n",
       "1443  24000     2013    70000\n",
       "2542  27890     2014   117000\n",
       "1671  28900     2015    35000"
      ]
     },
     "execution_count": 21,
     "metadata": {},
     "output_type": "execute_result"
    }
   ],
   "source": [
    "Xtrain.loc[:, ['price','regdate','mileage']].head()"
   ]
  },
  {
   "cell_type": "code",
   "execution_count": null,
   "metadata": {},
   "outputs": [],
   "source": []
  },
  {
   "cell_type": "code",
   "execution_count": 36,
   "metadata": {},
   "outputs": [],
   "source": [
    "Xtrain2 = csr_matrix(Xtrain.copy())\n",
    "Xval2 = csr_matrix(Xval.copy())\n",
    "\n",
    "\n",
    "\n",
    "#scaler =StandardScaler()\n",
    "scaler = MaxAbsScaler()\n",
    "\n",
    " \n",
    "#Xtrain2[:,:3] = scaler.fit_transform( Xtrain2[:,:3].todense())\n",
    "#Xval2[:,:3] = scaler.transform( Xval2[:,:3].todense())\n",
    "\n",
    "\n",
    "Xtrain2 = scaler.fit_transform(Xtrain2)\n",
    "Xval2 = scaler.transform(Xval2)"
   ]
  },
  {
   "cell_type": "code",
   "execution_count": 40,
   "metadata": {},
   "outputs": [
    {
     "name": "stderr",
     "output_type": "stream",
     "text": [
      "/home/jonathan/anaconda3/lib/python3.7/site-packages/sklearn/linear_model/logistic.py:432: FutureWarning: Default solver will be changed to 'lbfgs' in 0.22. Specify a solver to silence this warning.\n",
      "  FutureWarning)\n",
      "/home/jonathan/anaconda3/lib/python3.7/site-packages/sklearn/linear_model/logistic.py:1544: UserWarning: 'n_jobs' > 1 does not have any effect when 'solver' is set to 'liblinear'. Got 'n_jobs' = 4.\n",
      "  \" = {}.\".format(effective_n_jobs(self.n_jobs)))\n"
     ]
    },
    {
     "data": {
      "text/plain": [
       "LogisticRegression(C=0.5, class_weight=None, dual=False, fit_intercept=True,\n",
       "                   intercept_scaling=1, l1_ratio=None, max_iter=100,\n",
       "                   multi_class='warn', n_jobs=-1, penalty='l2', random_state=42,\n",
       "                   solver='warn', tol=0.0001, verbose=0, warm_start=False)"
      ]
     },
     "execution_count": 40,
     "metadata": {},
     "output_type": "execute_result"
    }
   ],
   "source": [
    "model = LogisticRegression(C =0.5, n_jobs= -1, random_state = 42)\n",
    "model.fit(Xtrain2,y_train)"
   ]
  },
  {
   "cell_type": "code",
   "execution_count": 41,
   "metadata": {},
   "outputs": [],
   "source": [
    "pred = model.predict_proba(Xval2)[:,1]"
   ]
  },
  {
   "cell_type": "code",
   "execution_count": 42,
   "metadata": {},
   "outputs": [
    {
     "name": "stdout",
     "output_type": "stream",
     "text": [
      "roc_auc_score : 0.822115\n",
      "average_precision_score : 0.441704\n"
     ]
    }
   ],
   "source": [
    "print('roc_auc_score :', np.round(roc_auc_score(y_val, pred),6))\n",
    "print('average_precision_score :', np.round(average_precision_score(y_val, pred),6))\n"
   ]
  },
  {
   "cell_type": "code",
   "execution_count": null,
   "metadata": {},
   "outputs": [],
   "source": [
    "No tuning MaxAbsScaler     -- >  and roc_auc_score : 0.830213  average_precision_score : 0.454579 \n",
    "MaxAbsScaler C = 10        -- >  and roc_auc_score : 0.87962  average_precision_score : 0.507722\n",
    "MaxAbsScaler C = 0.5       -- >  and roc_auc_score : 0.822115  average_precision_score : 0.441704\n",
    "No tuning StandardScaler   -- >  and roc_auc_score : 0.858561  average_precision_score : 0.453326 \n",
    "        \n",
    "        "
   ]
  },
  {
   "cell_type": "markdown",
   "metadata": {},
   "source": [
    "# Ensemble "
   ]
  },
  {
   "cell_type": "markdown",
   "metadata": {},
   "source": [
    "## 1 - RF"
   ]
  },
  {
   "cell_type": "code",
   "execution_count": 59,
   "metadata": {},
   "outputs": [
    {
     "data": {
      "text/plain": [
       "RandomForestClassifier(bootstrap=True, class_weight='balanced',\n",
       "                       criterion='gini', max_depth=None, max_features='auto',\n",
       "                       max_leaf_nodes=None, min_impurity_decrease=0.0,\n",
       "                       min_impurity_split=None, min_samples_leaf=2,\n",
       "                       min_samples_split=2, min_weight_fraction_leaf=0.0,\n",
       "                       n_estimators=1000, n_jobs=-1, oob_score=False,\n",
       "                       random_state=42, verbose=0, warm_start=False)"
      ]
     },
     "execution_count": 59,
     "metadata": {},
     "output_type": "execute_result"
    }
   ],
   "source": [
    "model_rf = RandomForestClassifier(n_estimators= 1000 ,\n",
    "                              random_state=42 ,\n",
    "                               min_samples_leaf= 2,\n",
    "                              class_weight= 'balanced',\n",
    "                              n_jobs = -1)\n",
    "\n",
    "model_rf.fit(Xtrain,y_train)"
   ]
  },
  {
   "cell_type": "code",
   "execution_count": 60,
   "metadata": {},
   "outputs": [],
   "source": [
    "pred_rf = model_rf.predict_proba(Xval)[:,1]"
   ]
  },
  {
   "cell_type": "code",
   "execution_count": 61,
   "metadata": {},
   "outputs": [
    {
     "name": "stdout",
     "output_type": "stream",
     "text": [
      "average_precision_score : 0.6875\n",
      "roc_auc_score : 0.9452\n"
     ]
    }
   ],
   "source": [
    "\n",
    "\n",
    "print('average_precision_score :', np.round(average_precision_score(y_val, pred_rf),4))\n",
    "print('roc_auc_score :', np.round(roc_auc_score(y_val, pred_rf),4))"
   ]
  },
  {
   "cell_type": "markdown",
   "metadata": {},
   "source": [
    "## 2) LGBM"
   ]
  },
  {
   "cell_type": "code",
   "execution_count": 19,
   "metadata": {},
   "outputs": [
    {
     "name": "stdout",
     "output_type": "stream",
     "text": [
      "\n",
      "roc_auc_score : 0.944835\n",
      "average_precision_score : 0.695332\n",
      "\n"
     ]
    }
   ],
   "source": [
    "params = [0.015392517420880682, 95, 8, 10, 0.8798195541789631, 0.9684426598014575, 152, 5]\n",
    "lr = params[0]\n",
    "num_leaves = params[1]\n",
    "max_depth = params[2]\n",
    "min_child_samples = params[3]\n",
    "subsample =params[4]\n",
    "colsample_bytree = params[5]\n",
    "n_estimators = params[6]\n",
    "min_df = params[7]\n",
    "\n",
    "\n",
    "model_lgbm = LGBMClassifier(learning_rate= lr,\n",
    "                       num_leaves= num_leaves,\n",
    "                       max_depth= max_depth,\n",
    "                       min_child_samples= min_child_samples,\n",
    "                       subsample= subsample,\n",
    "                       colsample_bytree=colsample_bytree,\n",
    "                       bagging_freq = 1,\n",
    "                       n_estimators = n_estimators,\n",
    "                       random_state= 42,\n",
    "                       class_weight= 'balanced',\n",
    "                       n_jobs= -1)\n",
    "\n",
    "model_lgbm.fit(Xtrain,y_train)\n",
    "\n",
    "pred_lgbm = model.predict_proba(Xval)[:,1]\n",
    "\n",
    "print()\n",
    "print('roc_auc_score :', np.round(roc_auc_score(y_val, pred_lgbm),6))\n",
    "print('average_precision_score :', np.round(average_precision_score(y_val, pred_lgbm),6))\n",
    "print()\n",
    "\n"
   ]
  },
  {
   "cell_type": "markdown",
   "metadata": {},
   "source": [
    "## Logistic Regression "
   ]
  },
  {
   "cell_type": "code",
   "execution_count": 50,
   "metadata": {},
   "outputs": [],
   "source": [
    "from sklearn.pipeline import make_pipeline"
   ]
  },
  {
   "cell_type": "code",
   "execution_count": 54,
   "metadata": {},
   "outputs": [
    {
     "name": "stderr",
     "output_type": "stream",
     "text": [
      "/home/jonathan/anaconda3/lib/python3.7/site-packages/sklearn/linear_model/logistic.py:432: FutureWarning: Default solver will be changed to 'lbfgs' in 0.22. Specify a solver to silence this warning.\n",
      "  FutureWarning)\n",
      "/home/jonathan/anaconda3/lib/python3.7/site-packages/sklearn/linear_model/logistic.py:1544: UserWarning: 'n_jobs' > 1 does not have any effect when 'solver' is set to 'liblinear'. Got 'n_jobs' = 4.\n",
      "  \" = {}.\".format(effective_n_jobs(self.n_jobs)))\n"
     ]
    },
    {
     "data": {
      "text/plain": [
       "Pipeline(memory=None,\n",
       "         steps=[('maxabsscaler', MaxAbsScaler(copy=True)),\n",
       "                ('logisticregression',\n",
       "                 LogisticRegression(C=10, class_weight=None, dual=False,\n",
       "                                    fit_intercept=True, intercept_scaling=1,\n",
       "                                    l1_ratio=None, max_iter=100,\n",
       "                                    multi_class='warn', n_jobs=-1, penalty='l2',\n",
       "                                    random_state=42, solver='warn', tol=0.0001,\n",
       "                                    verbose=0, warm_start=False))],\n",
       "         verbose=False)"
      ]
     },
     "execution_count": 54,
     "metadata": {},
     "output_type": "execute_result"
    }
   ],
   "source": [
    "Xtrain2 = csr_matrix(Xtrain.copy())\n",
    "Xval2 = csr_matrix(Xval.copy())\n",
    "\n",
    "lr_pipeline = make_pipeline(MaxAbsScaler(), LogisticRegression(C = 10, n_jobs= -1, random_state = 42))\n",
    "lr_pipeline.fit(Xtrain2,y_train)"
   ]
  },
  {
   "cell_type": "code",
   "execution_count": 57,
   "metadata": {},
   "outputs": [],
   "source": [
    "pred_lr = lr_pipeline.predict_proba(Xval2)[:,1]"
   ]
  },
  {
   "cell_type": "code",
   "execution_count": 58,
   "metadata": {},
   "outputs": [
    {
     "name": "stdout",
     "output_type": "stream",
     "text": [
      "\n",
      "roc_auc_score : 0.87962\n",
      "average_precision_score : 0.507722\n",
      "\n"
     ]
    }
   ],
   "source": [
    "print()\n",
    "print('roc_auc_score :', np.round(roc_auc_score(y_val, pred_lr),6))\n",
    "print('average_precision_score :', np.round(average_precision_score(y_val, pred_lr),6))\n",
    "print()"
   ]
  },
  {
   "cell_type": "code",
   "execution_count": null,
   "metadata": {},
   "outputs": [],
   "source": [
    "RF:   roc_auc_score : 0.9452     average_precision_score : 0.6875\n",
    "LGBM: roc_auc_score : 0.944835   average_precision_score : 0.695332\n",
    "LR :  roc_auc_score : 0.87962    average_precision_score : 0.507722"
   ]
  },
  {
   "cell_type": "markdown",
   "metadata": {},
   "source": [
    "### LR +RF +LGBM"
   ]
  },
  {
   "cell_type": "code",
   "execution_count": 81,
   "metadata": {},
   "outputs": [
    {
     "name": "stdout",
     "output_type": "stream",
     "text": [
      "roc_auc_score : 0.942239\n",
      "average_precision_score : 0.68399\n"
     ]
    }
   ],
   "source": [
    "## Models mean \n",
    "p = (pred_rf + pred_lgbm + pred_lr)/ 3\n",
    "print('roc_auc_score :', np.round(roc_auc_score(y_val, p),6))\n",
    "print('average_precision_score :', np.round(average_precision_score(y_val, p),6))"
   ]
  },
  {
   "cell_type": "markdown",
   "metadata": {},
   "source": [
    "Let's check the correlation between the models to see how the predictions are correlated. "
   ]
  },
  {
   "cell_type": "code",
   "execution_count": 83,
   "metadata": {},
   "outputs": [
    {
     "data": {
      "text/html": [
       "<div>\n",
       "<style scoped>\n",
       "    .dataframe tbody tr th:only-of-type {\n",
       "        vertical-align: middle;\n",
       "    }\n",
       "\n",
       "    .dataframe tbody tr th {\n",
       "        vertical-align: top;\n",
       "    }\n",
       "\n",
       "    .dataframe thead th {\n",
       "        text-align: right;\n",
       "    }\n",
       "</style>\n",
       "<table border=\"1\" class=\"dataframe\">\n",
       "  <thead>\n",
       "    <tr style=\"text-align: right;\">\n",
       "      <th></th>\n",
       "      <th>LR</th>\n",
       "      <th>RF</th>\n",
       "      <th>LGBM</th>\n",
       "    </tr>\n",
       "  </thead>\n",
       "  <tbody>\n",
       "    <tr>\n",
       "      <th>LR</th>\n",
       "      <td>1.000000</td>\n",
       "      <td>0.801701</td>\n",
       "      <td>0.741891</td>\n",
       "    </tr>\n",
       "    <tr>\n",
       "      <th>RF</th>\n",
       "      <td>0.801701</td>\n",
       "      <td>1.000000</td>\n",
       "      <td>0.940105</td>\n",
       "    </tr>\n",
       "    <tr>\n",
       "      <th>LGBM</th>\n",
       "      <td>0.741891</td>\n",
       "      <td>0.940105</td>\n",
       "      <td>1.000000</td>\n",
       "    </tr>\n",
       "  </tbody>\n",
       "</table>\n",
       "</div>"
      ],
      "text/plain": [
       "            LR        RF      LGBM\n",
       "LR    1.000000  0.801701  0.741891\n",
       "RF    0.801701  1.000000  0.940105\n",
       "LGBM  0.741891  0.940105  1.000000"
      ]
     },
     "execution_count": 83,
     "metadata": {},
     "output_type": "execute_result"
    }
   ],
   "source": [
    "pd.DataFrame({'LR':pred_lr, 'RF': pred_rf, 'LGBM':pred_lgbm}).corr()"
   ]
  },
  {
   "cell_type": "markdown",
   "metadata": {},
   "source": [
    "###  RF + LGBM"
   ]
  },
  {
   "cell_type": "code",
   "execution_count": 89,
   "metadata": {},
   "outputs": [
    {
     "name": "stdout",
     "output_type": "stream",
     "text": [
      "roc_auc_score : 0.945775\n",
      "average_precision_score : 0.699181\n"
     ]
    }
   ],
   "source": [
    "p = 0.1*pred_rf + 0.9*pred_lgbm\n",
    "print('roc_auc_score :', np.round(roc_auc_score(y_val, p),6))\n",
    "print('average_precision_score :', np.round(average_precision_score(y_val, p),6))"
   ]
  },
  {
   "cell_type": "code",
   "execution_count": null,
   "metadata": {},
   "outputs": [],
   "source": [
    "0.5/0.5  --->  roc_auc_score : 0.946991  average_precision_score : 0.699105\n",
    "0.4/0.6  --->  roc_auc_score : 0.946985  average_precision_score : 0.699817\n",
    "0.3/0.7  --->  roc_auc_score : 0.94669  average_precision_score :  0.70086\n",
    "0.2/0.8  --->  roc_auc_score : 0.94629  average_precision_score :  0.70082        \n",
    "0.1/0.9  --->  roc_auc_score : 0.945775  average_precision_score : 0.699181      \n",
    "        \n",
    "        \n",
    "        "
   ]
  },
  {
   "cell_type": "code",
   "execution_count": 90,
   "metadata": {},
   "outputs": [
    {
     "name": "stdout",
     "output_type": "stream",
     "text": [
      "roc_auc_score : 0.94669\n",
      "average_precision_score : 0.70086\n"
     ]
    }
   ],
   "source": [
    "p = 0.3*pred_rf + 0.7*pred_lgbm\n",
    "print('roc_auc_score :', np.round(roc_auc_score(y_val, p),6))\n",
    "print('average_precision_score :', np.round(average_precision_score(y_val, p),6))"
   ]
  },
  {
   "cell_type": "markdown",
   "metadata": {},
   "source": [
    "### LR +LGBM "
   ]
  },
  {
   "cell_type": "code",
   "execution_count": 95,
   "metadata": {},
   "outputs": [
    {
     "name": "stdout",
     "output_type": "stream",
     "text": [
      "roc_auc_score : 0.940931\n",
      "average_precision_score : 0.691972\n"
     ]
    }
   ],
   "source": [
    "p = 0.1*pred_lr + 0.9*pred_lgbm\n",
    "print('roc_auc_score :', np.round(roc_auc_score(y_val, p),6))\n",
    "print('average_precision_score :', np.round(average_precision_score(y_val, p),6))"
   ]
  },
  {
   "cell_type": "code",
   "execution_count": null,
   "metadata": {},
   "outputs": [],
   "source": [
    "0.5/0.5  --->  roc_auc_score : 0.934415  average_precision_score :  0.666274\n",
    "0.4/0.6  --->  roc_auc_score : 0.936601  average_precision_score :  0.678067\n",
    "0.3/0.7  --->  roc_auc_score : 0.938444   average_precision_score : 0.684441\n",
    "0.2/0.8  --->  roc_auc_score : 0.939632   average_precision_score : 0.687614        \n",
    "0.1/0.9  --->  roc_auc_score : 0.940931  average_precision_score :  0.691972 "
   ]
  },
  {
   "cell_type": "markdown",
   "metadata": {},
   "source": [
    "### RF +LR"
   ]
  },
  {
   "cell_type": "code",
   "execution_count": 101,
   "metadata": {},
   "outputs": [
    {
     "name": "stdout",
     "output_type": "stream",
     "text": [
      "roc_auc_score : 0.9446\n",
      "average_precision_score : 0.684468\n"
     ]
    }
   ],
   "source": [
    "p = 0.1*pred_lr + 0.9*pred_rf\n",
    "print('roc_auc_score :', np.round(roc_auc_score(y_val, p),6))\n",
    "print('average_precision_score :', np.round(average_precision_score(y_val, p),6))"
   ]
  },
  {
   "cell_type": "code",
   "execution_count": null,
   "metadata": {},
   "outputs": [],
   "source": [
    "0.5/0.5  --->  roc_auc_score : 0.935796  average_precision_score :  0.659216\n",
    "0.4/0.6  --->  roc_auc_score : 0.939404  average_precision_score :  0.669158\n",
    "0.3/0.7  --->  roc_auc_score : 0.942084  average_precision_score : 0.676274\n",
    "0.2/0.8  --->  roc_auc_score : 0.943604  average_precision_score : 0.680321        \n",
    "0.1/0.9  --->  roc_auc_score : 0.9446    average_precision_score :  0.684468"
   ]
  },
  {
   "cell_type": "markdown",
   "metadata": {},
   "source": [
    "We can notice that the best result we get by combining the models is 'using' 30% of the random forest with 70% of the lgbm. Although, this combination is not significant when we compare the result of the lgbm itself. So, in order to deploy the simplest solution, I would choose only the lgbm. But... I want to see how the combination of those tho models will perform in production. Based on that, I will deploy both, the random forest and the lgbm models combine. "
   ]
  },
  {
   "cell_type": "markdown",
   "metadata": {},
   "source": [
    "# Save Models"
   ]
  },
  {
   "cell_type": "code",
   "execution_count": 102,
   "metadata": {},
   "outputs": [],
   "source": [
    "import joblib as jb"
   ]
  },
  {
   "cell_type": "code",
   "execution_count": 106,
   "metadata": {},
   "outputs": [
    {
     "data": {
      "text/plain": [
       "['random_forest_car.pk.z']"
      ]
     },
     "execution_count": 106,
     "metadata": {},
     "output_type": "execute_result"
    }
   ],
   "source": [
    "jb.dump(model_lgbm,\"lgbm_car.pk;.z\")\n",
    "jb.dump(model_rf, \"random_forest_car.pk.z\")"
   ]
  },
  {
   "cell_type": "code",
   "execution_count": null,
   "metadata": {},
   "outputs": [],
   "source": []
  }
 ],
 "metadata": {
  "kernelspec": {
   "display_name": "Python 3",
   "language": "python",
   "name": "python3"
  },
  "language_info": {
   "codemirror_mode": {
    "name": "ipython",
    "version": 3
   },
   "file_extension": ".py",
   "mimetype": "text/x-python",
   "name": "python",
   "nbconvert_exporter": "python",
   "pygments_lexer": "ipython3",
   "version": "3.7.3"
  }
 },
 "nbformat": 4,
 "nbformat_minor": 4
}
