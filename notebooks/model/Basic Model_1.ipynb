{
 "cells": [
  {
   "cell_type": "code",
   "execution_count": 25,
   "metadata": {},
   "outputs": [],
   "source": [
    "import pandas as pd\n",
    "import numpy as np\n",
    "import re\n",
    "import time\n",
    "import requests as rq\n",
    "import bs4 as bs4\n",
    "from utils import *\n",
    "\n",
    "from sklearn.utils import shuffle\n",
    "from sklearn.model_selection import train_test_split\n",
    "\n",
    "\n",
    "from sklearn.tree import DecisionTreeClassifier\n",
    "\n",
    "pd.set_option('max_colwidth', None)\n",
    "pd.set_option('display.max_rows', None)\n",
    "\n",
    "pd.set_option('max_columns', 28)"
   ]
  },
  {
   "cell_type": "markdown",
   "metadata": {},
   "source": [
    "### Question : What if I build the model using only the price, and the model year ? Would I have a good model?"
   ]
  },
  {
   "cell_type": "markdown",
   "metadata": {},
   "source": [
    "I will build a very simple decision tree model with only two variables in order to see if the algorithm can find information regarding my choice patterns."
   ]
  },
  {
   "cell_type": "code",
   "execution_count": 2,
   "metadata": {},
   "outputs": [
    {
     "data": {
      "text/html": [
       "<div>\n",
       "<style scoped>\n",
       "    .dataframe tbody tr th:only-of-type {\n",
       "        vertical-align: middle;\n",
       "    }\n",
       "\n",
       "    .dataframe tbody tr th {\n",
       "        vertical-align: top;\n",
       "    }\n",
       "\n",
       "    .dataframe thead th {\n",
       "        text-align: right;\n",
       "    }\n",
       "</style>\n",
       "<table border=\"1\" class=\"dataframe\">\n",
       "  <thead>\n",
       "    <tr style=\"text-align: right;\">\n",
       "      <th></th>\n",
       "      <th>link</th>\n",
       "      <th>brand</th>\n",
       "      <th>price</th>\n",
       "      <th>cartype</th>\n",
       "      <th>model</th>\n",
       "      <th>gearbox</th>\n",
       "      <th>regdate</th>\n",
       "      <th>mileage</th>\n",
       "      <th>motorpower</th>\n",
       "      <th>fuel</th>\n",
       "      <th>car_steering</th>\n",
       "      <th>carcolor</th>\n",
       "      <th>exchange</th>\n",
       "      <th>version</th>\n",
       "      <th>doors</th>\n",
       "      <th>financial</th>\n",
       "      <th>extra</th>\n",
       "      <th>Y</th>\n",
       "    </tr>\n",
       "  </thead>\n",
       "  <tbody>\n",
       "    <tr>\n",
       "      <th>0</th>\n",
       "      <td>https://rj.olx.com.br/rio-de-janeiro-e-regiao/autos-e-pecas/carros-vans-e-utilitarios/link_ford-ka-hatch-2018-unico-dono-completao-gnv-gratis-ent-8mil-48x-751-00-fixas-no-cdc-686667352</td>\n",
       "      <td>ford</td>\n",
       "      <td>31900</td>\n",
       "      <td>hatch</td>\n",
       "      <td>ka</td>\n",
       "      <td>manual</td>\n",
       "      <td>2015</td>\n",
       "      <td>39869</td>\n",
       "      <td>1</td>\n",
       "      <td>flex</td>\n",
       "      <td>elétrica</td>\n",
       "      <td>preto</td>\n",
       "      <td>sim</td>\n",
       "      <td>ka 1.0 se se plus tivct flex 5p</td>\n",
       "      <td>4 portas</td>\n",
       "      <td>ipva pago</td>\n",
       "      <td>vidro elétrico, air bag, trava elétrica, ar condicionado, direção hidráulica, alarme, som, sensor de ré</td>\n",
       "      <td>1.0</td>\n",
       "    </tr>\n",
       "  </tbody>\n",
       "</table>\n",
       "</div>"
      ],
      "text/plain": [
       "                                                                                                                                                                                       link  \\\n",
       "0  https://rj.olx.com.br/rio-de-janeiro-e-regiao/autos-e-pecas/carros-vans-e-utilitarios/link_ford-ka-hatch-2018-unico-dono-completao-gnv-gratis-ent-8mil-48x-751-00-fixas-no-cdc-686667352   \n",
       "\n",
       "  brand  price cartype model gearbox  regdate  mileage motorpower  fuel  \\\n",
       "0  ford  31900   hatch    ka  manual     2015    39869          1  flex   \n",
       "\n",
       "  car_steering carcolor exchange                          version     doors  \\\n",
       "0     elétrica    preto      sim  ka 1.0 se se plus tivct flex 5p  4 portas   \n",
       "\n",
       "   financial  \\\n",
       "0  ipva pago   \n",
       "\n",
       "                                                                                                     extra  \\\n",
       "0  vidro elétrico, air bag, trava elétrica, ar condicionado, direção hidráulica, alarme, som, sensor de ré   \n",
       "\n",
       "     Y  \n",
       "0  1.0  "
      ]
     },
     "execution_count": 2,
     "metadata": {},
     "output_type": "execute_result"
    }
   ],
   "source": [
    "df = pd.read_csv('car_information.csv',index_col=0)\n",
    "# Select labeled rows\n",
    "df = df[df['Y'].notnull()]\n",
    "df.head(1)"
   ]
  },
  {
   "cell_type": "code",
   "execution_count": 3,
   "metadata": {},
   "outputs": [
    {
     "data": {
      "text/html": [
       "<div>\n",
       "<style scoped>\n",
       "    .dataframe tbody tr th:only-of-type {\n",
       "        vertical-align: middle;\n",
       "    }\n",
       "\n",
       "    .dataframe tbody tr th {\n",
       "        vertical-align: top;\n",
       "    }\n",
       "\n",
       "    .dataframe thead th {\n",
       "        text-align: right;\n",
       "    }\n",
       "</style>\n",
       "<table border=\"1\" class=\"dataframe\">\n",
       "  <thead>\n",
       "    <tr style=\"text-align: right;\">\n",
       "      <th></th>\n",
       "      <th>link</th>\n",
       "      <th>price</th>\n",
       "      <th>regdate</th>\n",
       "      <th>mileage</th>\n",
       "      <th>version</th>\n",
       "      <th>doors</th>\n",
       "      <th>Y</th>\n",
       "      <th>vidro elétrico</th>\n",
       "      <th>air bag</th>\n",
       "      <th>trava elétrica</th>\n",
       "      <th>ar condicionado</th>\n",
       "      <th>direção hidráulica</th>\n",
       "      <th>alarme</th>\n",
       "      <th>som</th>\n",
       "      <th>...</th>\n",
       "      <th>carcolor_branco</th>\n",
       "      <th>carcolor_prata</th>\n",
       "      <th>carcolor_preto</th>\n",
       "      <th>carcolor_0</th>\n",
       "      <th>carcolor_vermelho</th>\n",
       "      <th>carcolor_cinza</th>\n",
       "      <th>carcolor_azul</th>\n",
       "      <th>carcolor_outra</th>\n",
       "      <th>carcolor_laranja</th>\n",
       "      <th>carcolor_amarelo</th>\n",
       "      <th>carcolor_verde</th>\n",
       "      <th>exchange_sim</th>\n",
       "      <th>exchange_não</th>\n",
       "      <th>exchange_0</th>\n",
       "    </tr>\n",
       "  </thead>\n",
       "  <tbody>\n",
       "    <tr>\n",
       "      <th>0</th>\n",
       "      <td>https://rj.olx.com.br/rio-de-janeiro-e-regiao/autos-e-pecas/carros-vans-e-utilitarios/link_ford-ka-hatch-2018-unico-dono-completao-gnv-gratis-ent-8mil-48x-751-00-fixas-no-cdc-686667352</td>\n",
       "      <td>31900</td>\n",
       "      <td>2015</td>\n",
       "      <td>39869</td>\n",
       "      <td>ka 1.0 se se plus tivct flex 5p</td>\n",
       "      <td>4</td>\n",
       "      <td>1.0</td>\n",
       "      <td>1.0</td>\n",
       "      <td>1.0</td>\n",
       "      <td>1.0</td>\n",
       "      <td>1.0</td>\n",
       "      <td>1.0</td>\n",
       "      <td>1.0</td>\n",
       "      <td>1.0</td>\n",
       "      <td>...</td>\n",
       "      <td>0</td>\n",
       "      <td>0</td>\n",
       "      <td>1</td>\n",
       "      <td>0</td>\n",
       "      <td>0</td>\n",
       "      <td>0</td>\n",
       "      <td>0</td>\n",
       "      <td>0</td>\n",
       "      <td>0</td>\n",
       "      <td>0</td>\n",
       "      <td>0</td>\n",
       "      <td>1</td>\n",
       "      <td>0</td>\n",
       "      <td>0</td>\n",
       "    </tr>\n",
       "  </tbody>\n",
       "</table>\n",
       "<p>1 rows × 75 columns</p>\n",
       "</div>"
      ],
      "text/plain": [
       "                                                                                                                                                                                       link  \\\n",
       "0  https://rj.olx.com.br/rio-de-janeiro-e-regiao/autos-e-pecas/carros-vans-e-utilitarios/link_ford-ka-hatch-2018-unico-dono-completao-gnv-gratis-ent-8mil-48x-751-00-fixas-no-cdc-686667352   \n",
       "\n",
       "   price  regdate  mileage                          version  doors    Y  \\\n",
       "0  31900     2015    39869  ka 1.0 se se plus tivct flex 5p      4  1.0   \n",
       "\n",
       "   vidro elétrico  air bag  trava elétrica  ar condicionado  \\\n",
       "0             1.0      1.0             1.0              1.0   \n",
       "\n",
       "   direção hidráulica  alarme  som  ...  carcolor_branco  carcolor_prata  \\\n",
       "0                 1.0     1.0  1.0  ...                0               0   \n",
       "\n",
       "   carcolor_preto  carcolor_0  carcolor_vermelho  carcolor_cinza  \\\n",
       "0               1           0                  0               0   \n",
       "\n",
       "   carcolor_azul  carcolor_outra  carcolor_laranja  carcolor_amarelo  \\\n",
       "0              0               0                 0                 0   \n",
       "\n",
       "   carcolor_verde  exchange_sim  exchange_não  exchange_0  \n",
       "0               0             1             0           0  \n",
       "\n",
       "[1 rows x 75 columns]"
      ]
     },
     "execution_count": 3,
     "metadata": {},
     "output_type": "execute_result"
    }
   ],
   "source": [
    "df = clean_df(df)\n",
    "df.head(1)"
   ]
  },
  {
   "cell_type": "code",
   "execution_count": 4,
   "metadata": {},
   "outputs": [
    {
     "data": {
      "text/plain": [
       "Index(['link', 'price', 'regdate', 'mileage', 'version', 'doors', 'Y',\n",
       "       'vidro elétrico', 'air bag', 'trava elétrica', 'ar condicionado',\n",
       "       'direção hidráulica', 'alarme', 'som', 'sensor de ré', 'blindado',\n",
       "       'c mera de ré', 'financial_ipva pago', 'financial_0',\n",
       "       'financial_financiado', 'financial_de leilão', 'financial_com multas',\n",
       "       'brand_ford', 'brand_vwvolkswagen', 'cartype_hatch', 'cartype_passeio',\n",
       "       'cartype_sedã', 'cartype_0', 'cartype_suv', 'cartype_pickup',\n",
       "       'model_ka', 'model_ecosport', 'model_fiesta', 'model_fox',\n",
       "       'model_focus', 'model_gol', 'model_voyage', 'model_up', 'model_saveiro',\n",
       "       'model_crossfox', 'model_jetta', 'model_golf', 'model_polo',\n",
       "       'model_fusion', 'model_0', 'model_ranger', 'gearbox_manual',\n",
       "       'gearbox_automático', 'gearbox_semiautomático', 'gearbox_0',\n",
       "       'motorpower_1.6', 'motorpower_1', 'motorpower_0', 'motorpower_2.02.9',\n",
       "       'motorpower_1.5', 'motorpower_1.4', 'fuel_flex',\n",
       "       'car_steering_hidráulica', 'car_steering_elétrica', 'car_steering_0',\n",
       "       'car_steering_mecnica', 'carcolor_branco', 'carcolor_prata',\n",
       "       'carcolor_preto', 'carcolor_0', 'carcolor_vermelho', 'carcolor_cinza',\n",
       "       'carcolor_azul', 'carcolor_outra', 'carcolor_laranja',\n",
       "       'carcolor_amarelo', 'carcolor_verde', 'exchange_sim', 'exchange_não',\n",
       "       'exchange_0'],\n",
       "      dtype='object')"
      ]
     },
     "execution_count": 4,
     "metadata": {},
     "output_type": "execute_result"
    }
   ],
   "source": [
    "df.columns\n",
    "    "
   ]
  },
  {
   "cell_type": "code",
   "execution_count": 6,
   "metadata": {},
   "outputs": [],
   "source": [
    "cols = ['price','regdate', 'Y']"
   ]
  },
  {
   "cell_type": "code",
   "execution_count": 7,
   "metadata": {},
   "outputs": [],
   "source": [
    "# shuffle dataframe\n",
    "df = shuffle(df).reset_index(drop=True)"
   ]
  },
  {
   "cell_type": "code",
   "execution_count": 8,
   "metadata": {},
   "outputs": [
    {
     "data": {
      "text/html": [
       "<div>\n",
       "<style scoped>\n",
       "    .dataframe tbody tr th:only-of-type {\n",
       "        vertical-align: middle;\n",
       "    }\n",
       "\n",
       "    .dataframe tbody tr th {\n",
       "        vertical-align: top;\n",
       "    }\n",
       "\n",
       "    .dataframe thead th {\n",
       "        text-align: right;\n",
       "    }\n",
       "</style>\n",
       "<table border=\"1\" class=\"dataframe\">\n",
       "  <thead>\n",
       "    <tr style=\"text-align: right;\">\n",
       "      <th></th>\n",
       "      <th>price</th>\n",
       "      <th>regdate</th>\n",
       "      <th>Y</th>\n",
       "    </tr>\n",
       "  </thead>\n",
       "  <tbody>\n",
       "    <tr>\n",
       "      <th>0</th>\n",
       "      <td>26000</td>\n",
       "      <td>2015</td>\n",
       "      <td>1.0</td>\n",
       "    </tr>\n",
       "    <tr>\n",
       "      <th>1</th>\n",
       "      <td>45899</td>\n",
       "      <td>2015</td>\n",
       "      <td>0.0</td>\n",
       "    </tr>\n",
       "  </tbody>\n",
       "</table>\n",
       "</div>"
      ],
      "text/plain": [
       "   price  regdate    Y\n",
       "0  26000     2015  1.0\n",
       "1  45899     2015  0.0"
      ]
     },
     "execution_count": 8,
     "metadata": {},
     "output_type": "execute_result"
    }
   ],
   "source": [
    "simple_df = df[cols]\n",
    "simple_df.head(2)"
   ]
  },
  {
   "cell_type": "code",
   "execution_count": 9,
   "metadata": {},
   "outputs": [],
   "source": [
    "Y = simple_df['Y']\n",
    "X = simple_df.loc[:, 'price':'regdate']"
   ]
  },
  {
   "cell_type": "code",
   "execution_count": 10,
   "metadata": {},
   "outputs": [
    {
     "data": {
      "text/plain": [
       "((2159, 2), (2160, 2), (2159,), (2160,))"
      ]
     },
     "execution_count": 10,
     "metadata": {},
     "output_type": "execute_result"
    }
   ],
   "source": [
    "# Split train and validation data\n",
    "Xtrain, Xval, y_train, y_val = train_test_split(X, Y, test_size=0.5, random_state=42)\n",
    "Xtrain.shape, Xval.shape, y_train.shape, y_val.shape"
   ]
  },
  {
   "cell_type": "markdown",
   "metadata": {},
   "source": [
    "### - Model "
   ]
  },
  {
   "cell_type": "markdown",
   "metadata": {},
   "source": [
    "- we have to account for inbalance data \n"
   ]
  },
  {
   "cell_type": "code",
   "execution_count": 11,
   "metadata": {},
   "outputs": [
    {
     "data": {
      "text/plain": [
       "0.14219546086150997"
      ]
     },
     "execution_count": 11,
     "metadata": {},
     "output_type": "execute_result"
    }
   ],
   "source": [
    "y_train.mean()"
   ]
  },
  {
   "cell_type": "code",
   "execution_count": 12,
   "metadata": {},
   "outputs": [
    {
     "data": {
      "text/plain": [
       "DecisionTreeClassifier(class_weight='balanced', criterion='gini', max_depth=2,\n",
       "                       max_features=None, max_leaf_nodes=None,\n",
       "                       min_impurity_decrease=0.0, min_impurity_split=None,\n",
       "                       min_samples_leaf=1, min_samples_split=2,\n",
       "                       min_weight_fraction_leaf=0.0, presort=False,\n",
       "                       random_state=42, splitter='best')"
      ]
     },
     "execution_count": 12,
     "metadata": {},
     "output_type": "execute_result"
    }
   ],
   "source": [
    "model = DecisionTreeClassifier(random_state= 42, max_depth = 2 , class_weight= 'balanced')\n",
    "model.fit(Xtrain,y_train)"
   ]
  },
  {
   "cell_type": "code",
   "execution_count": 13,
   "metadata": {},
   "outputs": [],
   "source": [
    "pred = model.predict_log_proba(Xval)[:,1]"
   ]
  },
  {
   "cell_type": "markdown",
   "metadata": {},
   "source": [
    "### -  Metrics"
   ]
  },
  {
   "cell_type": "code",
   "execution_count": 14,
   "metadata": {},
   "outputs": [],
   "source": [
    "from sklearn.metrics import roc_auc_score, average_precision_score"
   ]
  },
  {
   "cell_type": "code",
   "execution_count": 15,
   "metadata": {},
   "outputs": [
    {
     "name": "stdout",
     "output_type": "stream",
     "text": [
      "average_precision_score : 0.4661\n",
      "roc_auc_score : 0.8978\n"
     ]
    }
   ],
   "source": [
    "print('average_precision_score :', np.round(average_precision_score(y_val, pred),4))\n",
    "print('roc_auc_score :', np.round(roc_auc_score(y_val, pred),4))"
   ]
  },
  {
   "cell_type": "markdown",
   "metadata": {},
   "source": [
    "### - Decision Tree"
   ]
  },
  {
   "cell_type": "code",
   "execution_count": 18,
   "metadata": {},
   "outputs": [
    {
     "name": "stdout",
     "output_type": "stream",
     "text": [
      "Populating the interactive namespace from numpy and matplotlib\n"
     ]
    }
   ],
   "source": [
    "from sklearn.tree import plot_tree\n",
    "%matplotlib inline\n",
    "%pylab inline"
   ]
  },
  {
   "cell_type": "code",
   "execution_count": 17,
   "metadata": {},
   "outputs": [
    {
     "data": {
      "image/png": "[encoded data removed]",
      "text/plain": [
       "<Figure size 720x720 with 1 Axes>"
      ]
     },
     "metadata": {
      "needs_background": "light"
     },
     "output_type": "display_data"
    }
   ],
   "source": [
    "fig,ax = pylab.subplots(1,1, figsize = (10,10))\n",
    "plot_tree(model , ax = ax, feature_names = Xtrain.columns);"
   ]
  },
  {
   "cell_type": "markdown",
   "metadata": {},
   "source": [
    "This is very simple model but I want to understand and see if the algorithm is doing do in terms of what I really want to buy or at least see pictures. It seens that this simple model kind of represents a bit what I am looking for. First, the start note split the data into two groups ( price greater than 30650 and price lower than this value). This seems realistic for me because the value is within the range of price I want. Second, the split node on the left side splits the data into two more groups ( price lower than 26999.5 and price greater than this value). Interesting to see that if the price is lower than this threshold, I am more likely to check the pictures of the car. How do I know that? Simple, we check the value and calculate the positive score. In this case 724.355  / (724.355 + 118.325) = 0.85. This means that there I am more likely to take a look at the car with a price below 26999.5. We can also do this analysis for the right side of the start node but at first glance I like what the model is telling me. "
   ]
  }
 ],
 "metadata": {
  "kernelspec": {
   "display_name": "Python 3",
   "language": "python",
   "name": "python3"
  },
  "language_info": {
   "codemirror_mode": {
    "name": "ipython",
    "version": 3
   },
   "file_extension": ".py",
   "mimetype": "text/x-python",
   "name": "python",
   "nbconvert_exporter": "python",
   "pygments_lexer": "ipython3",
   "version": "3.7.3"
  }
 },
 "nbformat": 4,
 "nbformat_minor": 2
}
